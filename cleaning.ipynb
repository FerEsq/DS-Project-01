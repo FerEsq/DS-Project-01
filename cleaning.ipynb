{
 "cells": [
  {
   "cell_type": "markdown",
   "id": "c90f4295f6eeb9b4",
   "metadata": {},
   "source": [
    "# Obtención y Limpieza de Datos"
   ]
  },
  {
   "cell_type": "code",
   "execution_count": 1,
   "id": "initial_id",
   "metadata": {
    "ExecuteTime": {
     "end_time": "2024-07-25T21:44:39.965134Z",
     "start_time": "2024-07-25T21:44:39.960733Z"
    },
    "collapsed": true
   },
   "outputs": [],
   "source": [
    "import pandas as pd\n",
    "import numpy as np\n",
    "import matplotlib.pyplot as plt\n",
    "import seaborn as sns"
   ]
  },
  {
   "cell_type": "markdown",
   "id": "f0679602a9af8689",
   "metadata": {},
   "source": [
    "## Obtención de datos\n",
    "Los datos fueron obtenidos de la página de [Ministerio de Educación](http://www.mineduc.gob.gt/BUSCAESTABLECIMIENTO_GE/). Los datos representan todas las instituciones escolares (con diversificado) a todo el nivel nacional. Descargados en ``data/raw`` y juntados en un solo archivo llamado ``dataframe.xlsx``."
   ]
  },
  {
   "cell_type": "markdown",
   "id": "e5649c342a16daf",
   "metadata": {},
   "source": [
    "## Limpieza de datos"
   ]
  },
  {
   "cell_type": "code",
   "execution_count": 2,
   "id": "81c10c3acef4ce8f",
   "metadata": {
    "ExecuteTime": {
     "end_time": "2024-07-25T21:44:42.944593Z",
     "start_time": "2024-07-25T21:44:39.966132Z"
    }
   },
   "outputs": [
    {
     "data": {
      "text/html": [
       "<div>\n",
       "<style scoped>\n",
       "    .dataframe tbody tr th:only-of-type {\n",
       "        vertical-align: middle;\n",
       "    }\n",
       "\n",
       "    .dataframe tbody tr th {\n",
       "        vertical-align: top;\n",
       "    }\n",
       "\n",
       "    .dataframe thead th {\n",
       "        text-align: right;\n",
       "    }\n",
       "</style>\n",
       "<table border=\"1\" class=\"dataframe\">\n",
       "  <thead>\n",
       "    <tr style=\"text-align: right;\">\n",
       "      <th></th>\n",
       "      <th>CODIGO</th>\n",
       "      <th>DISTRITO</th>\n",
       "      <th>DEPARTAMENTO</th>\n",
       "      <th>MUNICIPIO</th>\n",
       "      <th>ESTABLECIMIENTO</th>\n",
       "      <th>DIRECCION</th>\n",
       "      <th>TELEFONO</th>\n",
       "      <th>SUPERVISOR</th>\n",
       "      <th>DIRECTOR</th>\n",
       "      <th>NIVEL</th>\n",
       "      <th>SECTOR</th>\n",
       "      <th>AREA</th>\n",
       "      <th>STATUS</th>\n",
       "      <th>MODALIDAD</th>\n",
       "      <th>JORNADA</th>\n",
       "      <th>PLAN</th>\n",
       "      <th>DEPARTAMENTAL</th>\n",
       "    </tr>\n",
       "  </thead>\n",
       "  <tbody>\n",
       "    <tr>\n",
       "      <th>0</th>\n",
       "      <td>16-01-0138-46</td>\n",
       "      <td>16-031</td>\n",
       "      <td>ALTA VERAPAZ</td>\n",
       "      <td>COBAN</td>\n",
       "      <td>COLEGIO COBAN</td>\n",
       "      <td>KM.2 SALIDA A SAN JUAN CHAMELCO ZONA 8</td>\n",
       "      <td>77945104</td>\n",
       "      <td>MERCEDES JOSEFINA TORRES GALVEZ</td>\n",
       "      <td>GUSTAVO ADOLFO SIERRA POP</td>\n",
       "      <td>DIVERSIFICADO</td>\n",
       "      <td>PRIVADO</td>\n",
       "      <td>URBANA</td>\n",
       "      <td>ABIERTA</td>\n",
       "      <td>MONOLINGUE</td>\n",
       "      <td>MATUTINA</td>\n",
       "      <td>DIARIO(REGULAR)</td>\n",
       "      <td>ALTA VERAPAZ</td>\n",
       "    </tr>\n",
       "    <tr>\n",
       "      <th>1</th>\n",
       "      <td>16-01-0139-46</td>\n",
       "      <td>16-031</td>\n",
       "      <td>ALTA VERAPAZ</td>\n",
       "      <td>COBAN</td>\n",
       "      <td>COLEGIO PARTICULAR MIXTO VERAPAZ</td>\n",
       "      <td>KM 209.5 ENTRADA A LA CIUDAD</td>\n",
       "      <td>77367402</td>\n",
       "      <td>MERCEDES JOSEFINA TORRES GALVEZ</td>\n",
       "      <td>GILMA DOLORES GUAY PAZ DE LEAL</td>\n",
       "      <td>DIVERSIFICADO</td>\n",
       "      <td>PRIVADO</td>\n",
       "      <td>URBANA</td>\n",
       "      <td>ABIERTA</td>\n",
       "      <td>MONOLINGUE</td>\n",
       "      <td>MATUTINA</td>\n",
       "      <td>DIARIO(REGULAR)</td>\n",
       "      <td>ALTA VERAPAZ</td>\n",
       "    </tr>\n",
       "    <tr>\n",
       "      <th>2</th>\n",
       "      <td>16-01-0140-46</td>\n",
       "      <td>16-031</td>\n",
       "      <td>ALTA VERAPAZ</td>\n",
       "      <td>COBAN</td>\n",
       "      <td>COLEGIO \"LA INMACULADA\"</td>\n",
       "      <td>7A. AVENIDA 11-109 ZONA 6</td>\n",
       "      <td>78232301</td>\n",
       "      <td>MERCEDES JOSEFINA TORRES GALVEZ</td>\n",
       "      <td>VIRGINIA SOLANO SERRANO</td>\n",
       "      <td>DIVERSIFICADO</td>\n",
       "      <td>PRIVADO</td>\n",
       "      <td>URBANA</td>\n",
       "      <td>ABIERTA</td>\n",
       "      <td>MONOLINGUE</td>\n",
       "      <td>MATUTINA</td>\n",
       "      <td>DIARIO(REGULAR)</td>\n",
       "      <td>ALTA VERAPAZ</td>\n",
       "    </tr>\n",
       "    <tr>\n",
       "      <th>3</th>\n",
       "      <td>16-01-0141-46</td>\n",
       "      <td>16-005</td>\n",
       "      <td>ALTA VERAPAZ</td>\n",
       "      <td>COBAN</td>\n",
       "      <td>ESCUELA NACIONAL DE CIENCIAS COMERCIALES</td>\n",
       "      <td>2A CALLE 11-10 ZONA 2</td>\n",
       "      <td>79514215</td>\n",
       "      <td>RUDY ADOLFO TOT OCH</td>\n",
       "      <td>HÉCTOR ROLANDO CHUN POOU</td>\n",
       "      <td>DIVERSIFICADO</td>\n",
       "      <td>OFICIAL</td>\n",
       "      <td>URBANA</td>\n",
       "      <td>ABIERTA</td>\n",
       "      <td>MONOLINGUE</td>\n",
       "      <td>MATUTINA</td>\n",
       "      <td>DIARIO(REGULAR)</td>\n",
       "      <td>ALTA VERAPAZ</td>\n",
       "    </tr>\n",
       "    <tr>\n",
       "      <th>4</th>\n",
       "      <td>16-01-0142-46</td>\n",
       "      <td>16-005</td>\n",
       "      <td>ALTA VERAPAZ</td>\n",
       "      <td>COBAN</td>\n",
       "      <td>INSTITUTO NORMAL MIXTO DEL NORTE 'EMILIO ROSAL...</td>\n",
       "      <td>3A AVE 6-23 ZONA 11</td>\n",
       "      <td>79521468</td>\n",
       "      <td>RUDY ADOLFO TOT OCH</td>\n",
       "      <td>VICTOR HUGO DOMÍNGUEZ REYES</td>\n",
       "      <td>DIVERSIFICADO</td>\n",
       "      <td>OFICIAL</td>\n",
       "      <td>URBANA</td>\n",
       "      <td>ABIERTA</td>\n",
       "      <td>BILINGUE</td>\n",
       "      <td>VESPERTINA</td>\n",
       "      <td>DIARIO(REGULAR)</td>\n",
       "      <td>ALTA VERAPAZ</td>\n",
       "    </tr>\n",
       "  </tbody>\n",
       "</table>\n",
       "</div>"
      ],
      "text/plain": [
       "          CODIGO DISTRITO  DEPARTAMENTO MUNICIPIO  \\\n",
       "0  16-01-0138-46   16-031  ALTA VERAPAZ     COBAN   \n",
       "1  16-01-0139-46   16-031  ALTA VERAPAZ     COBAN   \n",
       "2  16-01-0140-46   16-031  ALTA VERAPAZ     COBAN   \n",
       "3  16-01-0141-46   16-005  ALTA VERAPAZ     COBAN   \n",
       "4  16-01-0142-46   16-005  ALTA VERAPAZ     COBAN   \n",
       "\n",
       "                                     ESTABLECIMIENTO  \\\n",
       "0                                      COLEGIO COBAN   \n",
       "1                   COLEGIO PARTICULAR MIXTO VERAPAZ   \n",
       "2                            COLEGIO \"LA INMACULADA\"   \n",
       "3           ESCUELA NACIONAL DE CIENCIAS COMERCIALES   \n",
       "4  INSTITUTO NORMAL MIXTO DEL NORTE 'EMILIO ROSAL...   \n",
       "\n",
       "                                DIRECCION  TELEFONO  \\\n",
       "0  KM.2 SALIDA A SAN JUAN CHAMELCO ZONA 8  77945104   \n",
       "1            KM 209.5 ENTRADA A LA CIUDAD  77367402   \n",
       "2               7A. AVENIDA 11-109 ZONA 6  78232301   \n",
       "3                   2A CALLE 11-10 ZONA 2  79514215   \n",
       "4                     3A AVE 6-23 ZONA 11  79521468   \n",
       "\n",
       "                        SUPERVISOR                        DIRECTOR  \\\n",
       "0  MERCEDES JOSEFINA TORRES GALVEZ       GUSTAVO ADOLFO SIERRA POP   \n",
       "1  MERCEDES JOSEFINA TORRES GALVEZ  GILMA DOLORES GUAY PAZ DE LEAL   \n",
       "2  MERCEDES JOSEFINA TORRES GALVEZ         VIRGINIA SOLANO SERRANO   \n",
       "3              RUDY ADOLFO TOT OCH        HÉCTOR ROLANDO CHUN POOU   \n",
       "4              RUDY ADOLFO TOT OCH     VICTOR HUGO DOMÍNGUEZ REYES   \n",
       "\n",
       "           NIVEL   SECTOR    AREA   STATUS   MODALIDAD     JORNADA  \\\n",
       "0  DIVERSIFICADO  PRIVADO  URBANA  ABIERTA  MONOLINGUE    MATUTINA   \n",
       "1  DIVERSIFICADO  PRIVADO  URBANA  ABIERTA  MONOLINGUE    MATUTINA   \n",
       "2  DIVERSIFICADO  PRIVADO  URBANA  ABIERTA  MONOLINGUE    MATUTINA   \n",
       "3  DIVERSIFICADO  OFICIAL  URBANA  ABIERTA  MONOLINGUE    MATUTINA   \n",
       "4  DIVERSIFICADO  OFICIAL  URBANA  ABIERTA    BILINGUE  VESPERTINA   \n",
       "\n",
       "              PLAN DEPARTAMENTAL  \n",
       "0  DIARIO(REGULAR)  ALTA VERAPAZ  \n",
       "1  DIARIO(REGULAR)  ALTA VERAPAZ  \n",
       "2  DIARIO(REGULAR)  ALTA VERAPAZ  \n",
       "3  DIARIO(REGULAR)  ALTA VERAPAZ  \n",
       "4  DIARIO(REGULAR)  ALTA VERAPAZ  "
      ]
     },
     "execution_count": 2,
     "metadata": {},
     "output_type": "execute_result"
    }
   ],
   "source": [
    "df = pd.read_excel('data/dataframe.xlsx')\n",
    "df.head()"
   ]
  },
  {
   "cell_type": "markdown",
   "id": "bd5c464e695340a",
   "metadata": {},
   "source": [
    "### Descripción del Set de Datos\n",
    "Los datos incluyen información específica de los diferentes centros educativos en Guatemala con diversificado. Esta información incluye identificadores, ubicación, encargados, contacto y otros datos relevantes."
   ]
  },
  {
   "cell_type": "code",
   "execution_count": 3,
   "id": "1d425913cbedeadf",
   "metadata": {
    "ExecuteTime": {
     "end_time": "2024-07-25T21:44:42.950509Z",
     "start_time": "2024-07-25T21:44:42.945554Z"
    }
   },
   "outputs": [
    {
     "name": "stdout",
     "output_type": "stream",
     "text": [
      "Observaciones: 9332, Variables: 17\n"
     ]
    }
   ],
   "source": [
    "rows, cols = df.shape\n",
    "print(f'Observaciones: {rows}, Variables: {cols}')"
   ]
  },
  {
   "cell_type": "code",
   "execution_count": 9,
   "id": "9ab932b412d8f1a8",
   "metadata": {
    "ExecuteTime": {
     "end_time": "2024-07-25T21:49:39.589092Z",
     "start_time": "2024-07-25T21:49:39.571563Z"
    }
   },
   "outputs": [
    {
     "name": "stdout",
     "output_type": "stream",
     "text": [
      "<class 'pandas.core.frame.DataFrame'>\n",
      "RangeIndex: 9332 entries, 0 to 9331\n",
      "Data columns (total 17 columns):\n",
      " #   Column           Non-Null Count  Dtype \n",
      "---  ------           --------------  ----- \n",
      " 0   CODIGO           9332 non-null   object\n",
      " 1   DISTRITO         9124 non-null   object\n",
      " 2   DEPARTAMENTO     9332 non-null   object\n",
      " 3   MUNICIPIO        9332 non-null   object\n",
      " 4   ESTABLECIMIENTO  9332 non-null   object\n",
      " 5   DIRECCION        9281 non-null   object\n",
      " 6   TELEFONO         8797 non-null   object\n",
      " 7   SUPERVISOR       9123 non-null   object\n",
      " 8   DIRECTOR         8435 non-null   object\n",
      " 9   NIVEL            9332 non-null   object\n",
      " 10  SECTOR           9332 non-null   object\n",
      " 11  AREA             9332 non-null   object\n",
      " 12  STATUS           9332 non-null   object\n",
      " 13  MODALIDAD        9332 non-null   object\n",
      " 14  JORNADA          9332 non-null   object\n",
      " 15  PLAN             9332 non-null   object\n",
      " 16  DEPARTAMENTAL    9332 non-null   object\n",
      "dtypes: object(17)\n",
      "memory usage: 1.2+ MB\n"
     ]
    }
   ],
   "source": [
    "df.info()"
   ]
  },
  {
   "cell_type": "code",
   "execution_count": 10,
   "id": "1e997cc81ce08cca",
   "metadata": {
    "ExecuteTime": {
     "end_time": "2024-07-25T21:49:50.933854Z",
     "start_time": "2024-07-25T21:49:50.880688Z"
    }
   },
   "outputs": [
    {
     "data": {
      "text/html": [
       "<div>\n",
       "<style scoped>\n",
       "    .dataframe tbody tr th:only-of-type {\n",
       "        vertical-align: middle;\n",
       "    }\n",
       "\n",
       "    .dataframe tbody tr th {\n",
       "        vertical-align: top;\n",
       "    }\n",
       "\n",
       "    .dataframe thead th {\n",
       "        text-align: right;\n",
       "    }\n",
       "</style>\n",
       "<table border=\"1\" class=\"dataframe\">\n",
       "  <thead>\n",
       "    <tr style=\"text-align: right;\">\n",
       "      <th></th>\n",
       "      <th>CODIGO</th>\n",
       "      <th>DISTRITO</th>\n",
       "      <th>DEPARTAMENTO</th>\n",
       "      <th>MUNICIPIO</th>\n",
       "      <th>ESTABLECIMIENTO</th>\n",
       "      <th>DIRECCION</th>\n",
       "      <th>TELEFONO</th>\n",
       "      <th>SUPERVISOR</th>\n",
       "      <th>DIRECTOR</th>\n",
       "      <th>NIVEL</th>\n",
       "      <th>SECTOR</th>\n",
       "      <th>AREA</th>\n",
       "      <th>STATUS</th>\n",
       "      <th>MODALIDAD</th>\n",
       "      <th>JORNADA</th>\n",
       "      <th>PLAN</th>\n",
       "      <th>DEPARTAMENTAL</th>\n",
       "    </tr>\n",
       "  </thead>\n",
       "  <tbody>\n",
       "    <tr>\n",
       "      <th>count</th>\n",
       "      <td>9332</td>\n",
       "      <td>9124</td>\n",
       "      <td>9332</td>\n",
       "      <td>9332</td>\n",
       "      <td>9332</td>\n",
       "      <td>9281</td>\n",
       "      <td>8797</td>\n",
       "      <td>9123</td>\n",
       "      <td>8435</td>\n",
       "      <td>9332</td>\n",
       "      <td>9332</td>\n",
       "      <td>9332</td>\n",
       "      <td>9332</td>\n",
       "      <td>9332</td>\n",
       "      <td>9332</td>\n",
       "      <td>9332</td>\n",
       "      <td>9332</td>\n",
       "    </tr>\n",
       "    <tr>\n",
       "      <th>unique</th>\n",
       "      <td>9332</td>\n",
       "      <td>690</td>\n",
       "      <td>23</td>\n",
       "      <td>349</td>\n",
       "      <td>5321</td>\n",
       "      <td>6004</td>\n",
       "      <td>5445</td>\n",
       "      <td>658</td>\n",
       "      <td>4677</td>\n",
       "      <td>1</td>\n",
       "      <td>4</td>\n",
       "      <td>3</td>\n",
       "      <td>4</td>\n",
       "      <td>2</td>\n",
       "      <td>6</td>\n",
       "      <td>13</td>\n",
       "      <td>26</td>\n",
       "    </tr>\n",
       "    <tr>\n",
       "      <th>top</th>\n",
       "      <td>16-01-0138-46</td>\n",
       "      <td>01-403</td>\n",
       "      <td>CIUDAD CAPITAL</td>\n",
       "      <td>ZONA 1</td>\n",
       "      <td>INSTITUTO NACIONAL DE EDUCACION DIVERSIFICADA</td>\n",
       "      <td>CABECERA MUNICIPAL</td>\n",
       "      <td>22067425</td>\n",
       "      <td>CARLOS HUMBERTO GONZALEZ DE LEON</td>\n",
       "      <td>---</td>\n",
       "      <td>DIVERSIFICADO</td>\n",
       "      <td>PRIVADO</td>\n",
       "      <td>URBANA</td>\n",
       "      <td>ABIERTA</td>\n",
       "      <td>MONOLINGUE</td>\n",
       "      <td>DOBLE</td>\n",
       "      <td>DIARIO(REGULAR)</td>\n",
       "      <td>GUATEMALA NORTE</td>\n",
       "    </tr>\n",
       "    <tr>\n",
       "      <th>freq</th>\n",
       "      <td>1</td>\n",
       "      <td>268</td>\n",
       "      <td>1564</td>\n",
       "      <td>633</td>\n",
       "      <td>330</td>\n",
       "      <td>269</td>\n",
       "      <td>21</td>\n",
       "      <td>333</td>\n",
       "      <td>83</td>\n",
       "      <td>9332</td>\n",
       "      <td>7956</td>\n",
       "      <td>7604</td>\n",
       "      <td>6545</td>\n",
       "      <td>9040</td>\n",
       "      <td>3040</td>\n",
       "      <td>5719</td>\n",
       "      <td>1050</td>\n",
       "    </tr>\n",
       "  </tbody>\n",
       "</table>\n",
       "</div>"
      ],
      "text/plain": [
       "               CODIGO DISTRITO    DEPARTAMENTO MUNICIPIO  \\\n",
       "count            9332     9124            9332      9332   \n",
       "unique           9332      690              23       349   \n",
       "top     16-01-0138-46   01-403  CIUDAD CAPITAL    ZONA 1   \n",
       "freq                1      268            1564       633   \n",
       "\n",
       "                                      ESTABLECIMIENTO           DIRECCION  \\\n",
       "count                                            9332                9281   \n",
       "unique                                           5321                6004   \n",
       "top     INSTITUTO NACIONAL DE EDUCACION DIVERSIFICADA  CABECERA MUNICIPAL   \n",
       "freq                                              330                 269   \n",
       "\n",
       "        TELEFONO                        SUPERVISOR DIRECTOR          NIVEL  \\\n",
       "count       8797                              9123     8435           9332   \n",
       "unique      5445                               658     4677              1   \n",
       "top     22067425  CARLOS HUMBERTO GONZALEZ DE LEON      ---  DIVERSIFICADO   \n",
       "freq          21                               333       83           9332   \n",
       "\n",
       "         SECTOR    AREA   STATUS   MODALIDAD JORNADA             PLAN  \\\n",
       "count      9332    9332     9332        9332    9332             9332   \n",
       "unique        4       3        4           2       6               13   \n",
       "top     PRIVADO  URBANA  ABIERTA  MONOLINGUE   DOBLE  DIARIO(REGULAR)   \n",
       "freq       7956    7604     6545        9040    3040             5719   \n",
       "\n",
       "          DEPARTAMENTAL  \n",
       "count              9332  \n",
       "unique               26  \n",
       "top     GUATEMALA NORTE  \n",
       "freq               1050  "
      ]
     },
     "execution_count": 10,
     "metadata": {},
     "output_type": "execute_result"
    }
   ],
   "source": [
    "df.describe()"
   ]
  },
  {
   "cell_type": "code",
   "execution_count": 11,
   "id": "c376e71dbf5fec1",
   "metadata": {
    "ExecuteTime": {
     "end_time": "2024-07-25T21:50:06.947827Z",
     "start_time": "2024-07-25T21:50:06.934577Z"
    }
   },
   "outputs": [
    {
     "data": {
      "text/plain": [
       "CODIGO               0\n",
       "DISTRITO           208\n",
       "DEPARTAMENTO         0\n",
       "MUNICIPIO            0\n",
       "ESTABLECIMIENTO      0\n",
       "DIRECCION           51\n",
       "TELEFONO           535\n",
       "SUPERVISOR         209\n",
       "DIRECTOR           897\n",
       "NIVEL                0\n",
       "SECTOR               0\n",
       "AREA                 0\n",
       "STATUS               0\n",
       "MODALIDAD            0\n",
       "JORNADA              0\n",
       "PLAN                 0\n",
       "DEPARTAMENTAL        0\n",
       "dtype: int64"
      ]
     },
     "execution_count": 11,
     "metadata": {},
     "output_type": "execute_result"
    }
   ],
   "source": [
    "df.isnull().sum()"
   ]
  },
  {
   "cell_type": "markdown",
   "id": "8104d049005c0235",
   "metadata": {},
   "source": [
    "### Limpieza del Set de Datos"
   ]
  },
  {
   "cell_type": "markdown",
   "id": "aabe016a4c4bddc2",
   "metadata": {},
   "source": [
    "#### Variables con más operaciones de Limpieza\n"
   ]
  },
  {
   "cell_type": "markdown",
   "id": "600293b437ad3aff",
   "metadata": {},
   "source": [
    "#### Estrategia por Variable\n",
    "- CODIGO\n",
    "    - Debido a que esta variable es un identificador único, se debe verificar que no existan duplicados o valores nulos.\n",
    "- DISTRITO\n",
    "    - Se debe verificar que no existan valores nulos.\n",
    "- DEPARTAMENTO\n",
    "    - Se debe verificar que no existan valores nulos.\n",
    "    - Que los departamentos estén escritos correctamente y en mayúsculas.\n",
    "- MUNICIPIO\n",
    "    - Se debe verificar que no existan valores nulos.\n",
    "    - Que los municipios estén escritos correctamente y en mayúsculas.\n",
    "- ESTABLECIMIENTO\n",
    "    - Se debe verificar que no existan valores nulos.\n",
    "    - Que los establecimientos estén escritos en mayúsculas.\n",
    "- DIRECCION\n",
    "    - Que los departamentos estén escritos en mayúsculas.\n",
    "- TELEFONO\n",
    "    - Imputar valores nulos con un valor que represente la ausencia de un número de teléfono.\n",
    "    - Eliminar valores que no sean números\n",
    "    - Eliminar valores que no tengan 8 dígitos\n",
    "- SUPERVISOR\n",
    "    - Imputar valores nulos con un valor que represente la ausencia de un supervisor.\n",
    "    - Que los nombres estén escritos en mayúsculas.\n",
    "- DIRECTOR\n",
    "    - Imputar valores nulos con un valor que represente la ausencia de un director.\n",
    "    - Que los nombres estén escritos en mayúsculas.\n",
    "- NIVEL\n",
    "    - Verificar que no existan valores nulos.\n",
    "    - Que los niveles estén escritos en mayúsculas.\n",
    "    - Que sean todos de DIVERSIFICADO.\n",
    "- SECTOR\n",
    "    - Verificar que no existan valores nulos.\n",
    "    - Que los sectores estén escritos en mayúsculas.\n",
    "    - Que sean todos de OFICIAL | PRIVADO | COOPERATIVA | MUNICIPAL. \n",
    "- AREA\n",
    "    - Verificar que no existan valores nulos.\n",
    "    - Que las áreas estén escritos en mayúsculas.\n",
    "    - Que sean todos de URBANA | RURAL.\n",
    "- STATUS\n",
    "    - Verificar que no existan valores nulos.\n",
    "    - Que los status estén escritos en mayúsculas.\n",
    "- MODALIDAD\n",
    "    - Verificar que no existan valores nulos.\n",
    "    - Que sean todos de BILINGÜE | MONOLINGÜE.\n",
    "    - Dado que es una variable binaria, cambiar de tipo y nombre a \"BILINGUE\".\n",
    "        - 0: MONOLINGÜE\n",
    "        - 1: BILINGÜE\n",
    "- JORNADA\n",
    "    - Se debe verificar que no existan valores nulos.\n",
    "    - Que las jornadas estén escritas en mayúsculas.\n",
    "- PLAN\n",
    "    - Se debe verificar que no existan valores nulos.\n",
    "    - Que los establecimientos estén escritos en mayúsculas.\n",
    "- DEPARTAMENTAL\n",
    "    - Se debe verificar que no existan valores nulos.\n",
    "    - Que los establecimientos estén escritos en mayúsculas."
   ]
  },
  {
   "cell_type": "code",
   "execution_count": 13,
   "id": "438366d562edce0c",
   "metadata": {
    "ExecuteTime": {
     "end_time": "2024-07-25T21:51:55.074698Z",
     "start_time": "2024-07-25T21:51:55.068992Z"
    }
   },
   "outputs": [
    {
     "data": {
      "text/plain": [
       "array(['DIARIO(REGULAR)', 'FIN DE SEMANA', 'A DISTANCIA',\n",
       "       'SEMIPRESENCIAL', 'SEMIPRESENCIAL (FIN DE SEMANA)',\n",
       "       'SEMIPRESENCIAL (UN DÍA A LA SEMANA)', 'SABATINO',\n",
       "       'SEMIPRESENCIAL (DOS DÍAS A LA SEMANA)', 'VIRTUAL A DISTANCIA',\n",
       "       'DOMINICAL', 'MIXTO', 'INTERCALADO', 'IRREGULAR'], dtype=object)"
      ]
     },
     "execution_count": 13,
     "metadata": {},
     "output_type": "execute_result"
    }
   ],
   "source": [
    "df['PLAN'].unique()"
   ]
  }
 ],
 "metadata": {
  "kernelspec": {
   "display_name": "Python 3",
   "language": "python",
   "name": "python3"
  },
  "language_info": {
   "codemirror_mode": {
    "name": "ipython",
    "version": 2
   },
   "file_extension": ".py",
   "mimetype": "text/x-python",
   "name": "python",
   "nbconvert_exporter": "python",
   "pygments_lexer": "ipython2",
   "version": "2.7.6"
  }
 },
 "nbformat": 4,
 "nbformat_minor": 5
}

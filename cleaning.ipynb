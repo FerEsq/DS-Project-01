{
 "cells": [
  {
   "cell_type": "markdown",
   "id": "c90f4295f6eeb9b4",
   "metadata": {
    "id": "c90f4295f6eeb9b4"
   },
   "source": [
    "# Obtención y Limpieza de Datos"
   ]
  },
  {
   "cell_type": "code",
   "id": "initial_id",
   "metadata": {
    "collapsed": true,
    "id": "initial_id",
    "ExecuteTime": {
     "end_time": "2024-08-12T22:05:56.138828Z",
     "start_time": "2024-08-12T22:05:56.132696Z"
    }
   },
   "source": [
    "import pandas as pd\n",
    "import numpy as np\n",
    "import matplotlib.pyplot as plt\n",
    "import seaborn as sns\n",
    "import re"
   ],
   "outputs": [],
   "execution_count": 67
  },
  {
   "cell_type": "markdown",
   "id": "f0679602a9af8689",
   "metadata": {
    "id": "f0679602a9af8689"
   },
   "source": [
    "## Obtención de datos\n",
    "Los datos fueron obtenidos de la página de [Ministerio de Educación](http://www.mineduc.gob.gt/BUSCAESTABLECIMIENTO_GE/). Los datos representan todas las instituciones escolares (con diversificado) a todo el nivel nacional. Descargados en ``data/raw`` y juntados en un solo archivo llamado ``dataframe.xlsx``."
   ]
  },
  {
   "cell_type": "markdown",
   "id": "e5649c342a16daf",
   "metadata": {
    "id": "e5649c342a16daf"
   },
   "source": [
    "## Limpieza de datos"
   ]
  },
  {
   "cell_type": "code",
   "id": "81c10c3acef4ce8f",
   "metadata": {
    "colab": {
     "base_uri": "https://localhost:8080/",
     "height": 504
    },
    "id": "81c10c3acef4ce8f",
    "outputId": "5223d693-bd96-4884-d11a-3abd8a568131",
    "ExecuteTime": {
     "end_time": "2024-08-12T22:05:57.928094Z",
     "start_time": "2024-08-12T22:05:57.784664Z"
    }
   },
   "source": [
    "df = pd.read_excel('data/dataframe.xlsx')\n",
    "df.head()"
   ],
   "outputs": [
    {
     "ename": "ImportError",
     "evalue": "Missing optional dependency 'openpyxl'.  Use pip or conda to install openpyxl.",
     "output_type": "error",
     "traceback": [
      "\u001B[1;31m---------------------------------------------------------------------------\u001B[0m",
      "\u001B[1;31mModuleNotFoundError\u001B[0m                       Traceback (most recent call last)",
      "File \u001B[1;32mD:\\UVG\\DataScience\\GUA-Gasoline-Analysis\\.venv\\Lib\\site-packages\\pandas\\compat\\_optional.py:135\u001B[0m, in \u001B[0;36mimport_optional_dependency\u001B[1;34m(name, extra, errors, min_version)\u001B[0m\n\u001B[0;32m    134\u001B[0m \u001B[38;5;28;01mtry\u001B[39;00m:\n\u001B[1;32m--> 135\u001B[0m     module \u001B[38;5;241m=\u001B[39m \u001B[43mimportlib\u001B[49m\u001B[38;5;241;43m.\u001B[39;49m\u001B[43mimport_module\u001B[49m\u001B[43m(\u001B[49m\u001B[43mname\u001B[49m\u001B[43m)\u001B[49m\n\u001B[0;32m    136\u001B[0m \u001B[38;5;28;01mexcept\u001B[39;00m \u001B[38;5;167;01mImportError\u001B[39;00m:\n",
      "File \u001B[1;32mC:\\Program Files\\WindowsApps\\PythonSoftwareFoundation.Python.3.12_3.12.1520.0_x64__qbz5n2kfra8p0\\Lib\\importlib\\__init__.py:90\u001B[0m, in \u001B[0;36mimport_module\u001B[1;34m(name, package)\u001B[0m\n\u001B[0;32m     89\u001B[0m         level \u001B[38;5;241m+\u001B[39m\u001B[38;5;241m=\u001B[39m \u001B[38;5;241m1\u001B[39m\n\u001B[1;32m---> 90\u001B[0m \u001B[38;5;28;01mreturn\u001B[39;00m \u001B[43m_bootstrap\u001B[49m\u001B[38;5;241;43m.\u001B[39;49m\u001B[43m_gcd_import\u001B[49m\u001B[43m(\u001B[49m\u001B[43mname\u001B[49m\u001B[43m[\u001B[49m\u001B[43mlevel\u001B[49m\u001B[43m:\u001B[49m\u001B[43m]\u001B[49m\u001B[43m,\u001B[49m\u001B[43m \u001B[49m\u001B[43mpackage\u001B[49m\u001B[43m,\u001B[49m\u001B[43m \u001B[49m\u001B[43mlevel\u001B[49m\u001B[43m)\u001B[49m\n",
      "File \u001B[1;32m<frozen importlib._bootstrap>:1387\u001B[0m, in \u001B[0;36m_gcd_import\u001B[1;34m(name, package, level)\u001B[0m\n",
      "File \u001B[1;32m<frozen importlib._bootstrap>:1360\u001B[0m, in \u001B[0;36m_find_and_load\u001B[1;34m(name, import_)\u001B[0m\n",
      "File \u001B[1;32m<frozen importlib._bootstrap>:1324\u001B[0m, in \u001B[0;36m_find_and_load_unlocked\u001B[1;34m(name, import_)\u001B[0m\n",
      "\u001B[1;31mModuleNotFoundError\u001B[0m: No module named 'openpyxl'",
      "\nDuring handling of the above exception, another exception occurred:\n",
      "\u001B[1;31mImportError\u001B[0m                               Traceback (most recent call last)",
      "Cell \u001B[1;32mIn[68], line 1\u001B[0m\n\u001B[1;32m----> 1\u001B[0m df \u001B[38;5;241m=\u001B[39m \u001B[43mpd\u001B[49m\u001B[38;5;241;43m.\u001B[39;49m\u001B[43mread_excel\u001B[49m\u001B[43m(\u001B[49m\u001B[38;5;124;43m'\u001B[39;49m\u001B[38;5;124;43mdata/dataframe.xlsx\u001B[39;49m\u001B[38;5;124;43m'\u001B[39;49m\u001B[43m)\u001B[49m\n\u001B[0;32m      2\u001B[0m df\u001B[38;5;241m.\u001B[39mhead()\n",
      "File \u001B[1;32mD:\\UVG\\DataScience\\GUA-Gasoline-Analysis\\.venv\\Lib\\site-packages\\pandas\\io\\excel\\_base.py:495\u001B[0m, in \u001B[0;36mread_excel\u001B[1;34m(io, sheet_name, header, names, index_col, usecols, dtype, engine, converters, true_values, false_values, skiprows, nrows, na_values, keep_default_na, na_filter, verbose, parse_dates, date_parser, date_format, thousands, decimal, comment, skipfooter, storage_options, dtype_backend, engine_kwargs)\u001B[0m\n\u001B[0;32m    493\u001B[0m \u001B[38;5;28;01mif\u001B[39;00m \u001B[38;5;129;01mnot\u001B[39;00m \u001B[38;5;28misinstance\u001B[39m(io, ExcelFile):\n\u001B[0;32m    494\u001B[0m     should_close \u001B[38;5;241m=\u001B[39m \u001B[38;5;28;01mTrue\u001B[39;00m\n\u001B[1;32m--> 495\u001B[0m     io \u001B[38;5;241m=\u001B[39m \u001B[43mExcelFile\u001B[49m\u001B[43m(\u001B[49m\n\u001B[0;32m    496\u001B[0m \u001B[43m        \u001B[49m\u001B[43mio\u001B[49m\u001B[43m,\u001B[49m\n\u001B[0;32m    497\u001B[0m \u001B[43m        \u001B[49m\u001B[43mstorage_options\u001B[49m\u001B[38;5;241;43m=\u001B[39;49m\u001B[43mstorage_options\u001B[49m\u001B[43m,\u001B[49m\n\u001B[0;32m    498\u001B[0m \u001B[43m        \u001B[49m\u001B[43mengine\u001B[49m\u001B[38;5;241;43m=\u001B[39;49m\u001B[43mengine\u001B[49m\u001B[43m,\u001B[49m\n\u001B[0;32m    499\u001B[0m \u001B[43m        \u001B[49m\u001B[43mengine_kwargs\u001B[49m\u001B[38;5;241;43m=\u001B[39;49m\u001B[43mengine_kwargs\u001B[49m\u001B[43m,\u001B[49m\n\u001B[0;32m    500\u001B[0m \u001B[43m    \u001B[49m\u001B[43m)\u001B[49m\n\u001B[0;32m    501\u001B[0m \u001B[38;5;28;01melif\u001B[39;00m engine \u001B[38;5;129;01mand\u001B[39;00m engine \u001B[38;5;241m!=\u001B[39m io\u001B[38;5;241m.\u001B[39mengine:\n\u001B[0;32m    502\u001B[0m     \u001B[38;5;28;01mraise\u001B[39;00m \u001B[38;5;167;01mValueError\u001B[39;00m(\n\u001B[0;32m    503\u001B[0m         \u001B[38;5;124m\"\u001B[39m\u001B[38;5;124mEngine should not be specified when passing \u001B[39m\u001B[38;5;124m\"\u001B[39m\n\u001B[0;32m    504\u001B[0m         \u001B[38;5;124m\"\u001B[39m\u001B[38;5;124man ExcelFile - ExcelFile already has the engine set\u001B[39m\u001B[38;5;124m\"\u001B[39m\n\u001B[0;32m    505\u001B[0m     )\n",
      "File \u001B[1;32mD:\\UVG\\DataScience\\GUA-Gasoline-Analysis\\.venv\\Lib\\site-packages\\pandas\\io\\excel\\_base.py:1567\u001B[0m, in \u001B[0;36mExcelFile.__init__\u001B[1;34m(self, path_or_buffer, engine, storage_options, engine_kwargs)\u001B[0m\n\u001B[0;32m   1564\u001B[0m \u001B[38;5;28mself\u001B[39m\u001B[38;5;241m.\u001B[39mengine \u001B[38;5;241m=\u001B[39m engine\n\u001B[0;32m   1565\u001B[0m \u001B[38;5;28mself\u001B[39m\u001B[38;5;241m.\u001B[39mstorage_options \u001B[38;5;241m=\u001B[39m storage_options\n\u001B[1;32m-> 1567\u001B[0m \u001B[38;5;28mself\u001B[39m\u001B[38;5;241m.\u001B[39m_reader \u001B[38;5;241m=\u001B[39m \u001B[38;5;28;43mself\u001B[39;49m\u001B[38;5;241;43m.\u001B[39;49m\u001B[43m_engines\u001B[49m\u001B[43m[\u001B[49m\u001B[43mengine\u001B[49m\u001B[43m]\u001B[49m\u001B[43m(\u001B[49m\n\u001B[0;32m   1568\u001B[0m \u001B[43m    \u001B[49m\u001B[38;5;28;43mself\u001B[39;49m\u001B[38;5;241;43m.\u001B[39;49m\u001B[43m_io\u001B[49m\u001B[43m,\u001B[49m\n\u001B[0;32m   1569\u001B[0m \u001B[43m    \u001B[49m\u001B[43mstorage_options\u001B[49m\u001B[38;5;241;43m=\u001B[39;49m\u001B[43mstorage_options\u001B[49m\u001B[43m,\u001B[49m\n\u001B[0;32m   1570\u001B[0m \u001B[43m    \u001B[49m\u001B[43mengine_kwargs\u001B[49m\u001B[38;5;241;43m=\u001B[39;49m\u001B[43mengine_kwargs\u001B[49m\u001B[43m,\u001B[49m\n\u001B[0;32m   1571\u001B[0m \u001B[43m\u001B[49m\u001B[43m)\u001B[49m\n",
      "File \u001B[1;32mD:\\UVG\\DataScience\\GUA-Gasoline-Analysis\\.venv\\Lib\\site-packages\\pandas\\io\\excel\\_openpyxl.py:552\u001B[0m, in \u001B[0;36mOpenpyxlReader.__init__\u001B[1;34m(self, filepath_or_buffer, storage_options, engine_kwargs)\u001B[0m\n\u001B[0;32m    534\u001B[0m \u001B[38;5;129m@doc\u001B[39m(storage_options\u001B[38;5;241m=\u001B[39m_shared_docs[\u001B[38;5;124m\"\u001B[39m\u001B[38;5;124mstorage_options\u001B[39m\u001B[38;5;124m\"\u001B[39m])\n\u001B[0;32m    535\u001B[0m \u001B[38;5;28;01mdef\u001B[39;00m \u001B[38;5;21m__init__\u001B[39m(\n\u001B[0;32m    536\u001B[0m     \u001B[38;5;28mself\u001B[39m,\n\u001B[1;32m   (...)\u001B[0m\n\u001B[0;32m    539\u001B[0m     engine_kwargs: \u001B[38;5;28mdict\u001B[39m \u001B[38;5;241m|\u001B[39m \u001B[38;5;28;01mNone\u001B[39;00m \u001B[38;5;241m=\u001B[39m \u001B[38;5;28;01mNone\u001B[39;00m,\n\u001B[0;32m    540\u001B[0m ) \u001B[38;5;241m-\u001B[39m\u001B[38;5;241m>\u001B[39m \u001B[38;5;28;01mNone\u001B[39;00m:\n\u001B[0;32m    541\u001B[0m \u001B[38;5;250m    \u001B[39m\u001B[38;5;124;03m\"\"\"\u001B[39;00m\n\u001B[0;32m    542\u001B[0m \u001B[38;5;124;03m    Reader using openpyxl engine.\u001B[39;00m\n\u001B[0;32m    543\u001B[0m \n\u001B[1;32m   (...)\u001B[0m\n\u001B[0;32m    550\u001B[0m \u001B[38;5;124;03m        Arbitrary keyword arguments passed to excel engine.\u001B[39;00m\n\u001B[0;32m    551\u001B[0m \u001B[38;5;124;03m    \"\"\"\u001B[39;00m\n\u001B[1;32m--> 552\u001B[0m     \u001B[43mimport_optional_dependency\u001B[49m\u001B[43m(\u001B[49m\u001B[38;5;124;43m\"\u001B[39;49m\u001B[38;5;124;43mopenpyxl\u001B[39;49m\u001B[38;5;124;43m\"\u001B[39;49m\u001B[43m)\u001B[49m\n\u001B[0;32m    553\u001B[0m     \u001B[38;5;28msuper\u001B[39m()\u001B[38;5;241m.\u001B[39m\u001B[38;5;21m__init__\u001B[39m(\n\u001B[0;32m    554\u001B[0m         filepath_or_buffer,\n\u001B[0;32m    555\u001B[0m         storage_options\u001B[38;5;241m=\u001B[39mstorage_options,\n\u001B[0;32m    556\u001B[0m         engine_kwargs\u001B[38;5;241m=\u001B[39mengine_kwargs,\n\u001B[0;32m    557\u001B[0m     )\n",
      "File \u001B[1;32mD:\\UVG\\DataScience\\GUA-Gasoline-Analysis\\.venv\\Lib\\site-packages\\pandas\\compat\\_optional.py:138\u001B[0m, in \u001B[0;36mimport_optional_dependency\u001B[1;34m(name, extra, errors, min_version)\u001B[0m\n\u001B[0;32m    136\u001B[0m \u001B[38;5;28;01mexcept\u001B[39;00m \u001B[38;5;167;01mImportError\u001B[39;00m:\n\u001B[0;32m    137\u001B[0m     \u001B[38;5;28;01mif\u001B[39;00m errors \u001B[38;5;241m==\u001B[39m \u001B[38;5;124m\"\u001B[39m\u001B[38;5;124mraise\u001B[39m\u001B[38;5;124m\"\u001B[39m:\n\u001B[1;32m--> 138\u001B[0m         \u001B[38;5;28;01mraise\u001B[39;00m \u001B[38;5;167;01mImportError\u001B[39;00m(msg)\n\u001B[0;32m    139\u001B[0m     \u001B[38;5;28;01mreturn\u001B[39;00m \u001B[38;5;28;01mNone\u001B[39;00m\n\u001B[0;32m    141\u001B[0m \u001B[38;5;66;03m# Handle submodules: if we have submodule, grab parent module from sys.modules\u001B[39;00m\n",
      "\u001B[1;31mImportError\u001B[0m: Missing optional dependency 'openpyxl'.  Use pip or conda to install openpyxl."
     ]
    }
   ],
   "execution_count": 68
  },
  {
   "cell_type": "markdown",
   "id": "bd5c464e695340a",
   "metadata": {
    "id": "bd5c464e695340a"
   },
   "source": [
    "### Descripción del Set de Datos\n",
    "Los datos incluyen información específica de los diferentes centros educativos en Guatemala con diversificado. Esta información incluye identificadores, ubicación, encargados, contacto y otros datos relevantes."
   ]
  },
  {
   "cell_type": "code",
   "id": "1d425913cbedeadf",
   "metadata": {
    "colab": {
     "base_uri": "https://localhost:8080/"
    },
    "id": "1d425913cbedeadf",
    "outputId": "24744f73-2cf5-4135-8fc9-8e2b138698e5"
   },
   "source": [
    "rows, cols = df.shape\n",
    "print(f'Observaciones: {rows}, Variables: {cols}')"
   ],
   "outputs": [],
   "execution_count": null
  },
  {
   "cell_type": "code",
   "id": "9ab932b412d8f1a8",
   "metadata": {
    "colab": {
     "base_uri": "https://localhost:8080/"
    },
    "id": "9ab932b412d8f1a8",
    "outputId": "079bf824-54cc-472a-db6e-59a8d288559a",
    "ExecuteTime": {
     "end_time": "2024-08-12T22:05:58.045116Z",
     "start_time": "2024-08-12T22:05:58.028410Z"
    }
   },
   "source": [
    "df.info()"
   ],
   "outputs": [
    {
     "ename": "NameError",
     "evalue": "name 'df' is not defined",
     "output_type": "error",
     "traceback": [
      "\u001B[1;31m---------------------------------------------------------------------------\u001B[0m",
      "\u001B[1;31mNameError\u001B[0m                                 Traceback (most recent call last)",
      "Cell \u001B[1;32mIn[69], line 1\u001B[0m\n\u001B[1;32m----> 1\u001B[0m \u001B[43mdf\u001B[49m\u001B[38;5;241m.\u001B[39minfo()\n",
      "\u001B[1;31mNameError\u001B[0m: name 'df' is not defined"
     ]
    }
   ],
   "execution_count": 69
  },
  {
   "cell_type": "code",
   "id": "1e997cc81ce08cca",
   "metadata": {
    "colab": {
     "base_uri": "https://localhost:8080/",
     "height": 247
    },
    "id": "1e997cc81ce08cca",
    "outputId": "65161e23-a768-4e55-8553-8c62e765bbe0",
    "ExecuteTime": {
     "end_time": "2024-08-12T22:05:58.137637Z",
     "start_time": "2024-08-12T22:05:58.120434Z"
    }
   },
   "source": [
    "df.describe()"
   ],
   "outputs": [
    {
     "ename": "NameError",
     "evalue": "name 'df' is not defined",
     "output_type": "error",
     "traceback": [
      "\u001B[1;31m---------------------------------------------------------------------------\u001B[0m",
      "\u001B[1;31mNameError\u001B[0m                                 Traceback (most recent call last)",
      "Cell \u001B[1;32mIn[70], line 1\u001B[0m\n\u001B[1;32m----> 1\u001B[0m \u001B[43mdf\u001B[49m\u001B[38;5;241m.\u001B[39mdescribe()\n",
      "\u001B[1;31mNameError\u001B[0m: name 'df' is not defined"
     ]
    }
   ],
   "execution_count": 70
  },
  {
   "cell_type": "code",
   "id": "c376e71dbf5fec1",
   "metadata": {
    "colab": {
     "base_uri": "https://localhost:8080/"
    },
    "id": "c376e71dbf5fec1",
    "outputId": "aa36af45-88d7-40b0-81cd-9766f20fccf9",
    "ExecuteTime": {
     "end_time": "2024-08-12T22:05:59.341043Z",
     "start_time": "2024-08-12T22:05:59.318245Z"
    }
   },
   "source": [
    "df.isnull().sum()"
   ],
   "outputs": [
    {
     "ename": "NameError",
     "evalue": "name 'df' is not defined",
     "output_type": "error",
     "traceback": [
      "\u001B[1;31m---------------------------------------------------------------------------\u001B[0m",
      "\u001B[1;31mNameError\u001B[0m                                 Traceback (most recent call last)",
      "Cell \u001B[1;32mIn[71], line 1\u001B[0m\n\u001B[1;32m----> 1\u001B[0m \u001B[43mdf\u001B[49m\u001B[38;5;241m.\u001B[39misnull()\u001B[38;5;241m.\u001B[39msum()\n",
      "\u001B[1;31mNameError\u001B[0m: name 'df' is not defined"
     ]
    }
   ],
   "execution_count": 71
  },
  {
   "cell_type": "markdown",
   "id": "8104d049005c0235",
   "metadata": {
    "id": "8104d049005c0235"
   },
   "source": [
    "### Limpieza del Set de Datos"
   ]
  },
  {
   "cell_type": "markdown",
   "id": "aabe016a4c4bddc2",
   "metadata": {
    "id": "aabe016a4c4bddc2"
   },
   "source": [
    "#### Variables con más operaciones de Limpieza\n"
   ]
  },
  {
   "cell_type": "markdown",
   "id": "600293b437ad3aff",
   "metadata": {
    "id": "600293b437ad3aff"
   },
   "source": [
    "#### Estrategia por Variable\n",
    "- CODIGO\n",
    "    - Debido a que esta variable es un identificador único, se debe verificar que no existan duplicados o valores nulos.\n",
    "- DISTRITO\n",
    "    - Se debe verificar que no existan valores nulos.\n",
    "- DEPARTAMENTO\n",
    "    - Se debe verificar que no existan valores nulos.\n",
    "    - Que los departamentos estén escritos correctamente y en mayúsculas.\n",
    "- MUNICIPIO\n",
    "    - Se debe verificar que no existan valores nulos.\n",
    "    - Que los municipios estén escritos correctamente y en mayúsculas.\n",
    "- ESTABLECIMIENTO\n",
    "    - Se debe verificar que no existan valores nulos.\n",
    "    - Que los establecimientos estén escritos en mayúsculas.\n",
    "- DIRECCION\n",
    "    - Que las direcciones estén escritas en mayúsculas.\n",
    "    - Se debe verificar que no existan valores nulos.\n",
    "        - Imputar valores nulos con un valor que represente la ausencia de una dirección.\n",
    "- TELEFONO\n",
    "    - Imputar valores nulos con un valor que represente la ausencia de un número de teléfono.\n",
    "    - Eliminar valores que no sean números\n",
    "    - Eliminar valores que no tengan 8 dígitos\n",
    "- SUPERVISOR\n",
    "    - Imputar valores nulos con un valor que represente la ausencia de un supervisor.\n",
    "    - Que los nombres estén escritos en mayúsculas.\n",
    "- DIRECTOR\n",
    "    - Imputar valores nulos con un valor que represente la ausencia de un director.\n",
    "    - Que los nombres estén escritos en mayúsculas.\n",
    "- NIVEL\n",
    "    - Verificar que no existan valores nulos.\n",
    "    - Que los niveles estén escritos en mayúsculas.\n",
    "    - Que sean todos de DIVERSIFICADO.\n",
    "- SECTOR\n",
    "    - Verificar que no existan valores nulos.\n",
    "    - Que los sectores estén escritos en mayúsculas.\n",
    "    - Que sean todos de OFICIAL | PRIVADO | COOPERATIVA | MUNICIPAL.\n",
    "- AREA\n",
    "    - Verificar que no existan valores nulos.\n",
    "    - Que las áreas estén escritos en mayúsculas.\n",
    "    - Que sean todos de URBANA | RURAL.\n",
    "- STATUS\n",
    "    - Verificar que no existan valores nulos.\n",
    "    - Que los status estén escritos en mayúsculas.\n",
    "- MODALIDAD\n",
    "    - Verificar que no existan valores nulos.\n",
    "    - Que sean todos de BILINGÜE | MONOLINGÜE.\n",
    "    - Dado que es una variable binaria, cambiar de tipo y nombre a \"BILINGUE\".\n",
    "        - 0: MONOLINGÜE\n",
    "        - 1: BILINGÜE\n",
    "- JORNADA\n",
    "    - Se debe verificar que no existan valores nulos.\n",
    "    - Que las jornadas estén escritas en mayúsculas.\n",
    "- PLAN\n",
    "    - Se debe verificar que no existan valores nulos.\n",
    "    - Que los establecimientos estén escritos en mayúsculas.\n",
    "- DEPARTAMENTAL\n",
    "    - Se debe verificar que no existan valores nulos.\n",
    "    - Que los establecimientos estén escritos en mayúsculas."
   ]
  },
  {
   "cell_type": "markdown",
   "id": "7f88231d34861b76",
   "metadata": {
    "id": "7f88231d34861b76"
   },
   "source": [
    "### Ejecución de la Limpieza"
   ]
  },
  {
   "cell_type": "markdown",
   "id": "51d00c7747a29936",
   "metadata": {
    "id": "51d00c7747a29936"
   },
   "source": [
    "#### CODIGO"
   ]
  },
  {
   "cell_type": "code",
   "id": "624e276f8ef9ca59",
   "metadata": {
    "colab": {
     "base_uri": "https://localhost:8080/"
    },
    "id": "624e276f8ef9ca59",
    "outputId": "0075c37a-d208-47cd-eb5b-ca9100623414",
    "ExecuteTime": {
     "end_time": "2024-08-12T22:05:59.446330Z",
     "start_time": "2024-08-12T22:05:59.429172Z"
    }
   },
   "source": [
    "df['CODIGO'].duplicated().sum()"
   ],
   "outputs": [
    {
     "ename": "NameError",
     "evalue": "name 'df' is not defined",
     "output_type": "error",
     "traceback": [
      "\u001B[1;31m---------------------------------------------------------------------------\u001B[0m",
      "\u001B[1;31mNameError\u001B[0m                                 Traceback (most recent call last)",
      "Cell \u001B[1;32mIn[72], line 1\u001B[0m\n\u001B[1;32m----> 1\u001B[0m \u001B[43mdf\u001B[49m[\u001B[38;5;124m'\u001B[39m\u001B[38;5;124mCODIGO\u001B[39m\u001B[38;5;124m'\u001B[39m]\u001B[38;5;241m.\u001B[39mduplicated()\u001B[38;5;241m.\u001B[39msum()\n",
      "\u001B[1;31mNameError\u001B[0m: name 'df' is not defined"
     ]
    }
   ],
   "execution_count": 72
  },
  {
   "cell_type": "markdown",
   "id": "7dff84da4b14cf6d",
   "metadata": {
    "id": "7dff84da4b14cf6d"
   },
   "source": [
    "Podemos observar que no existen valores duplicados en la variable de ``CODIGO``"
   ]
  },
  {
   "cell_type": "markdown",
   "id": "e87662cd396e70b4",
   "metadata": {
    "id": "e87662cd396e70b4"
   },
   "source": [
    "#### DISTRITO"
   ]
  },
  {
   "cell_type": "code",
   "id": "ebb54933490513ad",
   "metadata": {
    "colab": {
     "base_uri": "https://localhost:8080/"
    },
    "id": "ebb54933490513ad",
    "outputId": "cc3de40d-f314-4c6c-b8a0-a07304cf236b",
    "ExecuteTime": {
     "end_time": "2024-08-12T22:05:59.638912Z",
     "start_time": "2024-08-12T22:05:59.620061Z"
    }
   },
   "source": [
    "df['DISTRITO'].isna().sum()"
   ],
   "outputs": [
    {
     "ename": "NameError",
     "evalue": "name 'df' is not defined",
     "output_type": "error",
     "traceback": [
      "\u001B[1;31m---------------------------------------------------------------------------\u001B[0m",
      "\u001B[1;31mNameError\u001B[0m                                 Traceback (most recent call last)",
      "Cell \u001B[1;32mIn[73], line 1\u001B[0m\n\u001B[1;32m----> 1\u001B[0m \u001B[43mdf\u001B[49m[\u001B[38;5;124m'\u001B[39m\u001B[38;5;124mDISTRITO\u001B[39m\u001B[38;5;124m'\u001B[39m]\u001B[38;5;241m.\u001B[39misna()\u001B[38;5;241m.\u001B[39msum()\n",
      "\u001B[1;31mNameError\u001B[0m: name 'df' is not defined"
     ]
    }
   ],
   "execution_count": 73
  },
  {
   "cell_type": "markdown",
   "id": "401ff0892053dc0a",
   "metadata": {
    "id": "401ff0892053dc0a"
   },
   "source": "Al existir 208 valores nulos, procedemos a colocar un valor que represente la ausencia de un distrito."
  },
  {
   "metadata": {
    "ExecuteTime": {
     "end_time": "2024-08-12T22:05:59.784795Z",
     "start_time": "2024-08-12T22:05:59.766884Z"
    }
   },
   "cell_type": "code",
   "source": "df['DISTRITO'] = df['DISTRITO'].fillna('SIN DISTRITO')",
   "id": "aaa6689f0e34990e",
   "outputs": [
    {
     "ename": "NameError",
     "evalue": "name 'df' is not defined",
     "output_type": "error",
     "traceback": [
      "\u001B[1;31m---------------------------------------------------------------------------\u001B[0m",
      "\u001B[1;31mNameError\u001B[0m                                 Traceback (most recent call last)",
      "Cell \u001B[1;32mIn[74], line 1\u001B[0m\n\u001B[1;32m----> 1\u001B[0m df[\u001B[38;5;124m'\u001B[39m\u001B[38;5;124mDISTRITO\u001B[39m\u001B[38;5;124m'\u001B[39m] \u001B[38;5;241m=\u001B[39m \u001B[43mdf\u001B[49m[\u001B[38;5;124m'\u001B[39m\u001B[38;5;124mDISTRITO\u001B[39m\u001B[38;5;124m'\u001B[39m]\u001B[38;5;241m.\u001B[39mfillna(\u001B[38;5;124m'\u001B[39m\u001B[38;5;124mSIN DISTRITO\u001B[39m\u001B[38;5;124m'\u001B[39m)\n",
      "\u001B[1;31mNameError\u001B[0m: name 'df' is not defined"
     ]
    }
   ],
   "execution_count": 74
  },
  {
   "metadata": {
    "ExecuteTime": {
     "end_time": "2024-08-12T22:05:59.973720Z",
     "start_time": "2024-08-12T22:05:59.957530Z"
    }
   },
   "cell_type": "code",
   "source": "df['DISTRITO'].isna().sum()",
   "id": "3a2149a14a8e103f",
   "outputs": [
    {
     "ename": "NameError",
     "evalue": "name 'df' is not defined",
     "output_type": "error",
     "traceback": [
      "\u001B[1;31m---------------------------------------------------------------------------\u001B[0m",
      "\u001B[1;31mNameError\u001B[0m                                 Traceback (most recent call last)",
      "Cell \u001B[1;32mIn[75], line 1\u001B[0m\n\u001B[1;32m----> 1\u001B[0m \u001B[43mdf\u001B[49m[\u001B[38;5;124m'\u001B[39m\u001B[38;5;124mDISTRITO\u001B[39m\u001B[38;5;124m'\u001B[39m]\u001B[38;5;241m.\u001B[39misna()\u001B[38;5;241m.\u001B[39msum()\n",
      "\u001B[1;31mNameError\u001B[0m: name 'df' is not defined"
     ]
    }
   ],
   "execution_count": 75
  },
  {
   "cell_type": "code",
   "id": "3bf766c2caa177a4",
   "metadata": {
    "colab": {
     "base_uri": "https://localhost:8080/",
     "height": 504
    },
    "id": "3bf766c2caa177a4",
    "outputId": "df538b28-0109-43d4-ba5b-b906469c533c",
    "ExecuteTime": {
     "end_time": "2024-08-12T22:06:00.055055Z",
     "start_time": "2024-08-12T22:06:00.036923Z"
    }
   },
   "source": [
    "df.head()"
   ],
   "outputs": [
    {
     "ename": "NameError",
     "evalue": "name 'df' is not defined",
     "output_type": "error",
     "traceback": [
      "\u001B[1;31m---------------------------------------------------------------------------\u001B[0m",
      "\u001B[1;31mNameError\u001B[0m                                 Traceback (most recent call last)",
      "Cell \u001B[1;32mIn[76], line 1\u001B[0m\n\u001B[1;32m----> 1\u001B[0m \u001B[43mdf\u001B[49m\u001B[38;5;241m.\u001B[39mhead()\n",
      "\u001B[1;31mNameError\u001B[0m: name 'df' is not defined"
     ]
    }
   ],
   "execution_count": 76
  },
  {
   "cell_type": "markdown",
   "id": "1d27208b0cfedacb",
   "metadata": {
    "id": "1d27208b0cfedacb"
   },
   "source": [
    "#### DEPARTAMENTO"
   ]
  },
  {
   "cell_type": "code",
   "id": "7fe892469034c3d7",
   "metadata": {
    "colab": {
     "base_uri": "https://localhost:8080/"
    },
    "id": "7fe892469034c3d7",
    "outputId": "e64e9fea-4ca9-4c72-ea03-550195bd215f",
    "ExecuteTime": {
     "end_time": "2024-08-12T22:06:00.247501Z",
     "start_time": "2024-08-12T22:06:00.231326Z"
    }
   },
   "source": [
    "df['DEPARTAMENTO'].isna().sum()"
   ],
   "outputs": [
    {
     "ename": "NameError",
     "evalue": "name 'df' is not defined",
     "output_type": "error",
     "traceback": [
      "\u001B[1;31m---------------------------------------------------------------------------\u001B[0m",
      "\u001B[1;31mNameError\u001B[0m                                 Traceback (most recent call last)",
      "Cell \u001B[1;32mIn[77], line 1\u001B[0m\n\u001B[1;32m----> 1\u001B[0m \u001B[43mdf\u001B[49m[\u001B[38;5;124m'\u001B[39m\u001B[38;5;124mDEPARTAMENTO\u001B[39m\u001B[38;5;124m'\u001B[39m]\u001B[38;5;241m.\u001B[39misna()\u001B[38;5;241m.\u001B[39msum()\n",
      "\u001B[1;31mNameError\u001B[0m: name 'df' is not defined"
     ]
    }
   ],
   "execution_count": 77
  },
  {
   "cell_type": "markdown",
   "id": "8b8370fb177fb5d5",
   "metadata": {
    "id": "8b8370fb177fb5d5"
   },
   "source": [
    "La variable ``DEPARTAMENTO`` no tiene valores nulos"
   ]
  },
  {
   "cell_type": "code",
   "id": "cb8116ddbb9657d5",
   "metadata": {
    "colab": {
     "base_uri": "https://localhost:8080/"
    },
    "id": "cb8116ddbb9657d5",
    "outputId": "a0f60b16-359c-4984-d4ac-a2b98250d6fd",
    "ExecuteTime": {
     "end_time": "2024-08-12T22:06:00.334333Z",
     "start_time": "2024-08-12T22:06:00.312631Z"
    }
   },
   "source": [
    "# VALUE COUNTS SORTED BY DEPARTAMENTO\n",
    "df['DEPARTAMENTO'].value_counts().sort_index()"
   ],
   "outputs": [
    {
     "ename": "NameError",
     "evalue": "name 'df' is not defined",
     "output_type": "error",
     "traceback": [
      "\u001B[1;31m---------------------------------------------------------------------------\u001B[0m",
      "\u001B[1;31mNameError\u001B[0m                                 Traceback (most recent call last)",
      "Cell \u001B[1;32mIn[78], line 2\u001B[0m\n\u001B[0;32m      1\u001B[0m \u001B[38;5;66;03m# VALUE COUNTS SORTED BY DEPARTAMENTO\u001B[39;00m\n\u001B[1;32m----> 2\u001B[0m \u001B[43mdf\u001B[49m[\u001B[38;5;124m'\u001B[39m\u001B[38;5;124mDEPARTAMENTO\u001B[39m\u001B[38;5;124m'\u001B[39m]\u001B[38;5;241m.\u001B[39mvalue_counts()\u001B[38;5;241m.\u001B[39msort_index()\n",
      "\u001B[1;31mNameError\u001B[0m: name 'df' is not defined"
     ]
    }
   ],
   "execution_count": 78
  },
  {
   "cell_type": "markdown",
   "id": "f4b2cac1938b8e67",
   "metadata": {
    "id": "f4b2cac1938b8e67"
   },
   "source": [
    "Los departamentos están escritos correctamente y en mayúsculas."
   ]
  },
  {
   "cell_type": "markdown",
   "id": "77e80668ce76f8c0",
   "metadata": {
    "id": "77e80668ce76f8c0"
   },
   "source": [
    "#### MUNICIPIO"
   ]
  },
  {
   "cell_type": "code",
   "id": "274a7d352a684868",
   "metadata": {
    "colab": {
     "base_uri": "https://localhost:8080/"
    },
    "id": "274a7d352a684868",
    "outputId": "96cc4000-adfe-457d-c2a5-d38ce9bac16d",
    "ExecuteTime": {
     "end_time": "2024-08-12T22:06:00.522381Z",
     "start_time": "2024-08-12T22:06:00.505001Z"
    }
   },
   "source": [
    "df['MUNICIPIO'].isna().sum()"
   ],
   "outputs": [
    {
     "ename": "NameError",
     "evalue": "name 'df' is not defined",
     "output_type": "error",
     "traceback": [
      "\u001B[1;31m---------------------------------------------------------------------------\u001B[0m",
      "\u001B[1;31mNameError\u001B[0m                                 Traceback (most recent call last)",
      "Cell \u001B[1;32mIn[79], line 1\u001B[0m\n\u001B[1;32m----> 1\u001B[0m \u001B[43mdf\u001B[49m[\u001B[38;5;124m'\u001B[39m\u001B[38;5;124mMUNICIPIO\u001B[39m\u001B[38;5;124m'\u001B[39m]\u001B[38;5;241m.\u001B[39misna()\u001B[38;5;241m.\u001B[39msum()\n",
      "\u001B[1;31mNameError\u001B[0m: name 'df' is not defined"
     ]
    }
   ],
   "execution_count": 79
  },
  {
   "cell_type": "markdown",
   "id": "4f4aa451f5e6f873",
   "metadata": {
    "id": "4f4aa451f5e6f873"
   },
   "source": [
    "La variable ``MUNICIPIO`` no tiene valores nulos"
   ]
  },
  {
   "cell_type": "code",
   "id": "7f0aab42ce0c47d",
   "metadata": {
    "colab": {
     "base_uri": "https://localhost:8080/",
     "height": 53
    },
    "id": "7f0aab42ce0c47d",
    "outputId": "0e71c389-aca3-4c7e-f4b8-196c569cd983",
    "ExecuteTime": {
     "end_time": "2024-08-12T22:06:00.604819Z",
     "start_time": "2024-08-12T22:06:00.589171Z"
    }
   },
   "source": [
    "df[df['MUNICIPIO'].str.contains('[a-z]')]"
   ],
   "outputs": [
    {
     "ename": "NameError",
     "evalue": "name 'df' is not defined",
     "output_type": "error",
     "traceback": [
      "\u001B[1;31m---------------------------------------------------------------------------\u001B[0m",
      "\u001B[1;31mNameError\u001B[0m                                 Traceback (most recent call last)",
      "Cell \u001B[1;32mIn[80], line 1\u001B[0m\n\u001B[1;32m----> 1\u001B[0m \u001B[43mdf\u001B[49m[df[\u001B[38;5;124m'\u001B[39m\u001B[38;5;124mMUNICIPIO\u001B[39m\u001B[38;5;124m'\u001B[39m]\u001B[38;5;241m.\u001B[39mstr\u001B[38;5;241m.\u001B[39mcontains(\u001B[38;5;124m'\u001B[39m\u001B[38;5;124m[a-z]\u001B[39m\u001B[38;5;124m'\u001B[39m)]\n",
      "\u001B[1;31mNameError\u001B[0m: name 'df' is not defined"
     ]
    }
   ],
   "execution_count": 80
  },
  {
   "cell_type": "markdown",
   "id": "1cbb16f3f0110e9f",
   "metadata": {
    "id": "1cbb16f3f0110e9f"
   },
   "source": [
    "Los municipios están escritos correctamente y en mayúsculas."
   ]
  },
  {
   "cell_type": "markdown",
   "id": "945c483b470eacf0",
   "metadata": {
    "id": "945c483b470eacf0"
   },
   "source": [
    "#### ESTABLECIMIENTO"
   ]
  },
  {
   "cell_type": "code",
   "id": "6c5eac01a1d15ed",
   "metadata": {
    "colab": {
     "base_uri": "https://localhost:8080/"
    },
    "id": "6c5eac01a1d15ed",
    "outputId": "d3b0ef34-a268-41f0-b69d-d58f60656d70",
    "ExecuteTime": {
     "end_time": "2024-08-12T22:06:00.753866Z",
     "start_time": "2024-08-12T22:06:00.735573Z"
    }
   },
   "source": [
    "df['ESTABLECIMIENTO'].isna().sum()"
   ],
   "outputs": [
    {
     "ename": "NameError",
     "evalue": "name 'df' is not defined",
     "output_type": "error",
     "traceback": [
      "\u001B[1;31m---------------------------------------------------------------------------\u001B[0m",
      "\u001B[1;31mNameError\u001B[0m                                 Traceback (most recent call last)",
      "Cell \u001B[1;32mIn[81], line 1\u001B[0m\n\u001B[1;32m----> 1\u001B[0m \u001B[43mdf\u001B[49m[\u001B[38;5;124m'\u001B[39m\u001B[38;5;124mESTABLECIMIENTO\u001B[39m\u001B[38;5;124m'\u001B[39m]\u001B[38;5;241m.\u001B[39misna()\u001B[38;5;241m.\u001B[39msum()\n",
      "\u001B[1;31mNameError\u001B[0m: name 'df' is not defined"
     ]
    }
   ],
   "execution_count": 81
  },
  {
   "cell_type": "markdown",
   "id": "17c34d008c24b66b",
   "metadata": {
    "id": "17c34d008c24b66b"
   },
   "source": [
    "La variable ``ESTABLECIMIENTO`` no tiene valores nulos"
   ]
  },
  {
   "cell_type": "code",
   "id": "51dc58d57951a51c",
   "metadata": {
    "colab": {
     "base_uri": "https://localhost:8080/",
     "height": 53
    },
    "id": "51dc58d57951a51c",
    "outputId": "69f58ad1-3dda-4804-f137-ee417e0c0872",
    "ExecuteTime": {
     "end_time": "2024-08-12T22:06:00.846155Z",
     "start_time": "2024-08-12T22:06:00.828610Z"
    }
   },
   "source": [
    "df[df['ESTABLECIMIENTO'].str.contains('[a-z]')]"
   ],
   "outputs": [
    {
     "ename": "NameError",
     "evalue": "name 'df' is not defined",
     "output_type": "error",
     "traceback": [
      "\u001B[1;31m---------------------------------------------------------------------------\u001B[0m",
      "\u001B[1;31mNameError\u001B[0m                                 Traceback (most recent call last)",
      "Cell \u001B[1;32mIn[82], line 1\u001B[0m\n\u001B[1;32m----> 1\u001B[0m \u001B[43mdf\u001B[49m[df[\u001B[38;5;124m'\u001B[39m\u001B[38;5;124mESTABLECIMIENTO\u001B[39m\u001B[38;5;124m'\u001B[39m]\u001B[38;5;241m.\u001B[39mstr\u001B[38;5;241m.\u001B[39mcontains(\u001B[38;5;124m'\u001B[39m\u001B[38;5;124m[a-z]\u001B[39m\u001B[38;5;124m'\u001B[39m)]\n",
      "\u001B[1;31mNameError\u001B[0m: name 'df' is not defined"
     ]
    }
   ],
   "execution_count": 82
  },
  {
   "cell_type": "markdown",
   "id": "8c6918ee94597f3d",
   "metadata": {
    "id": "8c6918ee94597f3d"
   },
   "source": [
    "Los establecimientos están escritos en mayúsculas."
   ]
  },
  {
   "cell_type": "markdown",
   "id": "a96ec9443c898a08",
   "metadata": {
    "id": "a96ec9443c898a08"
   },
   "source": [
    "#### DIRECCION"
   ]
  },
  {
   "cell_type": "code",
   "id": "9e64eab50f4623a8",
   "metadata": {
    "colab": {
     "base_uri": "https://localhost:8080/"
    },
    "id": "9e64eab50f4623a8",
    "outputId": "31d629b1-4619-4482-8ef7-1adb85305685",
    "ExecuteTime": {
     "end_time": "2024-08-12T22:06:00.974564Z",
     "start_time": "2024-08-12T22:06:00.956598Z"
    }
   },
   "source": [
    "df.shape"
   ],
   "outputs": [
    {
     "ename": "NameError",
     "evalue": "name 'df' is not defined",
     "output_type": "error",
     "traceback": [
      "\u001B[1;31m---------------------------------------------------------------------------\u001B[0m",
      "\u001B[1;31mNameError\u001B[0m                                 Traceback (most recent call last)",
      "Cell \u001B[1;32mIn[83], line 1\u001B[0m\n\u001B[1;32m----> 1\u001B[0m \u001B[43mdf\u001B[49m\u001B[38;5;241m.\u001B[39mshape\n",
      "\u001B[1;31mNameError\u001B[0m: name 'df' is not defined"
     ]
    }
   ],
   "execution_count": 83
  },
  {
   "cell_type": "code",
   "id": "72f661823d856d06",
   "metadata": {
    "colab": {
     "base_uri": "https://localhost:8080/"
    },
    "id": "72f661823d856d06",
    "outputId": "efcb37be-43e1-4309-fa91-29e8267d56e8",
    "ExecuteTime": {
     "end_time": "2024-08-12T22:06:01.108003Z",
     "start_time": "2024-08-12T22:06:01.088882Z"
    }
   },
   "source": [
    "df['DIRECCION'].isna().sum()"
   ],
   "outputs": [
    {
     "ename": "NameError",
     "evalue": "name 'df' is not defined",
     "output_type": "error",
     "traceback": [
      "\u001B[1;31m---------------------------------------------------------------------------\u001B[0m",
      "\u001B[1;31mNameError\u001B[0m                                 Traceback (most recent call last)",
      "Cell \u001B[1;32mIn[84], line 1\u001B[0m\n\u001B[1;32m----> 1\u001B[0m \u001B[43mdf\u001B[49m[\u001B[38;5;124m'\u001B[39m\u001B[38;5;124mDIRECCION\u001B[39m\u001B[38;5;124m'\u001B[39m]\u001B[38;5;241m.\u001B[39misna()\u001B[38;5;241m.\u001B[39msum()\n",
      "\u001B[1;31mNameError\u001B[0m: name 'df' is not defined"
     ]
    }
   ],
   "execution_count": 84
  },
  {
   "cell_type": "code",
   "id": "41f8b15acc7ff20",
   "metadata": {
    "colab": {
     "base_uri": "https://localhost:8080/",
     "height": 1000
    },
    "id": "41f8b15acc7ff20",
    "outputId": "996b5830-a3a3-4923-9c13-0a5a6d6ae2d1",
    "ExecuteTime": {
     "end_time": "2024-08-12T22:06:01.251555Z",
     "start_time": "2024-08-12T22:06:01.236042Z"
    }
   },
   "source": [
    "df[df['DIRECCION'].isna()][['ESTABLECIMIENTO', 'DIRECCION']]"
   ],
   "outputs": [
    {
     "ename": "NameError",
     "evalue": "name 'df' is not defined",
     "output_type": "error",
     "traceback": [
      "\u001B[1;31m---------------------------------------------------------------------------\u001B[0m",
      "\u001B[1;31mNameError\u001B[0m                                 Traceback (most recent call last)",
      "Cell \u001B[1;32mIn[85], line 1\u001B[0m\n\u001B[1;32m----> 1\u001B[0m \u001B[43mdf\u001B[49m[df[\u001B[38;5;124m'\u001B[39m\u001B[38;5;124mDIRECCION\u001B[39m\u001B[38;5;124m'\u001B[39m]\u001B[38;5;241m.\u001B[39misna()][[\u001B[38;5;124m'\u001B[39m\u001B[38;5;124mESTABLECIMIENTO\u001B[39m\u001B[38;5;124m'\u001B[39m, \u001B[38;5;124m'\u001B[39m\u001B[38;5;124mDIRECCION\u001B[39m\u001B[38;5;124m'\u001B[39m]]\n",
      "\u001B[1;31mNameError\u001B[0m: name 'df' is not defined"
     ]
    }
   ],
   "execution_count": 85
  },
  {
   "cell_type": "markdown",
   "id": "36c6c80ad87ba2",
   "metadata": {
    "id": "36c6c80ad87ba2"
   },
   "source": [
    "Existen 51 establecimientos que no tienen especificada una dirección. Procedemos a imputar estos valores con un valor que represente la ausencia de una dirección."
   ]
  },
  {
   "cell_type": "code",
   "id": "53833c100bcab391",
   "metadata": {
    "id": "53833c100bcab391",
    "ExecuteTime": {
     "end_time": "2024-08-12T22:06:01.359437Z",
     "start_time": "2024-08-12T22:06:01.341911Z"
    }
   },
   "source": [
    "df['DIRECCION'] = df['DIRECCION'].fillna('SIN DIRECCION')"
   ],
   "outputs": [
    {
     "ename": "NameError",
     "evalue": "name 'df' is not defined",
     "output_type": "error",
     "traceback": [
      "\u001B[1;31m---------------------------------------------------------------------------\u001B[0m",
      "\u001B[1;31mNameError\u001B[0m                                 Traceback (most recent call last)",
      "Cell \u001B[1;32mIn[86], line 1\u001B[0m\n\u001B[1;32m----> 1\u001B[0m df[\u001B[38;5;124m'\u001B[39m\u001B[38;5;124mDIRECCION\u001B[39m\u001B[38;5;124m'\u001B[39m] \u001B[38;5;241m=\u001B[39m \u001B[43mdf\u001B[49m[\u001B[38;5;124m'\u001B[39m\u001B[38;5;124mDIRECCION\u001B[39m\u001B[38;5;124m'\u001B[39m]\u001B[38;5;241m.\u001B[39mfillna(\u001B[38;5;124m'\u001B[39m\u001B[38;5;124mSIN DIRECCION\u001B[39m\u001B[38;5;124m'\u001B[39m)\n",
      "\u001B[1;31mNameError\u001B[0m: name 'df' is not defined"
     ]
    }
   ],
   "execution_count": 86
  },
  {
   "cell_type": "code",
   "id": "dbb9123fea4d9bb2",
   "metadata": {
    "colab": {
     "base_uri": "https://localhost:8080/"
    },
    "id": "dbb9123fea4d9bb2",
    "outputId": "32263428-40f8-4bbb-b0bf-5382755d9a75",
    "ExecuteTime": {
     "end_time": "2024-08-12T22:06:01.456657Z",
     "start_time": "2024-08-12T22:06:01.440601Z"
    }
   },
   "source": [
    "df['DIRECCION'].isna().sum()"
   ],
   "outputs": [
    {
     "ename": "NameError",
     "evalue": "name 'df' is not defined",
     "output_type": "error",
     "traceback": [
      "\u001B[1;31m---------------------------------------------------------------------------\u001B[0m",
      "\u001B[1;31mNameError\u001B[0m                                 Traceback (most recent call last)",
      "Cell \u001B[1;32mIn[87], line 1\u001B[0m\n\u001B[1;32m----> 1\u001B[0m \u001B[43mdf\u001B[49m[\u001B[38;5;124m'\u001B[39m\u001B[38;5;124mDIRECCION\u001B[39m\u001B[38;5;124m'\u001B[39m]\u001B[38;5;241m.\u001B[39misna()\u001B[38;5;241m.\u001B[39msum()\n",
      "\u001B[1;31mNameError\u001B[0m: name 'df' is not defined"
     ]
    }
   ],
   "execution_count": 87
  },
  {
   "cell_type": "code",
   "id": "fe4f7afaa35e84d1",
   "metadata": {
    "colab": {
     "base_uri": "https://localhost:8080/",
     "height": 570
    },
    "id": "fe4f7afaa35e84d1",
    "outputId": "6be91d67-6d86-402c-9d36-cb21113e38ad",
    "ExecuteTime": {
     "end_time": "2024-08-12T22:06:01.674285Z",
     "start_time": "2024-08-12T22:06:01.655156Z"
    }
   },
   "source": [
    "df[df['DIRECCION'].str.contains('[a-z]')]"
   ],
   "outputs": [
    {
     "ename": "NameError",
     "evalue": "name 'df' is not defined",
     "output_type": "error",
     "traceback": [
      "\u001B[1;31m---------------------------------------------------------------------------\u001B[0m",
      "\u001B[1;31mNameError\u001B[0m                                 Traceback (most recent call last)",
      "Cell \u001B[1;32mIn[88], line 1\u001B[0m\n\u001B[1;32m----> 1\u001B[0m \u001B[43mdf\u001B[49m[df[\u001B[38;5;124m'\u001B[39m\u001B[38;5;124mDIRECCION\u001B[39m\u001B[38;5;124m'\u001B[39m]\u001B[38;5;241m.\u001B[39mstr\u001B[38;5;241m.\u001B[39mcontains(\u001B[38;5;124m'\u001B[39m\u001B[38;5;124m[a-z]\u001B[39m\u001B[38;5;124m'\u001B[39m)]\n",
      "\u001B[1;31mNameError\u001B[0m: name 'df' is not defined"
     ]
    }
   ],
   "execution_count": 88
  },
  {
   "cell_type": "code",
   "id": "d5d708d1ae0af685",
   "metadata": {
    "id": "d5d708d1ae0af685",
    "ExecuteTime": {
     "end_time": "2024-08-12T22:06:01.723699Z",
     "start_time": "2024-08-12T22:06:01.707016Z"
    }
   },
   "source": [
    "df['DIRECCION'] = df['DIRECCION'].str.upper()"
   ],
   "outputs": [
    {
     "ename": "NameError",
     "evalue": "name 'df' is not defined",
     "output_type": "error",
     "traceback": [
      "\u001B[1;31m---------------------------------------------------------------------------\u001B[0m",
      "\u001B[1;31mNameError\u001B[0m                                 Traceback (most recent call last)",
      "Cell \u001B[1;32mIn[89], line 1\u001B[0m\n\u001B[1;32m----> 1\u001B[0m df[\u001B[38;5;124m'\u001B[39m\u001B[38;5;124mDIRECCION\u001B[39m\u001B[38;5;124m'\u001B[39m] \u001B[38;5;241m=\u001B[39m \u001B[43mdf\u001B[49m[\u001B[38;5;124m'\u001B[39m\u001B[38;5;124mDIRECCION\u001B[39m\u001B[38;5;124m'\u001B[39m]\u001B[38;5;241m.\u001B[39mstr\u001B[38;5;241m.\u001B[39mupper()\n",
      "\u001B[1;31mNameError\u001B[0m: name 'df' is not defined"
     ]
    }
   ],
   "execution_count": 89
  },
  {
   "cell_type": "markdown",
   "id": "847cee73870e1f7e",
   "metadata": {
    "id": "847cee73870e1f7e"
   },
   "source": [
    "En la dirección, al referirse a algunas calles/avenidas ordinales, se tenía una minúscula."
   ]
  },
  {
   "cell_type": "markdown",
   "id": "c581b671ee701927",
   "metadata": {
    "id": "c581b671ee701927"
   },
   "source": [
    "#### TELEFONO"
   ]
  },
  {
   "cell_type": "code",
   "id": "4f732d951d736c4c",
   "metadata": {
    "colab": {
     "base_uri": "https://localhost:8080/"
    },
    "id": "4f732d951d736c4c",
    "outputId": "482143cf-f597-48ce-c300-c8f5679a068d",
    "ExecuteTime": {
     "end_time": "2024-08-12T22:06:01.865Z",
     "start_time": "2024-08-12T22:06:01.846883Z"
    }
   },
   "source": [
    "df['TELEFONO'].isna().sum()"
   ],
   "outputs": [
    {
     "ename": "NameError",
     "evalue": "name 'df' is not defined",
     "output_type": "error",
     "traceback": [
      "\u001B[1;31m---------------------------------------------------------------------------\u001B[0m",
      "\u001B[1;31mNameError\u001B[0m                                 Traceback (most recent call last)",
      "Cell \u001B[1;32mIn[90], line 1\u001B[0m\n\u001B[1;32m----> 1\u001B[0m \u001B[43mdf\u001B[49m[\u001B[38;5;124m'\u001B[39m\u001B[38;5;124mTELEFONO\u001B[39m\u001B[38;5;124m'\u001B[39m]\u001B[38;5;241m.\u001B[39misna()\u001B[38;5;241m.\u001B[39msum()\n",
      "\u001B[1;31mNameError\u001B[0m: name 'df' is not defined"
     ]
    }
   ],
   "execution_count": 90
  },
  {
   "cell_type": "code",
   "id": "8cce14ca7b010e8",
   "metadata": {
    "id": "8cce14ca7b010e8",
    "ExecuteTime": {
     "end_time": "2024-08-12T22:06:02.025243Z",
     "start_time": "2024-08-12T22:06:02.007786Z"
    }
   },
   "source": [
    "df['TELEFONO'] = df['TELEFONO'].fillna('')"
   ],
   "outputs": [
    {
     "ename": "NameError",
     "evalue": "name 'df' is not defined",
     "output_type": "error",
     "traceback": [
      "\u001B[1;31m---------------------------------------------------------------------------\u001B[0m",
      "\u001B[1;31mNameError\u001B[0m                                 Traceback (most recent call last)",
      "Cell \u001B[1;32mIn[91], line 1\u001B[0m\n\u001B[1;32m----> 1\u001B[0m df[\u001B[38;5;124m'\u001B[39m\u001B[38;5;124mTELEFONO\u001B[39m\u001B[38;5;124m'\u001B[39m] \u001B[38;5;241m=\u001B[39m \u001B[43mdf\u001B[49m[\u001B[38;5;124m'\u001B[39m\u001B[38;5;124mTELEFONO\u001B[39m\u001B[38;5;124m'\u001B[39m]\u001B[38;5;241m.\u001B[39mfillna(\u001B[38;5;124m'\u001B[39m\u001B[38;5;124m'\u001B[39m)\n",
      "\u001B[1;31mNameError\u001B[0m: name 'df' is not defined"
     ]
    }
   ],
   "execution_count": 91
  },
  {
   "cell_type": "code",
   "id": "18a6edaeaf9f881c",
   "metadata": {
    "id": "18a6edaeaf9f881c",
    "ExecuteTime": {
     "end_time": "2024-08-12T22:06:02.101981Z",
     "start_time": "2024-08-12T22:06:02.083693Z"
    }
   },
   "source": [
    "df['TELEFONO'] = df['TELEFONO'].astype(str)"
   ],
   "outputs": [
    {
     "ename": "NameError",
     "evalue": "name 'df' is not defined",
     "output_type": "error",
     "traceback": [
      "\u001B[1;31m---------------------------------------------------------------------------\u001B[0m",
      "\u001B[1;31mNameError\u001B[0m                                 Traceback (most recent call last)",
      "Cell \u001B[1;32mIn[92], line 1\u001B[0m\n\u001B[1;32m----> 1\u001B[0m df[\u001B[38;5;124m'\u001B[39m\u001B[38;5;124mTELEFONO\u001B[39m\u001B[38;5;124m'\u001B[39m] \u001B[38;5;241m=\u001B[39m \u001B[43mdf\u001B[49m[\u001B[38;5;124m'\u001B[39m\u001B[38;5;124mTELEFONO\u001B[39m\u001B[38;5;124m'\u001B[39m]\u001B[38;5;241m.\u001B[39mastype(\u001B[38;5;28mstr\u001B[39m)\n",
      "\u001B[1;31mNameError\u001B[0m: name 'df' is not defined"
     ]
    }
   ],
   "execution_count": 92
  },
  {
   "cell_type": "markdown",
   "id": "a3d58a113dad38",
   "metadata": {
    "id": "a3d58a113dad38"
   },
   "source": [
    "Podemos ver el pésimo formato de los números del teléfono. Existen también algunos con longitud de 7 dígitos, lo que implica que son números de teléfono de antes del 2000."
   ]
  },
  {
   "cell_type": "markdown",
   "id": "d57bcf90697fb065",
   "metadata": {
    "id": "d57bcf90697fb065"
   },
   "source": [
    "Hay números de teléfono separados por '-', '  ' o ', ', se elimina este carácter para los números con longitud de 8 dígitos (XXXX-XXXX) y para los de 7 (XXX-XXXX)"
   ]
  },
  {
   "cell_type": "code",
   "id": "58e46507db006606",
   "metadata": {
    "id": "58e46507db006606",
    "ExecuteTime": {
     "end_time": "2024-08-12T22:06:02.245064Z",
     "start_time": "2024-08-12T22:06:02.227536Z"
    }
   },
   "source": [
    "df['TELEFONO'] = df['TELEFONO'].apply(\n",
    "    lambda x:\n",
    "    x.split('/')[0]\n",
    "    if len(x.split('/')[0]) in [8, 7]\n",
    "    else x\n",
    ")"
   ],
   "outputs": [
    {
     "ename": "NameError",
     "evalue": "name 'df' is not defined",
     "output_type": "error",
     "traceback": [
      "\u001B[1;31m---------------------------------------------------------------------------\u001B[0m",
      "\u001B[1;31mNameError\u001B[0m                                 Traceback (most recent call last)",
      "Cell \u001B[1;32mIn[93], line 1\u001B[0m\n\u001B[1;32m----> 1\u001B[0m df[\u001B[38;5;124m'\u001B[39m\u001B[38;5;124mTELEFONO\u001B[39m\u001B[38;5;124m'\u001B[39m] \u001B[38;5;241m=\u001B[39m \u001B[43mdf\u001B[49m[\u001B[38;5;124m'\u001B[39m\u001B[38;5;124mTELEFONO\u001B[39m\u001B[38;5;124m'\u001B[39m]\u001B[38;5;241m.\u001B[39mapply(\n\u001B[0;32m      2\u001B[0m     \u001B[38;5;28;01mlambda\u001B[39;00m x:\n\u001B[0;32m      3\u001B[0m     x\u001B[38;5;241m.\u001B[39msplit(\u001B[38;5;124m'\u001B[39m\u001B[38;5;124m/\u001B[39m\u001B[38;5;124m'\u001B[39m)[\u001B[38;5;241m0\u001B[39m]\n\u001B[0;32m      4\u001B[0m     \u001B[38;5;28;01mif\u001B[39;00m \u001B[38;5;28mlen\u001B[39m(x\u001B[38;5;241m.\u001B[39msplit(\u001B[38;5;124m'\u001B[39m\u001B[38;5;124m/\u001B[39m\u001B[38;5;124m'\u001B[39m)[\u001B[38;5;241m0\u001B[39m]) \u001B[38;5;129;01min\u001B[39;00m [\u001B[38;5;241m8\u001B[39m, \u001B[38;5;241m7\u001B[39m]\n\u001B[0;32m      5\u001B[0m     \u001B[38;5;28;01melse\u001B[39;00m x\n\u001B[0;32m      6\u001B[0m )\n",
      "\u001B[1;31mNameError\u001B[0m: name 'df' is not defined"
     ]
    }
   ],
   "execution_count": 93
  },
  {
   "cell_type": "markdown",
   "id": "bc665ebf357d0aef",
   "metadata": {
    "id": "bc665ebf357d0aef"
   },
   "source": [
    "Si el número se encuentra dividido por partes, lo unimos"
   ]
  },
  {
   "cell_type": "code",
   "id": "9d165c256050fda7",
   "metadata": {
    "id": "9d165c256050fda7",
    "ExecuteTime": {
     "end_time": "2024-08-12T22:06:02.323009Z",
     "start_time": "2024-08-12T22:06:02.301798Z"
    }
   },
   "source": [
    "df['TELEFONO'] = df['TELEFONO'].apply(\n",
    "    lambda x:\n",
    "    x.replace('-', '')\n",
    "    if len(x.split('-')) == 2 and len(x.split('-')[0]) in [3, 4] and len(x.split('-')[1]) == 4\n",
    "    else x\n",
    ")"
   ],
   "outputs": [
    {
     "ename": "NameError",
     "evalue": "name 'df' is not defined",
     "output_type": "error",
     "traceback": [
      "\u001B[1;31m---------------------------------------------------------------------------\u001B[0m",
      "\u001B[1;31mNameError\u001B[0m                                 Traceback (most recent call last)",
      "Cell \u001B[1;32mIn[94], line 1\u001B[0m\n\u001B[1;32m----> 1\u001B[0m df[\u001B[38;5;124m'\u001B[39m\u001B[38;5;124mTELEFONO\u001B[39m\u001B[38;5;124m'\u001B[39m] \u001B[38;5;241m=\u001B[39m \u001B[43mdf\u001B[49m[\u001B[38;5;124m'\u001B[39m\u001B[38;5;124mTELEFONO\u001B[39m\u001B[38;5;124m'\u001B[39m]\u001B[38;5;241m.\u001B[39mapply(\n\u001B[0;32m      2\u001B[0m     \u001B[38;5;28;01mlambda\u001B[39;00m x:\n\u001B[0;32m      3\u001B[0m     x\u001B[38;5;241m.\u001B[39mreplace(\u001B[38;5;124m'\u001B[39m\u001B[38;5;124m-\u001B[39m\u001B[38;5;124m'\u001B[39m, \u001B[38;5;124m'\u001B[39m\u001B[38;5;124m'\u001B[39m)\n\u001B[0;32m      4\u001B[0m     \u001B[38;5;28;01mif\u001B[39;00m \u001B[38;5;28mlen\u001B[39m(x\u001B[38;5;241m.\u001B[39msplit(\u001B[38;5;124m'\u001B[39m\u001B[38;5;124m-\u001B[39m\u001B[38;5;124m'\u001B[39m)) \u001B[38;5;241m==\u001B[39m \u001B[38;5;241m2\u001B[39m \u001B[38;5;129;01mand\u001B[39;00m \u001B[38;5;28mlen\u001B[39m(x\u001B[38;5;241m.\u001B[39msplit(\u001B[38;5;124m'\u001B[39m\u001B[38;5;124m-\u001B[39m\u001B[38;5;124m'\u001B[39m)[\u001B[38;5;241m0\u001B[39m]) \u001B[38;5;129;01min\u001B[39;00m [\u001B[38;5;241m3\u001B[39m, \u001B[38;5;241m4\u001B[39m] \u001B[38;5;129;01mand\u001B[39;00m \u001B[38;5;28mlen\u001B[39m(x\u001B[38;5;241m.\u001B[39msplit(\u001B[38;5;124m'\u001B[39m\u001B[38;5;124m-\u001B[39m\u001B[38;5;124m'\u001B[39m)[\u001B[38;5;241m1\u001B[39m]) \u001B[38;5;241m==\u001B[39m \u001B[38;5;241m4\u001B[39m\n\u001B[0;32m      5\u001B[0m     \u001B[38;5;28;01melse\u001B[39;00m x\n\u001B[0;32m      6\u001B[0m )\n",
      "\u001B[1;31mNameError\u001B[0m: name 'df' is not defined"
     ]
    }
   ],
   "execution_count": 94
  },
  {
   "cell_type": "markdown",
   "id": "_DAPYou5w7QK",
   "metadata": {
    "id": "_DAPYou5w7QK"
   },
   "source": [
    "Función que realiza el procesado de números alternativos si es que existe más de un número en la celda, ya sea separado por un espacio en blanco, un guion o una coma."
   ]
  },
  {
   "cell_type": "code",
   "id": "xbdlYQ3fwYou",
   "metadata": {
    "id": "xbdlYQ3fwYou",
    "ExecuteTime": {
     "end_time": "2024-08-12T22:06:02.456527Z",
     "start_time": "2024-08-12T22:06:02.450152Z"
    }
   },
   "source": [
    "def extract_phones(phone_str):\n",
    "\n",
    "    phones = re.split(r'[\\s,/-]+', phone_str)\n",
    "    valid_phones = [phone for phone in phones if len(phone) in [7, 8]]\n",
    "    primary_phone = valid_phones[0] if valid_phones else ''\n",
    "    alt_phones = valid_phones[1:] if len(valid_phones) > 1 else []\n",
    "\n",
    "    return primary_phone, alt_phones"
   ],
   "outputs": [],
   "execution_count": 95
  },
  {
   "cell_type": "code",
   "id": "U-YEyjF3wdWi",
   "metadata": {
    "id": "U-YEyjF3wdWi",
    "ExecuteTime": {
     "end_time": "2024-08-12T22:06:02.573955Z",
     "start_time": "2024-08-12T22:06:02.555244Z"
    }
   },
   "source": [
    "df['TELEFONO'], df['TELEFONO_ALT'] = zip(*df['TELEFONO'].apply(extract_phones))"
   ],
   "outputs": [
    {
     "ename": "NameError",
     "evalue": "name 'df' is not defined",
     "output_type": "error",
     "traceback": [
      "\u001B[1;31m---------------------------------------------------------------------------\u001B[0m",
      "\u001B[1;31mNameError\u001B[0m                                 Traceback (most recent call last)",
      "Cell \u001B[1;32mIn[96], line 1\u001B[0m\n\u001B[1;32m----> 1\u001B[0m df[\u001B[38;5;124m'\u001B[39m\u001B[38;5;124mTELEFONO\u001B[39m\u001B[38;5;124m'\u001B[39m], df[\u001B[38;5;124m'\u001B[39m\u001B[38;5;124mTELEFONO_ALT\u001B[39m\u001B[38;5;124m'\u001B[39m] \u001B[38;5;241m=\u001B[39m \u001B[38;5;28mzip\u001B[39m(\u001B[38;5;241m*\u001B[39m\u001B[43mdf\u001B[49m[\u001B[38;5;124m'\u001B[39m\u001B[38;5;124mTELEFONO\u001B[39m\u001B[38;5;124m'\u001B[39m]\u001B[38;5;241m.\u001B[39mapply(extract_phones))\n",
      "\u001B[1;31mNameError\u001B[0m: name 'df' is not defined"
     ]
    }
   ],
   "execution_count": 96
  },
  {
   "cell_type": "markdown",
   "id": "jZJwY1Y5xTkk",
   "metadata": {
    "id": "jZJwY1Y5xTkk"
   },
   "source": [
    "Dado que puede existir más de un teléfono alternativo la separacion de estos se estadariza usando comas."
   ]
  },
  {
   "cell_type": "code",
   "id": "7fO3CzsOwgak",
   "metadata": {
    "id": "7fO3CzsOwgak",
    "ExecuteTime": {
     "end_time": "2024-08-12T22:06:02.791511Z",
     "start_time": "2024-08-12T22:06:02.768837Z"
    }
   },
   "source": [
    "df['TELEFONO_ALT'] = df['TELEFONO_ALT'].apply(lambda x: ','.join(x) if x else -1)"
   ],
   "outputs": [
    {
     "ename": "NameError",
     "evalue": "name 'df' is not defined",
     "output_type": "error",
     "traceback": [
      "\u001B[1;31m---------------------------------------------------------------------------\u001B[0m",
      "\u001B[1;31mNameError\u001B[0m                                 Traceback (most recent call last)",
      "Cell \u001B[1;32mIn[97], line 1\u001B[0m\n\u001B[1;32m----> 1\u001B[0m df[\u001B[38;5;124m'\u001B[39m\u001B[38;5;124mTELEFONO_ALT\u001B[39m\u001B[38;5;124m'\u001B[39m] \u001B[38;5;241m=\u001B[39m \u001B[43mdf\u001B[49m[\u001B[38;5;124m'\u001B[39m\u001B[38;5;124mTELEFONO_ALT\u001B[39m\u001B[38;5;124m'\u001B[39m]\u001B[38;5;241m.\u001B[39mapply(\u001B[38;5;28;01mlambda\u001B[39;00m x: \u001B[38;5;124m'\u001B[39m\u001B[38;5;124m,\u001B[39m\u001B[38;5;124m'\u001B[39m\u001B[38;5;241m.\u001B[39mjoin(x) \u001B[38;5;28;01mif\u001B[39;00m x \u001B[38;5;28;01melse\u001B[39;00m \u001B[38;5;241m-\u001B[39m\u001B[38;5;241m1\u001B[39m)\n",
      "\u001B[1;31mNameError\u001B[0m: name 'df' is not defined"
     ]
    }
   ],
   "execution_count": 97
  },
  {
   "cell_type": "markdown",
   "id": "3d362b4a7e7298d8",
   "metadata": {
    "id": "3d362b4a7e7298d8"
   },
   "source": [
    "Ahora, la columna de número de teléfono puede ser numérica, los valores nulos se representan con -1"
   ]
  },
  {
   "cell_type": "code",
   "id": "bb56dfb66367b5fa",
   "metadata": {
    "id": "bb56dfb66367b5fa",
    "ExecuteTime": {
     "end_time": "2024-08-12T22:06:02.862094Z",
     "start_time": "2024-08-12T22:06:02.841554Z"
    }
   },
   "source": [
    "df['TELEFONO'] = df['TELEFONO'].replace('', -1).astype(int)\n",
    "df['TELEFONO_ALT'] = df['TELEFONO_ALT'].replace('', -1)"
   ],
   "outputs": [
    {
     "ename": "NameError",
     "evalue": "name 'df' is not defined",
     "output_type": "error",
     "traceback": [
      "\u001B[1;31m---------------------------------------------------------------------------\u001B[0m",
      "\u001B[1;31mNameError\u001B[0m                                 Traceback (most recent call last)",
      "Cell \u001B[1;32mIn[98], line 1\u001B[0m\n\u001B[1;32m----> 1\u001B[0m df[\u001B[38;5;124m'\u001B[39m\u001B[38;5;124mTELEFONO\u001B[39m\u001B[38;5;124m'\u001B[39m] \u001B[38;5;241m=\u001B[39m \u001B[43mdf\u001B[49m[\u001B[38;5;124m'\u001B[39m\u001B[38;5;124mTELEFONO\u001B[39m\u001B[38;5;124m'\u001B[39m]\u001B[38;5;241m.\u001B[39mreplace(\u001B[38;5;124m'\u001B[39m\u001B[38;5;124m'\u001B[39m, \u001B[38;5;241m-\u001B[39m\u001B[38;5;241m1\u001B[39m)\u001B[38;5;241m.\u001B[39mastype(\u001B[38;5;28mint\u001B[39m)\n\u001B[0;32m      2\u001B[0m df[\u001B[38;5;124m'\u001B[39m\u001B[38;5;124mTELEFONO_ALT\u001B[39m\u001B[38;5;124m'\u001B[39m] \u001B[38;5;241m=\u001B[39m df[\u001B[38;5;124m'\u001B[39m\u001B[38;5;124mTELEFONO_ALT\u001B[39m\u001B[38;5;124m'\u001B[39m]\u001B[38;5;241m.\u001B[39mreplace(\u001B[38;5;124m'\u001B[39m\u001B[38;5;124m'\u001B[39m, \u001B[38;5;241m-\u001B[39m\u001B[38;5;241m1\u001B[39m)\n",
      "\u001B[1;31mNameError\u001B[0m: name 'df' is not defined"
     ]
    }
   ],
   "execution_count": 98
  },
  {
   "cell_type": "markdown",
   "id": "55YyXAnXxo5K",
   "metadata": {
    "id": "55YyXAnXxo5K"
   },
   "source": [
    "Se verifica que no existan numeros con una longitud inválida, es decir, que no sea 7 ni 8."
   ]
  },
  {
   "cell_type": "code",
   "id": "f44acdf61fe00e05",
   "metadata": {
    "colab": {
     "base_uri": "https://localhost:8080/",
     "height": 254
    },
    "id": "f44acdf61fe00e05",
    "outputId": "33e5fd4c-bc21-4468-c850-21fafcffa31e",
    "ExecuteTime": {
     "end_time": "2024-08-12T22:06:03.027460Z",
     "start_time": "2024-08-12T22:06:03.009839Z"
    }
   },
   "source": [
    "df[df['TELEFONO'].apply(lambda x: len(str(x)) not in [7, 8] and x != -1)]"
   ],
   "outputs": [
    {
     "ename": "NameError",
     "evalue": "name 'df' is not defined",
     "output_type": "error",
     "traceback": [
      "\u001B[1;31m---------------------------------------------------------------------------\u001B[0m",
      "\u001B[1;31mNameError\u001B[0m                                 Traceback (most recent call last)",
      "Cell \u001B[1;32mIn[99], line 1\u001B[0m\n\u001B[1;32m----> 1\u001B[0m \u001B[43mdf\u001B[49m[df[\u001B[38;5;124m'\u001B[39m\u001B[38;5;124mTELEFONO\u001B[39m\u001B[38;5;124m'\u001B[39m]\u001B[38;5;241m.\u001B[39mapply(\u001B[38;5;28;01mlambda\u001B[39;00m x: \u001B[38;5;28mlen\u001B[39m(\u001B[38;5;28mstr\u001B[39m(x)) \u001B[38;5;129;01mnot\u001B[39;00m \u001B[38;5;129;01min\u001B[39;00m [\u001B[38;5;241m7\u001B[39m, \u001B[38;5;241m8\u001B[39m] \u001B[38;5;129;01mand\u001B[39;00m x \u001B[38;5;241m!=\u001B[39m \u001B[38;5;241m-\u001B[39m\u001B[38;5;241m1\u001B[39m)]\n",
      "\u001B[1;31mNameError\u001B[0m: name 'df' is not defined"
     ]
    }
   ],
   "execution_count": 99
  },
  {
   "cell_type": "code",
   "id": "w0-Burg3y9kT",
   "metadata": {
    "id": "w0-Burg3y9kT",
    "ExecuteTime": {
     "end_time": "2024-08-12T22:06:03.205097Z",
     "start_time": "2024-08-12T22:06:03.184029Z"
    }
   },
   "source": [
    "df['TELEFONO'] = df['TELEFONO'].apply(lambda x: x if len(str(x)) in [7, 8] else -1)"
   ],
   "outputs": [
    {
     "ename": "NameError",
     "evalue": "name 'df' is not defined",
     "output_type": "error",
     "traceback": [
      "\u001B[1;31m---------------------------------------------------------------------------\u001B[0m",
      "\u001B[1;31mNameError\u001B[0m                                 Traceback (most recent call last)",
      "Cell \u001B[1;32mIn[100], line 1\u001B[0m\n\u001B[1;32m----> 1\u001B[0m df[\u001B[38;5;124m'\u001B[39m\u001B[38;5;124mTELEFONO\u001B[39m\u001B[38;5;124m'\u001B[39m] \u001B[38;5;241m=\u001B[39m \u001B[43mdf\u001B[49m[\u001B[38;5;124m'\u001B[39m\u001B[38;5;124mTELEFONO\u001B[39m\u001B[38;5;124m'\u001B[39m]\u001B[38;5;241m.\u001B[39mapply(\u001B[38;5;28;01mlambda\u001B[39;00m x: x \u001B[38;5;28;01mif\u001B[39;00m \u001B[38;5;28mlen\u001B[39m(\u001B[38;5;28mstr\u001B[39m(x)) \u001B[38;5;129;01min\u001B[39;00m [\u001B[38;5;241m7\u001B[39m, \u001B[38;5;241m8\u001B[39m] \u001B[38;5;28;01melse\u001B[39;00m \u001B[38;5;241m-\u001B[39m\u001B[38;5;241m1\u001B[39m)\n",
      "\u001B[1;31mNameError\u001B[0m: name 'df' is not defined"
     ]
    }
   ],
   "execution_count": 100
  },
  {
   "cell_type": "markdown",
   "id": "hXyj4SyJ1KpF",
   "metadata": {
    "id": "hXyj4SyJ1KpF"
   },
   "source": [
    "Verificar que no existan número de teléfono nulos mientras que sí existen números de teléfono alternativos."
   ]
  },
  {
   "cell_type": "code",
   "id": "XEno0yB51RfY",
   "metadata": {
    "colab": {
     "base_uri": "https://localhost:8080/",
     "height": 170
    },
    "id": "XEno0yB51RfY",
    "outputId": "89863086-36c1-4179-a797-71da2014d2f1",
    "ExecuteTime": {
     "end_time": "2024-08-12T22:06:03.286900Z",
     "start_time": "2024-08-12T22:06:03.270688Z"
    }
   },
   "source": [
    "df[(df['TELEFONO'] == -1) & (df['TELEFONO_ALT'] != -1)]"
   ],
   "outputs": [
    {
     "ename": "NameError",
     "evalue": "name 'df' is not defined",
     "output_type": "error",
     "traceback": [
      "\u001B[1;31m---------------------------------------------------------------------------\u001B[0m",
      "\u001B[1;31mNameError\u001B[0m                                 Traceback (most recent call last)",
      "Cell \u001B[1;32mIn[101], line 1\u001B[0m\n\u001B[1;32m----> 1\u001B[0m \u001B[43mdf\u001B[49m[(df[\u001B[38;5;124m'\u001B[39m\u001B[38;5;124mTELEFONO\u001B[39m\u001B[38;5;124m'\u001B[39m] \u001B[38;5;241m==\u001B[39m \u001B[38;5;241m-\u001B[39m\u001B[38;5;241m1\u001B[39m) \u001B[38;5;241m&\u001B[39m (df[\u001B[38;5;124m'\u001B[39m\u001B[38;5;124mTELEFONO_ALT\u001B[39m\u001B[38;5;124m'\u001B[39m] \u001B[38;5;241m!=\u001B[39m \u001B[38;5;241m-\u001B[39m\u001B[38;5;241m1\u001B[39m)]\n",
      "\u001B[1;31mNameError\u001B[0m: name 'df' is not defined"
     ]
    }
   ],
   "execution_count": 101
  },
  {
   "cell_type": "code",
   "id": "flyomNMg1gLK",
   "metadata": {
    "id": "flyomNMg1gLK",
    "ExecuteTime": {
     "end_time": "2024-08-12T22:06:03.447357Z",
     "start_time": "2024-08-12T22:06:03.430936Z"
    }
   },
   "source": [
    "df.loc[df['TELEFONO'] == -1, 'TELEFONO'] = df.loc[df['TELEFONO'] == -1, 'TELEFONO_ALT'].apply(lambda x: int(x) if x != -1 else -1)"
   ],
   "outputs": [
    {
     "ename": "NameError",
     "evalue": "name 'df' is not defined",
     "output_type": "error",
     "traceback": [
      "\u001B[1;31m---------------------------------------------------------------------------\u001B[0m",
      "\u001B[1;31mNameError\u001B[0m                                 Traceback (most recent call last)",
      "Cell \u001B[1;32mIn[102], line 1\u001B[0m\n\u001B[1;32m----> 1\u001B[0m df\u001B[38;5;241m.\u001B[39mloc[df[\u001B[38;5;124m'\u001B[39m\u001B[38;5;124mTELEFONO\u001B[39m\u001B[38;5;124m'\u001B[39m] \u001B[38;5;241m==\u001B[39m \u001B[38;5;241m-\u001B[39m\u001B[38;5;241m1\u001B[39m, \u001B[38;5;124m'\u001B[39m\u001B[38;5;124mTELEFONO\u001B[39m\u001B[38;5;124m'\u001B[39m] \u001B[38;5;241m=\u001B[39m \u001B[43mdf\u001B[49m\u001B[38;5;241m.\u001B[39mloc[df[\u001B[38;5;124m'\u001B[39m\u001B[38;5;124mTELEFONO\u001B[39m\u001B[38;5;124m'\u001B[39m] \u001B[38;5;241m==\u001B[39m \u001B[38;5;241m-\u001B[39m\u001B[38;5;241m1\u001B[39m, \u001B[38;5;124m'\u001B[39m\u001B[38;5;124mTELEFONO_ALT\u001B[39m\u001B[38;5;124m'\u001B[39m]\u001B[38;5;241m.\u001B[39mapply(\u001B[38;5;28;01mlambda\u001B[39;00m x: \u001B[38;5;28mint\u001B[39m(x) \u001B[38;5;28;01mif\u001B[39;00m x \u001B[38;5;241m!=\u001B[39m \u001B[38;5;241m-\u001B[39m\u001B[38;5;241m1\u001B[39m \u001B[38;5;28;01melse\u001B[39;00m \u001B[38;5;241m-\u001B[39m\u001B[38;5;241m1\u001B[39m)\n",
      "\u001B[1;31mNameError\u001B[0m: name 'df' is not defined"
     ]
    }
   ],
   "execution_count": 102
  },
  {
   "cell_type": "code",
   "id": "1974ae37936720a0",
   "metadata": {
    "colab": {
     "base_uri": "https://localhost:8080/",
     "height": 947
    },
    "id": "1974ae37936720a0",
    "outputId": "a86a58be-3ce3-4228-8cab-ac614e972c98",
    "ExecuteTime": {
     "end_time": "2024-08-12T22:06:03.536519Z",
     "start_time": "2024-08-12T22:06:03.510876Z"
    }
   },
   "source": [
    "df"
   ],
   "outputs": [
    {
     "ename": "NameError",
     "evalue": "name 'df' is not defined",
     "output_type": "error",
     "traceback": [
      "\u001B[1;31m---------------------------------------------------------------------------\u001B[0m",
      "\u001B[1;31mNameError\u001B[0m                                 Traceback (most recent call last)",
      "Cell \u001B[1;32mIn[103], line 1\u001B[0m\n\u001B[1;32m----> 1\u001B[0m \u001B[43mdf\u001B[49m\n",
      "\u001B[1;31mNameError\u001B[0m: name 'df' is not defined"
     ]
    }
   ],
   "execution_count": 103
  },
  {
   "cell_type": "markdown",
   "id": "5800266d",
   "metadata": {},
   "source": [
    "#### SUPERVISOR"
   ]
  },
  {
   "cell_type": "code",
   "id": "d42a9685",
   "metadata": {
    "ExecuteTime": {
     "end_time": "2024-08-12T22:06:03.627032Z",
     "start_time": "2024-08-12T22:06:03.606830Z"
    }
   },
   "source": [
    "df['SUPERVISOR'].isna().sum()"
   ],
   "outputs": [
    {
     "ename": "NameError",
     "evalue": "name 'df' is not defined",
     "output_type": "error",
     "traceback": [
      "\u001B[1;31m---------------------------------------------------------------------------\u001B[0m",
      "\u001B[1;31mNameError\u001B[0m                                 Traceback (most recent call last)",
      "Cell \u001B[1;32mIn[104], line 1\u001B[0m\n\u001B[1;32m----> 1\u001B[0m \u001B[43mdf\u001B[49m[\u001B[38;5;124m'\u001B[39m\u001B[38;5;124mSUPERVISOR\u001B[39m\u001B[38;5;124m'\u001B[39m]\u001B[38;5;241m.\u001B[39misna()\u001B[38;5;241m.\u001B[39msum()\n",
      "\u001B[1;31mNameError\u001B[0m: name 'df' is not defined"
     ]
    }
   ],
   "execution_count": 104
  },
  {
   "cell_type": "code",
   "id": "92bf7c79",
   "metadata": {
    "ExecuteTime": {
     "end_time": "2024-08-12T22:06:03.720785Z",
     "start_time": "2024-08-12T22:06:03.702263Z"
    }
   },
   "source": [
    "df['SUPERVISOR'] = df['SUPERVISOR'].fillna('SIN SUPERVISOR')"
   ],
   "outputs": [
    {
     "ename": "NameError",
     "evalue": "name 'df' is not defined",
     "output_type": "error",
     "traceback": [
      "\u001B[1;31m---------------------------------------------------------------------------\u001B[0m",
      "\u001B[1;31mNameError\u001B[0m                                 Traceback (most recent call last)",
      "Cell \u001B[1;32mIn[105], line 1\u001B[0m\n\u001B[1;32m----> 1\u001B[0m df[\u001B[38;5;124m'\u001B[39m\u001B[38;5;124mSUPERVISOR\u001B[39m\u001B[38;5;124m'\u001B[39m] \u001B[38;5;241m=\u001B[39m \u001B[43mdf\u001B[49m[\u001B[38;5;124m'\u001B[39m\u001B[38;5;124mSUPERVISOR\u001B[39m\u001B[38;5;124m'\u001B[39m]\u001B[38;5;241m.\u001B[39mfillna(\u001B[38;5;124m'\u001B[39m\u001B[38;5;124mSIN SUPERVISOR\u001B[39m\u001B[38;5;124m'\u001B[39m)\n",
      "\u001B[1;31mNameError\u001B[0m: name 'df' is not defined"
     ]
    }
   ],
   "execution_count": 105
  },
  {
   "cell_type": "code",
   "id": "7494d5bc",
   "metadata": {
    "ExecuteTime": {
     "end_time": "2024-08-12T22:06:03.865240Z",
     "start_time": "2024-08-12T22:06:03.847638Z"
    }
   },
   "source": [
    "df['SUPERVISOR'] = df['SUPERVISOR'].str.upper()"
   ],
   "outputs": [
    {
     "ename": "NameError",
     "evalue": "name 'df' is not defined",
     "output_type": "error",
     "traceback": [
      "\u001B[1;31m---------------------------------------------------------------------------\u001B[0m",
      "\u001B[1;31mNameError\u001B[0m                                 Traceback (most recent call last)",
      "Cell \u001B[1;32mIn[106], line 1\u001B[0m\n\u001B[1;32m----> 1\u001B[0m df[\u001B[38;5;124m'\u001B[39m\u001B[38;5;124mSUPERVISOR\u001B[39m\u001B[38;5;124m'\u001B[39m] \u001B[38;5;241m=\u001B[39m \u001B[43mdf\u001B[49m[\u001B[38;5;124m'\u001B[39m\u001B[38;5;124mSUPERVISOR\u001B[39m\u001B[38;5;124m'\u001B[39m]\u001B[38;5;241m.\u001B[39mstr\u001B[38;5;241m.\u001B[39mupper()\n",
      "\u001B[1;31mNameError\u001B[0m: name 'df' is not defined"
     ]
    }
   ],
   "execution_count": 106
  },
  {
   "cell_type": "code",
   "id": "e01ebe8e",
   "metadata": {
    "ExecuteTime": {
     "end_time": "2024-08-12T22:06:04.023455Z",
     "start_time": "2024-08-12T22:06:04.004254Z"
    }
   },
   "source": [
    "df['SUPERVISOR'].isna().sum()"
   ],
   "outputs": [
    {
     "ename": "NameError",
     "evalue": "name 'df' is not defined",
     "output_type": "error",
     "traceback": [
      "\u001B[1;31m---------------------------------------------------------------------------\u001B[0m",
      "\u001B[1;31mNameError\u001B[0m                                 Traceback (most recent call last)",
      "Cell \u001B[1;32mIn[107], line 1\u001B[0m\n\u001B[1;32m----> 1\u001B[0m \u001B[43mdf\u001B[49m[\u001B[38;5;124m'\u001B[39m\u001B[38;5;124mSUPERVISOR\u001B[39m\u001B[38;5;124m'\u001B[39m]\u001B[38;5;241m.\u001B[39misna()\u001B[38;5;241m.\u001B[39msum()\n",
      "\u001B[1;31mNameError\u001B[0m: name 'df' is not defined"
     ]
    }
   ],
   "execution_count": 107
  },
  {
   "cell_type": "markdown",
   "id": "d654fed3",
   "metadata": {},
   "source": [
    "#### DIRECTOR"
   ]
  },
  {
   "cell_type": "code",
   "id": "f6d80e37",
   "metadata": {
    "ExecuteTime": {
     "end_time": "2024-08-12T22:06:04.114342Z",
     "start_time": "2024-08-12T22:06:04.096728Z"
    }
   },
   "source": [
    "df['DIRECTOR'].isna().sum()"
   ],
   "outputs": [
    {
     "ename": "NameError",
     "evalue": "name 'df' is not defined",
     "output_type": "error",
     "traceback": [
      "\u001B[1;31m---------------------------------------------------------------------------\u001B[0m",
      "\u001B[1;31mNameError\u001B[0m                                 Traceback (most recent call last)",
      "Cell \u001B[1;32mIn[108], line 1\u001B[0m\n\u001B[1;32m----> 1\u001B[0m \u001B[43mdf\u001B[49m[\u001B[38;5;124m'\u001B[39m\u001B[38;5;124mDIRECTOR\u001B[39m\u001B[38;5;124m'\u001B[39m]\u001B[38;5;241m.\u001B[39misna()\u001B[38;5;241m.\u001B[39msum()\n",
      "\u001B[1;31mNameError\u001B[0m: name 'df' is not defined"
     ]
    }
   ],
   "execution_count": 108
  },
  {
   "cell_type": "code",
   "id": "f932d222",
   "metadata": {
    "ExecuteTime": {
     "end_time": "2024-08-12T22:06:04.281843Z",
     "start_time": "2024-08-12T22:06:04.263742Z"
    }
   },
   "source": [
    "df['DIRECTOR'] = df['DIRECTOR'].fillna('SIN DIRECTOR')"
   ],
   "outputs": [
    {
     "ename": "NameError",
     "evalue": "name 'df' is not defined",
     "output_type": "error",
     "traceback": [
      "\u001B[1;31m---------------------------------------------------------------------------\u001B[0m",
      "\u001B[1;31mNameError\u001B[0m                                 Traceback (most recent call last)",
      "Cell \u001B[1;32mIn[109], line 1\u001B[0m\n\u001B[1;32m----> 1\u001B[0m df[\u001B[38;5;124m'\u001B[39m\u001B[38;5;124mDIRECTOR\u001B[39m\u001B[38;5;124m'\u001B[39m] \u001B[38;5;241m=\u001B[39m \u001B[43mdf\u001B[49m[\u001B[38;5;124m'\u001B[39m\u001B[38;5;124mDIRECTOR\u001B[39m\u001B[38;5;124m'\u001B[39m]\u001B[38;5;241m.\u001B[39mfillna(\u001B[38;5;124m'\u001B[39m\u001B[38;5;124mSIN DIRECTOR\u001B[39m\u001B[38;5;124m'\u001B[39m)\n",
      "\u001B[1;31mNameError\u001B[0m: name 'df' is not defined"
     ]
    }
   ],
   "execution_count": 109
  },
  {
   "cell_type": "code",
   "id": "96f0c07b",
   "metadata": {
    "ExecuteTime": {
     "end_time": "2024-08-12T22:06:04.430729Z",
     "start_time": "2024-08-12T22:06:04.413368Z"
    }
   },
   "source": [
    "df['DIRECTOR'] = df['DIRECTOR'].str.upper()"
   ],
   "outputs": [
    {
     "ename": "NameError",
     "evalue": "name 'df' is not defined",
     "output_type": "error",
     "traceback": [
      "\u001B[1;31m---------------------------------------------------------------------------\u001B[0m",
      "\u001B[1;31mNameError\u001B[0m                                 Traceback (most recent call last)",
      "Cell \u001B[1;32mIn[110], line 1\u001B[0m\n\u001B[1;32m----> 1\u001B[0m df[\u001B[38;5;124m'\u001B[39m\u001B[38;5;124mDIRECTOR\u001B[39m\u001B[38;5;124m'\u001B[39m] \u001B[38;5;241m=\u001B[39m \u001B[43mdf\u001B[49m[\u001B[38;5;124m'\u001B[39m\u001B[38;5;124mDIRECTOR\u001B[39m\u001B[38;5;124m'\u001B[39m]\u001B[38;5;241m.\u001B[39mstr\u001B[38;5;241m.\u001B[39mupper()\n",
      "\u001B[1;31mNameError\u001B[0m: name 'df' is not defined"
     ]
    }
   ],
   "execution_count": 110
  },
  {
   "cell_type": "markdown",
   "id": "c29cd9ec",
   "metadata": {},
   "source": [
    "#### NIVEL"
   ]
  },
  {
   "cell_type": "code",
   "id": "abe12203",
   "metadata": {
    "ExecuteTime": {
     "end_time": "2024-08-12T22:06:04.509448Z",
     "start_time": "2024-08-12T22:06:04.491505Z"
    }
   },
   "source": [
    "df['NIVEL'].isna().sum()"
   ],
   "outputs": [
    {
     "ename": "NameError",
     "evalue": "name 'df' is not defined",
     "output_type": "error",
     "traceback": [
      "\u001B[1;31m---------------------------------------------------------------------------\u001B[0m",
      "\u001B[1;31mNameError\u001B[0m                                 Traceback (most recent call last)",
      "Cell \u001B[1;32mIn[111], line 1\u001B[0m\n\u001B[1;32m----> 1\u001B[0m \u001B[43mdf\u001B[49m[\u001B[38;5;124m'\u001B[39m\u001B[38;5;124mNIVEL\u001B[39m\u001B[38;5;124m'\u001B[39m]\u001B[38;5;241m.\u001B[39misna()\u001B[38;5;241m.\u001B[39msum()\n",
      "\u001B[1;31mNameError\u001B[0m: name 'df' is not defined"
     ]
    }
   ],
   "execution_count": 111
  },
  {
   "cell_type": "code",
   "id": "9861484b",
   "metadata": {
    "ExecuteTime": {
     "end_time": "2024-08-12T22:06:04.680913Z",
     "start_time": "2024-08-12T22:06:04.660553Z"
    }
   },
   "source": [
    "df['NIVEL'].value_counts()"
   ],
   "outputs": [
    {
     "ename": "NameError",
     "evalue": "name 'df' is not defined",
     "output_type": "error",
     "traceback": [
      "\u001B[1;31m---------------------------------------------------------------------------\u001B[0m",
      "\u001B[1;31mNameError\u001B[0m                                 Traceback (most recent call last)",
      "Cell \u001B[1;32mIn[112], line 1\u001B[0m\n\u001B[1;32m----> 1\u001B[0m \u001B[43mdf\u001B[49m[\u001B[38;5;124m'\u001B[39m\u001B[38;5;124mNIVEL\u001B[39m\u001B[38;5;124m'\u001B[39m]\u001B[38;5;241m.\u001B[39mvalue_counts()\n",
      "\u001B[1;31mNameError\u001B[0m: name 'df' is not defined"
     ]
    }
   ],
   "execution_count": 112
  },
  {
   "cell_type": "markdown",
   "id": "93261cfb",
   "metadata": {},
   "source": [
    "Todos los valores son válidos. Hacemos el one hot encoding y eliminamos la variable original."
   ]
  },
  {
   "cell_type": "code",
   "id": "376ae0ab",
   "metadata": {
    "ExecuteTime": {
     "end_time": "2024-08-12T22:06:04.744037Z",
     "start_time": "2024-08-12T22:06:04.725566Z"
    }
   },
   "source": [
    "df = pd.concat([df, pd.get_dummies(df['NIVEL'], prefix='NIVEL')], axis=1)\n",
    "df = df.drop(columns=['NIVEL'])"
   ],
   "outputs": [
    {
     "ename": "NameError",
     "evalue": "name 'df' is not defined",
     "output_type": "error",
     "traceback": [
      "\u001B[1;31m---------------------------------------------------------------------------\u001B[0m",
      "\u001B[1;31mNameError\u001B[0m                                 Traceback (most recent call last)",
      "Cell \u001B[1;32mIn[113], line 1\u001B[0m\n\u001B[1;32m----> 1\u001B[0m df \u001B[38;5;241m=\u001B[39m pd\u001B[38;5;241m.\u001B[39mconcat([\u001B[43mdf\u001B[49m, pd\u001B[38;5;241m.\u001B[39mget_dummies(df[\u001B[38;5;124m'\u001B[39m\u001B[38;5;124mNIVEL\u001B[39m\u001B[38;5;124m'\u001B[39m], prefix\u001B[38;5;241m=\u001B[39m\u001B[38;5;124m'\u001B[39m\u001B[38;5;124mNIVEL\u001B[39m\u001B[38;5;124m'\u001B[39m)], axis\u001B[38;5;241m=\u001B[39m\u001B[38;5;241m1\u001B[39m)\n\u001B[0;32m      2\u001B[0m df \u001B[38;5;241m=\u001B[39m df\u001B[38;5;241m.\u001B[39mdrop(columns\u001B[38;5;241m=\u001B[39m[\u001B[38;5;124m'\u001B[39m\u001B[38;5;124mNIVEL\u001B[39m\u001B[38;5;124m'\u001B[39m])\n",
      "\u001B[1;31mNameError\u001B[0m: name 'df' is not defined"
     ]
    }
   ],
   "execution_count": 113
  },
  {
   "cell_type": "markdown",
   "id": "30846648",
   "metadata": {},
   "source": [
    "Se puede observar que todos los establecimientos son de nivel diversificado."
   ]
  },
  {
   "cell_type": "markdown",
   "id": "d58ef38e",
   "metadata": {},
   "source": [
    "#### SECTOR"
   ]
  },
  {
   "cell_type": "code",
   "id": "b35abb52",
   "metadata": {
    "ExecuteTime": {
     "end_time": "2024-08-12T22:06:04.927406Z",
     "start_time": "2024-08-12T22:06:04.910251Z"
    }
   },
   "source": [
    "df['SECTOR'].isna().sum()"
   ],
   "outputs": [
    {
     "ename": "NameError",
     "evalue": "name 'df' is not defined",
     "output_type": "error",
     "traceback": [
      "\u001B[1;31m---------------------------------------------------------------------------\u001B[0m",
      "\u001B[1;31mNameError\u001B[0m                                 Traceback (most recent call last)",
      "Cell \u001B[1;32mIn[114], line 1\u001B[0m\n\u001B[1;32m----> 1\u001B[0m \u001B[43mdf\u001B[49m[\u001B[38;5;124m'\u001B[39m\u001B[38;5;124mSECTOR\u001B[39m\u001B[38;5;124m'\u001B[39m]\u001B[38;5;241m.\u001B[39misna()\u001B[38;5;241m.\u001B[39msum()\n",
      "\u001B[1;31mNameError\u001B[0m: name 'df' is not defined"
     ]
    }
   ],
   "execution_count": 114
  },
  {
   "cell_type": "code",
   "id": "62bc2f17",
   "metadata": {
    "ExecuteTime": {
     "end_time": "2024-08-12T22:06:05.029518Z",
     "start_time": "2024-08-12T22:06:05.011488Z"
    }
   },
   "source": [
    "df['SECTOR'].value_counts()"
   ],
   "outputs": [
    {
     "ename": "NameError",
     "evalue": "name 'df' is not defined",
     "output_type": "error",
     "traceback": [
      "\u001B[1;31m---------------------------------------------------------------------------\u001B[0m",
      "\u001B[1;31mNameError\u001B[0m                                 Traceback (most recent call last)",
      "Cell \u001B[1;32mIn[115], line 1\u001B[0m\n\u001B[1;32m----> 1\u001B[0m \u001B[43mdf\u001B[49m[\u001B[38;5;124m'\u001B[39m\u001B[38;5;124mSECTOR\u001B[39m\u001B[38;5;124m'\u001B[39m]\u001B[38;5;241m.\u001B[39mvalue_counts()\n",
      "\u001B[1;31mNameError\u001B[0m: name 'df' is not defined"
     ]
    }
   ],
   "execution_count": 115
  },
  {
   "cell_type": "markdown",
   "id": "8e5cf46d",
   "metadata": {},
   "source": [
    "Se puede observar que todos los establecimientos son de un sector válido."
   ]
  },
  {
   "cell_type": "markdown",
   "id": "b2ef31f2",
   "metadata": {},
   "source": [
    "#### AREA"
   ]
  },
  {
   "cell_type": "code",
   "id": "5166bdbd",
   "metadata": {
    "ExecuteTime": {
     "end_time": "2024-08-12T22:06:05.152753Z",
     "start_time": "2024-08-12T22:06:05.134177Z"
    }
   },
   "source": [
    "df['AREA'].isna().sum()"
   ],
   "outputs": [
    {
     "ename": "NameError",
     "evalue": "name 'df' is not defined",
     "output_type": "error",
     "traceback": [
      "\u001B[1;31m---------------------------------------------------------------------------\u001B[0m",
      "\u001B[1;31mNameError\u001B[0m                                 Traceback (most recent call last)",
      "Cell \u001B[1;32mIn[116], line 1\u001B[0m\n\u001B[1;32m----> 1\u001B[0m \u001B[43mdf\u001B[49m[\u001B[38;5;124m'\u001B[39m\u001B[38;5;124mAREA\u001B[39m\u001B[38;5;124m'\u001B[39m]\u001B[38;5;241m.\u001B[39misna()\u001B[38;5;241m.\u001B[39msum()\n",
      "\u001B[1;31mNameError\u001B[0m: name 'df' is not defined"
     ]
    }
   ],
   "execution_count": 116
  },
  {
   "cell_type": "code",
   "id": "543c018c",
   "metadata": {
    "ExecuteTime": {
     "end_time": "2024-08-12T22:06:05.243746Z",
     "start_time": "2024-08-12T22:06:05.226785Z"
    }
   },
   "source": [
    "df['AREA'].value_counts()"
   ],
   "outputs": [
    {
     "ename": "NameError",
     "evalue": "name 'df' is not defined",
     "output_type": "error",
     "traceback": [
      "\u001B[1;31m---------------------------------------------------------------------------\u001B[0m",
      "\u001B[1;31mNameError\u001B[0m                                 Traceback (most recent call last)",
      "Cell \u001B[1;32mIn[117], line 1\u001B[0m\n\u001B[1;32m----> 1\u001B[0m \u001B[43mdf\u001B[49m[\u001B[38;5;124m'\u001B[39m\u001B[38;5;124mAREA\u001B[39m\u001B[38;5;124m'\u001B[39m]\u001B[38;5;241m.\u001B[39mvalue_counts()\n",
      "\u001B[1;31mNameError\u001B[0m: name 'df' is not defined"
     ]
    }
   ],
   "execution_count": 117
  },
  {
   "cell_type": "markdown",
   "id": "492d1edb",
   "metadata": {},
   "source": [
    "Solamente 2 establecimientos no tienen especificada el área. Esto se reflejará al momento de hacer el one hot encoding."
   ]
  },
  {
   "cell_type": "code",
   "id": "652447c7",
   "metadata": {
    "ExecuteTime": {
     "end_time": "2024-08-12T22:06:05.417653Z",
     "start_time": "2024-08-12T22:06:05.396570Z"
    }
   },
   "source": [
    "df = pd.concat([df, pd.get_dummies(df['AREA'], prefix='AREA')], axis=1)\n",
    "df = df.drop(columns=['AREA', 'AREA_SIN ESPECIFICAR'])"
   ],
   "outputs": [
    {
     "ename": "NameError",
     "evalue": "name 'df' is not defined",
     "output_type": "error",
     "traceback": [
      "\u001B[1;31m---------------------------------------------------------------------------\u001B[0m",
      "\u001B[1;31mNameError\u001B[0m                                 Traceback (most recent call last)",
      "Cell \u001B[1;32mIn[118], line 1\u001B[0m\n\u001B[1;32m----> 1\u001B[0m df \u001B[38;5;241m=\u001B[39m pd\u001B[38;5;241m.\u001B[39mconcat([\u001B[43mdf\u001B[49m, pd\u001B[38;5;241m.\u001B[39mget_dummies(df[\u001B[38;5;124m'\u001B[39m\u001B[38;5;124mAREA\u001B[39m\u001B[38;5;124m'\u001B[39m], prefix\u001B[38;5;241m=\u001B[39m\u001B[38;5;124m'\u001B[39m\u001B[38;5;124mAREA\u001B[39m\u001B[38;5;124m'\u001B[39m)], axis\u001B[38;5;241m=\u001B[39m\u001B[38;5;241m1\u001B[39m)\n\u001B[0;32m      2\u001B[0m df \u001B[38;5;241m=\u001B[39m df\u001B[38;5;241m.\u001B[39mdrop(columns\u001B[38;5;241m=\u001B[39m[\u001B[38;5;124m'\u001B[39m\u001B[38;5;124mAREA\u001B[39m\u001B[38;5;124m'\u001B[39m, \u001B[38;5;124m'\u001B[39m\u001B[38;5;124mAREA_SIN ESPECIFICAR\u001B[39m\u001B[38;5;124m'\u001B[39m])\n",
      "\u001B[1;31mNameError\u001B[0m: name 'df' is not defined"
     ]
    }
   ],
   "execution_count": 118
  },
  {
   "cell_type": "markdown",
   "id": "c370d3a7",
   "metadata": {},
   "source": [
    "#### STATUS"
   ]
  },
  {
   "cell_type": "code",
   "id": "6f6f732a",
   "metadata": {
    "ExecuteTime": {
     "end_time": "2024-08-12T22:06:05.553092Z",
     "start_time": "2024-08-12T22:06:05.535731Z"
    }
   },
   "source": [
    "df['STATUS'].isna().sum()"
   ],
   "outputs": [
    {
     "ename": "NameError",
     "evalue": "name 'df' is not defined",
     "output_type": "error",
     "traceback": [
      "\u001B[1;31m---------------------------------------------------------------------------\u001B[0m",
      "\u001B[1;31mNameError\u001B[0m                                 Traceback (most recent call last)",
      "Cell \u001B[1;32mIn[119], line 1\u001B[0m\n\u001B[1;32m----> 1\u001B[0m \u001B[43mdf\u001B[49m[\u001B[38;5;124m'\u001B[39m\u001B[38;5;124mSTATUS\u001B[39m\u001B[38;5;124m'\u001B[39m]\u001B[38;5;241m.\u001B[39misna()\u001B[38;5;241m.\u001B[39msum()\n",
      "\u001B[1;31mNameError\u001B[0m: name 'df' is not defined"
     ]
    }
   ],
   "execution_count": 119
  },
  {
   "cell_type": "code",
   "id": "c50fc1c5",
   "metadata": {
    "ExecuteTime": {
     "end_time": "2024-08-12T22:06:05.634982Z",
     "start_time": "2024-08-12T22:06:05.610680Z"
    }
   },
   "source": [
    "df['STATUS'].value_counts()"
   ],
   "outputs": [
    {
     "ename": "NameError",
     "evalue": "name 'df' is not defined",
     "output_type": "error",
     "traceback": [
      "\u001B[1;31m---------------------------------------------------------------------------\u001B[0m",
      "\u001B[1;31mNameError\u001B[0m                                 Traceback (most recent call last)",
      "Cell \u001B[1;32mIn[120], line 1\u001B[0m\n\u001B[1;32m----> 1\u001B[0m \u001B[43mdf\u001B[49m[\u001B[38;5;124m'\u001B[39m\u001B[38;5;124mSTATUS\u001B[39m\u001B[38;5;124m'\u001B[39m]\u001B[38;5;241m.\u001B[39mvalue_counts()\n",
      "\u001B[1;31mNameError\u001B[0m: name 'df' is not defined"
     ]
    }
   ],
   "execution_count": 120
  },
  {
   "cell_type": "markdown",
   "id": "3638ae76",
   "metadata": {},
   "source": [
    "Todos los valores son válidos."
   ]
  },
  {
   "cell_type": "markdown",
   "id": "2c873f41",
   "metadata": {},
   "source": [
    "#### MODALIDAD"
   ]
  },
  {
   "cell_type": "code",
   "id": "3277c9b3",
   "metadata": {
    "ExecuteTime": {
     "end_time": "2024-08-12T22:06:05.767301Z",
     "start_time": "2024-08-12T22:06:05.741861Z"
    }
   },
   "source": [
    "df['MODALIDAD'].isna().sum()"
   ],
   "outputs": [
    {
     "ename": "NameError",
     "evalue": "name 'df' is not defined",
     "output_type": "error",
     "traceback": [
      "\u001B[1;31m---------------------------------------------------------------------------\u001B[0m",
      "\u001B[1;31mNameError\u001B[0m                                 Traceback (most recent call last)",
      "Cell \u001B[1;32mIn[121], line 1\u001B[0m\n\u001B[1;32m----> 1\u001B[0m \u001B[43mdf\u001B[49m[\u001B[38;5;124m'\u001B[39m\u001B[38;5;124mMODALIDAD\u001B[39m\u001B[38;5;124m'\u001B[39m]\u001B[38;5;241m.\u001B[39misna()\u001B[38;5;241m.\u001B[39msum()\n",
      "\u001B[1;31mNameError\u001B[0m: name 'df' is not defined"
     ]
    }
   ],
   "execution_count": 121
  },
  {
   "cell_type": "code",
   "id": "37f93fb7",
   "metadata": {
    "ExecuteTime": {
     "end_time": "2024-08-12T22:06:05.834854Z",
     "start_time": "2024-08-12T22:06:05.816190Z"
    }
   },
   "source": [
    "df['MODALIDAD'].value_counts()"
   ],
   "outputs": [
    {
     "ename": "NameError",
     "evalue": "name 'df' is not defined",
     "output_type": "error",
     "traceback": [
      "\u001B[1;31m---------------------------------------------------------------------------\u001B[0m",
      "\u001B[1;31mNameError\u001B[0m                                 Traceback (most recent call last)",
      "Cell \u001B[1;32mIn[122], line 1\u001B[0m\n\u001B[1;32m----> 1\u001B[0m \u001B[43mdf\u001B[49m[\u001B[38;5;124m'\u001B[39m\u001B[38;5;124mMODALIDAD\u001B[39m\u001B[38;5;124m'\u001B[39m]\u001B[38;5;241m.\u001B[39mvalue_counts()\n",
      "\u001B[1;31mNameError\u001B[0m: name 'df' is not defined"
     ]
    }
   ],
   "execution_count": 122
  },
  {
   "cell_type": "markdown",
   "id": "77b2082c",
   "metadata": {},
   "source": [
    "Dado que representa un valor numérico de los idiomas enseñados en la institución, se reemplaza por una variable ``MODALIDAD_NUM_IDIOMAS`` y se elimina la variable original."
   ]
  },
  {
   "cell_type": "code",
   "id": "6eec3bb4",
   "metadata": {
    "ExecuteTime": {
     "end_time": "2024-08-12T22:06:05.984210Z",
     "start_time": "2024-08-12T22:06:05.962473Z"
    }
   },
   "source": [
    "df['MODALIDAD'] = df['MODALIDAD'].map({'MONOLINGUE': 1, 'BILINGUE': 2})\n",
    "df = df.rename(columns={'MODALIDAD': 'MODALIDAD_NUM_IDIOMAS'})"
   ],
   "outputs": [
    {
     "ename": "NameError",
     "evalue": "name 'df' is not defined",
     "output_type": "error",
     "traceback": [
      "\u001B[1;31m---------------------------------------------------------------------------\u001B[0m",
      "\u001B[1;31mNameError\u001B[0m                                 Traceback (most recent call last)",
      "Cell \u001B[1;32mIn[123], line 1\u001B[0m\n\u001B[1;32m----> 1\u001B[0m df[\u001B[38;5;124m'\u001B[39m\u001B[38;5;124mMODALIDAD\u001B[39m\u001B[38;5;124m'\u001B[39m] \u001B[38;5;241m=\u001B[39m \u001B[43mdf\u001B[49m[\u001B[38;5;124m'\u001B[39m\u001B[38;5;124mMODALIDAD\u001B[39m\u001B[38;5;124m'\u001B[39m]\u001B[38;5;241m.\u001B[39mmap({\u001B[38;5;124m'\u001B[39m\u001B[38;5;124mMONOLINGUE\u001B[39m\u001B[38;5;124m'\u001B[39m: \u001B[38;5;241m1\u001B[39m, \u001B[38;5;124m'\u001B[39m\u001B[38;5;124mBILINGUE\u001B[39m\u001B[38;5;124m'\u001B[39m: \u001B[38;5;241m2\u001B[39m})\n\u001B[0;32m      2\u001B[0m df \u001B[38;5;241m=\u001B[39m df\u001B[38;5;241m.\u001B[39mrename(columns\u001B[38;5;241m=\u001B[39m{\u001B[38;5;124m'\u001B[39m\u001B[38;5;124mMODALIDAD\u001B[39m\u001B[38;5;124m'\u001B[39m: \u001B[38;5;124m'\u001B[39m\u001B[38;5;124mMODALIDAD_NUM_IDIOMAS\u001B[39m\u001B[38;5;124m'\u001B[39m})\n",
      "\u001B[1;31mNameError\u001B[0m: name 'df' is not defined"
     ]
    }
   ],
   "execution_count": 123
  },
  {
   "cell_type": "markdown",
   "id": "7d21d14c",
   "metadata": {},
   "source": [
    "#### JORNADA"
   ]
  },
  {
   "cell_type": "code",
   "id": "30d6b5df",
   "metadata": {
    "ExecuteTime": {
     "end_time": "2024-08-12T22:06:06.050232Z",
     "start_time": "2024-08-12T22:06:06.026236Z"
    }
   },
   "source": [
    "df['JORNADA'].isna().sum()"
   ],
   "outputs": [
    {
     "ename": "NameError",
     "evalue": "name 'df' is not defined",
     "output_type": "error",
     "traceback": [
      "\u001B[1;31m---------------------------------------------------------------------------\u001B[0m",
      "\u001B[1;31mNameError\u001B[0m                                 Traceback (most recent call last)",
      "Cell \u001B[1;32mIn[124], line 1\u001B[0m\n\u001B[1;32m----> 1\u001B[0m \u001B[43mdf\u001B[49m[\u001B[38;5;124m'\u001B[39m\u001B[38;5;124mJORNADA\u001B[39m\u001B[38;5;124m'\u001B[39m]\u001B[38;5;241m.\u001B[39misna()\u001B[38;5;241m.\u001B[39msum()\n",
      "\u001B[1;31mNameError\u001B[0m: name 'df' is not defined"
     ]
    }
   ],
   "execution_count": 124
  },
  {
   "cell_type": "code",
   "id": "8d4640c4",
   "metadata": {
    "ExecuteTime": {
     "end_time": "2024-08-12T22:06:06.181209Z",
     "start_time": "2024-08-12T22:06:06.158624Z"
    }
   },
   "source": [
    "df['JORNADA'].value_counts()"
   ],
   "outputs": [
    {
     "ename": "NameError",
     "evalue": "name 'df' is not defined",
     "output_type": "error",
     "traceback": [
      "\u001B[1;31m---------------------------------------------------------------------------\u001B[0m",
      "\u001B[1;31mNameError\u001B[0m                                 Traceback (most recent call last)",
      "Cell \u001B[1;32mIn[125], line 1\u001B[0m\n\u001B[1;32m----> 1\u001B[0m \u001B[43mdf\u001B[49m[\u001B[38;5;124m'\u001B[39m\u001B[38;5;124mJORNADA\u001B[39m\u001B[38;5;124m'\u001B[39m]\u001B[38;5;241m.\u001B[39mvalue_counts()\n",
      "\u001B[1;31mNameError\u001B[0m: name 'df' is not defined"
     ]
    }
   ],
   "execution_count": 125
  },
  {
   "cell_type": "markdown",
   "id": "965b8f93",
   "metadata": {},
   "source": [
    "Todos los valores son válidos."
   ]
  },
  {
   "cell_type": "markdown",
   "id": "88a71bed",
   "metadata": {},
   "source": [
    "#### PLAN"
   ]
  },
  {
   "cell_type": "code",
   "id": "04810144",
   "metadata": {
    "ExecuteTime": {
     "end_time": "2024-08-12T22:06:06.274700Z",
     "start_time": "2024-08-12T22:06:06.253257Z"
    }
   },
   "source": [
    "df['PLAN'].isna().sum()"
   ],
   "outputs": [
    {
     "ename": "NameError",
     "evalue": "name 'df' is not defined",
     "output_type": "error",
     "traceback": [
      "\u001B[1;31m---------------------------------------------------------------------------\u001B[0m",
      "\u001B[1;31mNameError\u001B[0m                                 Traceback (most recent call last)",
      "Cell \u001B[1;32mIn[126], line 1\u001B[0m\n\u001B[1;32m----> 1\u001B[0m \u001B[43mdf\u001B[49m[\u001B[38;5;124m'\u001B[39m\u001B[38;5;124mPLAN\u001B[39m\u001B[38;5;124m'\u001B[39m]\u001B[38;5;241m.\u001B[39misna()\u001B[38;5;241m.\u001B[39msum()\n",
      "\u001B[1;31mNameError\u001B[0m: name 'df' is not defined"
     ]
    }
   ],
   "execution_count": 126
  },
  {
   "cell_type": "code",
   "id": "8078d626",
   "metadata": {
    "ExecuteTime": {
     "end_time": "2024-08-12T22:06:06.434677Z",
     "start_time": "2024-08-12T22:06:06.417858Z"
    }
   },
   "source": [
    "df['PLAN'].value_counts()"
   ],
   "outputs": [
    {
     "ename": "NameError",
     "evalue": "name 'df' is not defined",
     "output_type": "error",
     "traceback": [
      "\u001B[1;31m---------------------------------------------------------------------------\u001B[0m",
      "\u001B[1;31mNameError\u001B[0m                                 Traceback (most recent call last)",
      "Cell \u001B[1;32mIn[127], line 1\u001B[0m\n\u001B[1;32m----> 1\u001B[0m \u001B[43mdf\u001B[49m[\u001B[38;5;124m'\u001B[39m\u001B[38;5;124mPLAN\u001B[39m\u001B[38;5;124m'\u001B[39m]\u001B[38;5;241m.\u001B[39mvalue_counts()\n",
      "\u001B[1;31mNameError\u001B[0m: name 'df' is not defined"
     ]
    }
   ],
   "execution_count": 127
  },
  {
   "cell_type": "markdown",
   "id": "4c44edb9",
   "metadata": {},
   "source": [
    "Todos los valores son válidos."
   ]
  },
  {
   "cell_type": "markdown",
   "id": "821e865c",
   "metadata": {},
   "source": [
    "#### DEPARTAMENTAL"
   ]
  },
  {
   "cell_type": "code",
   "id": "6054e085",
   "metadata": {
    "ExecuteTime": {
     "end_time": "2024-08-12T22:06:06.548396Z",
     "start_time": "2024-08-12T22:06:06.531332Z"
    }
   },
   "source": [
    "df['DEPARTAMENTAL'].isna().sum()"
   ],
   "outputs": [
    {
     "ename": "NameError",
     "evalue": "name 'df' is not defined",
     "output_type": "error",
     "traceback": [
      "\u001B[1;31m---------------------------------------------------------------------------\u001B[0m",
      "\u001B[1;31mNameError\u001B[0m                                 Traceback (most recent call last)",
      "Cell \u001B[1;32mIn[128], line 1\u001B[0m\n\u001B[1;32m----> 1\u001B[0m \u001B[43mdf\u001B[49m[\u001B[38;5;124m'\u001B[39m\u001B[38;5;124mDEPARTAMENTAL\u001B[39m\u001B[38;5;124m'\u001B[39m]\u001B[38;5;241m.\u001B[39misna()\u001B[38;5;241m.\u001B[39msum()\n",
      "\u001B[1;31mNameError\u001B[0m: name 'df' is not defined"
     ]
    }
   ],
   "execution_count": 128
  },
  {
   "cell_type": "code",
   "id": "044c697a",
   "metadata": {
    "ExecuteTime": {
     "end_time": "2024-08-12T22:06:06.702258Z",
     "start_time": "2024-08-12T22:06:06.684570Z"
    }
   },
   "source": [
    "df['DEPARTAMENTAL'].value_counts()"
   ],
   "outputs": [
    {
     "ename": "NameError",
     "evalue": "name 'df' is not defined",
     "output_type": "error",
     "traceback": [
      "\u001B[1;31m---------------------------------------------------------------------------\u001B[0m",
      "\u001B[1;31mNameError\u001B[0m                                 Traceback (most recent call last)",
      "Cell \u001B[1;32mIn[129], line 1\u001B[0m\n\u001B[1;32m----> 1\u001B[0m \u001B[43mdf\u001B[49m[\u001B[38;5;124m'\u001B[39m\u001B[38;5;124mDEPARTAMENTAL\u001B[39m\u001B[38;5;124m'\u001B[39m]\u001B[38;5;241m.\u001B[39mvalue_counts()\n",
      "\u001B[1;31mNameError\u001B[0m: name 'df' is not defined"
     ]
    }
   ],
   "execution_count": 129
  },
  {
   "cell_type": "markdown",
   "id": "c47ad385",
   "metadata": {},
   "source": [
    "Todos los valores son válidos."
   ]
  },
  {
   "cell_type": "markdown",
   "id": "48b86c04",
   "metadata": {},
   "source": [
    "### Exportación de Datos"
   ]
  },
  {
   "cell_type": "code",
   "id": "e95e643e",
   "metadata": {
    "ExecuteTime": {
     "end_time": "2024-08-12T22:06:06.788290Z",
     "start_time": "2024-08-12T22:06:06.772272Z"
    }
   },
   "source": [
    "df.head()"
   ],
   "outputs": [
    {
     "ename": "NameError",
     "evalue": "name 'df' is not defined",
     "output_type": "error",
     "traceback": [
      "\u001B[1;31m---------------------------------------------------------------------------\u001B[0m",
      "\u001B[1;31mNameError\u001B[0m                                 Traceback (most recent call last)",
      "Cell \u001B[1;32mIn[130], line 1\u001B[0m\n\u001B[1;32m----> 1\u001B[0m \u001B[43mdf\u001B[49m\u001B[38;5;241m.\u001B[39mhead()\n",
      "\u001B[1;31mNameError\u001B[0m: name 'df' is not defined"
     ]
    }
   ],
   "execution_count": 130
  },
  {
   "cell_type": "markdown",
   "id": "ac1356db",
   "metadata": {},
   "source": [
    "Exportamos los datos limpios a un archivo CSV."
   ]
  },
  {
   "cell_type": "code",
   "id": "84282f00",
   "metadata": {
    "jupyter": {
     "is_executing": true
    }
   },
   "source": [
    "df.to_csv('data/clean.csv', index=False)"
   ],
   "outputs": [],
   "execution_count": null
  }
 ],
 "metadata": {
  "colab": {
   "provenance": []
  },
  "kernelspec": {
   "display_name": "Python 3",
   "language": "python",
   "name": "python3"
  },
  "language_info": {
   "codemirror_mode": {
    "name": "ipython",
    "version": 3
   },
   "file_extension": ".py",
   "mimetype": "text/x-python",
   "name": "python",
   "nbconvert_exporter": "python",
   "pygments_lexer": "ipython3",
   "version": "3.9.0"
  }
 },
 "nbformat": 4,
 "nbformat_minor": 5
}

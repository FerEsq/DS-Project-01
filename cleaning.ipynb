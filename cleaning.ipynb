{
  "cells": [
    {
      "cell_type": "markdown",
      "id": "c90f4295f6eeb9b4",
      "metadata": {
        "id": "c90f4295f6eeb9b4"
      },
      "source": [
        "# Obtención y Limpieza de Datos"
      ]
    },
    {
      "cell_type": "code",
      "execution_count": 3,
      "id": "initial_id",
      "metadata": {
        "ExecuteTime": {
          "end_time": "2024-08-04T21:13:13.136695Z",
          "start_time": "2024-08-04T21:13:13.132808Z"
        },
        "collapsed": true,
        "id": "initial_id"
      },
      "outputs": [],
      "source": [
        "import pandas as pd\n",
        "import numpy as np\n",
        "import matplotlib.pyplot as plt\n",
        "import seaborn as sns\n",
        "import re"
      ]
    },
    {
      "cell_type": "markdown",
      "id": "f0679602a9af8689",
      "metadata": {
        "id": "f0679602a9af8689"
      },
      "source": [
        "## Obtención de datos\n",
        "Los datos fueron obtenidos de la página de [Ministerio de Educación](http://www.mineduc.gob.gt/BUSCAESTABLECIMIENTO_GE/). Los datos representan todas las instituciones escolares (con diversificado) a todo el nivel nacional. Descargados en ``data/raw`` y juntados en un solo archivo llamado ``dataframe.xlsx``."
      ]
    },
    {
      "cell_type": "markdown",
      "id": "e5649c342a16daf",
      "metadata": {
        "id": "e5649c342a16daf"
      },
      "source": [
        "## Limpieza de datos"
      ]
    },
    {
      "cell_type": "code",
      "execution_count": 4,
      "id": "81c10c3acef4ce8f",
      "metadata": {
        "ExecuteTime": {
          "end_time": "2024-08-04T21:13:16.233192Z",
          "start_time": "2024-08-04T21:13:13.563704Z"
        },
        "colab": {
          "base_uri": "https://localhost:8080/",
          "height": 504
        },
        "id": "81c10c3acef4ce8f",
        "outputId": "5223d693-bd96-4884-d11a-3abd8a568131"
      },
      "outputs": [
        {
          "data": {
            "text/html": [
              "<div>\n",
              "<style scoped>\n",
              "    .dataframe tbody tr th:only-of-type {\n",
              "        vertical-align: middle;\n",
              "    }\n",
              "\n",
              "    .dataframe tbody tr th {\n",
              "        vertical-align: top;\n",
              "    }\n",
              "\n",
              "    .dataframe thead th {\n",
              "        text-align: right;\n",
              "    }\n",
              "</style>\n",
              "<table border=\"1\" class=\"dataframe\">\n",
              "  <thead>\n",
              "    <tr style=\"text-align: right;\">\n",
              "      <th></th>\n",
              "      <th>CODIGO</th>\n",
              "      <th>DISTRITO</th>\n",
              "      <th>DEPARTAMENTO</th>\n",
              "      <th>MUNICIPIO</th>\n",
              "      <th>ESTABLECIMIENTO</th>\n",
              "      <th>DIRECCION</th>\n",
              "      <th>TELEFONO</th>\n",
              "      <th>SUPERVISOR</th>\n",
              "      <th>DIRECTOR</th>\n",
              "      <th>NIVEL</th>\n",
              "      <th>SECTOR</th>\n",
              "      <th>AREA</th>\n",
              "      <th>STATUS</th>\n",
              "      <th>MODALIDAD</th>\n",
              "      <th>JORNADA</th>\n",
              "      <th>PLAN</th>\n",
              "      <th>DEPARTAMENTAL</th>\n",
              "    </tr>\n",
              "  </thead>\n",
              "  <tbody>\n",
              "    <tr>\n",
              "      <th>0</th>\n",
              "      <td>16-01-0138-46</td>\n",
              "      <td>16-031</td>\n",
              "      <td>ALTA VERAPAZ</td>\n",
              "      <td>COBAN</td>\n",
              "      <td>COLEGIO COBAN</td>\n",
              "      <td>KM.2 SALIDA A SAN JUAN CHAMELCO ZONA 8</td>\n",
              "      <td>77945104</td>\n",
              "      <td>MERCEDES JOSEFINA TORRES GALVEZ</td>\n",
              "      <td>GUSTAVO ADOLFO SIERRA POP</td>\n",
              "      <td>DIVERSIFICADO</td>\n",
              "      <td>PRIVADO</td>\n",
              "      <td>URBANA</td>\n",
              "      <td>ABIERTA</td>\n",
              "      <td>MONOLINGUE</td>\n",
              "      <td>MATUTINA</td>\n",
              "      <td>DIARIO(REGULAR)</td>\n",
              "      <td>ALTA VERAPAZ</td>\n",
              "    </tr>\n",
              "    <tr>\n",
              "      <th>1</th>\n",
              "      <td>16-01-0139-46</td>\n",
              "      <td>16-031</td>\n",
              "      <td>ALTA VERAPAZ</td>\n",
              "      <td>COBAN</td>\n",
              "      <td>COLEGIO PARTICULAR MIXTO VERAPAZ</td>\n",
              "      <td>KM 209.5 ENTRADA A LA CIUDAD</td>\n",
              "      <td>77367402</td>\n",
              "      <td>MERCEDES JOSEFINA TORRES GALVEZ</td>\n",
              "      <td>GILMA DOLORES GUAY PAZ DE LEAL</td>\n",
              "      <td>DIVERSIFICADO</td>\n",
              "      <td>PRIVADO</td>\n",
              "      <td>URBANA</td>\n",
              "      <td>ABIERTA</td>\n",
              "      <td>MONOLINGUE</td>\n",
              "      <td>MATUTINA</td>\n",
              "      <td>DIARIO(REGULAR)</td>\n",
              "      <td>ALTA VERAPAZ</td>\n",
              "    </tr>\n",
              "    <tr>\n",
              "      <th>2</th>\n",
              "      <td>16-01-0140-46</td>\n",
              "      <td>16-031</td>\n",
              "      <td>ALTA VERAPAZ</td>\n",
              "      <td>COBAN</td>\n",
              "      <td>COLEGIO \"LA INMACULADA\"</td>\n",
              "      <td>7A. AVENIDA 11-109 ZONA 6</td>\n",
              "      <td>78232301</td>\n",
              "      <td>MERCEDES JOSEFINA TORRES GALVEZ</td>\n",
              "      <td>VIRGINIA SOLANO SERRANO</td>\n",
              "      <td>DIVERSIFICADO</td>\n",
              "      <td>PRIVADO</td>\n",
              "      <td>URBANA</td>\n",
              "      <td>ABIERTA</td>\n",
              "      <td>MONOLINGUE</td>\n",
              "      <td>MATUTINA</td>\n",
              "      <td>DIARIO(REGULAR)</td>\n",
              "      <td>ALTA VERAPAZ</td>\n",
              "    </tr>\n",
              "    <tr>\n",
              "      <th>3</th>\n",
              "      <td>16-01-0141-46</td>\n",
              "      <td>16-005</td>\n",
              "      <td>ALTA VERAPAZ</td>\n",
              "      <td>COBAN</td>\n",
              "      <td>ESCUELA NACIONAL DE CIENCIAS COMERCIALES</td>\n",
              "      <td>2A CALLE 11-10 ZONA 2</td>\n",
              "      <td>79514215</td>\n",
              "      <td>RUDY ADOLFO TOT OCH</td>\n",
              "      <td>HÉCTOR ROLANDO CHUN POOU</td>\n",
              "      <td>DIVERSIFICADO</td>\n",
              "      <td>OFICIAL</td>\n",
              "      <td>URBANA</td>\n",
              "      <td>ABIERTA</td>\n",
              "      <td>MONOLINGUE</td>\n",
              "      <td>MATUTINA</td>\n",
              "      <td>DIARIO(REGULAR)</td>\n",
              "      <td>ALTA VERAPAZ</td>\n",
              "    </tr>\n",
              "    <tr>\n",
              "      <th>4</th>\n",
              "      <td>16-01-0142-46</td>\n",
              "      <td>16-005</td>\n",
              "      <td>ALTA VERAPAZ</td>\n",
              "      <td>COBAN</td>\n",
              "      <td>INSTITUTO NORMAL MIXTO DEL NORTE 'EMILIO ROSAL...</td>\n",
              "      <td>3A AVE 6-23 ZONA 11</td>\n",
              "      <td>79521468</td>\n",
              "      <td>RUDY ADOLFO TOT OCH</td>\n",
              "      <td>VICTOR HUGO DOMÍNGUEZ REYES</td>\n",
              "      <td>DIVERSIFICADO</td>\n",
              "      <td>OFICIAL</td>\n",
              "      <td>URBANA</td>\n",
              "      <td>ABIERTA</td>\n",
              "      <td>BILINGUE</td>\n",
              "      <td>VESPERTINA</td>\n",
              "      <td>DIARIO(REGULAR)</td>\n",
              "      <td>ALTA VERAPAZ</td>\n",
              "    </tr>\n",
              "  </tbody>\n",
              "</table>\n",
              "</div>"
            ],
            "text/plain": [
              "          CODIGO DISTRITO  DEPARTAMENTO MUNICIPIO  \\\n",
              "0  16-01-0138-46   16-031  ALTA VERAPAZ     COBAN   \n",
              "1  16-01-0139-46   16-031  ALTA VERAPAZ     COBAN   \n",
              "2  16-01-0140-46   16-031  ALTA VERAPAZ     COBAN   \n",
              "3  16-01-0141-46   16-005  ALTA VERAPAZ     COBAN   \n",
              "4  16-01-0142-46   16-005  ALTA VERAPAZ     COBAN   \n",
              "\n",
              "                                     ESTABLECIMIENTO  \\\n",
              "0                                      COLEGIO COBAN   \n",
              "1                   COLEGIO PARTICULAR MIXTO VERAPAZ   \n",
              "2                            COLEGIO \"LA INMACULADA\"   \n",
              "3           ESCUELA NACIONAL DE CIENCIAS COMERCIALES   \n",
              "4  INSTITUTO NORMAL MIXTO DEL NORTE 'EMILIO ROSAL...   \n",
              "\n",
              "                                DIRECCION  TELEFONO  \\\n",
              "0  KM.2 SALIDA A SAN JUAN CHAMELCO ZONA 8  77945104   \n",
              "1            KM 209.5 ENTRADA A LA CIUDAD  77367402   \n",
              "2               7A. AVENIDA 11-109 ZONA 6  78232301   \n",
              "3                   2A CALLE 11-10 ZONA 2  79514215   \n",
              "4                     3A AVE 6-23 ZONA 11  79521468   \n",
              "\n",
              "                        SUPERVISOR                        DIRECTOR  \\\n",
              "0  MERCEDES JOSEFINA TORRES GALVEZ       GUSTAVO ADOLFO SIERRA POP   \n",
              "1  MERCEDES JOSEFINA TORRES GALVEZ  GILMA DOLORES GUAY PAZ DE LEAL   \n",
              "2  MERCEDES JOSEFINA TORRES GALVEZ         VIRGINIA SOLANO SERRANO   \n",
              "3              RUDY ADOLFO TOT OCH        HÉCTOR ROLANDO CHUN POOU   \n",
              "4              RUDY ADOLFO TOT OCH     VICTOR HUGO DOMÍNGUEZ REYES   \n",
              "\n",
              "           NIVEL   SECTOR    AREA   STATUS   MODALIDAD     JORNADA  \\\n",
              "0  DIVERSIFICADO  PRIVADO  URBANA  ABIERTA  MONOLINGUE    MATUTINA   \n",
              "1  DIVERSIFICADO  PRIVADO  URBANA  ABIERTA  MONOLINGUE    MATUTINA   \n",
              "2  DIVERSIFICADO  PRIVADO  URBANA  ABIERTA  MONOLINGUE    MATUTINA   \n",
              "3  DIVERSIFICADO  OFICIAL  URBANA  ABIERTA  MONOLINGUE    MATUTINA   \n",
              "4  DIVERSIFICADO  OFICIAL  URBANA  ABIERTA    BILINGUE  VESPERTINA   \n",
              "\n",
              "              PLAN DEPARTAMENTAL  \n",
              "0  DIARIO(REGULAR)  ALTA VERAPAZ  \n",
              "1  DIARIO(REGULAR)  ALTA VERAPAZ  \n",
              "2  DIARIO(REGULAR)  ALTA VERAPAZ  \n",
              "3  DIARIO(REGULAR)  ALTA VERAPAZ  \n",
              "4  DIARIO(REGULAR)  ALTA VERAPAZ  "
            ]
          },
          "execution_count": 4,
          "metadata": {},
          "output_type": "execute_result"
        }
      ],
      "source": [
        "df = pd.read_excel('data/dataframe.xlsx')\n",
        "df.head()"
      ]
    },
    {
      "cell_type": "markdown",
      "id": "bd5c464e695340a",
      "metadata": {
        "id": "bd5c464e695340a"
      },
      "source": [
        "### Descripción del Set de Datos\n",
        "Los datos incluyen información específica de los diferentes centros educativos en Guatemala con diversificado. Esta información incluye identificadores, ubicación, encargados, contacto y otros datos relevantes."
      ]
    },
    {
      "cell_type": "code",
      "execution_count": 5,
      "id": "1d425913cbedeadf",
      "metadata": {
        "ExecuteTime": {
          "end_time": "2024-08-04T21:13:16.239087Z",
          "start_time": "2024-08-04T21:13:16.234192Z"
        },
        "colab": {
          "base_uri": "https://localhost:8080/"
        },
        "id": "1d425913cbedeadf",
        "outputId": "24744f73-2cf5-4135-8fc9-8e2b138698e5"
      },
      "outputs": [
        {
          "name": "stdout",
          "output_type": "stream",
          "text": [
            "Observaciones: 9332, Variables: 17\n"
          ]
        }
      ],
      "source": [
        "rows, cols = df.shape\n",
        "print(f'Observaciones: {rows}, Variables: {cols}')"
      ]
    },
    {
      "cell_type": "code",
      "execution_count": 6,
      "id": "9ab932b412d8f1a8",
      "metadata": {
        "ExecuteTime": {
          "end_time": "2024-08-04T21:13:16.267992Z",
          "start_time": "2024-08-04T21:13:16.240085Z"
        },
        "colab": {
          "base_uri": "https://localhost:8080/"
        },
        "id": "9ab932b412d8f1a8",
        "outputId": "079bf824-54cc-472a-db6e-59a8d288559a"
      },
      "outputs": [
        {
          "name": "stdout",
          "output_type": "stream",
          "text": [
            "<class 'pandas.core.frame.DataFrame'>\n",
            "RangeIndex: 9332 entries, 0 to 9331\n",
            "Data columns (total 17 columns):\n",
            " #   Column           Non-Null Count  Dtype \n",
            "---  ------           --------------  ----- \n",
            " 0   CODIGO           9332 non-null   object\n",
            " 1   DISTRITO         9124 non-null   object\n",
            " 2   DEPARTAMENTO     9332 non-null   object\n",
            " 3   MUNICIPIO        9332 non-null   object\n",
            " 4   ESTABLECIMIENTO  9332 non-null   object\n",
            " 5   DIRECCION        9281 non-null   object\n",
            " 6   TELEFONO         8797 non-null   object\n",
            " 7   SUPERVISOR       9123 non-null   object\n",
            " 8   DIRECTOR         8435 non-null   object\n",
            " 9   NIVEL            9332 non-null   object\n",
            " 10  SECTOR           9332 non-null   object\n",
            " 11  AREA             9332 non-null   object\n",
            " 12  STATUS           9332 non-null   object\n",
            " 13  MODALIDAD        9332 non-null   object\n",
            " 14  JORNADA          9332 non-null   object\n",
            " 15  PLAN             9332 non-null   object\n",
            " 16  DEPARTAMENTAL    9332 non-null   object\n",
            "dtypes: object(17)\n",
            "memory usage: 1.2+ MB\n"
          ]
        }
      ],
      "source": [
        "df.info()"
      ]
    },
    {
      "cell_type": "code",
      "execution_count": 7,
      "id": "1e997cc81ce08cca",
      "metadata": {
        "ExecuteTime": {
          "end_time": "2024-08-04T21:13:16.322206Z",
          "start_time": "2024-08-04T21:13:16.269990Z"
        },
        "colab": {
          "base_uri": "https://localhost:8080/",
          "height": 247
        },
        "id": "1e997cc81ce08cca",
        "outputId": "65161e23-a768-4e55-8553-8c62e765bbe0"
      },
      "outputs": [
        {
          "data": {
            "text/html": [
              "<div>\n",
              "<style scoped>\n",
              "    .dataframe tbody tr th:only-of-type {\n",
              "        vertical-align: middle;\n",
              "    }\n",
              "\n",
              "    .dataframe tbody tr th {\n",
              "        vertical-align: top;\n",
              "    }\n",
              "\n",
              "    .dataframe thead th {\n",
              "        text-align: right;\n",
              "    }\n",
              "</style>\n",
              "<table border=\"1\" class=\"dataframe\">\n",
              "  <thead>\n",
              "    <tr style=\"text-align: right;\">\n",
              "      <th></th>\n",
              "      <th>CODIGO</th>\n",
              "      <th>DISTRITO</th>\n",
              "      <th>DEPARTAMENTO</th>\n",
              "      <th>MUNICIPIO</th>\n",
              "      <th>ESTABLECIMIENTO</th>\n",
              "      <th>DIRECCION</th>\n",
              "      <th>TELEFONO</th>\n",
              "      <th>SUPERVISOR</th>\n",
              "      <th>DIRECTOR</th>\n",
              "      <th>NIVEL</th>\n",
              "      <th>SECTOR</th>\n",
              "      <th>AREA</th>\n",
              "      <th>STATUS</th>\n",
              "      <th>MODALIDAD</th>\n",
              "      <th>JORNADA</th>\n",
              "      <th>PLAN</th>\n",
              "      <th>DEPARTAMENTAL</th>\n",
              "    </tr>\n",
              "  </thead>\n",
              "  <tbody>\n",
              "    <tr>\n",
              "      <th>count</th>\n",
              "      <td>9332</td>\n",
              "      <td>9124</td>\n",
              "      <td>9332</td>\n",
              "      <td>9332</td>\n",
              "      <td>9332</td>\n",
              "      <td>9281</td>\n",
              "      <td>8797</td>\n",
              "      <td>9123</td>\n",
              "      <td>8435</td>\n",
              "      <td>9332</td>\n",
              "      <td>9332</td>\n",
              "      <td>9332</td>\n",
              "      <td>9332</td>\n",
              "      <td>9332</td>\n",
              "      <td>9332</td>\n",
              "      <td>9332</td>\n",
              "      <td>9332</td>\n",
              "    </tr>\n",
              "    <tr>\n",
              "      <th>unique</th>\n",
              "      <td>9332</td>\n",
              "      <td>690</td>\n",
              "      <td>23</td>\n",
              "      <td>349</td>\n",
              "      <td>5321</td>\n",
              "      <td>6004</td>\n",
              "      <td>5445</td>\n",
              "      <td>658</td>\n",
              "      <td>4677</td>\n",
              "      <td>1</td>\n",
              "      <td>4</td>\n",
              "      <td>3</td>\n",
              "      <td>4</td>\n",
              "      <td>2</td>\n",
              "      <td>6</td>\n",
              "      <td>13</td>\n",
              "      <td>26</td>\n",
              "    </tr>\n",
              "    <tr>\n",
              "      <th>top</th>\n",
              "      <td>19-11-0018-46</td>\n",
              "      <td>01-403</td>\n",
              "      <td>CIUDAD CAPITAL</td>\n",
              "      <td>ZONA 1</td>\n",
              "      <td>INSTITUTO NACIONAL DE EDUCACION DIVERSIFICADA</td>\n",
              "      <td>CABECERA MUNICIPAL</td>\n",
              "      <td>22067425</td>\n",
              "      <td>CARLOS HUMBERTO GONZALEZ DE LEON</td>\n",
              "      <td>---</td>\n",
              "      <td>DIVERSIFICADO</td>\n",
              "      <td>PRIVADO</td>\n",
              "      <td>URBANA</td>\n",
              "      <td>ABIERTA</td>\n",
              "      <td>MONOLINGUE</td>\n",
              "      <td>DOBLE</td>\n",
              "      <td>DIARIO(REGULAR)</td>\n",
              "      <td>GUATEMALA NORTE</td>\n",
              "    </tr>\n",
              "    <tr>\n",
              "      <th>freq</th>\n",
              "      <td>1</td>\n",
              "      <td>268</td>\n",
              "      <td>1564</td>\n",
              "      <td>633</td>\n",
              "      <td>330</td>\n",
              "      <td>269</td>\n",
              "      <td>21</td>\n",
              "      <td>333</td>\n",
              "      <td>83</td>\n",
              "      <td>9332</td>\n",
              "      <td>7956</td>\n",
              "      <td>7604</td>\n",
              "      <td>6545</td>\n",
              "      <td>9040</td>\n",
              "      <td>3040</td>\n",
              "      <td>5719</td>\n",
              "      <td>1050</td>\n",
              "    </tr>\n",
              "  </tbody>\n",
              "</table>\n",
              "</div>"
            ],
            "text/plain": [
              "               CODIGO DISTRITO    DEPARTAMENTO MUNICIPIO  \\\n",
              "count            9332     9124            9332      9332   \n",
              "unique           9332      690              23       349   \n",
              "top     19-11-0018-46   01-403  CIUDAD CAPITAL    ZONA 1   \n",
              "freq                1      268            1564       633   \n",
              "\n",
              "                                      ESTABLECIMIENTO           DIRECCION  \\\n",
              "count                                            9332                9281   \n",
              "unique                                           5321                6004   \n",
              "top     INSTITUTO NACIONAL DE EDUCACION DIVERSIFICADA  CABECERA MUNICIPAL   \n",
              "freq                                              330                 269   \n",
              "\n",
              "        TELEFONO                        SUPERVISOR DIRECTOR          NIVEL  \\\n",
              "count       8797                              9123     8435           9332   \n",
              "unique      5445                               658     4677              1   \n",
              "top     22067425  CARLOS HUMBERTO GONZALEZ DE LEON      ---  DIVERSIFICADO   \n",
              "freq          21                               333       83           9332   \n",
              "\n",
              "         SECTOR    AREA   STATUS   MODALIDAD JORNADA             PLAN  \\\n",
              "count      9332    9332     9332        9332    9332             9332   \n",
              "unique        4       3        4           2       6               13   \n",
              "top     PRIVADO  URBANA  ABIERTA  MONOLINGUE   DOBLE  DIARIO(REGULAR)   \n",
              "freq       7956    7604     6545        9040    3040             5719   \n",
              "\n",
              "          DEPARTAMENTAL  \n",
              "count              9332  \n",
              "unique               26  \n",
              "top     GUATEMALA NORTE  \n",
              "freq               1050  "
            ]
          },
          "execution_count": 7,
          "metadata": {},
          "output_type": "execute_result"
        }
      ],
      "source": [
        "df.describe()"
      ]
    },
    {
      "cell_type": "code",
      "execution_count": 8,
      "id": "c376e71dbf5fec1",
      "metadata": {
        "ExecuteTime": {
          "end_time": "2024-08-04T21:13:16.335269Z",
          "start_time": "2024-08-04T21:13:16.323211Z"
        },
        "colab": {
          "base_uri": "https://localhost:8080/"
        },
        "id": "c376e71dbf5fec1",
        "outputId": "aa36af45-88d7-40b0-81cd-9766f20fccf9"
      },
      "outputs": [
        {
          "data": {
            "text/plain": [
              "CODIGO               0\n",
              "DISTRITO           208\n",
              "DEPARTAMENTO         0\n",
              "MUNICIPIO            0\n",
              "ESTABLECIMIENTO      0\n",
              "DIRECCION           51\n",
              "TELEFONO           535\n",
              "SUPERVISOR         209\n",
              "DIRECTOR           897\n",
              "NIVEL                0\n",
              "SECTOR               0\n",
              "AREA                 0\n",
              "STATUS               0\n",
              "MODALIDAD            0\n",
              "JORNADA              0\n",
              "PLAN                 0\n",
              "DEPARTAMENTAL        0\n",
              "dtype: int64"
            ]
          },
          "execution_count": 8,
          "metadata": {},
          "output_type": "execute_result"
        }
      ],
      "source": [
        "df.isnull().sum()"
      ]
    },
    {
      "cell_type": "markdown",
      "id": "8104d049005c0235",
      "metadata": {
        "id": "8104d049005c0235"
      },
      "source": [
        "### Limpieza del Set de Datos"
      ]
    },
    {
      "cell_type": "markdown",
      "id": "aabe016a4c4bddc2",
      "metadata": {
        "id": "aabe016a4c4bddc2"
      },
      "source": [
        "#### Variables con más operaciones de Limpieza\n"
      ]
    },
    {
      "cell_type": "markdown",
      "id": "600293b437ad3aff",
      "metadata": {
        "id": "600293b437ad3aff"
      },
      "source": [
        "#### Estrategia por Variable\n",
        "- CODIGO\n",
        "    - Debido a que esta variable es un identificador único, se debe verificar que no existan duplicados o valores nulos.\n",
        "- DISTRITO\n",
        "    - Se debe verificar que no existan valores nulos.\n",
        "- DEPARTAMENTO\n",
        "    - Se debe verificar que no existan valores nulos.\n",
        "    - Que los departamentos estén escritos correctamente y en mayúsculas.\n",
        "- MUNICIPIO\n",
        "    - Se debe verificar que no existan valores nulos.\n",
        "    - Que los municipios estén escritos correctamente y en mayúsculas.\n",
        "- ESTABLECIMIENTO\n",
        "    - Se debe verificar que no existan valores nulos.\n",
        "    - Que los establecimientos estén escritos en mayúsculas.\n",
        "- DIRECCION\n",
        "    - Que las direcciones estén escritas en mayúsculas.\n",
        "    - Se debe verificar que no existan valores nulos.\n",
        "        - Imputar valores nulos con un valor que represente la ausencia de una dirección.\n",
        "- TELEFONO\n",
        "    - Imputar valores nulos con un valor que represente la ausencia de un número de teléfono.\n",
        "    - Eliminar valores que no sean números\n",
        "    - Eliminar valores que no tengan 8 dígitos\n",
        "- SUPERVISOR\n",
        "    - Imputar valores nulos con un valor que represente la ausencia de un supervisor.\n",
        "    - Que los nombres estén escritos en mayúsculas.\n",
        "- DIRECTOR\n",
        "    - Imputar valores nulos con un valor que represente la ausencia de un director.\n",
        "    - Que los nombres estén escritos en mayúsculas.\n",
        "- NIVEL\n",
        "    - Verificar que no existan valores nulos.\n",
        "    - Que los niveles estén escritos en mayúsculas.\n",
        "    - Que sean todos de DIVERSIFICADO.\n",
        "- SECTOR\n",
        "    - Verificar que no existan valores nulos.\n",
        "    - Que los sectores estén escritos en mayúsculas.\n",
        "    - Que sean todos de OFICIAL | PRIVADO | COOPERATIVA | MUNICIPAL.\n",
        "- AREA\n",
        "    - Verificar que no existan valores nulos.\n",
        "    - Que las áreas estén escritos en mayúsculas.\n",
        "    - Que sean todos de URBANA | RURAL.\n",
        "- STATUS\n",
        "    - Verificar que no existan valores nulos.\n",
        "    - Que los status estén escritos en mayúsculas.\n",
        "- MODALIDAD\n",
        "    - Verificar que no existan valores nulos.\n",
        "    - Que sean todos de BILINGÜE | MONOLINGÜE.\n",
        "    - Dado que es una variable binaria, cambiar de tipo y nombre a \"BILINGUE\".\n",
        "        - 0: MONOLINGÜE\n",
        "        - 1: BILINGÜE\n",
        "- JORNADA\n",
        "    - Se debe verificar que no existan valores nulos.\n",
        "    - Que las jornadas estén escritas en mayúsculas.\n",
        "- PLAN\n",
        "    - Se debe verificar que no existan valores nulos.\n",
        "    - Que los establecimientos estén escritos en mayúsculas.\n",
        "- DEPARTAMENTAL\n",
        "    - Se debe verificar que no existan valores nulos.\n",
        "    - Que los establecimientos estén escritos en mayúsculas."
      ]
    },
    {
      "cell_type": "markdown",
      "id": "7f88231d34861b76",
      "metadata": {
        "id": "7f88231d34861b76"
      },
      "source": [
        "### Ejecución de la Limpieza"
      ]
    },
    {
      "cell_type": "markdown",
      "id": "51d00c7747a29936",
      "metadata": {
        "id": "51d00c7747a29936"
      },
      "source": [
        "#### CODIGO"
      ]
    },
    {
      "cell_type": "code",
      "execution_count": 9,
      "id": "624e276f8ef9ca59",
      "metadata": {
        "ExecuteTime": {
          "end_time": "2024-08-04T21:13:16.349099Z",
          "start_time": "2024-08-04T21:13:16.336266Z"
        },
        "colab": {
          "base_uri": "https://localhost:8080/"
        },
        "id": "624e276f8ef9ca59",
        "outputId": "0075c37a-d208-47cd-eb5b-ca9100623414"
      },
      "outputs": [
        {
          "data": {
            "text/plain": [
              "np.int64(0)"
            ]
          },
          "execution_count": 9,
          "metadata": {},
          "output_type": "execute_result"
        }
      ],
      "source": [
        "df['CODIGO'].duplicated().sum()"
      ]
    },
    {
      "cell_type": "markdown",
      "id": "7dff84da4b14cf6d",
      "metadata": {
        "id": "7dff84da4b14cf6d"
      },
      "source": [
        "Podemos observar que no existen valores duplicados en la variable de ``CODIGO``"
      ]
    },
    {
      "cell_type": "markdown",
      "id": "e87662cd396e70b4",
      "metadata": {
        "id": "e87662cd396e70b4"
      },
      "source": [
        "#### DISTRITO"
      ]
    },
    {
      "cell_type": "code",
      "execution_count": 10,
      "id": "ebb54933490513ad",
      "metadata": {
        "ExecuteTime": {
          "end_time": "2024-08-04T21:13:16.365056Z",
          "start_time": "2024-08-04T21:13:16.350098Z"
        },
        "colab": {
          "base_uri": "https://localhost:8080/"
        },
        "id": "ebb54933490513ad",
        "outputId": "cc3de40d-f314-4c6c-b8a0-a07304cf236b"
      },
      "outputs": [
        {
          "data": {
            "text/plain": [
              "np.int64(208)"
            ]
          },
          "execution_count": 10,
          "metadata": {},
          "output_type": "execute_result"
        }
      ],
      "source": [
        "df['DISTRITO'].isna().sum()"
      ]
    },
    {
      "cell_type": "markdown",
      "id": "401ff0892053dc0a",
      "metadata": {
        "id": "401ff0892053dc0a"
      },
      "source": [
        "Al existir 208 valores nulos, procedemos a..."
      ]
    },
    {
      "cell_type": "code",
      "execution_count": 11,
      "id": "3bf766c2caa177a4",
      "metadata": {
        "ExecuteTime": {
          "end_time": "2024-08-04T21:13:16.384984Z",
          "start_time": "2024-08-04T21:13:16.366052Z"
        },
        "colab": {
          "base_uri": "https://localhost:8080/",
          "height": 504
        },
        "id": "3bf766c2caa177a4",
        "outputId": "df538b28-0109-43d4-ba5b-b906469c533c"
      },
      "outputs": [
        {
          "data": {
            "text/html": [
              "<div>\n",
              "<style scoped>\n",
              "    .dataframe tbody tr th:only-of-type {\n",
              "        vertical-align: middle;\n",
              "    }\n",
              "\n",
              "    .dataframe tbody tr th {\n",
              "        vertical-align: top;\n",
              "    }\n",
              "\n",
              "    .dataframe thead th {\n",
              "        text-align: right;\n",
              "    }\n",
              "</style>\n",
              "<table border=\"1\" class=\"dataframe\">\n",
              "  <thead>\n",
              "    <tr style=\"text-align: right;\">\n",
              "      <th></th>\n",
              "      <th>CODIGO</th>\n",
              "      <th>DISTRITO</th>\n",
              "      <th>DEPARTAMENTO</th>\n",
              "      <th>MUNICIPIO</th>\n",
              "      <th>ESTABLECIMIENTO</th>\n",
              "      <th>DIRECCION</th>\n",
              "      <th>TELEFONO</th>\n",
              "      <th>SUPERVISOR</th>\n",
              "      <th>DIRECTOR</th>\n",
              "      <th>NIVEL</th>\n",
              "      <th>SECTOR</th>\n",
              "      <th>AREA</th>\n",
              "      <th>STATUS</th>\n",
              "      <th>MODALIDAD</th>\n",
              "      <th>JORNADA</th>\n",
              "      <th>PLAN</th>\n",
              "      <th>DEPARTAMENTAL</th>\n",
              "    </tr>\n",
              "  </thead>\n",
              "  <tbody>\n",
              "    <tr>\n",
              "      <th>0</th>\n",
              "      <td>16-01-0138-46</td>\n",
              "      <td>16-031</td>\n",
              "      <td>ALTA VERAPAZ</td>\n",
              "      <td>COBAN</td>\n",
              "      <td>COLEGIO COBAN</td>\n",
              "      <td>KM.2 SALIDA A SAN JUAN CHAMELCO ZONA 8</td>\n",
              "      <td>77945104</td>\n",
              "      <td>MERCEDES JOSEFINA TORRES GALVEZ</td>\n",
              "      <td>GUSTAVO ADOLFO SIERRA POP</td>\n",
              "      <td>DIVERSIFICADO</td>\n",
              "      <td>PRIVADO</td>\n",
              "      <td>URBANA</td>\n",
              "      <td>ABIERTA</td>\n",
              "      <td>MONOLINGUE</td>\n",
              "      <td>MATUTINA</td>\n",
              "      <td>DIARIO(REGULAR)</td>\n",
              "      <td>ALTA VERAPAZ</td>\n",
              "    </tr>\n",
              "    <tr>\n",
              "      <th>1</th>\n",
              "      <td>16-01-0139-46</td>\n",
              "      <td>16-031</td>\n",
              "      <td>ALTA VERAPAZ</td>\n",
              "      <td>COBAN</td>\n",
              "      <td>COLEGIO PARTICULAR MIXTO VERAPAZ</td>\n",
              "      <td>KM 209.5 ENTRADA A LA CIUDAD</td>\n",
              "      <td>77367402</td>\n",
              "      <td>MERCEDES JOSEFINA TORRES GALVEZ</td>\n",
              "      <td>GILMA DOLORES GUAY PAZ DE LEAL</td>\n",
              "      <td>DIVERSIFICADO</td>\n",
              "      <td>PRIVADO</td>\n",
              "      <td>URBANA</td>\n",
              "      <td>ABIERTA</td>\n",
              "      <td>MONOLINGUE</td>\n",
              "      <td>MATUTINA</td>\n",
              "      <td>DIARIO(REGULAR)</td>\n",
              "      <td>ALTA VERAPAZ</td>\n",
              "    </tr>\n",
              "    <tr>\n",
              "      <th>2</th>\n",
              "      <td>16-01-0140-46</td>\n",
              "      <td>16-031</td>\n",
              "      <td>ALTA VERAPAZ</td>\n",
              "      <td>COBAN</td>\n",
              "      <td>COLEGIO \"LA INMACULADA\"</td>\n",
              "      <td>7A. AVENIDA 11-109 ZONA 6</td>\n",
              "      <td>78232301</td>\n",
              "      <td>MERCEDES JOSEFINA TORRES GALVEZ</td>\n",
              "      <td>VIRGINIA SOLANO SERRANO</td>\n",
              "      <td>DIVERSIFICADO</td>\n",
              "      <td>PRIVADO</td>\n",
              "      <td>URBANA</td>\n",
              "      <td>ABIERTA</td>\n",
              "      <td>MONOLINGUE</td>\n",
              "      <td>MATUTINA</td>\n",
              "      <td>DIARIO(REGULAR)</td>\n",
              "      <td>ALTA VERAPAZ</td>\n",
              "    </tr>\n",
              "    <tr>\n",
              "      <th>3</th>\n",
              "      <td>16-01-0141-46</td>\n",
              "      <td>16-005</td>\n",
              "      <td>ALTA VERAPAZ</td>\n",
              "      <td>COBAN</td>\n",
              "      <td>ESCUELA NACIONAL DE CIENCIAS COMERCIALES</td>\n",
              "      <td>2A CALLE 11-10 ZONA 2</td>\n",
              "      <td>79514215</td>\n",
              "      <td>RUDY ADOLFO TOT OCH</td>\n",
              "      <td>HÉCTOR ROLANDO CHUN POOU</td>\n",
              "      <td>DIVERSIFICADO</td>\n",
              "      <td>OFICIAL</td>\n",
              "      <td>URBANA</td>\n",
              "      <td>ABIERTA</td>\n",
              "      <td>MONOLINGUE</td>\n",
              "      <td>MATUTINA</td>\n",
              "      <td>DIARIO(REGULAR)</td>\n",
              "      <td>ALTA VERAPAZ</td>\n",
              "    </tr>\n",
              "    <tr>\n",
              "      <th>4</th>\n",
              "      <td>16-01-0142-46</td>\n",
              "      <td>16-005</td>\n",
              "      <td>ALTA VERAPAZ</td>\n",
              "      <td>COBAN</td>\n",
              "      <td>INSTITUTO NORMAL MIXTO DEL NORTE 'EMILIO ROSAL...</td>\n",
              "      <td>3A AVE 6-23 ZONA 11</td>\n",
              "      <td>79521468</td>\n",
              "      <td>RUDY ADOLFO TOT OCH</td>\n",
              "      <td>VICTOR HUGO DOMÍNGUEZ REYES</td>\n",
              "      <td>DIVERSIFICADO</td>\n",
              "      <td>OFICIAL</td>\n",
              "      <td>URBANA</td>\n",
              "      <td>ABIERTA</td>\n",
              "      <td>BILINGUE</td>\n",
              "      <td>VESPERTINA</td>\n",
              "      <td>DIARIO(REGULAR)</td>\n",
              "      <td>ALTA VERAPAZ</td>\n",
              "    </tr>\n",
              "  </tbody>\n",
              "</table>\n",
              "</div>"
            ],
            "text/plain": [
              "          CODIGO DISTRITO  DEPARTAMENTO MUNICIPIO  \\\n",
              "0  16-01-0138-46   16-031  ALTA VERAPAZ     COBAN   \n",
              "1  16-01-0139-46   16-031  ALTA VERAPAZ     COBAN   \n",
              "2  16-01-0140-46   16-031  ALTA VERAPAZ     COBAN   \n",
              "3  16-01-0141-46   16-005  ALTA VERAPAZ     COBAN   \n",
              "4  16-01-0142-46   16-005  ALTA VERAPAZ     COBAN   \n",
              "\n",
              "                                     ESTABLECIMIENTO  \\\n",
              "0                                      COLEGIO COBAN   \n",
              "1                   COLEGIO PARTICULAR MIXTO VERAPAZ   \n",
              "2                            COLEGIO \"LA INMACULADA\"   \n",
              "3           ESCUELA NACIONAL DE CIENCIAS COMERCIALES   \n",
              "4  INSTITUTO NORMAL MIXTO DEL NORTE 'EMILIO ROSAL...   \n",
              "\n",
              "                                DIRECCION  TELEFONO  \\\n",
              "0  KM.2 SALIDA A SAN JUAN CHAMELCO ZONA 8  77945104   \n",
              "1            KM 209.5 ENTRADA A LA CIUDAD  77367402   \n",
              "2               7A. AVENIDA 11-109 ZONA 6  78232301   \n",
              "3                   2A CALLE 11-10 ZONA 2  79514215   \n",
              "4                     3A AVE 6-23 ZONA 11  79521468   \n",
              "\n",
              "                        SUPERVISOR                        DIRECTOR  \\\n",
              "0  MERCEDES JOSEFINA TORRES GALVEZ       GUSTAVO ADOLFO SIERRA POP   \n",
              "1  MERCEDES JOSEFINA TORRES GALVEZ  GILMA DOLORES GUAY PAZ DE LEAL   \n",
              "2  MERCEDES JOSEFINA TORRES GALVEZ         VIRGINIA SOLANO SERRANO   \n",
              "3              RUDY ADOLFO TOT OCH        HÉCTOR ROLANDO CHUN POOU   \n",
              "4              RUDY ADOLFO TOT OCH     VICTOR HUGO DOMÍNGUEZ REYES   \n",
              "\n",
              "           NIVEL   SECTOR    AREA   STATUS   MODALIDAD     JORNADA  \\\n",
              "0  DIVERSIFICADO  PRIVADO  URBANA  ABIERTA  MONOLINGUE    MATUTINA   \n",
              "1  DIVERSIFICADO  PRIVADO  URBANA  ABIERTA  MONOLINGUE    MATUTINA   \n",
              "2  DIVERSIFICADO  PRIVADO  URBANA  ABIERTA  MONOLINGUE    MATUTINA   \n",
              "3  DIVERSIFICADO  OFICIAL  URBANA  ABIERTA  MONOLINGUE    MATUTINA   \n",
              "4  DIVERSIFICADO  OFICIAL  URBANA  ABIERTA    BILINGUE  VESPERTINA   \n",
              "\n",
              "              PLAN DEPARTAMENTAL  \n",
              "0  DIARIO(REGULAR)  ALTA VERAPAZ  \n",
              "1  DIARIO(REGULAR)  ALTA VERAPAZ  \n",
              "2  DIARIO(REGULAR)  ALTA VERAPAZ  \n",
              "3  DIARIO(REGULAR)  ALTA VERAPAZ  \n",
              "4  DIARIO(REGULAR)  ALTA VERAPAZ  "
            ]
          },
          "execution_count": 11,
          "metadata": {},
          "output_type": "execute_result"
        }
      ],
      "source": [
        "df.head()"
      ]
    },
    {
      "cell_type": "markdown",
      "id": "1d27208b0cfedacb",
      "metadata": {
        "id": "1d27208b0cfedacb"
      },
      "source": [
        "#### DEPARTAMENTO"
      ]
    },
    {
      "cell_type": "code",
      "execution_count": 12,
      "id": "7fe892469034c3d7",
      "metadata": {
        "ExecuteTime": {
          "end_time": "2024-08-04T21:13:16.395826Z",
          "start_time": "2024-08-04T21:13:16.385981Z"
        },
        "colab": {
          "base_uri": "https://localhost:8080/"
        },
        "id": "7fe892469034c3d7",
        "outputId": "e64e9fea-4ca9-4c72-ea03-550195bd215f"
      },
      "outputs": [
        {
          "data": {
            "text/plain": [
              "np.int64(0)"
            ]
          },
          "execution_count": 12,
          "metadata": {},
          "output_type": "execute_result"
        }
      ],
      "source": [
        "df['DEPARTAMENTO'].isna().sum()"
      ]
    },
    {
      "cell_type": "markdown",
      "id": "8b8370fb177fb5d5",
      "metadata": {
        "id": "8b8370fb177fb5d5"
      },
      "source": [
        "La variable ``DEPARTAMENTO`` no tiene valores nulos"
      ]
    },
    {
      "cell_type": "code",
      "execution_count": 13,
      "id": "cb8116ddbb9657d5",
      "metadata": {
        "ExecuteTime": {
          "end_time": "2024-08-04T21:13:16.411759Z",
          "start_time": "2024-08-04T21:13:16.397825Z"
        },
        "colab": {
          "base_uri": "https://localhost:8080/"
        },
        "id": "cb8116ddbb9657d5",
        "outputId": "a0f60b16-359c-4984-d4ac-a2b98250d6fd"
      },
      "outputs": [
        {
          "data": {
            "text/plain": [
              "DEPARTAMENTO\n",
              "ALTA VERAPAZ       374\n",
              "BAJA VERAPAZ       114\n",
              "CHIMALTENANGO      359\n",
              "CHIQUIMULA         170\n",
              "CIUDAD CAPITAL    1564\n",
              "EL PROGRESO        125\n",
              "ESCUINTLA          628\n",
              "GUATEMALA         1479\n",
              "HUEHUETENANGO      516\n",
              "IZABAL             368\n",
              "JALAPA             151\n",
              "JUTIAPA            310\n",
              "PETEN              366\n",
              "QUETZALTENANGO     491\n",
              "QUICHE             244\n",
              "RETALHULEU         316\n",
              "SACATEPEQUEZ       319\n",
              "SAN MARCOS         574\n",
              "SANTA ROSA         157\n",
              "SOLOLA             138\n",
              "SUCHITEPEQUEZ      385\n",
              "TOTONICAPAN         90\n",
              "ZACAPA              94\n",
              "Name: count, dtype: int64"
            ]
          },
          "execution_count": 13,
          "metadata": {},
          "output_type": "execute_result"
        }
      ],
      "source": [
        "# VALUE COUNTS SORTED BY DEPARTAMENTO\n",
        "df['DEPARTAMENTO'].value_counts().sort_index()"
      ]
    },
    {
      "cell_type": "markdown",
      "id": "f4b2cac1938b8e67",
      "metadata": {
        "id": "f4b2cac1938b8e67"
      },
      "source": [
        "Los departamentos están escritos correctamente y en mayúsculas."
      ]
    },
    {
      "cell_type": "markdown",
      "id": "77e80668ce76f8c0",
      "metadata": {
        "id": "77e80668ce76f8c0"
      },
      "source": [
        "#### MUNICIPIO"
      ]
    },
    {
      "cell_type": "code",
      "execution_count": 14,
      "id": "274a7d352a684868",
      "metadata": {
        "ExecuteTime": {
          "end_time": "2024-08-04T21:13:16.424798Z",
          "start_time": "2024-08-04T21:13:16.412760Z"
        },
        "colab": {
          "base_uri": "https://localhost:8080/"
        },
        "id": "274a7d352a684868",
        "outputId": "96cc4000-adfe-457d-c2a5-d38ce9bac16d"
      },
      "outputs": [
        {
          "data": {
            "text/plain": [
              "np.int64(0)"
            ]
          },
          "execution_count": 14,
          "metadata": {},
          "output_type": "execute_result"
        }
      ],
      "source": [
        "df['MUNICIPIO'].isna().sum()"
      ]
    },
    {
      "cell_type": "markdown",
      "id": "4f4aa451f5e6f873",
      "metadata": {
        "id": "4f4aa451f5e6f873"
      },
      "source": [
        "La variable ``MUNICIPIO`` no tiene valores nulos"
      ]
    },
    {
      "cell_type": "code",
      "execution_count": 15,
      "id": "7f0aab42ce0c47d",
      "metadata": {
        "ExecuteTime": {
          "end_time": "2024-08-04T21:13:16.448989Z",
          "start_time": "2024-08-04T21:13:16.425796Z"
        },
        "colab": {
          "base_uri": "https://localhost:8080/",
          "height": 53
        },
        "id": "7f0aab42ce0c47d",
        "outputId": "0e71c389-aca3-4c7e-f4b8-196c569cd983"
      },
      "outputs": [
        {
          "data": {
            "text/html": [
              "<div>\n",
              "<style scoped>\n",
              "    .dataframe tbody tr th:only-of-type {\n",
              "        vertical-align: middle;\n",
              "    }\n",
              "\n",
              "    .dataframe tbody tr th {\n",
              "        vertical-align: top;\n",
              "    }\n",
              "\n",
              "    .dataframe thead th {\n",
              "        text-align: right;\n",
              "    }\n",
              "</style>\n",
              "<table border=\"1\" class=\"dataframe\">\n",
              "  <thead>\n",
              "    <tr style=\"text-align: right;\">\n",
              "      <th></th>\n",
              "      <th>CODIGO</th>\n",
              "      <th>DISTRITO</th>\n",
              "      <th>DEPARTAMENTO</th>\n",
              "      <th>MUNICIPIO</th>\n",
              "      <th>ESTABLECIMIENTO</th>\n",
              "      <th>DIRECCION</th>\n",
              "      <th>TELEFONO</th>\n",
              "      <th>SUPERVISOR</th>\n",
              "      <th>DIRECTOR</th>\n",
              "      <th>NIVEL</th>\n",
              "      <th>SECTOR</th>\n",
              "      <th>AREA</th>\n",
              "      <th>STATUS</th>\n",
              "      <th>MODALIDAD</th>\n",
              "      <th>JORNADA</th>\n",
              "      <th>PLAN</th>\n",
              "      <th>DEPARTAMENTAL</th>\n",
              "    </tr>\n",
              "  </thead>\n",
              "  <tbody>\n",
              "  </tbody>\n",
              "</table>\n",
              "</div>"
            ],
            "text/plain": [
              "Empty DataFrame\n",
              "Columns: [CODIGO, DISTRITO, DEPARTAMENTO, MUNICIPIO, ESTABLECIMIENTO, DIRECCION, TELEFONO, SUPERVISOR, DIRECTOR, NIVEL, SECTOR, AREA, STATUS, MODALIDAD, JORNADA, PLAN, DEPARTAMENTAL]\n",
              "Index: []"
            ]
          },
          "execution_count": 15,
          "metadata": {},
          "output_type": "execute_result"
        }
      ],
      "source": [
        "df[df['MUNICIPIO'].str.contains('[a-z]')]"
      ]
    },
    {
      "cell_type": "markdown",
      "id": "1cbb16f3f0110e9f",
      "metadata": {
        "id": "1cbb16f3f0110e9f"
      },
      "source": [
        "Los municipios están escritos correctamente y en mayúsculas."
      ]
    },
    {
      "cell_type": "markdown",
      "id": "945c483b470eacf0",
      "metadata": {
        "id": "945c483b470eacf0"
      },
      "source": [
        "#### ESTABLECIMIENTO"
      ]
    },
    {
      "cell_type": "code",
      "execution_count": 16,
      "id": "6c5eac01a1d15ed",
      "metadata": {
        "ExecuteTime": {
          "end_time": "2024-08-04T21:13:16.475346Z",
          "start_time": "2024-08-04T21:13:16.449994Z"
        },
        "colab": {
          "base_uri": "https://localhost:8080/"
        },
        "id": "6c5eac01a1d15ed",
        "outputId": "d3b0ef34-a268-41f0-b69d-d58f60656d70"
      },
      "outputs": [
        {
          "data": {
            "text/plain": [
              "np.int64(0)"
            ]
          },
          "execution_count": 16,
          "metadata": {},
          "output_type": "execute_result"
        }
      ],
      "source": [
        "df['ESTABLECIMIENTO'].isna().sum()"
      ]
    },
    {
      "cell_type": "markdown",
      "id": "17c34d008c24b66b",
      "metadata": {
        "id": "17c34d008c24b66b"
      },
      "source": [
        "La variable ``ESTABLECIMIENTO`` no tiene valores nulos"
      ]
    },
    {
      "cell_type": "code",
      "execution_count": 17,
      "id": "51dc58d57951a51c",
      "metadata": {
        "ExecuteTime": {
          "end_time": "2024-08-04T21:13:16.495696Z",
          "start_time": "2024-08-04T21:13:16.476353Z"
        },
        "colab": {
          "base_uri": "https://localhost:8080/",
          "height": 53
        },
        "id": "51dc58d57951a51c",
        "outputId": "69f58ad1-3dda-4804-f137-ee417e0c0872"
      },
      "outputs": [
        {
          "data": {
            "text/html": [
              "<div>\n",
              "<style scoped>\n",
              "    .dataframe tbody tr th:only-of-type {\n",
              "        vertical-align: middle;\n",
              "    }\n",
              "\n",
              "    .dataframe tbody tr th {\n",
              "        vertical-align: top;\n",
              "    }\n",
              "\n",
              "    .dataframe thead th {\n",
              "        text-align: right;\n",
              "    }\n",
              "</style>\n",
              "<table border=\"1\" class=\"dataframe\">\n",
              "  <thead>\n",
              "    <tr style=\"text-align: right;\">\n",
              "      <th></th>\n",
              "      <th>CODIGO</th>\n",
              "      <th>DISTRITO</th>\n",
              "      <th>DEPARTAMENTO</th>\n",
              "      <th>MUNICIPIO</th>\n",
              "      <th>ESTABLECIMIENTO</th>\n",
              "      <th>DIRECCION</th>\n",
              "      <th>TELEFONO</th>\n",
              "      <th>SUPERVISOR</th>\n",
              "      <th>DIRECTOR</th>\n",
              "      <th>NIVEL</th>\n",
              "      <th>SECTOR</th>\n",
              "      <th>AREA</th>\n",
              "      <th>STATUS</th>\n",
              "      <th>MODALIDAD</th>\n",
              "      <th>JORNADA</th>\n",
              "      <th>PLAN</th>\n",
              "      <th>DEPARTAMENTAL</th>\n",
              "    </tr>\n",
              "  </thead>\n",
              "  <tbody>\n",
              "  </tbody>\n",
              "</table>\n",
              "</div>"
            ],
            "text/plain": [
              "Empty DataFrame\n",
              "Columns: [CODIGO, DISTRITO, DEPARTAMENTO, MUNICIPIO, ESTABLECIMIENTO, DIRECCION, TELEFONO, SUPERVISOR, DIRECTOR, NIVEL, SECTOR, AREA, STATUS, MODALIDAD, JORNADA, PLAN, DEPARTAMENTAL]\n",
              "Index: []"
            ]
          },
          "execution_count": 17,
          "metadata": {},
          "output_type": "execute_result"
        }
      ],
      "source": [
        "df[df['ESTABLECIMIENTO'].str.contains('[a-z]')]"
      ]
    },
    {
      "cell_type": "markdown",
      "id": "8c6918ee94597f3d",
      "metadata": {
        "id": "8c6918ee94597f3d"
      },
      "source": [
        "Los establecimientos están escritos en mayúsculas."
      ]
    },
    {
      "cell_type": "markdown",
      "id": "a96ec9443c898a08",
      "metadata": {
        "id": "a96ec9443c898a08"
      },
      "source": [
        "#### DIRECCION"
      ]
    },
    {
      "cell_type": "code",
      "execution_count": 18,
      "id": "9e64eab50f4623a8",
      "metadata": {
        "ExecuteTime": {
          "end_time": "2024-08-04T21:13:16.501104Z",
          "start_time": "2024-08-04T21:13:16.496712Z"
        },
        "colab": {
          "base_uri": "https://localhost:8080/"
        },
        "id": "9e64eab50f4623a8",
        "outputId": "31d629b1-4619-4482-8ef7-1adb85305685"
      },
      "outputs": [
        {
          "data": {
            "text/plain": [
              "(9332, 17)"
            ]
          },
          "execution_count": 18,
          "metadata": {},
          "output_type": "execute_result"
        }
      ],
      "source": [
        "df.shape"
      ]
    },
    {
      "cell_type": "code",
      "execution_count": 19,
      "id": "72f661823d856d06",
      "metadata": {
        "ExecuteTime": {
          "end_time": "2024-08-04T21:13:16.515025Z",
          "start_time": "2024-08-04T21:13:16.502104Z"
        },
        "colab": {
          "base_uri": "https://localhost:8080/"
        },
        "id": "72f661823d856d06",
        "outputId": "efcb37be-43e1-4309-fa91-29e8267d56e8"
      },
      "outputs": [
        {
          "data": {
            "text/plain": [
              "np.int64(51)"
            ]
          },
          "execution_count": 19,
          "metadata": {},
          "output_type": "execute_result"
        }
      ],
      "source": [
        "df['DIRECCION'].isna().sum()"
      ]
    },
    {
      "cell_type": "code",
      "execution_count": 20,
      "id": "41f8b15acc7ff20",
      "metadata": {
        "ExecuteTime": {
          "end_time": "2024-08-04T21:13:16.531576Z",
          "start_time": "2024-08-04T21:13:16.516032Z"
        },
        "colab": {
          "base_uri": "https://localhost:8080/",
          "height": 1000
        },
        "id": "41f8b15acc7ff20",
        "outputId": "996b5830-a3a3-4923-9c13-0a5a6d6ae2d1"
      },
      "outputs": [
        {
          "data": {
            "text/html": [
              "<div>\n",
              "<style scoped>\n",
              "    .dataframe tbody tr th:only-of-type {\n",
              "        vertical-align: middle;\n",
              "    }\n",
              "\n",
              "    .dataframe tbody tr th {\n",
              "        vertical-align: top;\n",
              "    }\n",
              "\n",
              "    .dataframe thead th {\n",
              "        text-align: right;\n",
              "    }\n",
              "</style>\n",
              "<table border=\"1\" class=\"dataframe\">\n",
              "  <thead>\n",
              "    <tr style=\"text-align: right;\">\n",
              "      <th></th>\n",
              "      <th>ESTABLECIMIENTO</th>\n",
              "      <th>DIRECCION</th>\n",
              "    </tr>\n",
              "  </thead>\n",
              "  <tbody>\n",
              "    <tr>\n",
              "      <th>96</th>\n",
              "      <td>INSTITUTO GUATEMALTECO DE EDUCACION RADIOFONIC...</td>\n",
              "      <td>NaN</td>\n",
              "    </tr>\n",
              "    <tr>\n",
              "      <th>281</th>\n",
              "      <td>LICEO DE BACHILLERATO EN COMPUTACION Y EDUCACI...</td>\n",
              "      <td>NaN</td>\n",
              "    </tr>\n",
              "    <tr>\n",
              "      <th>858</th>\n",
              "      <td>ESCUELA PRIVADA DE EDUCACION FISICA DE ORIENTE</td>\n",
              "      <td>NaN</td>\n",
              "    </tr>\n",
              "    <tr>\n",
              "      <th>978</th>\n",
              "      <td>LICEO TECNICO CONCEPCION</td>\n",
              "      <td>NaN</td>\n",
              "    </tr>\n",
              "    <tr>\n",
              "      <th>1104</th>\n",
              "      <td>COLEGIO NACIONAL AMERICANO</td>\n",
              "      <td>NaN</td>\n",
              "    </tr>\n",
              "    <tr>\n",
              "      <th>1106</th>\n",
              "      <td>INSTITUTO PRIVADO \"TECNICO AMERICANO\"</td>\n",
              "      <td>NaN</td>\n",
              "    </tr>\n",
              "    <tr>\n",
              "      <th>1107</th>\n",
              "      <td>COLEGIO KEPLER</td>\n",
              "      <td>NaN</td>\n",
              "    </tr>\n",
              "    <tr>\n",
              "      <th>2149</th>\n",
              "      <td>COLEGIO MIXTO DIURNO 'FRANKLIN DELANO ROOSEVELT'</td>\n",
              "      <td>NaN</td>\n",
              "    </tr>\n",
              "    <tr>\n",
              "      <th>2150</th>\n",
              "      <td>CENTRO EDUCACIONAL DE ESTUDIOS ECONOMICO-ADMIN...</td>\n",
              "      <td>NaN</td>\n",
              "    </tr>\n",
              "    <tr>\n",
              "      <th>2843</th>\n",
              "      <td>INSTITUTO GUATEMALTECO DE EDUCACION RADIOFONIC...</td>\n",
              "      <td>NaN</td>\n",
              "    </tr>\n",
              "    <tr>\n",
              "      <th>3123</th>\n",
              "      <td>COLEGIO MIXTO DIVERSIFICADO</td>\n",
              "      <td>NaN</td>\n",
              "    </tr>\n",
              "    <tr>\n",
              "      <th>3420</th>\n",
              "      <td>INSTITUTO DE EDUCACION DIVERSIFICADA POR COOPE...</td>\n",
              "      <td>NaN</td>\n",
              "    </tr>\n",
              "    <tr>\n",
              "      <th>4248</th>\n",
              "      <td>CENTRO EDUCATIVO JOSE MILLA Y VIDAURRE</td>\n",
              "      <td>NaN</td>\n",
              "    </tr>\n",
              "    <tr>\n",
              "      <th>4257</th>\n",
              "      <td>COLEGIO CRISTIANO \"HERMOSO JESUS\"</td>\n",
              "      <td>NaN</td>\n",
              "    </tr>\n",
              "    <tr>\n",
              "      <th>5029</th>\n",
              "      <td>COLEGIO PRIVADO MIXTO JOSE ERNESTO MONZON</td>\n",
              "      <td>NaN</td>\n",
              "    </tr>\n",
              "    <tr>\n",
              "      <th>5124</th>\n",
              "      <td>INSTITUTO DE CIENCIAS COMERCIALES POR COOPERAT...</td>\n",
              "      <td>NaN</td>\n",
              "    </tr>\n",
              "    <tr>\n",
              "      <th>5125</th>\n",
              "      <td>INSTITUTO DE CIENCIAS COMERCIALES POR COOPERATIVA</td>\n",
              "      <td>NaN</td>\n",
              "    </tr>\n",
              "    <tr>\n",
              "      <th>5203</th>\n",
              "      <td>INSTITUTO NORMAL MIXTO POR COOPERATIVA ADSCRIT...</td>\n",
              "      <td>NaN</td>\n",
              "    </tr>\n",
              "    <tr>\n",
              "      <th>5766</th>\n",
              "      <td>INSTITUTO GUATEMALTECO DE EDUCACION RADIOFONIC...</td>\n",
              "      <td>NaN</td>\n",
              "    </tr>\n",
              "    <tr>\n",
              "      <th>5824</th>\n",
              "      <td>ESCUELA NORMAL REGIONAL DE PARVULOS ADS. A ESC...</td>\n",
              "      <td>NaN</td>\n",
              "    </tr>\n",
              "    <tr>\n",
              "      <th>5929</th>\n",
              "      <td>INSTITUTO DE BACHILLERATO POR MADUREZ 'JUTIAPA...</td>\n",
              "      <td>NaN</td>\n",
              "    </tr>\n",
              "    <tr>\n",
              "      <th>5933</th>\n",
              "      <td>INSTITUTO PARTICULAR MIXTO DE EDUCACION DIVERS...</td>\n",
              "      <td>NaN</td>\n",
              "    </tr>\n",
              "    <tr>\n",
              "      <th>5937</th>\n",
              "      <td>INSTITUTO GUATEMALTECO DE EDUCACION RADIOFONIC...</td>\n",
              "      <td>NaN</td>\n",
              "    </tr>\n",
              "    <tr>\n",
              "      <th>6026</th>\n",
              "      <td>INSTITUTO PARTICULAR MIXTO DE CIENCIAS COMERCI...</td>\n",
              "      <td>NaN</td>\n",
              "    </tr>\n",
              "    <tr>\n",
              "      <th>6083</th>\n",
              "      <td>COLEGIO PARTICULAR MIXTO LICEO ORIENTAL</td>\n",
              "      <td>NaN</td>\n",
              "    </tr>\n",
              "    <tr>\n",
              "      <th>6141</th>\n",
              "      <td>LICEO SAN JOSE</td>\n",
              "      <td>NaN</td>\n",
              "    </tr>\n",
              "    <tr>\n",
              "      <th>6192</th>\n",
              "      <td>INSTITUTO GUATEMALTECA DE EDUCACION RADIOFONIC...</td>\n",
              "      <td>NaN</td>\n",
              "    </tr>\n",
              "    <tr>\n",
              "      <th>6266</th>\n",
              "      <td>INSTITUTO PRIVADO MIXTO DE EDUCACION DIVERSIFI...</td>\n",
              "      <td>NaN</td>\n",
              "    </tr>\n",
              "    <tr>\n",
              "      <th>6323</th>\n",
              "      <td>INSTITUTO PRIVADO MIXTO DE EDUCACION DIVERSIFI...</td>\n",
              "      <td>NaN</td>\n",
              "    </tr>\n",
              "    <tr>\n",
              "      <th>6324</th>\n",
              "      <td>INSTITUTO PRIVADO MIXTO NOCTURNO</td>\n",
              "      <td>NaN</td>\n",
              "    </tr>\n",
              "    <tr>\n",
              "      <th>6354</th>\n",
              "      <td>ESCUELA DE CIENCIAS COMERCIALES 'SANTA ANA'</td>\n",
              "      <td>NaN</td>\n",
              "    </tr>\n",
              "    <tr>\n",
              "      <th>6374</th>\n",
              "      <td>INSTITUTO PRIVADO DE CIENCIAS COMERCIALES 'ANT...</td>\n",
              "      <td>NaN</td>\n",
              "    </tr>\n",
              "    <tr>\n",
              "      <th>6395</th>\n",
              "      <td>ESCUELA PRIVADA DE CIENCIAS COMERCIALES</td>\n",
              "      <td>NaN</td>\n",
              "    </tr>\n",
              "    <tr>\n",
              "      <th>6452</th>\n",
              "      <td>INSTITUTO PRIVADO MIXTO DE EDUCACION DIVERSIFI...</td>\n",
              "      <td>NaN</td>\n",
              "    </tr>\n",
              "    <tr>\n",
              "      <th>6703</th>\n",
              "      <td>INSTITUTO GUATEMALTECO DE EDUCACION RADIOFONIC...</td>\n",
              "      <td>NaN</td>\n",
              "    </tr>\n",
              "    <tr>\n",
              "      <th>6786</th>\n",
              "      <td>CENTRO DE ESTUDIOS MODERNOS NOVISIMA ACADEMIA</td>\n",
              "      <td>NaN</td>\n",
              "    </tr>\n",
              "    <tr>\n",
              "      <th>7948</th>\n",
              "      <td>COLEGIO PARROQUIAL MIXTO 'EL SAGRADO CORAZON D...</td>\n",
              "      <td>NaN</td>\n",
              "    </tr>\n",
              "    <tr>\n",
              "      <th>8029</th>\n",
              "      <td>LICEO PARTICULAR MIXTO 'SAN ANTONIO'</td>\n",
              "      <td>NaN</td>\n",
              "    </tr>\n",
              "    <tr>\n",
              "      <th>8186</th>\n",
              "      <td>INSTITUTO DIVERSIFICADO PRIVADO MIXTO</td>\n",
              "      <td>NaN</td>\n",
              "    </tr>\n",
              "    <tr>\n",
              "      <th>8291</th>\n",
              "      <td>COLEGIO PRIVADO MIXTO \"SANTIAGO APOSTOL\"</td>\n",
              "      <td>NaN</td>\n",
              "    </tr>\n",
              "    <tr>\n",
              "      <th>8321</th>\n",
              "      <td>INSTITUTO PRIVADO MIXTO 'MIGUEL ANGEL ASTURIAS'</td>\n",
              "      <td>NaN</td>\n",
              "    </tr>\n",
              "    <tr>\n",
              "      <th>8452</th>\n",
              "      <td>INSTITUTO NORMAL MIXTO 'MALACATAN'</td>\n",
              "      <td>NaN</td>\n",
              "    </tr>\n",
              "    <tr>\n",
              "      <th>8453</th>\n",
              "      <td>COLEGIO CORAZON DE JESUS</td>\n",
              "      <td>NaN</td>\n",
              "    </tr>\n",
              "    <tr>\n",
              "      <th>8656</th>\n",
              "      <td>INSTITUTO GUATEMALTECO DE EDUCACION RADIOFONIC...</td>\n",
              "      <td>NaN</td>\n",
              "    </tr>\n",
              "    <tr>\n",
              "      <th>8678</th>\n",
              "      <td>COLEGIO PRIVADO DR.JORGE ROMERO IMERY</td>\n",
              "      <td>NaN</td>\n",
              "    </tr>\n",
              "    <tr>\n",
              "      <th>8720</th>\n",
              "      <td>COLEGIO MIXTO LICEO PANAJACHEL</td>\n",
              "      <td>NaN</td>\n",
              "    </tr>\n",
              "    <tr>\n",
              "      <th>8906</th>\n",
              "      <td>INSTITUTO GUATEMALTECO DE EDUCACION RADIOFONIC...</td>\n",
              "      <td>NaN</td>\n",
              "    </tr>\n",
              "    <tr>\n",
              "      <th>9008</th>\n",
              "      <td>INSTITUTO TECNICO INDUSTRIAL</td>\n",
              "      <td>NaN</td>\n",
              "    </tr>\n",
              "    <tr>\n",
              "      <th>9114</th>\n",
              "      <td>INSTITUTO TECNICO VOCACIONAL PRIVADO 'HEBRON'</td>\n",
              "      <td>NaN</td>\n",
              "    </tr>\n",
              "    <tr>\n",
              "      <th>9181</th>\n",
              "      <td>INSTITUTO GUATEMALTECO DE EDUCACION RADIOFONIC...</td>\n",
              "      <td>NaN</td>\n",
              "    </tr>\n",
              "    <tr>\n",
              "      <th>9274</th>\n",
              "      <td>INSTITUTO GUATEMALTECO DE EDUCACION RADIOFONIC...</td>\n",
              "      <td>NaN</td>\n",
              "    </tr>\n",
              "  </tbody>\n",
              "</table>\n",
              "</div>"
            ],
            "text/plain": [
              "                                        ESTABLECIMIENTO DIRECCION\n",
              "96    INSTITUTO GUATEMALTECO DE EDUCACION RADIOFONIC...       NaN\n",
              "281   LICEO DE BACHILLERATO EN COMPUTACION Y EDUCACI...       NaN\n",
              "858      ESCUELA PRIVADA DE EDUCACION FISICA DE ORIENTE       NaN\n",
              "978                            LICEO TECNICO CONCEPCION       NaN\n",
              "1104                         COLEGIO NACIONAL AMERICANO       NaN\n",
              "1106              INSTITUTO PRIVADO \"TECNICO AMERICANO\"       NaN\n",
              "1107                                     COLEGIO KEPLER       NaN\n",
              "2149   COLEGIO MIXTO DIURNO 'FRANKLIN DELANO ROOSEVELT'       NaN\n",
              "2150  CENTRO EDUCACIONAL DE ESTUDIOS ECONOMICO-ADMIN...       NaN\n",
              "2843  INSTITUTO GUATEMALTECO DE EDUCACION RADIOFONIC...       NaN\n",
              "3123                        COLEGIO MIXTO DIVERSIFICADO       NaN\n",
              "3420  INSTITUTO DE EDUCACION DIVERSIFICADA POR COOPE...       NaN\n",
              "4248             CENTRO EDUCATIVO JOSE MILLA Y VIDAURRE       NaN\n",
              "4257                  COLEGIO CRISTIANO \"HERMOSO JESUS\"       NaN\n",
              "5029          COLEGIO PRIVADO MIXTO JOSE ERNESTO MONZON       NaN\n",
              "5124  INSTITUTO DE CIENCIAS COMERCIALES POR COOPERAT...       NaN\n",
              "5125  INSTITUTO DE CIENCIAS COMERCIALES POR COOPERATIVA       NaN\n",
              "5203  INSTITUTO NORMAL MIXTO POR COOPERATIVA ADSCRIT...       NaN\n",
              "5766  INSTITUTO GUATEMALTECO DE EDUCACION RADIOFONIC...       NaN\n",
              "5824  ESCUELA NORMAL REGIONAL DE PARVULOS ADS. A ESC...       NaN\n",
              "5929  INSTITUTO DE BACHILLERATO POR MADUREZ 'JUTIAPA...       NaN\n",
              "5933  INSTITUTO PARTICULAR MIXTO DE EDUCACION DIVERS...       NaN\n",
              "5937  INSTITUTO GUATEMALTECO DE EDUCACION RADIOFONIC...       NaN\n",
              "6026  INSTITUTO PARTICULAR MIXTO DE CIENCIAS COMERCI...       NaN\n",
              "6083            COLEGIO PARTICULAR MIXTO LICEO ORIENTAL       NaN\n",
              "6141                                     LICEO SAN JOSE       NaN\n",
              "6192  INSTITUTO GUATEMALTECA DE EDUCACION RADIOFONIC...       NaN\n",
              "6266  INSTITUTO PRIVADO MIXTO DE EDUCACION DIVERSIFI...       NaN\n",
              "6323  INSTITUTO PRIVADO MIXTO DE EDUCACION DIVERSIFI...       NaN\n",
              "6324                   INSTITUTO PRIVADO MIXTO NOCTURNO       NaN\n",
              "6354        ESCUELA DE CIENCIAS COMERCIALES 'SANTA ANA'       NaN\n",
              "6374  INSTITUTO PRIVADO DE CIENCIAS COMERCIALES 'ANT...       NaN\n",
              "6395            ESCUELA PRIVADA DE CIENCIAS COMERCIALES       NaN\n",
              "6452  INSTITUTO PRIVADO MIXTO DE EDUCACION DIVERSIFI...       NaN\n",
              "6703  INSTITUTO GUATEMALTECO DE EDUCACION RADIOFONIC...       NaN\n",
              "6786      CENTRO DE ESTUDIOS MODERNOS NOVISIMA ACADEMIA       NaN\n",
              "7948  COLEGIO PARROQUIAL MIXTO 'EL SAGRADO CORAZON D...       NaN\n",
              "8029               LICEO PARTICULAR MIXTO 'SAN ANTONIO'       NaN\n",
              "8186              INSTITUTO DIVERSIFICADO PRIVADO MIXTO       NaN\n",
              "8291           COLEGIO PRIVADO MIXTO \"SANTIAGO APOSTOL\"       NaN\n",
              "8321    INSTITUTO PRIVADO MIXTO 'MIGUEL ANGEL ASTURIAS'       NaN\n",
              "8452                 INSTITUTO NORMAL MIXTO 'MALACATAN'       NaN\n",
              "8453                           COLEGIO CORAZON DE JESUS       NaN\n",
              "8656  INSTITUTO GUATEMALTECO DE EDUCACION RADIOFONIC...       NaN\n",
              "8678              COLEGIO PRIVADO DR.JORGE ROMERO IMERY       NaN\n",
              "8720                     COLEGIO MIXTO LICEO PANAJACHEL       NaN\n",
              "8906  INSTITUTO GUATEMALTECO DE EDUCACION RADIOFONIC...       NaN\n",
              "9008                       INSTITUTO TECNICO INDUSTRIAL       NaN\n",
              "9114      INSTITUTO TECNICO VOCACIONAL PRIVADO 'HEBRON'       NaN\n",
              "9181  INSTITUTO GUATEMALTECO DE EDUCACION RADIOFONIC...       NaN\n",
              "9274  INSTITUTO GUATEMALTECO DE EDUCACION RADIOFONIC...       NaN"
            ]
          },
          "execution_count": 20,
          "metadata": {},
          "output_type": "execute_result"
        }
      ],
      "source": [
        "df[df['DIRECCION'].isna()][['ESTABLECIMIENTO', 'DIRECCION']]"
      ]
    },
    {
      "cell_type": "markdown",
      "id": "36c6c80ad87ba2",
      "metadata": {
        "id": "36c6c80ad87ba2"
      },
      "source": [
        "Existen 51 establecimientos que no tienen especificada una dirección. Procedemos a imputar estos valores con un valor que represente la ausencia de una dirección."
      ]
    },
    {
      "cell_type": "code",
      "execution_count": 21,
      "id": "53833c100bcab391",
      "metadata": {
        "ExecuteTime": {
          "end_time": "2024-08-04T21:13:16.545524Z",
          "start_time": "2024-08-04T21:13:16.532574Z"
        },
        "id": "53833c100bcab391"
      },
      "outputs": [],
      "source": [
        "df['DIRECCION'] = df['DIRECCION'].fillna('SIN DIRECCION')"
      ]
    },
    {
      "cell_type": "code",
      "execution_count": 22,
      "id": "dbb9123fea4d9bb2",
      "metadata": {
        "ExecuteTime": {
          "end_time": "2024-08-04T21:13:16.558416Z",
          "start_time": "2024-08-04T21:13:16.546520Z"
        },
        "colab": {
          "base_uri": "https://localhost:8080/"
        },
        "id": "dbb9123fea4d9bb2",
        "outputId": "32263428-40f8-4bbb-b0bf-5382755d9a75"
      },
      "outputs": [
        {
          "data": {
            "text/plain": [
              "np.int64(0)"
            ]
          },
          "execution_count": 22,
          "metadata": {},
          "output_type": "execute_result"
        }
      ],
      "source": [
        "df['DIRECCION'].isna().sum()"
      ]
    },
    {
      "cell_type": "code",
      "execution_count": 23,
      "id": "fe4f7afaa35e84d1",
      "metadata": {
        "ExecuteTime": {
          "end_time": "2024-08-04T21:13:16.581439Z",
          "start_time": "2024-08-04T21:13:16.559425Z"
        },
        "colab": {
          "base_uri": "https://localhost:8080/",
          "height": 570
        },
        "id": "fe4f7afaa35e84d1",
        "outputId": "6be91d67-6d86-402c-9d36-cb21113e38ad"
      },
      "outputs": [
        {
          "data": {
            "text/html": [
              "<div>\n",
              "<style scoped>\n",
              "    .dataframe tbody tr th:only-of-type {\n",
              "        vertical-align: middle;\n",
              "    }\n",
              "\n",
              "    .dataframe tbody tr th {\n",
              "        vertical-align: top;\n",
              "    }\n",
              "\n",
              "    .dataframe thead th {\n",
              "        text-align: right;\n",
              "    }\n",
              "</style>\n",
              "<table border=\"1\" class=\"dataframe\">\n",
              "  <thead>\n",
              "    <tr style=\"text-align: right;\">\n",
              "      <th></th>\n",
              "      <th>CODIGO</th>\n",
              "      <th>DISTRITO</th>\n",
              "      <th>DEPARTAMENTO</th>\n",
              "      <th>MUNICIPIO</th>\n",
              "      <th>ESTABLECIMIENTO</th>\n",
              "      <th>DIRECCION</th>\n",
              "      <th>TELEFONO</th>\n",
              "      <th>SUPERVISOR</th>\n",
              "      <th>DIRECTOR</th>\n",
              "      <th>NIVEL</th>\n",
              "      <th>SECTOR</th>\n",
              "      <th>AREA</th>\n",
              "      <th>STATUS</th>\n",
              "      <th>MODALIDAD</th>\n",
              "      <th>JORNADA</th>\n",
              "      <th>PLAN</th>\n",
              "      <th>DEPARTAMENTAL</th>\n",
              "    </tr>\n",
              "  </thead>\n",
              "  <tbody>\n",
              "    <tr>\n",
              "      <th>592</th>\n",
              "      <td>04-01-0655-46</td>\n",
              "      <td>04-020</td>\n",
              "      <td>CHIMALTENANGO</td>\n",
              "      <td>CHIMALTENANGO</td>\n",
              "      <td>INST. PRIVADO MIXTO DE EDUC. DIVERSIFICADA COL...</td>\n",
              "      <td>3a. CALLE 6-108 ZONA 1, COLONIA LAS MAJADAS</td>\n",
              "      <td>78392471</td>\n",
              "      <td>LESLY YOLANDA PEREZ CHAMALE</td>\n",
              "      <td>NaN</td>\n",
              "      <td>DIVERSIFICADO</td>\n",
              "      <td>PRIVADO</td>\n",
              "      <td>URBANA</td>\n",
              "      <td>CERRADA TEMPORALMENTE</td>\n",
              "      <td>MONOLINGUE</td>\n",
              "      <td>MATUTINA</td>\n",
              "      <td>DIARIO(REGULAR)</td>\n",
              "      <td>CHIMALTENANGO</td>\n",
              "    </tr>\n",
              "    <tr>\n",
              "      <th>1365</th>\n",
              "      <td>00-01-2984-46</td>\n",
              "      <td>NaN</td>\n",
              "      <td>CIUDAD CAPITAL</td>\n",
              "      <td>ZONA 1</td>\n",
              "      <td>COLEGIO DE COMPUTACION 'BLAISE PASCAL'</td>\n",
              "      <td>8a. AV. 3-30 ZONA 1</td>\n",
              "      <td>NaN</td>\n",
              "      <td>NaN</td>\n",
              "      <td>NaN</td>\n",
              "      <td>DIVERSIFICADO</td>\n",
              "      <td>PRIVADO</td>\n",
              "      <td>URBANA</td>\n",
              "      <td>CERRADA TEMPORALMENTE</td>\n",
              "      <td>MONOLINGUE</td>\n",
              "      <td>NOCTURNA</td>\n",
              "      <td>DIARIO(REGULAR)</td>\n",
              "      <td>GUATEMALA NORTE</td>\n",
              "    </tr>\n",
              "    <tr>\n",
              "      <th>3796</th>\n",
              "      <td>01-08-2975-46</td>\n",
              "      <td>NaN</td>\n",
              "      <td>GUATEMALA</td>\n",
              "      <td>MIXCO</td>\n",
              "      <td>SAN LUIS GOZAGA</td>\n",
              "      <td>8a. AVE. 6-12 ZONA 1, MIXCO, GUATEMALA</td>\n",
              "      <td>NaN</td>\n",
              "      <td>NaN</td>\n",
              "      <td>NaN</td>\n",
              "      <td>DIVERSIFICADO</td>\n",
              "      <td>PRIVADO</td>\n",
              "      <td>URBANA</td>\n",
              "      <td>CERRADA TEMPORALMENTE</td>\n",
              "      <td>MONOLINGUE</td>\n",
              "      <td>MATUTINA</td>\n",
              "      <td>DIARIO(REGULAR)</td>\n",
              "      <td>GUATEMALA OCCIDENTE</td>\n",
              "    </tr>\n",
              "    <tr>\n",
              "      <th>4486</th>\n",
              "      <td>01-15-2400-46</td>\n",
              "      <td>01-219</td>\n",
              "      <td>GUATEMALA</td>\n",
              "      <td>VILLA NUEVA</td>\n",
              "      <td>INSTITUTO PRIVADO MIXTO DE EDUCACION DIVERSIFI...</td>\n",
              "      <td>ANEXO I CASA No.14 COLONIA CIUDAD REAL II</td>\n",
              "      <td>NaN</td>\n",
              "      <td>DAVID SALOMON MEJIA SAMAYOA</td>\n",
              "      <td>NaN</td>\n",
              "      <td>DIVERSIFICADO</td>\n",
              "      <td>PRIVADO</td>\n",
              "      <td>URBANA</td>\n",
              "      <td>CERRADA TEMPORALMENTE</td>\n",
              "      <td>MONOLINGUE</td>\n",
              "      <td>MATUTINA</td>\n",
              "      <td>DIARIO(REGULAR)</td>\n",
              "      <td>GUATEMALA SUR</td>\n",
              "    </tr>\n",
              "    <tr>\n",
              "      <th>4658</th>\n",
              "      <td>01-16-2893-46</td>\n",
              "      <td>NaN</td>\n",
              "      <td>GUATEMALA</td>\n",
              "      <td>VILLA CANALES</td>\n",
              "      <td>CENTRO EDUCACIONAL BENEDICTINO</td>\n",
              "      <td>1a. AV. 5-77 ZONA 2</td>\n",
              "      <td>24480639</td>\n",
              "      <td>NaN</td>\n",
              "      <td>NaN</td>\n",
              "      <td>DIVERSIFICADO</td>\n",
              "      <td>PRIVADO</td>\n",
              "      <td>RURAL</td>\n",
              "      <td>CERRADA TEMPORALMENTE</td>\n",
              "      <td>MONOLINGUE</td>\n",
              "      <td>MATUTINA</td>\n",
              "      <td>DIARIO(REGULAR)</td>\n",
              "      <td>GUATEMALA ORIENTE</td>\n",
              "    </tr>\n",
              "    <tr>\n",
              "      <th>7482</th>\n",
              "      <td>11-04-0117-46</td>\n",
              "      <td>NaN</td>\n",
              "      <td>RETALHULEU</td>\n",
              "      <td>SAN MARTIN ZAPOTITLAN</td>\n",
              "      <td>INSTITUTO PRIVADO MIXTO DE EDUCACION DIVERSIFI...</td>\n",
              "      <td>APARTADO No. 3-11905</td>\n",
              "      <td>NaN</td>\n",
              "      <td>NaN</td>\n",
              "      <td>NaN</td>\n",
              "      <td>DIVERSIFICADO</td>\n",
              "      <td>PRIVADO</td>\n",
              "      <td>RURAL</td>\n",
              "      <td>CERRADA TEMPORALMENTE</td>\n",
              "      <td>MONOLINGUE</td>\n",
              "      <td>MATUTINA</td>\n",
              "      <td>DIARIO(REGULAR)</td>\n",
              "      <td>RETALHULEU</td>\n",
              "    </tr>\n",
              "  </tbody>\n",
              "</table>\n",
              "</div>"
            ],
            "text/plain": [
              "             CODIGO DISTRITO    DEPARTAMENTO              MUNICIPIO  \\\n",
              "592   04-01-0655-46   04-020   CHIMALTENANGO          CHIMALTENANGO   \n",
              "1365  00-01-2984-46      NaN  CIUDAD CAPITAL                 ZONA 1   \n",
              "3796  01-08-2975-46      NaN       GUATEMALA                  MIXCO   \n",
              "4486  01-15-2400-46   01-219       GUATEMALA            VILLA NUEVA   \n",
              "4658  01-16-2893-46      NaN       GUATEMALA          VILLA CANALES   \n",
              "7482  11-04-0117-46      NaN      RETALHULEU  SAN MARTIN ZAPOTITLAN   \n",
              "\n",
              "                                        ESTABLECIMIENTO  \\\n",
              "592   INST. PRIVADO MIXTO DE EDUC. DIVERSIFICADA COL...   \n",
              "1365             COLEGIO DE COMPUTACION 'BLAISE PASCAL'   \n",
              "3796                                    SAN LUIS GOZAGA   \n",
              "4486  INSTITUTO PRIVADO MIXTO DE EDUCACION DIVERSIFI...   \n",
              "4658                     CENTRO EDUCACIONAL BENEDICTINO   \n",
              "7482  INSTITUTO PRIVADO MIXTO DE EDUCACION DIVERSIFI...   \n",
              "\n",
              "                                        DIRECCION  TELEFONO  \\\n",
              "592   3a. CALLE 6-108 ZONA 1, COLONIA LAS MAJADAS  78392471   \n",
              "1365                          8a. AV. 3-30 ZONA 1       NaN   \n",
              "3796       8a. AVE. 6-12 ZONA 1, MIXCO, GUATEMALA       NaN   \n",
              "4486    ANEXO I CASA No.14 COLONIA CIUDAD REAL II       NaN   \n",
              "4658                          1a. AV. 5-77 ZONA 2  24480639   \n",
              "7482                         APARTADO No. 3-11905       NaN   \n",
              "\n",
              "                       SUPERVISOR DIRECTOR          NIVEL   SECTOR    AREA  \\\n",
              "592   LESLY YOLANDA PEREZ CHAMALE      NaN  DIVERSIFICADO  PRIVADO  URBANA   \n",
              "1365                          NaN      NaN  DIVERSIFICADO  PRIVADO  URBANA   \n",
              "3796                          NaN      NaN  DIVERSIFICADO  PRIVADO  URBANA   \n",
              "4486  DAVID SALOMON MEJIA SAMAYOA      NaN  DIVERSIFICADO  PRIVADO  URBANA   \n",
              "4658                          NaN      NaN  DIVERSIFICADO  PRIVADO   RURAL   \n",
              "7482                          NaN      NaN  DIVERSIFICADO  PRIVADO   RURAL   \n",
              "\n",
              "                     STATUS   MODALIDAD   JORNADA             PLAN  \\\n",
              "592   CERRADA TEMPORALMENTE  MONOLINGUE  MATUTINA  DIARIO(REGULAR)   \n",
              "1365  CERRADA TEMPORALMENTE  MONOLINGUE  NOCTURNA  DIARIO(REGULAR)   \n",
              "3796  CERRADA TEMPORALMENTE  MONOLINGUE  MATUTINA  DIARIO(REGULAR)   \n",
              "4486  CERRADA TEMPORALMENTE  MONOLINGUE  MATUTINA  DIARIO(REGULAR)   \n",
              "4658  CERRADA TEMPORALMENTE  MONOLINGUE  MATUTINA  DIARIO(REGULAR)   \n",
              "7482  CERRADA TEMPORALMENTE  MONOLINGUE  MATUTINA  DIARIO(REGULAR)   \n",
              "\n",
              "            DEPARTAMENTAL  \n",
              "592         CHIMALTENANGO  \n",
              "1365      GUATEMALA NORTE  \n",
              "3796  GUATEMALA OCCIDENTE  \n",
              "4486        GUATEMALA SUR  \n",
              "4658    GUATEMALA ORIENTE  \n",
              "7482           RETALHULEU  "
            ]
          },
          "execution_count": 23,
          "metadata": {},
          "output_type": "execute_result"
        }
      ],
      "source": [
        "df[df['DIRECCION'].str.contains('[a-z]')]"
      ]
    },
    {
      "cell_type": "code",
      "execution_count": 24,
      "id": "d5d708d1ae0af685",
      "metadata": {
        "ExecuteTime": {
          "end_time": "2024-08-04T21:13:16.589065Z",
          "start_time": "2024-08-04T21:13:16.582447Z"
        },
        "id": "d5d708d1ae0af685"
      },
      "outputs": [],
      "source": [
        "df['DIRECCION'] = df['DIRECCION'].str.upper()"
      ]
    },
    {
      "cell_type": "markdown",
      "id": "847cee73870e1f7e",
      "metadata": {
        "id": "847cee73870e1f7e"
      },
      "source": [
        "En la dirección, al referirse a algunas calles/avenidas ordinales, se tenía una minúscula."
      ]
    },
    {
      "cell_type": "markdown",
      "id": "c581b671ee701927",
      "metadata": {
        "id": "c581b671ee701927"
      },
      "source": [
        "#### TELEFONO"
      ]
    },
    {
      "cell_type": "code",
      "execution_count": 25,
      "id": "4f732d951d736c4c",
      "metadata": {
        "ExecuteTime": {
          "end_time": "2024-08-04T21:13:16.608430Z",
          "start_time": "2024-08-04T21:13:16.590074Z"
        },
        "colab": {
          "base_uri": "https://localhost:8080/"
        },
        "id": "4f732d951d736c4c",
        "outputId": "482143cf-f597-48ce-c300-c8f5679a068d"
      },
      "outputs": [
        {
          "data": {
            "text/plain": [
              "np.int64(535)"
            ]
          },
          "execution_count": 25,
          "metadata": {},
          "output_type": "execute_result"
        }
      ],
      "source": [
        "df['TELEFONO'].isna().sum()"
      ]
    },
    {
      "cell_type": "code",
      "execution_count": 26,
      "id": "8cce14ca7b010e8",
      "metadata": {
        "ExecuteTime": {
          "end_time": "2024-08-04T21:13:16.621770Z",
          "start_time": "2024-08-04T21:13:16.610425Z"
        },
        "id": "8cce14ca7b010e8"
      },
      "outputs": [],
      "source": [
        "df['TELEFONO'] = df['TELEFONO'].fillna('')"
      ]
    },
    {
      "cell_type": "code",
      "execution_count": 27,
      "id": "18a6edaeaf9f881c",
      "metadata": {
        "ExecuteTime": {
          "end_time": "2024-08-04T21:13:16.635295Z",
          "start_time": "2024-08-04T21:13:16.622806Z"
        },
        "id": "18a6edaeaf9f881c"
      },
      "outputs": [],
      "source": [
        "df['TELEFONO'] = df['TELEFONO'].astype(str)"
      ]
    },
    {
      "cell_type": "markdown",
      "id": "a3d58a113dad38",
      "metadata": {
        "id": "a3d58a113dad38"
      },
      "source": [
        "Podemos ver el pésimo formato de los números del teléfono. Existen también algunos con longitud de 7 dígitos, lo que implica que son números de teléfono de antes del 2000."
      ]
    },
    {
      "cell_type": "markdown",
      "id": "d57bcf90697fb065",
      "metadata": {
        "id": "d57bcf90697fb065"
      },
      "source": [
        "Hay números de teléfono separados por '-', '  ' o ', ', se elimina este carácter para los números con longitud de 8 dígitos (XXXX-XXXX) y para los de 7 (XXX-XXXX)"
      ]
    },
    {
      "cell_type": "code",
      "execution_count": 28,
      "id": "58e46507db006606",
      "metadata": {
        "ExecuteTime": {
          "end_time": "2024-08-04T21:13:16.711034Z",
          "start_time": "2024-08-04T21:13:16.701862Z"
        },
        "id": "58e46507db006606"
      },
      "outputs": [],
      "source": [
        "df['TELEFONO'] = df['TELEFONO'].apply(\n",
        "    lambda x:\n",
        "    x.split('/')[0]\n",
        "    if len(x.split('/')[0]) in [8, 7]\n",
        "    else x\n",
        ")"
      ]
    },
    {
      "cell_type": "markdown",
      "id": "bc665ebf357d0aef",
      "metadata": {
        "id": "bc665ebf357d0aef"
      },
      "source": [
        "Si el número se encuentra dividido por partes, lo unimos"
      ]
    },
    {
      "cell_type": "code",
      "execution_count": 29,
      "id": "9d165c256050fda7",
      "metadata": {
        "ExecuteTime": {
          "end_time": "2024-08-04T21:13:16.727037Z",
          "start_time": "2024-08-04T21:13:16.712039Z"
        },
        "id": "9d165c256050fda7"
      },
      "outputs": [],
      "source": [
        "df['TELEFONO'] = df['TELEFONO'].apply(\n",
        "    lambda x:\n",
        "    x.replace('-', '')\n",
        "    if len(x.split('-')) == 2 and len(x.split('-')[0]) in [3, 4] and len(x.split('-')[1]) == 4\n",
        "    else x\n",
        ")"
      ]
    },
    {
      "cell_type": "markdown",
      "id": "_DAPYou5w7QK",
      "metadata": {
        "id": "_DAPYou5w7QK"
      },
      "source": [
        "Función que realiza el procesado de números alternativos si es que existe más de un número en la celda, ya sea separado por un espacio en blanco, un guion o una coma."
      ]
    },
    {
      "cell_type": "code",
      "execution_count": 30,
      "id": "xbdlYQ3fwYou",
      "metadata": {
        "id": "xbdlYQ3fwYou"
      },
      "outputs": [],
      "source": [
        "def extract_phones(phone_str):\n",
        "\n",
        "    phones = re.split(r'[\\s,/-]+', phone_str)\n",
        "    valid_phones = [phone for phone in phones if len(phone) in [7, 8]]\n",
        "    primary_phone = valid_phones[0] if valid_phones else ''\n",
        "    alt_phones = valid_phones[1:] if len(valid_phones) > 1 else []\n",
        "\n",
        "    return primary_phone, alt_phones"
      ]
    },
    {
      "cell_type": "code",
      "execution_count": 31,
      "id": "U-YEyjF3wdWi",
      "metadata": {
        "id": "U-YEyjF3wdWi"
      },
      "outputs": [],
      "source": [
        "df['TELEFONO'], df['TELEFONO_ALT'] = zip(*df['TELEFONO'].apply(extract_phones))"
      ]
    },
    {
      "cell_type": "markdown",
      "id": "jZJwY1Y5xTkk",
      "metadata": {
        "id": "jZJwY1Y5xTkk"
      },
      "source": [
        "Dado que puede existir más de un teléfono alternativo la separacion de estos se estadariza usando comas."
      ]
    },
    {
      "cell_type": "code",
      "execution_count": 32,
      "id": "7fO3CzsOwgak",
      "metadata": {
        "id": "7fO3CzsOwgak"
      },
      "outputs": [],
      "source": [
        "df['TELEFONO_ALT'] = df['TELEFONO_ALT'].apply(lambda x: ','.join(x) if x else -1)"
      ]
    },
    {
      "cell_type": "markdown",
      "id": "3d362b4a7e7298d8",
      "metadata": {
        "id": "3d362b4a7e7298d8"
      },
      "source": [
        "Ahora, la columna de número de teléfono puede ser numérica, los valores nulos se representan con -1"
      ]
    },
    {
      "cell_type": "code",
      "execution_count": 33,
      "id": "bb56dfb66367b5fa",
      "metadata": {
        "ExecuteTime": {
          "end_time": "2024-08-04T21:13:16.816798Z",
          "start_time": "2024-08-04T21:13:16.804760Z"
        },
        "id": "bb56dfb66367b5fa"
      },
      "outputs": [],
      "source": [
        "df['TELEFONO'] = df['TELEFONO'].replace('', -1).astype(int)\n",
        "df['TELEFONO_ALT'] = df['TELEFONO_ALT'].replace('', -1)"
      ]
    },
    {
      "cell_type": "markdown",
      "id": "55YyXAnXxo5K",
      "metadata": {
        "id": "55YyXAnXxo5K"
      },
      "source": [
        "Se verifica que no existan numeros con una longitud inválida, es decir, que no sea 7 ni 8."
      ]
    },
    {
      "cell_type": "code",
      "execution_count": 34,
      "id": "f44acdf61fe00e05",
      "metadata": {
        "ExecuteTime": {
          "end_time": "2024-08-04T21:13:16.745567Z",
          "start_time": "2024-08-04T21:13:16.728036Z"
        },
        "colab": {
          "base_uri": "https://localhost:8080/",
          "height": 254
        },
        "id": "f44acdf61fe00e05",
        "outputId": "33e5fd4c-bc21-4468-c850-21fafcffa31e"
      },
      "outputs": [
        {
          "data": {
            "text/html": [
              "<div>\n",
              "<style scoped>\n",
              "    .dataframe tbody tr th:only-of-type {\n",
              "        vertical-align: middle;\n",
              "    }\n",
              "\n",
              "    .dataframe tbody tr th {\n",
              "        vertical-align: top;\n",
              "    }\n",
              "\n",
              "    .dataframe thead th {\n",
              "        text-align: right;\n",
              "    }\n",
              "</style>\n",
              "<table border=\"1\" class=\"dataframe\">\n",
              "  <thead>\n",
              "    <tr style=\"text-align: right;\">\n",
              "      <th></th>\n",
              "      <th>CODIGO</th>\n",
              "      <th>DISTRITO</th>\n",
              "      <th>DEPARTAMENTO</th>\n",
              "      <th>MUNICIPIO</th>\n",
              "      <th>ESTABLECIMIENTO</th>\n",
              "      <th>DIRECCION</th>\n",
              "      <th>TELEFONO</th>\n",
              "      <th>SUPERVISOR</th>\n",
              "      <th>DIRECTOR</th>\n",
              "      <th>NIVEL</th>\n",
              "      <th>SECTOR</th>\n",
              "      <th>AREA</th>\n",
              "      <th>STATUS</th>\n",
              "      <th>MODALIDAD</th>\n",
              "      <th>JORNADA</th>\n",
              "      <th>PLAN</th>\n",
              "      <th>DEPARTAMENTAL</th>\n",
              "      <th>TELEFONO_ALT</th>\n",
              "    </tr>\n",
              "  </thead>\n",
              "  <tbody>\n",
              "    <tr>\n",
              "      <th>5061</th>\n",
              "      <td>13-07-0039-46</td>\n",
              "      <td>13-051</td>\n",
              "      <td>HUEHUETENANGO</td>\n",
              "      <td>JACALTENANGO</td>\n",
              "      <td>INSTITUTO MIXTO COMUNITARIO DE EDUCACION BILIN...</td>\n",
              "      <td>ALDE EL LIMONAR</td>\n",
              "      <td>0</td>\n",
              "      <td>CESAR GODÍNEZ GIRÓN</td>\n",
              "      <td>MARIA ADICELA SILVESTRE DOMINGO</td>\n",
              "      <td>DIVERSIFICADO</td>\n",
              "      <td>PRIVADO</td>\n",
              "      <td>RURAL</td>\n",
              "      <td>CERRADA TEMPORALMENTE</td>\n",
              "      <td>BILINGUE</td>\n",
              "      <td>DOBLE</td>\n",
              "      <td>FIN DE SEMANA</td>\n",
              "      <td>HUEHUETENANGO</td>\n",
              "      <td>-1</td>\n",
              "    </tr>\n",
              "    <tr>\n",
              "      <th>5501</th>\n",
              "      <td>18-02-0347-46</td>\n",
              "      <td>18-017</td>\n",
              "      <td>IZABAL</td>\n",
              "      <td>LIVINGSTON</td>\n",
              "      <td>INSTITUTO PRIVADO MIXTO \"HERMANO PEDRO DE BETA...</td>\n",
              "      <td>ALDEA LOS ANGELES</td>\n",
              "      <td>0</td>\n",
              "      <td>LEYVIMARLOT ENRIQUEZ ESPINOSA</td>\n",
              "      <td>MAGDALENA MARTINEZ MENDEZ</td>\n",
              "      <td>DIVERSIFICADO</td>\n",
              "      <td>PRIVADO</td>\n",
              "      <td>RURAL</td>\n",
              "      <td>ABIERTA</td>\n",
              "      <td>MONOLINGUE</td>\n",
              "      <td>MATUTINA</td>\n",
              "      <td>DIARIO(REGULAR)</td>\n",
              "      <td>IZABAL</td>\n",
              "      <td>53886336</td>\n",
              "    </tr>\n",
              "  </tbody>\n",
              "</table>\n",
              "</div>"
            ],
            "text/plain": [
              "             CODIGO DISTRITO   DEPARTAMENTO     MUNICIPIO  \\\n",
              "5061  13-07-0039-46   13-051  HUEHUETENANGO  JACALTENANGO   \n",
              "5501  18-02-0347-46   18-017         IZABAL    LIVINGSTON   \n",
              "\n",
              "                                        ESTABLECIMIENTO          DIRECCION  \\\n",
              "5061  INSTITUTO MIXTO COMUNITARIO DE EDUCACION BILIN...    ALDE EL LIMONAR   \n",
              "5501  INSTITUTO PRIVADO MIXTO \"HERMANO PEDRO DE BETA...  ALDEA LOS ANGELES   \n",
              "\n",
              "      TELEFONO                     SUPERVISOR  \\\n",
              "5061         0            CESAR GODÍNEZ GIRÓN   \n",
              "5501         0  LEYVIMARLOT ENRIQUEZ ESPINOSA   \n",
              "\n",
              "                             DIRECTOR          NIVEL   SECTOR   AREA  \\\n",
              "5061  MARIA ADICELA SILVESTRE DOMINGO  DIVERSIFICADO  PRIVADO  RURAL   \n",
              "5501        MAGDALENA MARTINEZ MENDEZ  DIVERSIFICADO  PRIVADO  RURAL   \n",
              "\n",
              "                     STATUS   MODALIDAD   JORNADA             PLAN  \\\n",
              "5061  CERRADA TEMPORALMENTE    BILINGUE     DOBLE    FIN DE SEMANA   \n",
              "5501                ABIERTA  MONOLINGUE  MATUTINA  DIARIO(REGULAR)   \n",
              "\n",
              "      DEPARTAMENTAL TELEFONO_ALT  \n",
              "5061  HUEHUETENANGO           -1  \n",
              "5501         IZABAL     53886336  "
            ]
          },
          "execution_count": 34,
          "metadata": {},
          "output_type": "execute_result"
        }
      ],
      "source": [
        "df[df['TELEFONO'].apply(lambda x: len(str(x)) not in [7, 8] and x != -1)]"
      ]
    },
    {
      "cell_type": "code",
      "execution_count": 35,
      "id": "w0-Burg3y9kT",
      "metadata": {
        "id": "w0-Burg3y9kT"
      },
      "outputs": [],
      "source": [
        "df['TELEFONO'] = df['TELEFONO'].apply(lambda x: x if len(str(x)) in [7, 8] else -1)"
      ]
    },
    {
      "cell_type": "markdown",
      "id": "hXyj4SyJ1KpF",
      "metadata": {
        "id": "hXyj4SyJ1KpF"
      },
      "source": [
        "Verificar que no existan número de teléfono nulos mientras que sí existen números de teléfono alternativos."
      ]
    },
    {
      "cell_type": "code",
      "execution_count": 36,
      "id": "XEno0yB51RfY",
      "metadata": {
        "colab": {
          "base_uri": "https://localhost:8080/",
          "height": 170
        },
        "id": "XEno0yB51RfY",
        "outputId": "89863086-36c1-4179-a797-71da2014d2f1"
      },
      "outputs": [
        {
          "data": {
            "text/html": [
              "<div>\n",
              "<style scoped>\n",
              "    .dataframe tbody tr th:only-of-type {\n",
              "        vertical-align: middle;\n",
              "    }\n",
              "\n",
              "    .dataframe tbody tr th {\n",
              "        vertical-align: top;\n",
              "    }\n",
              "\n",
              "    .dataframe thead th {\n",
              "        text-align: right;\n",
              "    }\n",
              "</style>\n",
              "<table border=\"1\" class=\"dataframe\">\n",
              "  <thead>\n",
              "    <tr style=\"text-align: right;\">\n",
              "      <th></th>\n",
              "      <th>CODIGO</th>\n",
              "      <th>DISTRITO</th>\n",
              "      <th>DEPARTAMENTO</th>\n",
              "      <th>MUNICIPIO</th>\n",
              "      <th>ESTABLECIMIENTO</th>\n",
              "      <th>DIRECCION</th>\n",
              "      <th>TELEFONO</th>\n",
              "      <th>SUPERVISOR</th>\n",
              "      <th>DIRECTOR</th>\n",
              "      <th>NIVEL</th>\n",
              "      <th>SECTOR</th>\n",
              "      <th>AREA</th>\n",
              "      <th>STATUS</th>\n",
              "      <th>MODALIDAD</th>\n",
              "      <th>JORNADA</th>\n",
              "      <th>PLAN</th>\n",
              "      <th>DEPARTAMENTAL</th>\n",
              "      <th>TELEFONO_ALT</th>\n",
              "    </tr>\n",
              "  </thead>\n",
              "  <tbody>\n",
              "    <tr>\n",
              "      <th>5501</th>\n",
              "      <td>18-02-0347-46</td>\n",
              "      <td>18-017</td>\n",
              "      <td>IZABAL</td>\n",
              "      <td>LIVINGSTON</td>\n",
              "      <td>INSTITUTO PRIVADO MIXTO \"HERMANO PEDRO DE BETA...</td>\n",
              "      <td>ALDEA LOS ANGELES</td>\n",
              "      <td>-1</td>\n",
              "      <td>LEYVIMARLOT ENRIQUEZ ESPINOSA</td>\n",
              "      <td>MAGDALENA MARTINEZ MENDEZ</td>\n",
              "      <td>DIVERSIFICADO</td>\n",
              "      <td>PRIVADO</td>\n",
              "      <td>RURAL</td>\n",
              "      <td>ABIERTA</td>\n",
              "      <td>MONOLINGUE</td>\n",
              "      <td>MATUTINA</td>\n",
              "      <td>DIARIO(REGULAR)</td>\n",
              "      <td>IZABAL</td>\n",
              "      <td>53886336</td>\n",
              "    </tr>\n",
              "  </tbody>\n",
              "</table>\n",
              "</div>"
            ],
            "text/plain": [
              "             CODIGO DISTRITO DEPARTAMENTO   MUNICIPIO  \\\n",
              "5501  18-02-0347-46   18-017       IZABAL  LIVINGSTON   \n",
              "\n",
              "                                        ESTABLECIMIENTO          DIRECCION  \\\n",
              "5501  INSTITUTO PRIVADO MIXTO \"HERMANO PEDRO DE BETA...  ALDEA LOS ANGELES   \n",
              "\n",
              "      TELEFONO                     SUPERVISOR                   DIRECTOR  \\\n",
              "5501        -1  LEYVIMARLOT ENRIQUEZ ESPINOSA  MAGDALENA MARTINEZ MENDEZ   \n",
              "\n",
              "              NIVEL   SECTOR   AREA   STATUS   MODALIDAD   JORNADA  \\\n",
              "5501  DIVERSIFICADO  PRIVADO  RURAL  ABIERTA  MONOLINGUE  MATUTINA   \n",
              "\n",
              "                 PLAN DEPARTAMENTAL TELEFONO_ALT  \n",
              "5501  DIARIO(REGULAR)        IZABAL     53886336  "
            ]
          },
          "execution_count": 36,
          "metadata": {},
          "output_type": "execute_result"
        }
      ],
      "source": [
        "df[(df['TELEFONO'] == -1) & (df['TELEFONO_ALT'] != -1)]"
      ]
    },
    {
      "cell_type": "code",
      "execution_count": 37,
      "id": "flyomNMg1gLK",
      "metadata": {
        "id": "flyomNMg1gLK"
      },
      "outputs": [],
      "source": [
        "df.loc[df['TELEFONO'] == -1, 'TELEFONO'] = df.loc[df['TELEFONO'] == -1, 'TELEFONO_ALT'].apply(lambda x: int(x) if x != -1 else -1)"
      ]
    },
    {
      "cell_type": "code",
      "execution_count": 38,
      "id": "1974ae37936720a0",
      "metadata": {
        "ExecuteTime": {
          "end_time": "2024-08-04T21:13:16.819761Z",
          "start_time": "2024-08-04T21:13:16.817797Z"
        },
        "colab": {
          "base_uri": "https://localhost:8080/",
          "height": 947
        },
        "id": "1974ae37936720a0",
        "outputId": "a86a58be-3ce3-4228-8cab-ac614e972c98"
      },
      "outputs": [
        {
          "data": {
            "text/html": [
              "<div>\n",
              "<style scoped>\n",
              "    .dataframe tbody tr th:only-of-type {\n",
              "        vertical-align: middle;\n",
              "    }\n",
              "\n",
              "    .dataframe tbody tr th {\n",
              "        vertical-align: top;\n",
              "    }\n",
              "\n",
              "    .dataframe thead th {\n",
              "        text-align: right;\n",
              "    }\n",
              "</style>\n",
              "<table border=\"1\" class=\"dataframe\">\n",
              "  <thead>\n",
              "    <tr style=\"text-align: right;\">\n",
              "      <th></th>\n",
              "      <th>CODIGO</th>\n",
              "      <th>DISTRITO</th>\n",
              "      <th>DEPARTAMENTO</th>\n",
              "      <th>MUNICIPIO</th>\n",
              "      <th>ESTABLECIMIENTO</th>\n",
              "      <th>DIRECCION</th>\n",
              "      <th>TELEFONO</th>\n",
              "      <th>SUPERVISOR</th>\n",
              "      <th>DIRECTOR</th>\n",
              "      <th>NIVEL</th>\n",
              "      <th>SECTOR</th>\n",
              "      <th>AREA</th>\n",
              "      <th>STATUS</th>\n",
              "      <th>MODALIDAD</th>\n",
              "      <th>JORNADA</th>\n",
              "      <th>PLAN</th>\n",
              "      <th>DEPARTAMENTAL</th>\n",
              "      <th>TELEFONO_ALT</th>\n",
              "    </tr>\n",
              "  </thead>\n",
              "  <tbody>\n",
              "    <tr>\n",
              "      <th>0</th>\n",
              "      <td>16-01-0138-46</td>\n",
              "      <td>16-031</td>\n",
              "      <td>ALTA VERAPAZ</td>\n",
              "      <td>COBAN</td>\n",
              "      <td>COLEGIO COBAN</td>\n",
              "      <td>KM.2 SALIDA A SAN JUAN CHAMELCO ZONA 8</td>\n",
              "      <td>77945104</td>\n",
              "      <td>MERCEDES JOSEFINA TORRES GALVEZ</td>\n",
              "      <td>GUSTAVO ADOLFO SIERRA POP</td>\n",
              "      <td>DIVERSIFICADO</td>\n",
              "      <td>PRIVADO</td>\n",
              "      <td>URBANA</td>\n",
              "      <td>ABIERTA</td>\n",
              "      <td>MONOLINGUE</td>\n",
              "      <td>MATUTINA</td>\n",
              "      <td>DIARIO(REGULAR)</td>\n",
              "      <td>ALTA VERAPAZ</td>\n",
              "      <td>-1</td>\n",
              "    </tr>\n",
              "    <tr>\n",
              "      <th>1</th>\n",
              "      <td>16-01-0139-46</td>\n",
              "      <td>16-031</td>\n",
              "      <td>ALTA VERAPAZ</td>\n",
              "      <td>COBAN</td>\n",
              "      <td>COLEGIO PARTICULAR MIXTO VERAPAZ</td>\n",
              "      <td>KM 209.5 ENTRADA A LA CIUDAD</td>\n",
              "      <td>77367402</td>\n",
              "      <td>MERCEDES JOSEFINA TORRES GALVEZ</td>\n",
              "      <td>GILMA DOLORES GUAY PAZ DE LEAL</td>\n",
              "      <td>DIVERSIFICADO</td>\n",
              "      <td>PRIVADO</td>\n",
              "      <td>URBANA</td>\n",
              "      <td>ABIERTA</td>\n",
              "      <td>MONOLINGUE</td>\n",
              "      <td>MATUTINA</td>\n",
              "      <td>DIARIO(REGULAR)</td>\n",
              "      <td>ALTA VERAPAZ</td>\n",
              "      <td>-1</td>\n",
              "    </tr>\n",
              "    <tr>\n",
              "      <th>2</th>\n",
              "      <td>16-01-0140-46</td>\n",
              "      <td>16-031</td>\n",
              "      <td>ALTA VERAPAZ</td>\n",
              "      <td>COBAN</td>\n",
              "      <td>COLEGIO \"LA INMACULADA\"</td>\n",
              "      <td>7A. AVENIDA 11-109 ZONA 6</td>\n",
              "      <td>78232301</td>\n",
              "      <td>MERCEDES JOSEFINA TORRES GALVEZ</td>\n",
              "      <td>VIRGINIA SOLANO SERRANO</td>\n",
              "      <td>DIVERSIFICADO</td>\n",
              "      <td>PRIVADO</td>\n",
              "      <td>URBANA</td>\n",
              "      <td>ABIERTA</td>\n",
              "      <td>MONOLINGUE</td>\n",
              "      <td>MATUTINA</td>\n",
              "      <td>DIARIO(REGULAR)</td>\n",
              "      <td>ALTA VERAPAZ</td>\n",
              "      <td>-1</td>\n",
              "    </tr>\n",
              "    <tr>\n",
              "      <th>3</th>\n",
              "      <td>16-01-0141-46</td>\n",
              "      <td>16-005</td>\n",
              "      <td>ALTA VERAPAZ</td>\n",
              "      <td>COBAN</td>\n",
              "      <td>ESCUELA NACIONAL DE CIENCIAS COMERCIALES</td>\n",
              "      <td>2A CALLE 11-10 ZONA 2</td>\n",
              "      <td>79514215</td>\n",
              "      <td>RUDY ADOLFO TOT OCH</td>\n",
              "      <td>HÉCTOR ROLANDO CHUN POOU</td>\n",
              "      <td>DIVERSIFICADO</td>\n",
              "      <td>OFICIAL</td>\n",
              "      <td>URBANA</td>\n",
              "      <td>ABIERTA</td>\n",
              "      <td>MONOLINGUE</td>\n",
              "      <td>MATUTINA</td>\n",
              "      <td>DIARIO(REGULAR)</td>\n",
              "      <td>ALTA VERAPAZ</td>\n",
              "      <td>-1</td>\n",
              "    </tr>\n",
              "    <tr>\n",
              "      <th>4</th>\n",
              "      <td>16-01-0142-46</td>\n",
              "      <td>16-005</td>\n",
              "      <td>ALTA VERAPAZ</td>\n",
              "      <td>COBAN</td>\n",
              "      <td>INSTITUTO NORMAL MIXTO DEL NORTE 'EMILIO ROSAL...</td>\n",
              "      <td>3A AVE 6-23 ZONA 11</td>\n",
              "      <td>79521468</td>\n",
              "      <td>RUDY ADOLFO TOT OCH</td>\n",
              "      <td>VICTOR HUGO DOMÍNGUEZ REYES</td>\n",
              "      <td>DIVERSIFICADO</td>\n",
              "      <td>OFICIAL</td>\n",
              "      <td>URBANA</td>\n",
              "      <td>ABIERTA</td>\n",
              "      <td>BILINGUE</td>\n",
              "      <td>VESPERTINA</td>\n",
              "      <td>DIARIO(REGULAR)</td>\n",
              "      <td>ALTA VERAPAZ</td>\n",
              "      <td>-1</td>\n",
              "    </tr>\n",
              "    <tr>\n",
              "      <th>...</th>\n",
              "      <td>...</td>\n",
              "      <td>...</td>\n",
              "      <td>...</td>\n",
              "      <td>...</td>\n",
              "      <td>...</td>\n",
              "      <td>...</td>\n",
              "      <td>...</td>\n",
              "      <td>...</td>\n",
              "      <td>...</td>\n",
              "      <td>...</td>\n",
              "      <td>...</td>\n",
              "      <td>...</td>\n",
              "      <td>...</td>\n",
              "      <td>...</td>\n",
              "      <td>...</td>\n",
              "      <td>...</td>\n",
              "      <td>...</td>\n",
              "      <td>...</td>\n",
              "    </tr>\n",
              "    <tr>\n",
              "      <th>9327</th>\n",
              "      <td>19-09-0040-46</td>\n",
              "      <td>19-021</td>\n",
              "      <td>ZACAPA</td>\n",
              "      <td>LA UNION</td>\n",
              "      <td>LICEO PARTICULAR MIXTO \"JIREH\"</td>\n",
              "      <td>BARRIO NUEVO</td>\n",
              "      <td>79418369</td>\n",
              "      <td>ASBEL IVAN SUCHITE ARROYO</td>\n",
              "      <td>ANA MARÍA CUELLAR GUERRA</td>\n",
              "      <td>DIVERSIFICADO</td>\n",
              "      <td>PRIVADO</td>\n",
              "      <td>URBANA</td>\n",
              "      <td>ABIERTA</td>\n",
              "      <td>MONOLINGUE</td>\n",
              "      <td>MATUTINA</td>\n",
              "      <td>DIARIO(REGULAR)</td>\n",
              "      <td>ZACAPA</td>\n",
              "      <td>-1</td>\n",
              "    </tr>\n",
              "    <tr>\n",
              "      <th>9328</th>\n",
              "      <td>19-09-0048-46</td>\n",
              "      <td>19-021</td>\n",
              "      <td>ZACAPA</td>\n",
              "      <td>LA UNION</td>\n",
              "      <td>LICEO PARTICULAR MIXTO \" JIREH\"</td>\n",
              "      <td>BARRIO NUEVO</td>\n",
              "      <td>79418369</td>\n",
              "      <td>ASBEL IVAN SUCHITE ARROYO</td>\n",
              "      <td>ANA MARÍA CUELLAR GUERRA</td>\n",
              "      <td>DIVERSIFICADO</td>\n",
              "      <td>PRIVADO</td>\n",
              "      <td>URBANA</td>\n",
              "      <td>ABIERTA</td>\n",
              "      <td>MONOLINGUE</td>\n",
              "      <td>SIN JORNADA</td>\n",
              "      <td>SEMIPRESENCIAL (UN DÍA A LA SEMANA)</td>\n",
              "      <td>ZACAPA</td>\n",
              "      <td>-1</td>\n",
              "    </tr>\n",
              "    <tr>\n",
              "      <th>9329</th>\n",
              "      <td>19-10-0013-46</td>\n",
              "      <td>19-015</td>\n",
              "      <td>ZACAPA</td>\n",
              "      <td>HUITE</td>\n",
              "      <td>INSTITUTO DIVERSIFICADO</td>\n",
              "      <td>BARRIO BUENOS AIRES</td>\n",
              "      <td>47097386</td>\n",
              "      <td>SILDY MARIELA PEREZ FRANCO</td>\n",
              "      <td>MARLON JOSUÉ ARCHILA LORENZO</td>\n",
              "      <td>DIVERSIFICADO</td>\n",
              "      <td>OFICIAL</td>\n",
              "      <td>URBANA</td>\n",
              "      <td>ABIERTA</td>\n",
              "      <td>MONOLINGUE</td>\n",
              "      <td>NOCTURNA</td>\n",
              "      <td>DIARIO(REGULAR)</td>\n",
              "      <td>ZACAPA</td>\n",
              "      <td>-1</td>\n",
              "    </tr>\n",
              "    <tr>\n",
              "      <th>9330</th>\n",
              "      <td>19-10-1009-46</td>\n",
              "      <td>19-015</td>\n",
              "      <td>ZACAPA</td>\n",
              "      <td>HUITE</td>\n",
              "      <td>INSTITUTO MIXTO DE EDUCACION DIVERSIFICADA POR...</td>\n",
              "      <td>BARRIO EL CAMPO</td>\n",
              "      <td>55958103</td>\n",
              "      <td>SILDY MARIELA PEREZ FRANCO</td>\n",
              "      <td>ROBIDIO PORTILLO SALGUERO</td>\n",
              "      <td>DIVERSIFICADO</td>\n",
              "      <td>COOPERATIVA</td>\n",
              "      <td>URBANA</td>\n",
              "      <td>ABIERTA</td>\n",
              "      <td>MONOLINGUE</td>\n",
              "      <td>VESPERTINA</td>\n",
              "      <td>DIARIO(REGULAR)</td>\n",
              "      <td>ZACAPA</td>\n",
              "      <td>-1</td>\n",
              "    </tr>\n",
              "    <tr>\n",
              "      <th>9331</th>\n",
              "      <td>19-11-0018-46</td>\n",
              "      <td>19-020</td>\n",
              "      <td>ZACAPA</td>\n",
              "      <td>SAN JORGE</td>\n",
              "      <td>INSTITUTO MIXTO DE EDUCACIÓN DIVERSIFICADA POR...</td>\n",
              "      <td>BARRIO EL CENTRO</td>\n",
              "      <td>41447589</td>\n",
              "      <td>ALBA LUZ MENDEZ</td>\n",
              "      <td>VICTOR HUGO GUERRA MONROY</td>\n",
              "      <td>DIVERSIFICADO</td>\n",
              "      <td>COOPERATIVA</td>\n",
              "      <td>URBANA</td>\n",
              "      <td>ABIERTA</td>\n",
              "      <td>MONOLINGUE</td>\n",
              "      <td>MATUTINA</td>\n",
              "      <td>DIARIO(REGULAR)</td>\n",
              "      <td>ZACAPA</td>\n",
              "      <td>-1</td>\n",
              "    </tr>\n",
              "  </tbody>\n",
              "</table>\n",
              "<p>9332 rows × 18 columns</p>\n",
              "</div>"
            ],
            "text/plain": [
              "             CODIGO DISTRITO  DEPARTAMENTO  MUNICIPIO  \\\n",
              "0     16-01-0138-46   16-031  ALTA VERAPAZ      COBAN   \n",
              "1     16-01-0139-46   16-031  ALTA VERAPAZ      COBAN   \n",
              "2     16-01-0140-46   16-031  ALTA VERAPAZ      COBAN   \n",
              "3     16-01-0141-46   16-005  ALTA VERAPAZ      COBAN   \n",
              "4     16-01-0142-46   16-005  ALTA VERAPAZ      COBAN   \n",
              "...             ...      ...           ...        ...   \n",
              "9327  19-09-0040-46   19-021        ZACAPA   LA UNION   \n",
              "9328  19-09-0048-46   19-021        ZACAPA   LA UNION   \n",
              "9329  19-10-0013-46   19-015        ZACAPA      HUITE   \n",
              "9330  19-10-1009-46   19-015        ZACAPA      HUITE   \n",
              "9331  19-11-0018-46   19-020        ZACAPA  SAN JORGE   \n",
              "\n",
              "                                        ESTABLECIMIENTO  \\\n",
              "0                                         COLEGIO COBAN   \n",
              "1                      COLEGIO PARTICULAR MIXTO VERAPAZ   \n",
              "2                               COLEGIO \"LA INMACULADA\"   \n",
              "3              ESCUELA NACIONAL DE CIENCIAS COMERCIALES   \n",
              "4     INSTITUTO NORMAL MIXTO DEL NORTE 'EMILIO ROSAL...   \n",
              "...                                                 ...   \n",
              "9327                     LICEO PARTICULAR MIXTO \"JIREH\"   \n",
              "9328                    LICEO PARTICULAR MIXTO \" JIREH\"   \n",
              "9329                            INSTITUTO DIVERSIFICADO   \n",
              "9330  INSTITUTO MIXTO DE EDUCACION DIVERSIFICADA POR...   \n",
              "9331  INSTITUTO MIXTO DE EDUCACIÓN DIVERSIFICADA POR...   \n",
              "\n",
              "                                   DIRECCION  TELEFONO  \\\n",
              "0     KM.2 SALIDA A SAN JUAN CHAMELCO ZONA 8  77945104   \n",
              "1               KM 209.5 ENTRADA A LA CIUDAD  77367402   \n",
              "2                  7A. AVENIDA 11-109 ZONA 6  78232301   \n",
              "3                      2A CALLE 11-10 ZONA 2  79514215   \n",
              "4                        3A AVE 6-23 ZONA 11  79521468   \n",
              "...                                      ...       ...   \n",
              "9327                            BARRIO NUEVO  79418369   \n",
              "9328                            BARRIO NUEVO  79418369   \n",
              "9329                     BARRIO BUENOS AIRES  47097386   \n",
              "9330                         BARRIO EL CAMPO  55958103   \n",
              "9331                        BARRIO EL CENTRO  41447589   \n",
              "\n",
              "                           SUPERVISOR                        DIRECTOR  \\\n",
              "0     MERCEDES JOSEFINA TORRES GALVEZ       GUSTAVO ADOLFO SIERRA POP   \n",
              "1     MERCEDES JOSEFINA TORRES GALVEZ  GILMA DOLORES GUAY PAZ DE LEAL   \n",
              "2     MERCEDES JOSEFINA TORRES GALVEZ         VIRGINIA SOLANO SERRANO   \n",
              "3                 RUDY ADOLFO TOT OCH        HÉCTOR ROLANDO CHUN POOU   \n",
              "4                 RUDY ADOLFO TOT OCH     VICTOR HUGO DOMÍNGUEZ REYES   \n",
              "...                               ...                             ...   \n",
              "9327        ASBEL IVAN SUCHITE ARROYO        ANA MARÍA CUELLAR GUERRA   \n",
              "9328        ASBEL IVAN SUCHITE ARROYO        ANA MARÍA CUELLAR GUERRA   \n",
              "9329       SILDY MARIELA PEREZ FRANCO    MARLON JOSUÉ ARCHILA LORENZO   \n",
              "9330       SILDY MARIELA PEREZ FRANCO       ROBIDIO PORTILLO SALGUERO   \n",
              "9331                  ALBA LUZ MENDEZ       VICTOR HUGO GUERRA MONROY   \n",
              "\n",
              "              NIVEL       SECTOR    AREA   STATUS   MODALIDAD      JORNADA  \\\n",
              "0     DIVERSIFICADO      PRIVADO  URBANA  ABIERTA  MONOLINGUE     MATUTINA   \n",
              "1     DIVERSIFICADO      PRIVADO  URBANA  ABIERTA  MONOLINGUE     MATUTINA   \n",
              "2     DIVERSIFICADO      PRIVADO  URBANA  ABIERTA  MONOLINGUE     MATUTINA   \n",
              "3     DIVERSIFICADO      OFICIAL  URBANA  ABIERTA  MONOLINGUE     MATUTINA   \n",
              "4     DIVERSIFICADO      OFICIAL  URBANA  ABIERTA    BILINGUE   VESPERTINA   \n",
              "...             ...          ...     ...      ...         ...          ...   \n",
              "9327  DIVERSIFICADO      PRIVADO  URBANA  ABIERTA  MONOLINGUE     MATUTINA   \n",
              "9328  DIVERSIFICADO      PRIVADO  URBANA  ABIERTA  MONOLINGUE  SIN JORNADA   \n",
              "9329  DIVERSIFICADO      OFICIAL  URBANA  ABIERTA  MONOLINGUE     NOCTURNA   \n",
              "9330  DIVERSIFICADO  COOPERATIVA  URBANA  ABIERTA  MONOLINGUE   VESPERTINA   \n",
              "9331  DIVERSIFICADO  COOPERATIVA  URBANA  ABIERTA  MONOLINGUE     MATUTINA   \n",
              "\n",
              "                                     PLAN DEPARTAMENTAL TELEFONO_ALT  \n",
              "0                         DIARIO(REGULAR)  ALTA VERAPAZ           -1  \n",
              "1                         DIARIO(REGULAR)  ALTA VERAPAZ           -1  \n",
              "2                         DIARIO(REGULAR)  ALTA VERAPAZ           -1  \n",
              "3                         DIARIO(REGULAR)  ALTA VERAPAZ           -1  \n",
              "4                         DIARIO(REGULAR)  ALTA VERAPAZ           -1  \n",
              "...                                   ...           ...          ...  \n",
              "9327                      DIARIO(REGULAR)        ZACAPA           -1  \n",
              "9328  SEMIPRESENCIAL (UN DÍA A LA SEMANA)        ZACAPA           -1  \n",
              "9329                      DIARIO(REGULAR)        ZACAPA           -1  \n",
              "9330                      DIARIO(REGULAR)        ZACAPA           -1  \n",
              "9331                      DIARIO(REGULAR)        ZACAPA           -1  \n",
              "\n",
              "[9332 rows x 18 columns]"
            ]
          },
          "execution_count": 38,
          "metadata": {},
          "output_type": "execute_result"
        }
      ],
      "source": [
        "df"
      ]
    },
    {
      "cell_type": "markdown",
      "id": "5800266d",
      "metadata": {},
      "source": [
        "#### SUPERVISOR"
      ]
    },
    {
      "cell_type": "code",
      "execution_count": 39,
      "id": "d42a9685",
      "metadata": {},
      "outputs": [
        {
          "data": {
            "text/plain": [
              "np.int64(209)"
            ]
          },
          "execution_count": 39,
          "metadata": {},
          "output_type": "execute_result"
        }
      ],
      "source": [
        "df['SUPERVISOR'].isna().sum()"
      ]
    },
    {
      "cell_type": "code",
      "execution_count": 40,
      "id": "92bf7c79",
      "metadata": {},
      "outputs": [],
      "source": [
        "df['SUPERVISOR'] = df['SUPERVISOR'].fillna('SIN SUPERVISOR')"
      ]
    },
    {
      "cell_type": "code",
      "execution_count": 41,
      "id": "7494d5bc",
      "metadata": {},
      "outputs": [],
      "source": [
        "df['SUPERVISOR'] = df['SUPERVISOR'].str.upper()"
      ]
    },
    {
      "cell_type": "code",
      "execution_count": 42,
      "id": "e01ebe8e",
      "metadata": {},
      "outputs": [
        {
          "data": {
            "text/plain": [
              "np.int64(0)"
            ]
          },
          "execution_count": 42,
          "metadata": {},
          "output_type": "execute_result"
        }
      ],
      "source": [
        "df['SUPERVISOR'].isna().sum()"
      ]
    },
    {
      "cell_type": "markdown",
      "id": "d654fed3",
      "metadata": {},
      "source": [
        "#### DIRECTOR"
      ]
    },
    {
      "cell_type": "code",
      "execution_count": 43,
      "id": "f6d80e37",
      "metadata": {},
      "outputs": [
        {
          "data": {
            "text/plain": [
              "np.int64(897)"
            ]
          },
          "execution_count": 43,
          "metadata": {},
          "output_type": "execute_result"
        }
      ],
      "source": [
        "df['DIRECTOR'].isna().sum()"
      ]
    },
    {
      "cell_type": "code",
      "execution_count": 44,
      "id": "f932d222",
      "metadata": {},
      "outputs": [],
      "source": [
        "df['DIRECTOR'] = df['DIRECTOR'].fillna('SIN DIRECTOR')"
      ]
    },
    {
      "cell_type": "code",
      "execution_count": 45,
      "id": "96f0c07b",
      "metadata": {},
      "outputs": [],
      "source": [
        "df['DIRECTOR'] = df['DIRECTOR'].str.upper()"
      ]
    },
    {
      "cell_type": "markdown",
      "id": "c29cd9ec",
      "metadata": {},
      "source": [
        "#### NIVEL"
      ]
    },
    {
      "cell_type": "code",
      "execution_count": 46,
      "id": "abe12203",
      "metadata": {},
      "outputs": [
        {
          "data": {
            "text/plain": [
              "np.int64(0)"
            ]
          },
          "execution_count": 46,
          "metadata": {},
          "output_type": "execute_result"
        }
      ],
      "source": [
        "df['NIVEL'].isna().sum()"
      ]
    },
    {
      "cell_type": "code",
      "execution_count": 47,
      "id": "9861484b",
      "metadata": {},
      "outputs": [
        {
          "data": {
            "text/plain": [
              "NIVEL\n",
              "DIVERSIFICADO    9332\n",
              "Name: count, dtype: int64"
            ]
          },
          "execution_count": 47,
          "metadata": {},
          "output_type": "execute_result"
        }
      ],
      "source": [
        "df['NIVEL'].value_counts()"
      ]
    },
    {
      "cell_type": "markdown",
      "id": "93261cfb",
      "metadata": {},
      "source": [
        "Todos los valores son válidos. Hacemos el one hot encoding y eliminamos la variable original."
      ]
    },
    {
      "cell_type": "code",
      "execution_count": 48,
      "id": "376ae0ab",
      "metadata": {},
      "outputs": [],
      "source": [
        "df = pd.concat([df, pd.get_dummies(df['NIVEL'], prefix='NIVEL')], axis=1)\n",
        "df = df.drop(columns=['NIVEL'])"
      ]
    },
    {
      "cell_type": "markdown",
      "id": "30846648",
      "metadata": {},
      "source": [
        "Se puede observar que todos los establecimientos son de nivel diversificado."
      ]
    },
    {
      "cell_type": "markdown",
      "id": "d58ef38e",
      "metadata": {},
      "source": [
        "#### SECTOR"
      ]
    },
    {
      "cell_type": "code",
      "execution_count": 49,
      "id": "b35abb52",
      "metadata": {},
      "outputs": [
        {
          "data": {
            "text/plain": [
              "np.int64(0)"
            ]
          },
          "execution_count": 49,
          "metadata": {},
          "output_type": "execute_result"
        }
      ],
      "source": [
        "df['SECTOR'].isna().sum()"
      ]
    },
    {
      "cell_type": "code",
      "execution_count": 50,
      "id": "62bc2f17",
      "metadata": {},
      "outputs": [
        {
          "data": {
            "text/plain": [
              "SECTOR\n",
              "PRIVADO        7956\n",
              "OFICIAL         990\n",
              "COOPERATIVA     245\n",
              "MUNICIPAL       141\n",
              "Name: count, dtype: int64"
            ]
          },
          "execution_count": 50,
          "metadata": {},
          "output_type": "execute_result"
        }
      ],
      "source": [
        "df['SECTOR'].value_counts()"
      ]
    },
    {
      "cell_type": "markdown",
      "id": "8e5cf46d",
      "metadata": {},
      "source": [
        "Se puede observar que todos los establecimientos son de un sector válido."
      ]
    },
    {
      "cell_type": "markdown",
      "id": "b2ef31f2",
      "metadata": {},
      "source": [
        "#### AREA"
      ]
    },
    {
      "cell_type": "code",
      "execution_count": 51,
      "id": "5166bdbd",
      "metadata": {},
      "outputs": [
        {
          "data": {
            "text/plain": [
              "np.int64(0)"
            ]
          },
          "execution_count": 51,
          "metadata": {},
          "output_type": "execute_result"
        }
      ],
      "source": [
        "df['AREA'].isna().sum()"
      ]
    },
    {
      "cell_type": "code",
      "execution_count": 52,
      "id": "543c018c",
      "metadata": {},
      "outputs": [
        {
          "data": {
            "text/plain": [
              "AREA\n",
              "URBANA             7604\n",
              "RURAL              1726\n",
              "SIN ESPECIFICAR       2\n",
              "Name: count, dtype: int64"
            ]
          },
          "execution_count": 52,
          "metadata": {},
          "output_type": "execute_result"
        }
      ],
      "source": [
        "df['AREA'].value_counts()"
      ]
    },
    {
      "cell_type": "markdown",
      "id": "492d1edb",
      "metadata": {},
      "source": [
        "Solamente 2 establecimientos no tienen especificada el área. Esto se reflejará al momento de hacer el one hot encoding."
      ]
    },
    {
      "cell_type": "code",
      "execution_count": 53,
      "id": "652447c7",
      "metadata": {},
      "outputs": [],
      "source": [
        "df = pd.concat([df, pd.get_dummies(df['AREA'], prefix='AREA')], axis=1)\n",
        "df = df.drop(columns=['AREA', 'AREA_SIN ESPECIFICAR'])"
      ]
    },
    {
      "cell_type": "markdown",
      "id": "c370d3a7",
      "metadata": {},
      "source": [
        "#### STATUS"
      ]
    },
    {
      "cell_type": "code",
      "execution_count": 54,
      "id": "6f6f732a",
      "metadata": {},
      "outputs": [
        {
          "data": {
            "text/plain": [
              "np.int64(0)"
            ]
          },
          "execution_count": 54,
          "metadata": {},
          "output_type": "execute_result"
        }
      ],
      "source": [
        "df['STATUS'].isna().sum()"
      ]
    },
    {
      "cell_type": "code",
      "execution_count": 55,
      "id": "c50fc1c5",
      "metadata": {},
      "outputs": [
        {
          "data": {
            "text/plain": [
              "STATUS\n",
              "ABIERTA                  6545\n",
              "CERRADA TEMPORALMENTE    2660\n",
              "TEMPORAL TITULOS          124\n",
              "TEMPORAL NOMBRAMIENTO       3\n",
              "Name: count, dtype: int64"
            ]
          },
          "execution_count": 55,
          "metadata": {},
          "output_type": "execute_result"
        }
      ],
      "source": [
        "df['STATUS'].value_counts()"
      ]
    },
    {
      "cell_type": "markdown",
      "id": "3638ae76",
      "metadata": {},
      "source": [
        "Todos los valores son válidos."
      ]
    },
    {
      "cell_type": "markdown",
      "id": "2c873f41",
      "metadata": {},
      "source": [
        "#### MODALIDAD"
      ]
    },
    {
      "cell_type": "code",
      "execution_count": 56,
      "id": "3277c9b3",
      "metadata": {},
      "outputs": [
        {
          "data": {
            "text/plain": [
              "np.int64(0)"
            ]
          },
          "execution_count": 56,
          "metadata": {},
          "output_type": "execute_result"
        }
      ],
      "source": [
        "df['MODALIDAD'].isna().sum()"
      ]
    },
    {
      "cell_type": "code",
      "execution_count": 57,
      "id": "37f93fb7",
      "metadata": {},
      "outputs": [
        {
          "data": {
            "text/plain": [
              "MODALIDAD\n",
              "MONOLINGUE    9040\n",
              "BILINGUE       292\n",
              "Name: count, dtype: int64"
            ]
          },
          "execution_count": 57,
          "metadata": {},
          "output_type": "execute_result"
        }
      ],
      "source": [
        "df['MODALIDAD'].value_counts()"
      ]
    },
    {
      "cell_type": "markdown",
      "id": "77b2082c",
      "metadata": {},
      "source": [
        "Dado que representa un valor numérico de los idiomas enseñados en la institución, se reemplaza por una variable ``MODALIDAD_NUM_IDIOMAS`` y se elimina la variable original."
      ]
    },
    {
      "cell_type": "code",
      "execution_count": 58,
      "id": "6eec3bb4",
      "metadata": {},
      "outputs": [],
      "source": [
        "df['MODALIDAD'] = df['MODALIDAD'].map({'MONOLINGUE': 1, 'BILINGUE': 2})\n",
        "df = df.rename(columns={'MODALIDAD': 'MODALIDAD_NUM_IDIOMAS'})"
      ]
    },
    {
      "cell_type": "markdown",
      "id": "7d21d14c",
      "metadata": {},
      "source": [
        "#### JORNADA"
      ]
    },
    {
      "cell_type": "code",
      "execution_count": 59,
      "id": "30d6b5df",
      "metadata": {},
      "outputs": [
        {
          "data": {
            "text/plain": [
              "np.int64(0)"
            ]
          },
          "execution_count": 59,
          "metadata": {},
          "output_type": "execute_result"
        }
      ],
      "source": [
        "df['JORNADA'].isna().sum()"
      ]
    },
    {
      "cell_type": "code",
      "execution_count": 60,
      "id": "8d4640c4",
      "metadata": {},
      "outputs": [
        {
          "data": {
            "text/plain": [
              "JORNADA\n",
              "DOBLE          3040\n",
              "VESPERTINA     2567\n",
              "MATUTINA       2381\n",
              "SIN JORNADA     964\n",
              "NOCTURNA        289\n",
              "INTERMEDIA       91\n",
              "Name: count, dtype: int64"
            ]
          },
          "execution_count": 60,
          "metadata": {},
          "output_type": "execute_result"
        }
      ],
      "source": [
        "df['JORNADA'].value_counts()"
      ]
    },
    {
      "cell_type": "markdown",
      "id": "965b8f93",
      "metadata": {},
      "source": [
        "Todos los valores son válidos."
      ]
    },
    {
      "cell_type": "markdown",
      "id": "88a71bed",
      "metadata": {},
      "source": [
        "#### PLAN"
      ]
    },
    {
      "cell_type": "code",
      "execution_count": 61,
      "id": "04810144",
      "metadata": {},
      "outputs": [
        {
          "data": {
            "text/plain": [
              "np.int64(0)"
            ]
          },
          "execution_count": 61,
          "metadata": {},
          "output_type": "execute_result"
        }
      ],
      "source": [
        "df['PLAN'].isna().sum()"
      ]
    },
    {
      "cell_type": "code",
      "execution_count": 62,
      "id": "8078d626",
      "metadata": {},
      "outputs": [
        {
          "data": {
            "text/plain": [
              "PLAN\n",
              "DIARIO(REGULAR)                          5719\n",
              "FIN DE SEMANA                            2331\n",
              "SEMIPRESENCIAL (FIN DE SEMANA)            481\n",
              "SEMIPRESENCIAL (UN DÍA A LA SEMANA)       398\n",
              "A DISTANCIA                               143\n",
              "SEMIPRESENCIAL                             86\n",
              "SEMIPRESENCIAL (DOS DÍAS A LA SEMANA)      57\n",
              "VIRTUAL A DISTANCIA                        50\n",
              "SABATINO                                   41\n",
              "DOMINICAL                                  19\n",
              "MIXTO                                       3\n",
              "INTERCALADO                                 2\n",
              "IRREGULAR                                   2\n",
              "Name: count, dtype: int64"
            ]
          },
          "execution_count": 62,
          "metadata": {},
          "output_type": "execute_result"
        }
      ],
      "source": [
        "df['PLAN'].value_counts()"
      ]
    },
    {
      "cell_type": "markdown",
      "id": "4c44edb9",
      "metadata": {},
      "source": [
        "Todos los valores son válidos."
      ]
    },
    {
      "cell_type": "markdown",
      "id": "821e865c",
      "metadata": {},
      "source": [
        "#### DEPARTAMENTAL"
      ]
    },
    {
      "cell_type": "code",
      "execution_count": 63,
      "id": "6054e085",
      "metadata": {},
      "outputs": [
        {
          "data": {
            "text/plain": [
              "np.int64(0)"
            ]
          },
          "execution_count": 63,
          "metadata": {},
          "output_type": "execute_result"
        }
      ],
      "source": [
        "df['DEPARTAMENTAL'].isna().sum()"
      ]
    },
    {
      "cell_type": "code",
      "execution_count": 64,
      "id": "044c697a",
      "metadata": {},
      "outputs": [
        {
          "data": {
            "text/plain": [
              "DEPARTAMENTAL\n",
              "GUATEMALA NORTE        1050\n",
              "GUATEMALA SUR           833\n",
              "GUATEMALA OCCIDENTE     787\n",
              "ESCUINTLA               628\n",
              "SAN MARCOS              574\n",
              "HUEHUETENANGO           516\n",
              "QUETZALTENANGO          491\n",
              "SUCHITEPÉQUEZ           385\n",
              "ALTA VERAPAZ            374\n",
              "GUATEMALA ORIENTE       373\n",
              "IZABAL                  368\n",
              "PETÉN                   366\n",
              "CHIMALTENANGO           359\n",
              "SACATEPÉQUEZ            319\n",
              "RETALHULEU              316\n",
              "JUTIAPA                 310\n",
              "QUICHÉ                  203\n",
              "CHIQUIMULA              170\n",
              "SANTA ROSA              157\n",
              "JALAPA                  151\n",
              "SOLOLÁ                  138\n",
              "EL PROGRESO             125\n",
              "BAJA VERAPAZ            114\n",
              "ZACAPA                   94\n",
              "TOTONICAPÁN              90\n",
              "QUICHÉ NORTE             41\n",
              "Name: count, dtype: int64"
            ]
          },
          "execution_count": 64,
          "metadata": {},
          "output_type": "execute_result"
        }
      ],
      "source": [
        "df['DEPARTAMENTAL'].value_counts()"
      ]
    },
    {
      "cell_type": "markdown",
      "id": "c47ad385",
      "metadata": {},
      "source": [
        "Todos los valores son válidos."
      ]
    },
    {
      "cell_type": "markdown",
      "id": "48b86c04",
      "metadata": {},
      "source": [
        "### Exportación de Datos"
      ]
    },
    {
      "cell_type": "code",
      "execution_count": 65,
      "id": "e95e643e",
      "metadata": {},
      "outputs": [
        {
          "data": {
            "text/html": [
              "<div>\n",
              "<style scoped>\n",
              "    .dataframe tbody tr th:only-of-type {\n",
              "        vertical-align: middle;\n",
              "    }\n",
              "\n",
              "    .dataframe tbody tr th {\n",
              "        vertical-align: top;\n",
              "    }\n",
              "\n",
              "    .dataframe thead th {\n",
              "        text-align: right;\n",
              "    }\n",
              "</style>\n",
              "<table border=\"1\" class=\"dataframe\">\n",
              "  <thead>\n",
              "    <tr style=\"text-align: right;\">\n",
              "      <th></th>\n",
              "      <th>CODIGO</th>\n",
              "      <th>DISTRITO</th>\n",
              "      <th>DEPARTAMENTO</th>\n",
              "      <th>MUNICIPIO</th>\n",
              "      <th>ESTABLECIMIENTO</th>\n",
              "      <th>DIRECCION</th>\n",
              "      <th>TELEFONO</th>\n",
              "      <th>SUPERVISOR</th>\n",
              "      <th>DIRECTOR</th>\n",
              "      <th>SECTOR</th>\n",
              "      <th>STATUS</th>\n",
              "      <th>MODALIDAD_NUM_IDIOMAS</th>\n",
              "      <th>JORNADA</th>\n",
              "      <th>PLAN</th>\n",
              "      <th>DEPARTAMENTAL</th>\n",
              "      <th>TELEFONO_ALT</th>\n",
              "      <th>NIVEL_DIVERSIFICADO</th>\n",
              "      <th>AREA_RURAL</th>\n",
              "      <th>AREA_URBANA</th>\n",
              "    </tr>\n",
              "  </thead>\n",
              "  <tbody>\n",
              "    <tr>\n",
              "      <th>0</th>\n",
              "      <td>16-01-0138-46</td>\n",
              "      <td>16-031</td>\n",
              "      <td>ALTA VERAPAZ</td>\n",
              "      <td>COBAN</td>\n",
              "      <td>COLEGIO COBAN</td>\n",
              "      <td>KM.2 SALIDA A SAN JUAN CHAMELCO ZONA 8</td>\n",
              "      <td>77945104</td>\n",
              "      <td>MERCEDES JOSEFINA TORRES GALVEZ</td>\n",
              "      <td>GUSTAVO ADOLFO SIERRA POP</td>\n",
              "      <td>PRIVADO</td>\n",
              "      <td>ABIERTA</td>\n",
              "      <td>1</td>\n",
              "      <td>MATUTINA</td>\n",
              "      <td>DIARIO(REGULAR)</td>\n",
              "      <td>ALTA VERAPAZ</td>\n",
              "      <td>-1</td>\n",
              "      <td>True</td>\n",
              "      <td>False</td>\n",
              "      <td>True</td>\n",
              "    </tr>\n",
              "    <tr>\n",
              "      <th>1</th>\n",
              "      <td>16-01-0139-46</td>\n",
              "      <td>16-031</td>\n",
              "      <td>ALTA VERAPAZ</td>\n",
              "      <td>COBAN</td>\n",
              "      <td>COLEGIO PARTICULAR MIXTO VERAPAZ</td>\n",
              "      <td>KM 209.5 ENTRADA A LA CIUDAD</td>\n",
              "      <td>77367402</td>\n",
              "      <td>MERCEDES JOSEFINA TORRES GALVEZ</td>\n",
              "      <td>GILMA DOLORES GUAY PAZ DE LEAL</td>\n",
              "      <td>PRIVADO</td>\n",
              "      <td>ABIERTA</td>\n",
              "      <td>1</td>\n",
              "      <td>MATUTINA</td>\n",
              "      <td>DIARIO(REGULAR)</td>\n",
              "      <td>ALTA VERAPAZ</td>\n",
              "      <td>-1</td>\n",
              "      <td>True</td>\n",
              "      <td>False</td>\n",
              "      <td>True</td>\n",
              "    </tr>\n",
              "    <tr>\n",
              "      <th>2</th>\n",
              "      <td>16-01-0140-46</td>\n",
              "      <td>16-031</td>\n",
              "      <td>ALTA VERAPAZ</td>\n",
              "      <td>COBAN</td>\n",
              "      <td>COLEGIO \"LA INMACULADA\"</td>\n",
              "      <td>7A. AVENIDA 11-109 ZONA 6</td>\n",
              "      <td>78232301</td>\n",
              "      <td>MERCEDES JOSEFINA TORRES GALVEZ</td>\n",
              "      <td>VIRGINIA SOLANO SERRANO</td>\n",
              "      <td>PRIVADO</td>\n",
              "      <td>ABIERTA</td>\n",
              "      <td>1</td>\n",
              "      <td>MATUTINA</td>\n",
              "      <td>DIARIO(REGULAR)</td>\n",
              "      <td>ALTA VERAPAZ</td>\n",
              "      <td>-1</td>\n",
              "      <td>True</td>\n",
              "      <td>False</td>\n",
              "      <td>True</td>\n",
              "    </tr>\n",
              "    <tr>\n",
              "      <th>3</th>\n",
              "      <td>16-01-0141-46</td>\n",
              "      <td>16-005</td>\n",
              "      <td>ALTA VERAPAZ</td>\n",
              "      <td>COBAN</td>\n",
              "      <td>ESCUELA NACIONAL DE CIENCIAS COMERCIALES</td>\n",
              "      <td>2A CALLE 11-10 ZONA 2</td>\n",
              "      <td>79514215</td>\n",
              "      <td>RUDY ADOLFO TOT OCH</td>\n",
              "      <td>HÉCTOR ROLANDO CHUN POOU</td>\n",
              "      <td>OFICIAL</td>\n",
              "      <td>ABIERTA</td>\n",
              "      <td>1</td>\n",
              "      <td>MATUTINA</td>\n",
              "      <td>DIARIO(REGULAR)</td>\n",
              "      <td>ALTA VERAPAZ</td>\n",
              "      <td>-1</td>\n",
              "      <td>True</td>\n",
              "      <td>False</td>\n",
              "      <td>True</td>\n",
              "    </tr>\n",
              "    <tr>\n",
              "      <th>4</th>\n",
              "      <td>16-01-0142-46</td>\n",
              "      <td>16-005</td>\n",
              "      <td>ALTA VERAPAZ</td>\n",
              "      <td>COBAN</td>\n",
              "      <td>INSTITUTO NORMAL MIXTO DEL NORTE 'EMILIO ROSAL...</td>\n",
              "      <td>3A AVE 6-23 ZONA 11</td>\n",
              "      <td>79521468</td>\n",
              "      <td>RUDY ADOLFO TOT OCH</td>\n",
              "      <td>VICTOR HUGO DOMÍNGUEZ REYES</td>\n",
              "      <td>OFICIAL</td>\n",
              "      <td>ABIERTA</td>\n",
              "      <td>2</td>\n",
              "      <td>VESPERTINA</td>\n",
              "      <td>DIARIO(REGULAR)</td>\n",
              "      <td>ALTA VERAPAZ</td>\n",
              "      <td>-1</td>\n",
              "      <td>True</td>\n",
              "      <td>False</td>\n",
              "      <td>True</td>\n",
              "    </tr>\n",
              "  </tbody>\n",
              "</table>\n",
              "</div>"
            ],
            "text/plain": [
              "          CODIGO DISTRITO  DEPARTAMENTO MUNICIPIO  \\\n",
              "0  16-01-0138-46   16-031  ALTA VERAPAZ     COBAN   \n",
              "1  16-01-0139-46   16-031  ALTA VERAPAZ     COBAN   \n",
              "2  16-01-0140-46   16-031  ALTA VERAPAZ     COBAN   \n",
              "3  16-01-0141-46   16-005  ALTA VERAPAZ     COBAN   \n",
              "4  16-01-0142-46   16-005  ALTA VERAPAZ     COBAN   \n",
              "\n",
              "                                     ESTABLECIMIENTO  \\\n",
              "0                                      COLEGIO COBAN   \n",
              "1                   COLEGIO PARTICULAR MIXTO VERAPAZ   \n",
              "2                            COLEGIO \"LA INMACULADA\"   \n",
              "3           ESCUELA NACIONAL DE CIENCIAS COMERCIALES   \n",
              "4  INSTITUTO NORMAL MIXTO DEL NORTE 'EMILIO ROSAL...   \n",
              "\n",
              "                                DIRECCION  TELEFONO  \\\n",
              "0  KM.2 SALIDA A SAN JUAN CHAMELCO ZONA 8  77945104   \n",
              "1            KM 209.5 ENTRADA A LA CIUDAD  77367402   \n",
              "2               7A. AVENIDA 11-109 ZONA 6  78232301   \n",
              "3                   2A CALLE 11-10 ZONA 2  79514215   \n",
              "4                     3A AVE 6-23 ZONA 11  79521468   \n",
              "\n",
              "                        SUPERVISOR                        DIRECTOR   SECTOR  \\\n",
              "0  MERCEDES JOSEFINA TORRES GALVEZ       GUSTAVO ADOLFO SIERRA POP  PRIVADO   \n",
              "1  MERCEDES JOSEFINA TORRES GALVEZ  GILMA DOLORES GUAY PAZ DE LEAL  PRIVADO   \n",
              "2  MERCEDES JOSEFINA TORRES GALVEZ         VIRGINIA SOLANO SERRANO  PRIVADO   \n",
              "3              RUDY ADOLFO TOT OCH        HÉCTOR ROLANDO CHUN POOU  OFICIAL   \n",
              "4              RUDY ADOLFO TOT OCH     VICTOR HUGO DOMÍNGUEZ REYES  OFICIAL   \n",
              "\n",
              "    STATUS  MODALIDAD_NUM_IDIOMAS     JORNADA             PLAN DEPARTAMENTAL  \\\n",
              "0  ABIERTA                      1    MATUTINA  DIARIO(REGULAR)  ALTA VERAPAZ   \n",
              "1  ABIERTA                      1    MATUTINA  DIARIO(REGULAR)  ALTA VERAPAZ   \n",
              "2  ABIERTA                      1    MATUTINA  DIARIO(REGULAR)  ALTA VERAPAZ   \n",
              "3  ABIERTA                      1    MATUTINA  DIARIO(REGULAR)  ALTA VERAPAZ   \n",
              "4  ABIERTA                      2  VESPERTINA  DIARIO(REGULAR)  ALTA VERAPAZ   \n",
              "\n",
              "  TELEFONO_ALT  NIVEL_DIVERSIFICADO  AREA_RURAL  AREA_URBANA  \n",
              "0           -1                 True       False         True  \n",
              "1           -1                 True       False         True  \n",
              "2           -1                 True       False         True  \n",
              "3           -1                 True       False         True  \n",
              "4           -1                 True       False         True  "
            ]
          },
          "execution_count": 65,
          "metadata": {},
          "output_type": "execute_result"
        }
      ],
      "source": [
        "df.head()"
      ]
    },
    {
      "cell_type": "markdown",
      "id": "ac1356db",
      "metadata": {},
      "source": [
        "Exportamos los datos limpios a un archivo CSV."
      ]
    },
    {
      "cell_type": "code",
      "execution_count": 66,
      "id": "84282f00",
      "metadata": {},
      "outputs": [],
      "source": [
        "df.to_csv('data/clean.csv', index=False)"
      ]
    }
  ],
  "metadata": {
    "colab": {
      "provenance": []
    },
    "kernelspec": {
      "display_name": "Python 3",
      "language": "python",
      "name": "python3"
    },
    "language_info": {
      "codemirror_mode": {
        "name": "ipython",
        "version": 3
      },
      "file_extension": ".py",
      "mimetype": "text/x-python",
      "name": "python",
      "nbconvert_exporter": "python",
      "pygments_lexer": "ipython3",
      "version": "3.9.0"
    }
  },
  "nbformat": 4,
  "nbformat_minor": 5
}

{
 "cells": [
  {
   "cell_type": "markdown",
   "id": "c90f4295f6eeb9b4",
   "metadata": {},
   "source": [
    "# Obtención y Limpieza de Datos"
   ]
  },
  {
   "cell_type": "code",
   "id": "initial_id",
   "metadata": {
    "collapsed": true,
    "ExecuteTime": {
     "end_time": "2024-08-04T07:36:12.260961Z",
     "start_time": "2024-08-04T07:36:12.256775Z"
    }
   },
   "source": [
    "import pandas as pd\n",
    "import numpy as np\n",
    "import matplotlib.pyplot as plt\n",
    "import seaborn as sns"
   ],
   "outputs": [],
   "execution_count": 462
  },
  {
   "cell_type": "markdown",
   "id": "f0679602a9af8689",
   "metadata": {},
   "source": [
    "## Obtención de datos\n",
    "Los datos fueron obtenidos de la página de [Ministerio de Educación](http://www.mineduc.gob.gt/BUSCAESTABLECIMIENTO_GE/). Los datos representan todas las instituciones escolares (con diversificado) a todo el nivel nacional. Descargados en ``data/raw`` y juntados en un solo archivo llamado ``dataframe.xlsx``."
   ]
  },
  {
   "cell_type": "markdown",
   "id": "e5649c342a16daf",
   "metadata": {},
   "source": [
    "## Limpieza de datos"
   ]
  },
  {
   "cell_type": "code",
   "id": "81c10c3acef4ce8f",
   "metadata": {
    "ExecuteTime": {
     "end_time": "2024-08-04T07:36:19.410016Z",
     "start_time": "2024-08-04T07:36:12.607970Z"
    }
   },
   "source": [
    "df = pd.read_excel('data/dataframe.xlsx')\n",
    "df.head()"
   ],
   "outputs": [
    {
     "data": {
      "text/plain": [
       "          CODIGO DISTRITO  DEPARTAMENTO MUNICIPIO  \\\n",
       "0  16-01-0138-46   16-031  ALTA VERAPAZ     COBAN   \n",
       "1  16-01-0139-46   16-031  ALTA VERAPAZ     COBAN   \n",
       "2  16-01-0140-46   16-031  ALTA VERAPAZ     COBAN   \n",
       "3  16-01-0141-46   16-005  ALTA VERAPAZ     COBAN   \n",
       "4  16-01-0142-46   16-005  ALTA VERAPAZ     COBAN   \n",
       "\n",
       "                                     ESTABLECIMIENTO  \\\n",
       "0                                      COLEGIO COBAN   \n",
       "1                   COLEGIO PARTICULAR MIXTO VERAPAZ   \n",
       "2                            COLEGIO \"LA INMACULADA\"   \n",
       "3           ESCUELA NACIONAL DE CIENCIAS COMERCIALES   \n",
       "4  INSTITUTO NORMAL MIXTO DEL NORTE 'EMILIO ROSAL...   \n",
       "\n",
       "                                DIRECCION  TELEFONO  \\\n",
       "0  KM.2 SALIDA A SAN JUAN CHAMELCO ZONA 8  77945104   \n",
       "1            KM 209.5 ENTRADA A LA CIUDAD  77367402   \n",
       "2               7A. AVENIDA 11-109 ZONA 6  78232301   \n",
       "3                   2A CALLE 11-10 ZONA 2  79514215   \n",
       "4                     3A AVE 6-23 ZONA 11  79521468   \n",
       "\n",
       "                        SUPERVISOR                        DIRECTOR  \\\n",
       "0  MERCEDES JOSEFINA TORRES GALVEZ       GUSTAVO ADOLFO SIERRA POP   \n",
       "1  MERCEDES JOSEFINA TORRES GALVEZ  GILMA DOLORES GUAY PAZ DE LEAL   \n",
       "2  MERCEDES JOSEFINA TORRES GALVEZ         VIRGINIA SOLANO SERRANO   \n",
       "3              RUDY ADOLFO TOT OCH        HÉCTOR ROLANDO CHUN POOU   \n",
       "4              RUDY ADOLFO TOT OCH     VICTOR HUGO DOMÍNGUEZ REYES   \n",
       "\n",
       "           NIVEL   SECTOR    AREA   STATUS   MODALIDAD     JORNADA  \\\n",
       "0  DIVERSIFICADO  PRIVADO  URBANA  ABIERTA  MONOLINGUE    MATUTINA   \n",
       "1  DIVERSIFICADO  PRIVADO  URBANA  ABIERTA  MONOLINGUE    MATUTINA   \n",
       "2  DIVERSIFICADO  PRIVADO  URBANA  ABIERTA  MONOLINGUE    MATUTINA   \n",
       "3  DIVERSIFICADO  OFICIAL  URBANA  ABIERTA  MONOLINGUE    MATUTINA   \n",
       "4  DIVERSIFICADO  OFICIAL  URBANA  ABIERTA    BILINGUE  VESPERTINA   \n",
       "\n",
       "              PLAN DEPARTAMENTAL  \n",
       "0  DIARIO(REGULAR)  ALTA VERAPAZ  \n",
       "1  DIARIO(REGULAR)  ALTA VERAPAZ  \n",
       "2  DIARIO(REGULAR)  ALTA VERAPAZ  \n",
       "3  DIARIO(REGULAR)  ALTA VERAPAZ  \n",
       "4  DIARIO(REGULAR)  ALTA VERAPAZ  "
      ],
      "text/html": [
       "<div>\n",
       "<style scoped>\n",
       "    .dataframe tbody tr th:only-of-type {\n",
       "        vertical-align: middle;\n",
       "    }\n",
       "\n",
       "    .dataframe tbody tr th {\n",
       "        vertical-align: top;\n",
       "    }\n",
       "\n",
       "    .dataframe thead th {\n",
       "        text-align: right;\n",
       "    }\n",
       "</style>\n",
       "<table border=\"1\" class=\"dataframe\">\n",
       "  <thead>\n",
       "    <tr style=\"text-align: right;\">\n",
       "      <th></th>\n",
       "      <th>CODIGO</th>\n",
       "      <th>DISTRITO</th>\n",
       "      <th>DEPARTAMENTO</th>\n",
       "      <th>MUNICIPIO</th>\n",
       "      <th>ESTABLECIMIENTO</th>\n",
       "      <th>DIRECCION</th>\n",
       "      <th>TELEFONO</th>\n",
       "      <th>SUPERVISOR</th>\n",
       "      <th>DIRECTOR</th>\n",
       "      <th>NIVEL</th>\n",
       "      <th>SECTOR</th>\n",
       "      <th>AREA</th>\n",
       "      <th>STATUS</th>\n",
       "      <th>MODALIDAD</th>\n",
       "      <th>JORNADA</th>\n",
       "      <th>PLAN</th>\n",
       "      <th>DEPARTAMENTAL</th>\n",
       "    </tr>\n",
       "  </thead>\n",
       "  <tbody>\n",
       "    <tr>\n",
       "      <th>0</th>\n",
       "      <td>16-01-0138-46</td>\n",
       "      <td>16-031</td>\n",
       "      <td>ALTA VERAPAZ</td>\n",
       "      <td>COBAN</td>\n",
       "      <td>COLEGIO COBAN</td>\n",
       "      <td>KM.2 SALIDA A SAN JUAN CHAMELCO ZONA 8</td>\n",
       "      <td>77945104</td>\n",
       "      <td>MERCEDES JOSEFINA TORRES GALVEZ</td>\n",
       "      <td>GUSTAVO ADOLFO SIERRA POP</td>\n",
       "      <td>DIVERSIFICADO</td>\n",
       "      <td>PRIVADO</td>\n",
       "      <td>URBANA</td>\n",
       "      <td>ABIERTA</td>\n",
       "      <td>MONOLINGUE</td>\n",
       "      <td>MATUTINA</td>\n",
       "      <td>DIARIO(REGULAR)</td>\n",
       "      <td>ALTA VERAPAZ</td>\n",
       "    </tr>\n",
       "    <tr>\n",
       "      <th>1</th>\n",
       "      <td>16-01-0139-46</td>\n",
       "      <td>16-031</td>\n",
       "      <td>ALTA VERAPAZ</td>\n",
       "      <td>COBAN</td>\n",
       "      <td>COLEGIO PARTICULAR MIXTO VERAPAZ</td>\n",
       "      <td>KM 209.5 ENTRADA A LA CIUDAD</td>\n",
       "      <td>77367402</td>\n",
       "      <td>MERCEDES JOSEFINA TORRES GALVEZ</td>\n",
       "      <td>GILMA DOLORES GUAY PAZ DE LEAL</td>\n",
       "      <td>DIVERSIFICADO</td>\n",
       "      <td>PRIVADO</td>\n",
       "      <td>URBANA</td>\n",
       "      <td>ABIERTA</td>\n",
       "      <td>MONOLINGUE</td>\n",
       "      <td>MATUTINA</td>\n",
       "      <td>DIARIO(REGULAR)</td>\n",
       "      <td>ALTA VERAPAZ</td>\n",
       "    </tr>\n",
       "    <tr>\n",
       "      <th>2</th>\n",
       "      <td>16-01-0140-46</td>\n",
       "      <td>16-031</td>\n",
       "      <td>ALTA VERAPAZ</td>\n",
       "      <td>COBAN</td>\n",
       "      <td>COLEGIO \"LA INMACULADA\"</td>\n",
       "      <td>7A. AVENIDA 11-109 ZONA 6</td>\n",
       "      <td>78232301</td>\n",
       "      <td>MERCEDES JOSEFINA TORRES GALVEZ</td>\n",
       "      <td>VIRGINIA SOLANO SERRANO</td>\n",
       "      <td>DIVERSIFICADO</td>\n",
       "      <td>PRIVADO</td>\n",
       "      <td>URBANA</td>\n",
       "      <td>ABIERTA</td>\n",
       "      <td>MONOLINGUE</td>\n",
       "      <td>MATUTINA</td>\n",
       "      <td>DIARIO(REGULAR)</td>\n",
       "      <td>ALTA VERAPAZ</td>\n",
       "    </tr>\n",
       "    <tr>\n",
       "      <th>3</th>\n",
       "      <td>16-01-0141-46</td>\n",
       "      <td>16-005</td>\n",
       "      <td>ALTA VERAPAZ</td>\n",
       "      <td>COBAN</td>\n",
       "      <td>ESCUELA NACIONAL DE CIENCIAS COMERCIALES</td>\n",
       "      <td>2A CALLE 11-10 ZONA 2</td>\n",
       "      <td>79514215</td>\n",
       "      <td>RUDY ADOLFO TOT OCH</td>\n",
       "      <td>HÉCTOR ROLANDO CHUN POOU</td>\n",
       "      <td>DIVERSIFICADO</td>\n",
       "      <td>OFICIAL</td>\n",
       "      <td>URBANA</td>\n",
       "      <td>ABIERTA</td>\n",
       "      <td>MONOLINGUE</td>\n",
       "      <td>MATUTINA</td>\n",
       "      <td>DIARIO(REGULAR)</td>\n",
       "      <td>ALTA VERAPAZ</td>\n",
       "    </tr>\n",
       "    <tr>\n",
       "      <th>4</th>\n",
       "      <td>16-01-0142-46</td>\n",
       "      <td>16-005</td>\n",
       "      <td>ALTA VERAPAZ</td>\n",
       "      <td>COBAN</td>\n",
       "      <td>INSTITUTO NORMAL MIXTO DEL NORTE 'EMILIO ROSAL...</td>\n",
       "      <td>3A AVE 6-23 ZONA 11</td>\n",
       "      <td>79521468</td>\n",
       "      <td>RUDY ADOLFO TOT OCH</td>\n",
       "      <td>VICTOR HUGO DOMÍNGUEZ REYES</td>\n",
       "      <td>DIVERSIFICADO</td>\n",
       "      <td>OFICIAL</td>\n",
       "      <td>URBANA</td>\n",
       "      <td>ABIERTA</td>\n",
       "      <td>BILINGUE</td>\n",
       "      <td>VESPERTINA</td>\n",
       "      <td>DIARIO(REGULAR)</td>\n",
       "      <td>ALTA VERAPAZ</td>\n",
       "    </tr>\n",
       "  </tbody>\n",
       "</table>\n",
       "</div>"
      ]
     },
     "execution_count": 463,
     "metadata": {},
     "output_type": "execute_result"
    }
   ],
   "execution_count": 463
  },
  {
   "cell_type": "markdown",
   "id": "bd5c464e695340a",
   "metadata": {},
   "source": [
    "### Descripción del Set de Datos\n",
    "Los datos incluyen información específica de los diferentes centros educativos en Guatemala con diversificado. Esta información incluye identificadores, ubicación, encargados, contacto y otros datos relevantes."
   ]
  },
  {
   "cell_type": "code",
   "id": "1d425913cbedeadf",
   "metadata": {
    "ExecuteTime": {
     "end_time": "2024-08-04T07:36:19.417460Z",
     "start_time": "2024-08-04T07:36:19.412015Z"
    }
   },
   "source": [
    "rows, cols = df.shape\n",
    "print(f'Observaciones: {rows}, Variables: {cols}')"
   ],
   "outputs": [
    {
     "name": "stdout",
     "output_type": "stream",
     "text": [
      "Observaciones: 9332, Variables: 17\n"
     ]
    }
   ],
   "execution_count": 464
  },
  {
   "cell_type": "code",
   "id": "9ab932b412d8f1a8",
   "metadata": {
    "ExecuteTime": {
     "end_time": "2024-08-04T07:36:19.447301Z",
     "start_time": "2024-08-04T07:36:19.418500Z"
    }
   },
   "source": [
    "df.info()"
   ],
   "outputs": [
    {
     "name": "stdout",
     "output_type": "stream",
     "text": [
      "<class 'pandas.core.frame.DataFrame'>\n",
      "RangeIndex: 9332 entries, 0 to 9331\n",
      "Data columns (total 17 columns):\n",
      " #   Column           Non-Null Count  Dtype \n",
      "---  ------           --------------  ----- \n",
      " 0   CODIGO           9332 non-null   object\n",
      " 1   DISTRITO         9124 non-null   object\n",
      " 2   DEPARTAMENTO     9332 non-null   object\n",
      " 3   MUNICIPIO        9332 non-null   object\n",
      " 4   ESTABLECIMIENTO  9332 non-null   object\n",
      " 5   DIRECCION        9281 non-null   object\n",
      " 6   TELEFONO         8797 non-null   object\n",
      " 7   SUPERVISOR       9123 non-null   object\n",
      " 8   DIRECTOR         8435 non-null   object\n",
      " 9   NIVEL            9332 non-null   object\n",
      " 10  SECTOR           9332 non-null   object\n",
      " 11  AREA             9332 non-null   object\n",
      " 12  STATUS           9332 non-null   object\n",
      " 13  MODALIDAD        9332 non-null   object\n",
      " 14  JORNADA          9332 non-null   object\n",
      " 15  PLAN             9332 non-null   object\n",
      " 16  DEPARTAMENTAL    9332 non-null   object\n",
      "dtypes: object(17)\n",
      "memory usage: 1.2+ MB\n"
     ]
    }
   ],
   "execution_count": 465
  },
  {
   "cell_type": "code",
   "id": "1e997cc81ce08cca",
   "metadata": {
    "ExecuteTime": {
     "end_time": "2024-08-04T07:36:19.529626Z",
     "start_time": "2024-08-04T07:36:19.449306Z"
    }
   },
   "source": [
    "df.describe()"
   ],
   "outputs": [
    {
     "data": {
      "text/plain": [
       "               CODIGO DISTRITO    DEPARTAMENTO MUNICIPIO  \\\n",
       "count            9332     9124            9332      9332   \n",
       "unique           9332      690              23       349   \n",
       "top     16-01-0138-46   01-403  CIUDAD CAPITAL    ZONA 1   \n",
       "freq                1      268            1564       633   \n",
       "\n",
       "                                      ESTABLECIMIENTO           DIRECCION  \\\n",
       "count                                            9332                9281   \n",
       "unique                                           5321                6004   \n",
       "top     INSTITUTO NACIONAL DE EDUCACION DIVERSIFICADA  CABECERA MUNICIPAL   \n",
       "freq                                              330                 269   \n",
       "\n",
       "        TELEFONO                        SUPERVISOR DIRECTOR          NIVEL  \\\n",
       "count       8797                              9123     8435           9332   \n",
       "unique      5445                               658     4677              1   \n",
       "top     22067425  CARLOS HUMBERTO GONZALEZ DE LEON      ---  DIVERSIFICADO   \n",
       "freq          21                               333       83           9332   \n",
       "\n",
       "         SECTOR    AREA   STATUS   MODALIDAD JORNADA             PLAN  \\\n",
       "count      9332    9332     9332        9332    9332             9332   \n",
       "unique        4       3        4           2       6               13   \n",
       "top     PRIVADO  URBANA  ABIERTA  MONOLINGUE   DOBLE  DIARIO(REGULAR)   \n",
       "freq       7956    7604     6545        9040    3040             5719   \n",
       "\n",
       "          DEPARTAMENTAL  \n",
       "count              9332  \n",
       "unique               26  \n",
       "top     GUATEMALA NORTE  \n",
       "freq               1050  "
      ],
      "text/html": [
       "<div>\n",
       "<style scoped>\n",
       "    .dataframe tbody tr th:only-of-type {\n",
       "        vertical-align: middle;\n",
       "    }\n",
       "\n",
       "    .dataframe tbody tr th {\n",
       "        vertical-align: top;\n",
       "    }\n",
       "\n",
       "    .dataframe thead th {\n",
       "        text-align: right;\n",
       "    }\n",
       "</style>\n",
       "<table border=\"1\" class=\"dataframe\">\n",
       "  <thead>\n",
       "    <tr style=\"text-align: right;\">\n",
       "      <th></th>\n",
       "      <th>CODIGO</th>\n",
       "      <th>DISTRITO</th>\n",
       "      <th>DEPARTAMENTO</th>\n",
       "      <th>MUNICIPIO</th>\n",
       "      <th>ESTABLECIMIENTO</th>\n",
       "      <th>DIRECCION</th>\n",
       "      <th>TELEFONO</th>\n",
       "      <th>SUPERVISOR</th>\n",
       "      <th>DIRECTOR</th>\n",
       "      <th>NIVEL</th>\n",
       "      <th>SECTOR</th>\n",
       "      <th>AREA</th>\n",
       "      <th>STATUS</th>\n",
       "      <th>MODALIDAD</th>\n",
       "      <th>JORNADA</th>\n",
       "      <th>PLAN</th>\n",
       "      <th>DEPARTAMENTAL</th>\n",
       "    </tr>\n",
       "  </thead>\n",
       "  <tbody>\n",
       "    <tr>\n",
       "      <th>count</th>\n",
       "      <td>9332</td>\n",
       "      <td>9124</td>\n",
       "      <td>9332</td>\n",
       "      <td>9332</td>\n",
       "      <td>9332</td>\n",
       "      <td>9281</td>\n",
       "      <td>8797</td>\n",
       "      <td>9123</td>\n",
       "      <td>8435</td>\n",
       "      <td>9332</td>\n",
       "      <td>9332</td>\n",
       "      <td>9332</td>\n",
       "      <td>9332</td>\n",
       "      <td>9332</td>\n",
       "      <td>9332</td>\n",
       "      <td>9332</td>\n",
       "      <td>9332</td>\n",
       "    </tr>\n",
       "    <tr>\n",
       "      <th>unique</th>\n",
       "      <td>9332</td>\n",
       "      <td>690</td>\n",
       "      <td>23</td>\n",
       "      <td>349</td>\n",
       "      <td>5321</td>\n",
       "      <td>6004</td>\n",
       "      <td>5445</td>\n",
       "      <td>658</td>\n",
       "      <td>4677</td>\n",
       "      <td>1</td>\n",
       "      <td>4</td>\n",
       "      <td>3</td>\n",
       "      <td>4</td>\n",
       "      <td>2</td>\n",
       "      <td>6</td>\n",
       "      <td>13</td>\n",
       "      <td>26</td>\n",
       "    </tr>\n",
       "    <tr>\n",
       "      <th>top</th>\n",
       "      <td>16-01-0138-46</td>\n",
       "      <td>01-403</td>\n",
       "      <td>CIUDAD CAPITAL</td>\n",
       "      <td>ZONA 1</td>\n",
       "      <td>INSTITUTO NACIONAL DE EDUCACION DIVERSIFICADA</td>\n",
       "      <td>CABECERA MUNICIPAL</td>\n",
       "      <td>22067425</td>\n",
       "      <td>CARLOS HUMBERTO GONZALEZ DE LEON</td>\n",
       "      <td>---</td>\n",
       "      <td>DIVERSIFICADO</td>\n",
       "      <td>PRIVADO</td>\n",
       "      <td>URBANA</td>\n",
       "      <td>ABIERTA</td>\n",
       "      <td>MONOLINGUE</td>\n",
       "      <td>DOBLE</td>\n",
       "      <td>DIARIO(REGULAR)</td>\n",
       "      <td>GUATEMALA NORTE</td>\n",
       "    </tr>\n",
       "    <tr>\n",
       "      <th>freq</th>\n",
       "      <td>1</td>\n",
       "      <td>268</td>\n",
       "      <td>1564</td>\n",
       "      <td>633</td>\n",
       "      <td>330</td>\n",
       "      <td>269</td>\n",
       "      <td>21</td>\n",
       "      <td>333</td>\n",
       "      <td>83</td>\n",
       "      <td>9332</td>\n",
       "      <td>7956</td>\n",
       "      <td>7604</td>\n",
       "      <td>6545</td>\n",
       "      <td>9040</td>\n",
       "      <td>3040</td>\n",
       "      <td>5719</td>\n",
       "      <td>1050</td>\n",
       "    </tr>\n",
       "  </tbody>\n",
       "</table>\n",
       "</div>"
      ]
     },
     "execution_count": 466,
     "metadata": {},
     "output_type": "execute_result"
    }
   ],
   "execution_count": 466
  },
  {
   "cell_type": "code",
   "id": "c376e71dbf5fec1",
   "metadata": {
    "ExecuteTime": {
     "end_time": "2024-08-04T07:36:19.545604Z",
     "start_time": "2024-08-04T07:36:19.530680Z"
    }
   },
   "source": [
    "df.isnull().sum()"
   ],
   "outputs": [
    {
     "data": {
      "text/plain": [
       "CODIGO               0\n",
       "DISTRITO           208\n",
       "DEPARTAMENTO         0\n",
       "MUNICIPIO            0\n",
       "ESTABLECIMIENTO      0\n",
       "DIRECCION           51\n",
       "TELEFONO           535\n",
       "SUPERVISOR         209\n",
       "DIRECTOR           897\n",
       "NIVEL                0\n",
       "SECTOR               0\n",
       "AREA                 0\n",
       "STATUS               0\n",
       "MODALIDAD            0\n",
       "JORNADA              0\n",
       "PLAN                 0\n",
       "DEPARTAMENTAL        0\n",
       "dtype: int64"
      ]
     },
     "execution_count": 467,
     "metadata": {},
     "output_type": "execute_result"
    }
   ],
   "execution_count": 467
  },
  {
   "cell_type": "markdown",
   "id": "8104d049005c0235",
   "metadata": {},
   "source": [
    "### Limpieza del Set de Datos"
   ]
  },
  {
   "cell_type": "markdown",
   "id": "aabe016a4c4bddc2",
   "metadata": {},
   "source": [
    "#### Variables con más operaciones de Limpieza\n"
   ]
  },
  {
   "cell_type": "markdown",
   "id": "600293b437ad3aff",
   "metadata": {},
   "source": [
    "#### Estrategia por Variable\n",
    "- CODIGO\n",
    "    - Debido a que esta variable es un identificador único, se debe verificar que no existan duplicados o valores nulos.\n",
    "- DISTRITO\n",
    "    - Se debe verificar que no existan valores nulos.\n",
    "- DEPARTAMENTO\n",
    "    - Se debe verificar que no existan valores nulos.\n",
    "    - Que los departamentos estén escritos correctamente y en mayúsculas.\n",
    "- MUNICIPIO\n",
    "    - Se debe verificar que no existan valores nulos.\n",
    "    - Que los municipios estén escritos correctamente y en mayúsculas.\n",
    "- ESTABLECIMIENTO\n",
    "    - Se debe verificar que no existan valores nulos.\n",
    "    - Que los establecimientos estén escritos en mayúsculas.\n",
    "- DIRECCION\n",
    "    - Que las direcciones estén escritas en mayúsculas.\n",
    "    - Se debe verificar que no existan valores nulos.\n",
    "        - Imputar valores nulos con un valor que represente la ausencia de una dirección.\n",
    "- TELEFONO\n",
    "    - Imputar valores nulos con un valor que represente la ausencia de un número de teléfono.\n",
    "    - Eliminar valores que no sean números\n",
    "    - Eliminar valores que no tengan 8 dígitos\n",
    "- SUPERVISOR\n",
    "    - Imputar valores nulos con un valor que represente la ausencia de un supervisor.\n",
    "    - Que los nombres estén escritos en mayúsculas.\n",
    "- DIRECTOR\n",
    "    - Imputar valores nulos con un valor que represente la ausencia de un director.\n",
    "    - Que los nombres estén escritos en mayúsculas.\n",
    "- NIVEL\n",
    "    - Verificar que no existan valores nulos.\n",
    "    - Que los niveles estén escritos en mayúsculas.\n",
    "    - Que sean todos de DIVERSIFICADO.\n",
    "- SECTOR\n",
    "    - Verificar que no existan valores nulos.\n",
    "    - Que los sectores estén escritos en mayúsculas.\n",
    "    - Que sean todos de OFICIAL | PRIVADO | COOPERATIVA | MUNICIPAL. \n",
    "- AREA\n",
    "    - Verificar que no existan valores nulos.\n",
    "    - Que las áreas estén escritos en mayúsculas.\n",
    "    - Que sean todos de URBANA | RURAL.\n",
    "- STATUS\n",
    "    - Verificar que no existan valores nulos.\n",
    "    - Que los status estén escritos en mayúsculas.\n",
    "- MODALIDAD\n",
    "    - Verificar que no existan valores nulos.\n",
    "    - Que sean todos de BILINGÜE | MONOLINGÜE.\n",
    "    - Dado que es una variable binaria, cambiar de tipo y nombre a \"BILINGUE\".\n",
    "        - 0: MONOLINGÜE\n",
    "        - 1: BILINGÜE\n",
    "- JORNADA\n",
    "    - Se debe verificar que no existan valores nulos.\n",
    "    - Que las jornadas estén escritas en mayúsculas.\n",
    "- PLAN\n",
    "    - Se debe verificar que no existan valores nulos.\n",
    "    - Que los establecimientos estén escritos en mayúsculas.\n",
    "- DEPARTAMENTAL\n",
    "    - Se debe verificar que no existan valores nulos.\n",
    "    - Que los establecimientos estén escritos en mayúsculas."
   ]
  },
  {
   "metadata": {},
   "cell_type": "markdown",
   "source": "### Ejecución de la Limpieza",
   "id": "7f88231d34861b76"
  },
  {
   "metadata": {},
   "cell_type": "markdown",
   "source": "#### CODIGO",
   "id": "51d00c7747a29936"
  },
  {
   "metadata": {
    "ExecuteTime": {
     "end_time": "2024-08-04T07:36:19.557773Z",
     "start_time": "2024-08-04T07:36:19.547623Z"
    }
   },
   "cell_type": "code",
   "source": "df['CODIGO'].duplicated().sum()",
   "id": "624e276f8ef9ca59",
   "outputs": [
    {
     "data": {
      "text/plain": [
       "0"
      ]
     },
     "execution_count": 468,
     "metadata": {},
     "output_type": "execute_result"
    }
   ],
   "execution_count": 468
  },
  {
   "metadata": {},
   "cell_type": "markdown",
   "source": "Podemos observar que no existen valores duplicados en la variable de ``CODIGO``",
   "id": "7dff84da4b14cf6d"
  },
  {
   "metadata": {},
   "cell_type": "markdown",
   "source": "#### DISTRITO",
   "id": "e87662cd396e70b4"
  },
  {
   "metadata": {
    "ExecuteTime": {
     "end_time": "2024-08-04T07:36:19.569474Z",
     "start_time": "2024-08-04T07:36:19.558771Z"
    }
   },
   "cell_type": "code",
   "source": "df['DISTRITO'].isna().sum()",
   "id": "ebb54933490513ad",
   "outputs": [
    {
     "data": {
      "text/plain": [
       "208"
      ]
     },
     "execution_count": 469,
     "metadata": {},
     "output_type": "execute_result"
    }
   ],
   "execution_count": 469
  },
  {
   "metadata": {},
   "cell_type": "markdown",
   "source": "Al existir 208 valores nulos, procedemos a...",
   "id": "401ff0892053dc0a"
  },
  {
   "metadata": {
    "ExecuteTime": {
     "end_time": "2024-08-04T07:36:19.597610Z",
     "start_time": "2024-08-04T07:36:19.570474Z"
    }
   },
   "cell_type": "code",
   "source": "df.head()",
   "id": "3bf766c2caa177a4",
   "outputs": [
    {
     "data": {
      "text/plain": [
       "          CODIGO DISTRITO  DEPARTAMENTO MUNICIPIO  \\\n",
       "0  16-01-0138-46   16-031  ALTA VERAPAZ     COBAN   \n",
       "1  16-01-0139-46   16-031  ALTA VERAPAZ     COBAN   \n",
       "2  16-01-0140-46   16-031  ALTA VERAPAZ     COBAN   \n",
       "3  16-01-0141-46   16-005  ALTA VERAPAZ     COBAN   \n",
       "4  16-01-0142-46   16-005  ALTA VERAPAZ     COBAN   \n",
       "\n",
       "                                     ESTABLECIMIENTO  \\\n",
       "0                                      COLEGIO COBAN   \n",
       "1                   COLEGIO PARTICULAR MIXTO VERAPAZ   \n",
       "2                            COLEGIO \"LA INMACULADA\"   \n",
       "3           ESCUELA NACIONAL DE CIENCIAS COMERCIALES   \n",
       "4  INSTITUTO NORMAL MIXTO DEL NORTE 'EMILIO ROSAL...   \n",
       "\n",
       "                                DIRECCION  TELEFONO  \\\n",
       "0  KM.2 SALIDA A SAN JUAN CHAMELCO ZONA 8  77945104   \n",
       "1            KM 209.5 ENTRADA A LA CIUDAD  77367402   \n",
       "2               7A. AVENIDA 11-109 ZONA 6  78232301   \n",
       "3                   2A CALLE 11-10 ZONA 2  79514215   \n",
       "4                     3A AVE 6-23 ZONA 11  79521468   \n",
       "\n",
       "                        SUPERVISOR                        DIRECTOR  \\\n",
       "0  MERCEDES JOSEFINA TORRES GALVEZ       GUSTAVO ADOLFO SIERRA POP   \n",
       "1  MERCEDES JOSEFINA TORRES GALVEZ  GILMA DOLORES GUAY PAZ DE LEAL   \n",
       "2  MERCEDES JOSEFINA TORRES GALVEZ         VIRGINIA SOLANO SERRANO   \n",
       "3              RUDY ADOLFO TOT OCH        HÉCTOR ROLANDO CHUN POOU   \n",
       "4              RUDY ADOLFO TOT OCH     VICTOR HUGO DOMÍNGUEZ REYES   \n",
       "\n",
       "           NIVEL   SECTOR    AREA   STATUS   MODALIDAD     JORNADA  \\\n",
       "0  DIVERSIFICADO  PRIVADO  URBANA  ABIERTA  MONOLINGUE    MATUTINA   \n",
       "1  DIVERSIFICADO  PRIVADO  URBANA  ABIERTA  MONOLINGUE    MATUTINA   \n",
       "2  DIVERSIFICADO  PRIVADO  URBANA  ABIERTA  MONOLINGUE    MATUTINA   \n",
       "3  DIVERSIFICADO  OFICIAL  URBANA  ABIERTA  MONOLINGUE    MATUTINA   \n",
       "4  DIVERSIFICADO  OFICIAL  URBANA  ABIERTA    BILINGUE  VESPERTINA   \n",
       "\n",
       "              PLAN DEPARTAMENTAL  \n",
       "0  DIARIO(REGULAR)  ALTA VERAPAZ  \n",
       "1  DIARIO(REGULAR)  ALTA VERAPAZ  \n",
       "2  DIARIO(REGULAR)  ALTA VERAPAZ  \n",
       "3  DIARIO(REGULAR)  ALTA VERAPAZ  \n",
       "4  DIARIO(REGULAR)  ALTA VERAPAZ  "
      ],
      "text/html": [
       "<div>\n",
       "<style scoped>\n",
       "    .dataframe tbody tr th:only-of-type {\n",
       "        vertical-align: middle;\n",
       "    }\n",
       "\n",
       "    .dataframe tbody tr th {\n",
       "        vertical-align: top;\n",
       "    }\n",
       "\n",
       "    .dataframe thead th {\n",
       "        text-align: right;\n",
       "    }\n",
       "</style>\n",
       "<table border=\"1\" class=\"dataframe\">\n",
       "  <thead>\n",
       "    <tr style=\"text-align: right;\">\n",
       "      <th></th>\n",
       "      <th>CODIGO</th>\n",
       "      <th>DISTRITO</th>\n",
       "      <th>DEPARTAMENTO</th>\n",
       "      <th>MUNICIPIO</th>\n",
       "      <th>ESTABLECIMIENTO</th>\n",
       "      <th>DIRECCION</th>\n",
       "      <th>TELEFONO</th>\n",
       "      <th>SUPERVISOR</th>\n",
       "      <th>DIRECTOR</th>\n",
       "      <th>NIVEL</th>\n",
       "      <th>SECTOR</th>\n",
       "      <th>AREA</th>\n",
       "      <th>STATUS</th>\n",
       "      <th>MODALIDAD</th>\n",
       "      <th>JORNADA</th>\n",
       "      <th>PLAN</th>\n",
       "      <th>DEPARTAMENTAL</th>\n",
       "    </tr>\n",
       "  </thead>\n",
       "  <tbody>\n",
       "    <tr>\n",
       "      <th>0</th>\n",
       "      <td>16-01-0138-46</td>\n",
       "      <td>16-031</td>\n",
       "      <td>ALTA VERAPAZ</td>\n",
       "      <td>COBAN</td>\n",
       "      <td>COLEGIO COBAN</td>\n",
       "      <td>KM.2 SALIDA A SAN JUAN CHAMELCO ZONA 8</td>\n",
       "      <td>77945104</td>\n",
       "      <td>MERCEDES JOSEFINA TORRES GALVEZ</td>\n",
       "      <td>GUSTAVO ADOLFO SIERRA POP</td>\n",
       "      <td>DIVERSIFICADO</td>\n",
       "      <td>PRIVADO</td>\n",
       "      <td>URBANA</td>\n",
       "      <td>ABIERTA</td>\n",
       "      <td>MONOLINGUE</td>\n",
       "      <td>MATUTINA</td>\n",
       "      <td>DIARIO(REGULAR)</td>\n",
       "      <td>ALTA VERAPAZ</td>\n",
       "    </tr>\n",
       "    <tr>\n",
       "      <th>1</th>\n",
       "      <td>16-01-0139-46</td>\n",
       "      <td>16-031</td>\n",
       "      <td>ALTA VERAPAZ</td>\n",
       "      <td>COBAN</td>\n",
       "      <td>COLEGIO PARTICULAR MIXTO VERAPAZ</td>\n",
       "      <td>KM 209.5 ENTRADA A LA CIUDAD</td>\n",
       "      <td>77367402</td>\n",
       "      <td>MERCEDES JOSEFINA TORRES GALVEZ</td>\n",
       "      <td>GILMA DOLORES GUAY PAZ DE LEAL</td>\n",
       "      <td>DIVERSIFICADO</td>\n",
       "      <td>PRIVADO</td>\n",
       "      <td>URBANA</td>\n",
       "      <td>ABIERTA</td>\n",
       "      <td>MONOLINGUE</td>\n",
       "      <td>MATUTINA</td>\n",
       "      <td>DIARIO(REGULAR)</td>\n",
       "      <td>ALTA VERAPAZ</td>\n",
       "    </tr>\n",
       "    <tr>\n",
       "      <th>2</th>\n",
       "      <td>16-01-0140-46</td>\n",
       "      <td>16-031</td>\n",
       "      <td>ALTA VERAPAZ</td>\n",
       "      <td>COBAN</td>\n",
       "      <td>COLEGIO \"LA INMACULADA\"</td>\n",
       "      <td>7A. AVENIDA 11-109 ZONA 6</td>\n",
       "      <td>78232301</td>\n",
       "      <td>MERCEDES JOSEFINA TORRES GALVEZ</td>\n",
       "      <td>VIRGINIA SOLANO SERRANO</td>\n",
       "      <td>DIVERSIFICADO</td>\n",
       "      <td>PRIVADO</td>\n",
       "      <td>URBANA</td>\n",
       "      <td>ABIERTA</td>\n",
       "      <td>MONOLINGUE</td>\n",
       "      <td>MATUTINA</td>\n",
       "      <td>DIARIO(REGULAR)</td>\n",
       "      <td>ALTA VERAPAZ</td>\n",
       "    </tr>\n",
       "    <tr>\n",
       "      <th>3</th>\n",
       "      <td>16-01-0141-46</td>\n",
       "      <td>16-005</td>\n",
       "      <td>ALTA VERAPAZ</td>\n",
       "      <td>COBAN</td>\n",
       "      <td>ESCUELA NACIONAL DE CIENCIAS COMERCIALES</td>\n",
       "      <td>2A CALLE 11-10 ZONA 2</td>\n",
       "      <td>79514215</td>\n",
       "      <td>RUDY ADOLFO TOT OCH</td>\n",
       "      <td>HÉCTOR ROLANDO CHUN POOU</td>\n",
       "      <td>DIVERSIFICADO</td>\n",
       "      <td>OFICIAL</td>\n",
       "      <td>URBANA</td>\n",
       "      <td>ABIERTA</td>\n",
       "      <td>MONOLINGUE</td>\n",
       "      <td>MATUTINA</td>\n",
       "      <td>DIARIO(REGULAR)</td>\n",
       "      <td>ALTA VERAPAZ</td>\n",
       "    </tr>\n",
       "    <tr>\n",
       "      <th>4</th>\n",
       "      <td>16-01-0142-46</td>\n",
       "      <td>16-005</td>\n",
       "      <td>ALTA VERAPAZ</td>\n",
       "      <td>COBAN</td>\n",
       "      <td>INSTITUTO NORMAL MIXTO DEL NORTE 'EMILIO ROSAL...</td>\n",
       "      <td>3A AVE 6-23 ZONA 11</td>\n",
       "      <td>79521468</td>\n",
       "      <td>RUDY ADOLFO TOT OCH</td>\n",
       "      <td>VICTOR HUGO DOMÍNGUEZ REYES</td>\n",
       "      <td>DIVERSIFICADO</td>\n",
       "      <td>OFICIAL</td>\n",
       "      <td>URBANA</td>\n",
       "      <td>ABIERTA</td>\n",
       "      <td>BILINGUE</td>\n",
       "      <td>VESPERTINA</td>\n",
       "      <td>DIARIO(REGULAR)</td>\n",
       "      <td>ALTA VERAPAZ</td>\n",
       "    </tr>\n",
       "  </tbody>\n",
       "</table>\n",
       "</div>"
      ]
     },
     "execution_count": 470,
     "metadata": {},
     "output_type": "execute_result"
    }
   ],
   "execution_count": 470
  },
  {
   "metadata": {},
   "cell_type": "markdown",
   "source": "#### DEPARTAMENTO",
   "id": "1d27208b0cfedacb"
  },
  {
   "metadata": {
    "ExecuteTime": {
     "end_time": "2024-08-04T07:36:19.606032Z",
     "start_time": "2024-08-04T07:36:19.598656Z"
    }
   },
   "cell_type": "code",
   "source": "df['DEPARTAMENTO'].isna().sum()",
   "id": "7fe892469034c3d7",
   "outputs": [
    {
     "data": {
      "text/plain": [
       "0"
      ]
     },
     "execution_count": 471,
     "metadata": {},
     "output_type": "execute_result"
    }
   ],
   "execution_count": 471
  },
  {
   "metadata": {},
   "cell_type": "markdown",
   "source": "La variable ``DEPARTAMENTO`` no tiene valores nulos",
   "id": "8b8370fb177fb5d5"
  },
  {
   "metadata": {
    "ExecuteTime": {
     "end_time": "2024-08-04T07:36:19.623331Z",
     "start_time": "2024-08-04T07:36:19.611080Z"
    }
   },
   "cell_type": "code",
   "source": [
    "# VALUE COUNTS SORTED BY DEPARTAMENTO\n",
    "df['DEPARTAMENTO'].value_counts().sort_index()"
   ],
   "id": "cb8116ddbb9657d5",
   "outputs": [
    {
     "data": {
      "text/plain": [
       "DEPARTAMENTO\n",
       "ALTA VERAPAZ       374\n",
       "BAJA VERAPAZ       114\n",
       "CHIMALTENANGO      359\n",
       "CHIQUIMULA         170\n",
       "CIUDAD CAPITAL    1564\n",
       "EL PROGRESO        125\n",
       "ESCUINTLA          628\n",
       "GUATEMALA         1479\n",
       "HUEHUETENANGO      516\n",
       "IZABAL             368\n",
       "JALAPA             151\n",
       "JUTIAPA            310\n",
       "PETEN              366\n",
       "QUETZALTENANGO     491\n",
       "QUICHE             244\n",
       "RETALHULEU         316\n",
       "SACATEPEQUEZ       319\n",
       "SAN MARCOS         574\n",
       "SANTA ROSA         157\n",
       "SOLOLA             138\n",
       "SUCHITEPEQUEZ      385\n",
       "TOTONICAPAN         90\n",
       "ZACAPA              94\n",
       "Name: count, dtype: int64"
      ]
     },
     "execution_count": 472,
     "metadata": {},
     "output_type": "execute_result"
    }
   ],
   "execution_count": 472
  },
  {
   "metadata": {},
   "cell_type": "markdown",
   "source": "Los departamentos están escritos correctamente y en mayúsculas.",
   "id": "f4b2cac1938b8e67"
  },
  {
   "metadata": {},
   "cell_type": "markdown",
   "source": "#### MUNICIPIO",
   "id": "77e80668ce76f8c0"
  },
  {
   "metadata": {
    "ExecuteTime": {
     "end_time": "2024-08-04T07:36:19.637948Z",
     "start_time": "2024-08-04T07:36:19.624380Z"
    }
   },
   "cell_type": "code",
   "source": "df['MUNICIPIO'].isna().sum()",
   "id": "274a7d352a684868",
   "outputs": [
    {
     "data": {
      "text/plain": [
       "0"
      ]
     },
     "execution_count": 473,
     "metadata": {},
     "output_type": "execute_result"
    }
   ],
   "execution_count": 473
  },
  {
   "metadata": {},
   "cell_type": "markdown",
   "source": "La variable ``MUNICIPIO`` no tiene valores nulos",
   "id": "4f4aa451f5e6f873"
  },
  {
   "metadata": {
    "ExecuteTime": {
     "end_time": "2024-08-04T07:36:19.661953Z",
     "start_time": "2024-08-04T07:36:19.639954Z"
    }
   },
   "cell_type": "code",
   "source": "df[df['MUNICIPIO'].str.contains('[a-z]')]",
   "id": "7f0aab42ce0c47d",
   "outputs": [
    {
     "data": {
      "text/plain": [
       "Empty DataFrame\n",
       "Columns: [CODIGO, DISTRITO, DEPARTAMENTO, MUNICIPIO, ESTABLECIMIENTO, DIRECCION, TELEFONO, SUPERVISOR, DIRECTOR, NIVEL, SECTOR, AREA, STATUS, MODALIDAD, JORNADA, PLAN, DEPARTAMENTAL]\n",
       "Index: []"
      ],
      "text/html": [
       "<div>\n",
       "<style scoped>\n",
       "    .dataframe tbody tr th:only-of-type {\n",
       "        vertical-align: middle;\n",
       "    }\n",
       "\n",
       "    .dataframe tbody tr th {\n",
       "        vertical-align: top;\n",
       "    }\n",
       "\n",
       "    .dataframe thead th {\n",
       "        text-align: right;\n",
       "    }\n",
       "</style>\n",
       "<table border=\"1\" class=\"dataframe\">\n",
       "  <thead>\n",
       "    <tr style=\"text-align: right;\">\n",
       "      <th></th>\n",
       "      <th>CODIGO</th>\n",
       "      <th>DISTRITO</th>\n",
       "      <th>DEPARTAMENTO</th>\n",
       "      <th>MUNICIPIO</th>\n",
       "      <th>ESTABLECIMIENTO</th>\n",
       "      <th>DIRECCION</th>\n",
       "      <th>TELEFONO</th>\n",
       "      <th>SUPERVISOR</th>\n",
       "      <th>DIRECTOR</th>\n",
       "      <th>NIVEL</th>\n",
       "      <th>SECTOR</th>\n",
       "      <th>AREA</th>\n",
       "      <th>STATUS</th>\n",
       "      <th>MODALIDAD</th>\n",
       "      <th>JORNADA</th>\n",
       "      <th>PLAN</th>\n",
       "      <th>DEPARTAMENTAL</th>\n",
       "    </tr>\n",
       "  </thead>\n",
       "  <tbody>\n",
       "  </tbody>\n",
       "</table>\n",
       "</div>"
      ]
     },
     "execution_count": 474,
     "metadata": {},
     "output_type": "execute_result"
    }
   ],
   "execution_count": 474
  },
  {
   "metadata": {},
   "cell_type": "markdown",
   "source": "Los municipios están escritos correctamente y en mayúsculas.",
   "id": "1cbb16f3f0110e9f"
  },
  {
   "metadata": {},
   "cell_type": "markdown",
   "source": "#### ESTABLECIMIENTO",
   "id": "945c483b470eacf0"
  },
  {
   "metadata": {
    "ExecuteTime": {
     "end_time": "2024-08-04T07:36:19.677648Z",
     "start_time": "2024-08-04T07:36:19.662993Z"
    }
   },
   "cell_type": "code",
   "source": "df['ESTABLECIMIENTO'].isna().sum()",
   "id": "6c5eac01a1d15ed",
   "outputs": [
    {
     "data": {
      "text/plain": [
       "0"
      ]
     },
     "execution_count": 475,
     "metadata": {},
     "output_type": "execute_result"
    }
   ],
   "execution_count": 475
  },
  {
   "metadata": {},
   "cell_type": "markdown",
   "source": "La variable ``ESTABLECIMIENTO`` no tiene valores nulos",
   "id": "17c34d008c24b66b"
  },
  {
   "metadata": {
    "ExecuteTime": {
     "end_time": "2024-08-04T07:36:19.705672Z",
     "start_time": "2024-08-04T07:36:19.679691Z"
    }
   },
   "cell_type": "code",
   "source": "df[df['ESTABLECIMIENTO'].str.contains('[a-z]')]",
   "id": "51dc58d57951a51c",
   "outputs": [
    {
     "data": {
      "text/plain": [
       "Empty DataFrame\n",
       "Columns: [CODIGO, DISTRITO, DEPARTAMENTO, MUNICIPIO, ESTABLECIMIENTO, DIRECCION, TELEFONO, SUPERVISOR, DIRECTOR, NIVEL, SECTOR, AREA, STATUS, MODALIDAD, JORNADA, PLAN, DEPARTAMENTAL]\n",
       "Index: []"
      ],
      "text/html": [
       "<div>\n",
       "<style scoped>\n",
       "    .dataframe tbody tr th:only-of-type {\n",
       "        vertical-align: middle;\n",
       "    }\n",
       "\n",
       "    .dataframe tbody tr th {\n",
       "        vertical-align: top;\n",
       "    }\n",
       "\n",
       "    .dataframe thead th {\n",
       "        text-align: right;\n",
       "    }\n",
       "</style>\n",
       "<table border=\"1\" class=\"dataframe\">\n",
       "  <thead>\n",
       "    <tr style=\"text-align: right;\">\n",
       "      <th></th>\n",
       "      <th>CODIGO</th>\n",
       "      <th>DISTRITO</th>\n",
       "      <th>DEPARTAMENTO</th>\n",
       "      <th>MUNICIPIO</th>\n",
       "      <th>ESTABLECIMIENTO</th>\n",
       "      <th>DIRECCION</th>\n",
       "      <th>TELEFONO</th>\n",
       "      <th>SUPERVISOR</th>\n",
       "      <th>DIRECTOR</th>\n",
       "      <th>NIVEL</th>\n",
       "      <th>SECTOR</th>\n",
       "      <th>AREA</th>\n",
       "      <th>STATUS</th>\n",
       "      <th>MODALIDAD</th>\n",
       "      <th>JORNADA</th>\n",
       "      <th>PLAN</th>\n",
       "      <th>DEPARTAMENTAL</th>\n",
       "    </tr>\n",
       "  </thead>\n",
       "  <tbody>\n",
       "  </tbody>\n",
       "</table>\n",
       "</div>"
      ]
     },
     "execution_count": 476,
     "metadata": {},
     "output_type": "execute_result"
    }
   ],
   "execution_count": 476
  },
  {
   "metadata": {},
   "cell_type": "markdown",
   "source": "Los establecimientos están escritos en mayúsculas.",
   "id": "8c6918ee94597f3d"
  },
  {
   "metadata": {},
   "cell_type": "markdown",
   "source": "#### DIRECCION",
   "id": "a96ec9443c898a08"
  },
  {
   "metadata": {
    "ExecuteTime": {
     "end_time": "2024-08-04T07:36:19.713488Z",
     "start_time": "2024-08-04T07:36:19.706719Z"
    }
   },
   "cell_type": "code",
   "source": "df.shape",
   "id": "9e64eab50f4623a8",
   "outputs": [
    {
     "data": {
      "text/plain": [
       "(9332, 17)"
      ]
     },
     "execution_count": 477,
     "metadata": {},
     "output_type": "execute_result"
    }
   ],
   "execution_count": 477
  },
  {
   "metadata": {
    "ExecuteTime": {
     "end_time": "2024-08-04T07:36:19.728547Z",
     "start_time": "2024-08-04T07:36:19.714538Z"
    }
   },
   "cell_type": "code",
   "source": "df['DIRECCION'].isna().sum()",
   "id": "72f661823d856d06",
   "outputs": [
    {
     "data": {
      "text/plain": [
       "51"
      ]
     },
     "execution_count": 478,
     "metadata": {},
     "output_type": "execute_result"
    }
   ],
   "execution_count": 478
  },
  {
   "metadata": {
    "ExecuteTime": {
     "end_time": "2024-08-04T07:36:19.749431Z",
     "start_time": "2024-08-04T07:36:19.729596Z"
    }
   },
   "cell_type": "code",
   "source": "df[df['DIRECCION'].isna()][['ESTABLECIMIENTO', 'DIRECCION']]",
   "id": "41f8b15acc7ff20",
   "outputs": [
    {
     "data": {
      "text/plain": [
       "                                        ESTABLECIMIENTO DIRECCION\n",
       "96    INSTITUTO GUATEMALTECO DE EDUCACION RADIOFONIC...       NaN\n",
       "281   LICEO DE BACHILLERATO EN COMPUTACION Y EDUCACI...       NaN\n",
       "858      ESCUELA PRIVADA DE EDUCACION FISICA DE ORIENTE       NaN\n",
       "978                            LICEO TECNICO CONCEPCION       NaN\n",
       "1104                         COLEGIO NACIONAL AMERICANO       NaN\n",
       "1106              INSTITUTO PRIVADO \"TECNICO AMERICANO\"       NaN\n",
       "1107                                     COLEGIO KEPLER       NaN\n",
       "2149   COLEGIO MIXTO DIURNO 'FRANKLIN DELANO ROOSEVELT'       NaN\n",
       "2150  CENTRO EDUCACIONAL DE ESTUDIOS ECONOMICO-ADMIN...       NaN\n",
       "2843  INSTITUTO GUATEMALTECO DE EDUCACION RADIOFONIC...       NaN\n",
       "3123                        COLEGIO MIXTO DIVERSIFICADO       NaN\n",
       "3420  INSTITUTO DE EDUCACION DIVERSIFICADA POR COOPE...       NaN\n",
       "4248             CENTRO EDUCATIVO JOSE MILLA Y VIDAURRE       NaN\n",
       "4257                  COLEGIO CRISTIANO \"HERMOSO JESUS\"       NaN\n",
       "5029          COLEGIO PRIVADO MIXTO JOSE ERNESTO MONZON       NaN\n",
       "5124  INSTITUTO DE CIENCIAS COMERCIALES POR COOPERAT...       NaN\n",
       "5125  INSTITUTO DE CIENCIAS COMERCIALES POR COOPERATIVA       NaN\n",
       "5203  INSTITUTO NORMAL MIXTO POR COOPERATIVA ADSCRIT...       NaN\n",
       "5766  INSTITUTO GUATEMALTECO DE EDUCACION RADIOFONIC...       NaN\n",
       "5824  ESCUELA NORMAL REGIONAL DE PARVULOS ADS. A ESC...       NaN\n",
       "5929  INSTITUTO DE BACHILLERATO POR MADUREZ 'JUTIAPA...       NaN\n",
       "5933  INSTITUTO PARTICULAR MIXTO DE EDUCACION DIVERS...       NaN\n",
       "5937  INSTITUTO GUATEMALTECO DE EDUCACION RADIOFONIC...       NaN\n",
       "6026  INSTITUTO PARTICULAR MIXTO DE CIENCIAS COMERCI...       NaN\n",
       "6083            COLEGIO PARTICULAR MIXTO LICEO ORIENTAL       NaN\n",
       "6141                                     LICEO SAN JOSE       NaN\n",
       "6192  INSTITUTO GUATEMALTECA DE EDUCACION RADIOFONIC...       NaN\n",
       "6266  INSTITUTO PRIVADO MIXTO DE EDUCACION DIVERSIFI...       NaN\n",
       "6323  INSTITUTO PRIVADO MIXTO DE EDUCACION DIVERSIFI...       NaN\n",
       "6324                   INSTITUTO PRIVADO MIXTO NOCTURNO       NaN\n",
       "6354        ESCUELA DE CIENCIAS COMERCIALES 'SANTA ANA'       NaN\n",
       "6374  INSTITUTO PRIVADO DE CIENCIAS COMERCIALES 'ANT...       NaN\n",
       "6395            ESCUELA PRIVADA DE CIENCIAS COMERCIALES       NaN\n",
       "6452  INSTITUTO PRIVADO MIXTO DE EDUCACION DIVERSIFI...       NaN\n",
       "6703  INSTITUTO GUATEMALTECO DE EDUCACION RADIOFONIC...       NaN\n",
       "6786      CENTRO DE ESTUDIOS MODERNOS NOVISIMA ACADEMIA       NaN\n",
       "7948  COLEGIO PARROQUIAL MIXTO 'EL SAGRADO CORAZON D...       NaN\n",
       "8029               LICEO PARTICULAR MIXTO 'SAN ANTONIO'       NaN\n",
       "8186              INSTITUTO DIVERSIFICADO PRIVADO MIXTO       NaN\n",
       "8291           COLEGIO PRIVADO MIXTO \"SANTIAGO APOSTOL\"       NaN\n",
       "8321    INSTITUTO PRIVADO MIXTO 'MIGUEL ANGEL ASTURIAS'       NaN\n",
       "8452                 INSTITUTO NORMAL MIXTO 'MALACATAN'       NaN\n",
       "8453                           COLEGIO CORAZON DE JESUS       NaN\n",
       "8656  INSTITUTO GUATEMALTECO DE EDUCACION RADIOFONIC...       NaN\n",
       "8678              COLEGIO PRIVADO DR.JORGE ROMERO IMERY       NaN\n",
       "8720                     COLEGIO MIXTO LICEO PANAJACHEL       NaN\n",
       "8906  INSTITUTO GUATEMALTECO DE EDUCACION RADIOFONIC...       NaN\n",
       "9008                       INSTITUTO TECNICO INDUSTRIAL       NaN\n",
       "9114      INSTITUTO TECNICO VOCACIONAL PRIVADO 'HEBRON'       NaN\n",
       "9181  INSTITUTO GUATEMALTECO DE EDUCACION RADIOFONIC...       NaN\n",
       "9274  INSTITUTO GUATEMALTECO DE EDUCACION RADIOFONIC...       NaN"
      ],
      "text/html": [
       "<div>\n",
       "<style scoped>\n",
       "    .dataframe tbody tr th:only-of-type {\n",
       "        vertical-align: middle;\n",
       "    }\n",
       "\n",
       "    .dataframe tbody tr th {\n",
       "        vertical-align: top;\n",
       "    }\n",
       "\n",
       "    .dataframe thead th {\n",
       "        text-align: right;\n",
       "    }\n",
       "</style>\n",
       "<table border=\"1\" class=\"dataframe\">\n",
       "  <thead>\n",
       "    <tr style=\"text-align: right;\">\n",
       "      <th></th>\n",
       "      <th>ESTABLECIMIENTO</th>\n",
       "      <th>DIRECCION</th>\n",
       "    </tr>\n",
       "  </thead>\n",
       "  <tbody>\n",
       "    <tr>\n",
       "      <th>96</th>\n",
       "      <td>INSTITUTO GUATEMALTECO DE EDUCACION RADIOFONIC...</td>\n",
       "      <td>NaN</td>\n",
       "    </tr>\n",
       "    <tr>\n",
       "      <th>281</th>\n",
       "      <td>LICEO DE BACHILLERATO EN COMPUTACION Y EDUCACI...</td>\n",
       "      <td>NaN</td>\n",
       "    </tr>\n",
       "    <tr>\n",
       "      <th>858</th>\n",
       "      <td>ESCUELA PRIVADA DE EDUCACION FISICA DE ORIENTE</td>\n",
       "      <td>NaN</td>\n",
       "    </tr>\n",
       "    <tr>\n",
       "      <th>978</th>\n",
       "      <td>LICEO TECNICO CONCEPCION</td>\n",
       "      <td>NaN</td>\n",
       "    </tr>\n",
       "    <tr>\n",
       "      <th>1104</th>\n",
       "      <td>COLEGIO NACIONAL AMERICANO</td>\n",
       "      <td>NaN</td>\n",
       "    </tr>\n",
       "    <tr>\n",
       "      <th>1106</th>\n",
       "      <td>INSTITUTO PRIVADO \"TECNICO AMERICANO\"</td>\n",
       "      <td>NaN</td>\n",
       "    </tr>\n",
       "    <tr>\n",
       "      <th>1107</th>\n",
       "      <td>COLEGIO KEPLER</td>\n",
       "      <td>NaN</td>\n",
       "    </tr>\n",
       "    <tr>\n",
       "      <th>2149</th>\n",
       "      <td>COLEGIO MIXTO DIURNO 'FRANKLIN DELANO ROOSEVELT'</td>\n",
       "      <td>NaN</td>\n",
       "    </tr>\n",
       "    <tr>\n",
       "      <th>2150</th>\n",
       "      <td>CENTRO EDUCACIONAL DE ESTUDIOS ECONOMICO-ADMIN...</td>\n",
       "      <td>NaN</td>\n",
       "    </tr>\n",
       "    <tr>\n",
       "      <th>2843</th>\n",
       "      <td>INSTITUTO GUATEMALTECO DE EDUCACION RADIOFONIC...</td>\n",
       "      <td>NaN</td>\n",
       "    </tr>\n",
       "    <tr>\n",
       "      <th>3123</th>\n",
       "      <td>COLEGIO MIXTO DIVERSIFICADO</td>\n",
       "      <td>NaN</td>\n",
       "    </tr>\n",
       "    <tr>\n",
       "      <th>3420</th>\n",
       "      <td>INSTITUTO DE EDUCACION DIVERSIFICADA POR COOPE...</td>\n",
       "      <td>NaN</td>\n",
       "    </tr>\n",
       "    <tr>\n",
       "      <th>4248</th>\n",
       "      <td>CENTRO EDUCATIVO JOSE MILLA Y VIDAURRE</td>\n",
       "      <td>NaN</td>\n",
       "    </tr>\n",
       "    <tr>\n",
       "      <th>4257</th>\n",
       "      <td>COLEGIO CRISTIANO \"HERMOSO JESUS\"</td>\n",
       "      <td>NaN</td>\n",
       "    </tr>\n",
       "    <tr>\n",
       "      <th>5029</th>\n",
       "      <td>COLEGIO PRIVADO MIXTO JOSE ERNESTO MONZON</td>\n",
       "      <td>NaN</td>\n",
       "    </tr>\n",
       "    <tr>\n",
       "      <th>5124</th>\n",
       "      <td>INSTITUTO DE CIENCIAS COMERCIALES POR COOPERAT...</td>\n",
       "      <td>NaN</td>\n",
       "    </tr>\n",
       "    <tr>\n",
       "      <th>5125</th>\n",
       "      <td>INSTITUTO DE CIENCIAS COMERCIALES POR COOPERATIVA</td>\n",
       "      <td>NaN</td>\n",
       "    </tr>\n",
       "    <tr>\n",
       "      <th>5203</th>\n",
       "      <td>INSTITUTO NORMAL MIXTO POR COOPERATIVA ADSCRIT...</td>\n",
       "      <td>NaN</td>\n",
       "    </tr>\n",
       "    <tr>\n",
       "      <th>5766</th>\n",
       "      <td>INSTITUTO GUATEMALTECO DE EDUCACION RADIOFONIC...</td>\n",
       "      <td>NaN</td>\n",
       "    </tr>\n",
       "    <tr>\n",
       "      <th>5824</th>\n",
       "      <td>ESCUELA NORMAL REGIONAL DE PARVULOS ADS. A ESC...</td>\n",
       "      <td>NaN</td>\n",
       "    </tr>\n",
       "    <tr>\n",
       "      <th>5929</th>\n",
       "      <td>INSTITUTO DE BACHILLERATO POR MADUREZ 'JUTIAPA...</td>\n",
       "      <td>NaN</td>\n",
       "    </tr>\n",
       "    <tr>\n",
       "      <th>5933</th>\n",
       "      <td>INSTITUTO PARTICULAR MIXTO DE EDUCACION DIVERS...</td>\n",
       "      <td>NaN</td>\n",
       "    </tr>\n",
       "    <tr>\n",
       "      <th>5937</th>\n",
       "      <td>INSTITUTO GUATEMALTECO DE EDUCACION RADIOFONIC...</td>\n",
       "      <td>NaN</td>\n",
       "    </tr>\n",
       "    <tr>\n",
       "      <th>6026</th>\n",
       "      <td>INSTITUTO PARTICULAR MIXTO DE CIENCIAS COMERCI...</td>\n",
       "      <td>NaN</td>\n",
       "    </tr>\n",
       "    <tr>\n",
       "      <th>6083</th>\n",
       "      <td>COLEGIO PARTICULAR MIXTO LICEO ORIENTAL</td>\n",
       "      <td>NaN</td>\n",
       "    </tr>\n",
       "    <tr>\n",
       "      <th>6141</th>\n",
       "      <td>LICEO SAN JOSE</td>\n",
       "      <td>NaN</td>\n",
       "    </tr>\n",
       "    <tr>\n",
       "      <th>6192</th>\n",
       "      <td>INSTITUTO GUATEMALTECA DE EDUCACION RADIOFONIC...</td>\n",
       "      <td>NaN</td>\n",
       "    </tr>\n",
       "    <tr>\n",
       "      <th>6266</th>\n",
       "      <td>INSTITUTO PRIVADO MIXTO DE EDUCACION DIVERSIFI...</td>\n",
       "      <td>NaN</td>\n",
       "    </tr>\n",
       "    <tr>\n",
       "      <th>6323</th>\n",
       "      <td>INSTITUTO PRIVADO MIXTO DE EDUCACION DIVERSIFI...</td>\n",
       "      <td>NaN</td>\n",
       "    </tr>\n",
       "    <tr>\n",
       "      <th>6324</th>\n",
       "      <td>INSTITUTO PRIVADO MIXTO NOCTURNO</td>\n",
       "      <td>NaN</td>\n",
       "    </tr>\n",
       "    <tr>\n",
       "      <th>6354</th>\n",
       "      <td>ESCUELA DE CIENCIAS COMERCIALES 'SANTA ANA'</td>\n",
       "      <td>NaN</td>\n",
       "    </tr>\n",
       "    <tr>\n",
       "      <th>6374</th>\n",
       "      <td>INSTITUTO PRIVADO DE CIENCIAS COMERCIALES 'ANT...</td>\n",
       "      <td>NaN</td>\n",
       "    </tr>\n",
       "    <tr>\n",
       "      <th>6395</th>\n",
       "      <td>ESCUELA PRIVADA DE CIENCIAS COMERCIALES</td>\n",
       "      <td>NaN</td>\n",
       "    </tr>\n",
       "    <tr>\n",
       "      <th>6452</th>\n",
       "      <td>INSTITUTO PRIVADO MIXTO DE EDUCACION DIVERSIFI...</td>\n",
       "      <td>NaN</td>\n",
       "    </tr>\n",
       "    <tr>\n",
       "      <th>6703</th>\n",
       "      <td>INSTITUTO GUATEMALTECO DE EDUCACION RADIOFONIC...</td>\n",
       "      <td>NaN</td>\n",
       "    </tr>\n",
       "    <tr>\n",
       "      <th>6786</th>\n",
       "      <td>CENTRO DE ESTUDIOS MODERNOS NOVISIMA ACADEMIA</td>\n",
       "      <td>NaN</td>\n",
       "    </tr>\n",
       "    <tr>\n",
       "      <th>7948</th>\n",
       "      <td>COLEGIO PARROQUIAL MIXTO 'EL SAGRADO CORAZON D...</td>\n",
       "      <td>NaN</td>\n",
       "    </tr>\n",
       "    <tr>\n",
       "      <th>8029</th>\n",
       "      <td>LICEO PARTICULAR MIXTO 'SAN ANTONIO'</td>\n",
       "      <td>NaN</td>\n",
       "    </tr>\n",
       "    <tr>\n",
       "      <th>8186</th>\n",
       "      <td>INSTITUTO DIVERSIFICADO PRIVADO MIXTO</td>\n",
       "      <td>NaN</td>\n",
       "    </tr>\n",
       "    <tr>\n",
       "      <th>8291</th>\n",
       "      <td>COLEGIO PRIVADO MIXTO \"SANTIAGO APOSTOL\"</td>\n",
       "      <td>NaN</td>\n",
       "    </tr>\n",
       "    <tr>\n",
       "      <th>8321</th>\n",
       "      <td>INSTITUTO PRIVADO MIXTO 'MIGUEL ANGEL ASTURIAS'</td>\n",
       "      <td>NaN</td>\n",
       "    </tr>\n",
       "    <tr>\n",
       "      <th>8452</th>\n",
       "      <td>INSTITUTO NORMAL MIXTO 'MALACATAN'</td>\n",
       "      <td>NaN</td>\n",
       "    </tr>\n",
       "    <tr>\n",
       "      <th>8453</th>\n",
       "      <td>COLEGIO CORAZON DE JESUS</td>\n",
       "      <td>NaN</td>\n",
       "    </tr>\n",
       "    <tr>\n",
       "      <th>8656</th>\n",
       "      <td>INSTITUTO GUATEMALTECO DE EDUCACION RADIOFONIC...</td>\n",
       "      <td>NaN</td>\n",
       "    </tr>\n",
       "    <tr>\n",
       "      <th>8678</th>\n",
       "      <td>COLEGIO PRIVADO DR.JORGE ROMERO IMERY</td>\n",
       "      <td>NaN</td>\n",
       "    </tr>\n",
       "    <tr>\n",
       "      <th>8720</th>\n",
       "      <td>COLEGIO MIXTO LICEO PANAJACHEL</td>\n",
       "      <td>NaN</td>\n",
       "    </tr>\n",
       "    <tr>\n",
       "      <th>8906</th>\n",
       "      <td>INSTITUTO GUATEMALTECO DE EDUCACION RADIOFONIC...</td>\n",
       "      <td>NaN</td>\n",
       "    </tr>\n",
       "    <tr>\n",
       "      <th>9008</th>\n",
       "      <td>INSTITUTO TECNICO INDUSTRIAL</td>\n",
       "      <td>NaN</td>\n",
       "    </tr>\n",
       "    <tr>\n",
       "      <th>9114</th>\n",
       "      <td>INSTITUTO TECNICO VOCACIONAL PRIVADO 'HEBRON'</td>\n",
       "      <td>NaN</td>\n",
       "    </tr>\n",
       "    <tr>\n",
       "      <th>9181</th>\n",
       "      <td>INSTITUTO GUATEMALTECO DE EDUCACION RADIOFONIC...</td>\n",
       "      <td>NaN</td>\n",
       "    </tr>\n",
       "    <tr>\n",
       "      <th>9274</th>\n",
       "      <td>INSTITUTO GUATEMALTECO DE EDUCACION RADIOFONIC...</td>\n",
       "      <td>NaN</td>\n",
       "    </tr>\n",
       "  </tbody>\n",
       "</table>\n",
       "</div>"
      ]
     },
     "execution_count": 479,
     "metadata": {},
     "output_type": "execute_result"
    }
   ],
   "execution_count": 479
  },
  {
   "metadata": {},
   "cell_type": "markdown",
   "source": "Existen 51 establecimientos que no tienen especificada una dirección. Procedemos a imputar estos valores con un valor que represente la ausencia de una dirección.",
   "id": "36c6c80ad87ba2"
  },
  {
   "metadata": {
    "ExecuteTime": {
     "end_time": "2024-08-04T07:36:19.757280Z",
     "start_time": "2024-08-04T07:36:19.750445Z"
    }
   },
   "cell_type": "code",
   "source": "df['DIRECCION'] = df['DIRECCION'].fillna('SIN DIRECCION')",
   "id": "53833c100bcab391",
   "outputs": [],
   "execution_count": 480
  },
  {
   "metadata": {
    "ExecuteTime": {
     "end_time": "2024-08-04T07:36:19.772857Z",
     "start_time": "2024-08-04T07:36:19.758321Z"
    }
   },
   "cell_type": "code",
   "source": "df['DIRECCION'].isna().sum()",
   "id": "dbb9123fea4d9bb2",
   "outputs": [
    {
     "data": {
      "text/plain": [
       "0"
      ]
     },
     "execution_count": 481,
     "metadata": {},
     "output_type": "execute_result"
    }
   ],
   "execution_count": 481
  },
  {
   "metadata": {
    "ExecuteTime": {
     "end_time": "2024-08-04T07:36:19.808924Z",
     "start_time": "2024-08-04T07:36:19.773870Z"
    }
   },
   "cell_type": "code",
   "source": "df[df['DIRECCION'].str.contains('[a-z]')]",
   "id": "fe4f7afaa35e84d1",
   "outputs": [
    {
     "data": {
      "text/plain": [
       "             CODIGO DISTRITO    DEPARTAMENTO              MUNICIPIO  \\\n",
       "592   04-01-0655-46   04-020   CHIMALTENANGO          CHIMALTENANGO   \n",
       "1365  00-01-2984-46      NaN  CIUDAD CAPITAL                 ZONA 1   \n",
       "3796  01-08-2975-46      NaN       GUATEMALA                  MIXCO   \n",
       "4486  01-15-2400-46   01-219       GUATEMALA            VILLA NUEVA   \n",
       "4658  01-16-2893-46      NaN       GUATEMALA          VILLA CANALES   \n",
       "7482  11-04-0117-46      NaN      RETALHULEU  SAN MARTIN ZAPOTITLAN   \n",
       "\n",
       "                                        ESTABLECIMIENTO  \\\n",
       "592   INST. PRIVADO MIXTO DE EDUC. DIVERSIFICADA COL...   \n",
       "1365             COLEGIO DE COMPUTACION 'BLAISE PASCAL'   \n",
       "3796                                    SAN LUIS GOZAGA   \n",
       "4486  INSTITUTO PRIVADO MIXTO DE EDUCACION DIVERSIFI...   \n",
       "4658                     CENTRO EDUCACIONAL BENEDICTINO   \n",
       "7482  INSTITUTO PRIVADO MIXTO DE EDUCACION DIVERSIFI...   \n",
       "\n",
       "                                        DIRECCION  TELEFONO  \\\n",
       "592   3a. CALLE 6-108 ZONA 1, COLONIA LAS MAJADAS  78392471   \n",
       "1365                          8a. AV. 3-30 ZONA 1       NaN   \n",
       "3796       8a. AVE. 6-12 ZONA 1, MIXCO, GUATEMALA       NaN   \n",
       "4486    ANEXO I CASA No.14 COLONIA CIUDAD REAL II       NaN   \n",
       "4658                          1a. AV. 5-77 ZONA 2  24480639   \n",
       "7482                         APARTADO No. 3-11905       NaN   \n",
       "\n",
       "                       SUPERVISOR DIRECTOR          NIVEL   SECTOR    AREA  \\\n",
       "592   LESLY YOLANDA PEREZ CHAMALE      NaN  DIVERSIFICADO  PRIVADO  URBANA   \n",
       "1365                          NaN      NaN  DIVERSIFICADO  PRIVADO  URBANA   \n",
       "3796                          NaN      NaN  DIVERSIFICADO  PRIVADO  URBANA   \n",
       "4486  DAVID SALOMON MEJIA SAMAYOA      NaN  DIVERSIFICADO  PRIVADO  URBANA   \n",
       "4658                          NaN      NaN  DIVERSIFICADO  PRIVADO   RURAL   \n",
       "7482                          NaN      NaN  DIVERSIFICADO  PRIVADO   RURAL   \n",
       "\n",
       "                     STATUS   MODALIDAD   JORNADA             PLAN  \\\n",
       "592   CERRADA TEMPORALMENTE  MONOLINGUE  MATUTINA  DIARIO(REGULAR)   \n",
       "1365  CERRADA TEMPORALMENTE  MONOLINGUE  NOCTURNA  DIARIO(REGULAR)   \n",
       "3796  CERRADA TEMPORALMENTE  MONOLINGUE  MATUTINA  DIARIO(REGULAR)   \n",
       "4486  CERRADA TEMPORALMENTE  MONOLINGUE  MATUTINA  DIARIO(REGULAR)   \n",
       "4658  CERRADA TEMPORALMENTE  MONOLINGUE  MATUTINA  DIARIO(REGULAR)   \n",
       "7482  CERRADA TEMPORALMENTE  MONOLINGUE  MATUTINA  DIARIO(REGULAR)   \n",
       "\n",
       "            DEPARTAMENTAL  \n",
       "592         CHIMALTENANGO  \n",
       "1365      GUATEMALA NORTE  \n",
       "3796  GUATEMALA OCCIDENTE  \n",
       "4486        GUATEMALA SUR  \n",
       "4658    GUATEMALA ORIENTE  \n",
       "7482           RETALHULEU  "
      ],
      "text/html": [
       "<div>\n",
       "<style scoped>\n",
       "    .dataframe tbody tr th:only-of-type {\n",
       "        vertical-align: middle;\n",
       "    }\n",
       "\n",
       "    .dataframe tbody tr th {\n",
       "        vertical-align: top;\n",
       "    }\n",
       "\n",
       "    .dataframe thead th {\n",
       "        text-align: right;\n",
       "    }\n",
       "</style>\n",
       "<table border=\"1\" class=\"dataframe\">\n",
       "  <thead>\n",
       "    <tr style=\"text-align: right;\">\n",
       "      <th></th>\n",
       "      <th>CODIGO</th>\n",
       "      <th>DISTRITO</th>\n",
       "      <th>DEPARTAMENTO</th>\n",
       "      <th>MUNICIPIO</th>\n",
       "      <th>ESTABLECIMIENTO</th>\n",
       "      <th>DIRECCION</th>\n",
       "      <th>TELEFONO</th>\n",
       "      <th>SUPERVISOR</th>\n",
       "      <th>DIRECTOR</th>\n",
       "      <th>NIVEL</th>\n",
       "      <th>SECTOR</th>\n",
       "      <th>AREA</th>\n",
       "      <th>STATUS</th>\n",
       "      <th>MODALIDAD</th>\n",
       "      <th>JORNADA</th>\n",
       "      <th>PLAN</th>\n",
       "      <th>DEPARTAMENTAL</th>\n",
       "    </tr>\n",
       "  </thead>\n",
       "  <tbody>\n",
       "    <tr>\n",
       "      <th>592</th>\n",
       "      <td>04-01-0655-46</td>\n",
       "      <td>04-020</td>\n",
       "      <td>CHIMALTENANGO</td>\n",
       "      <td>CHIMALTENANGO</td>\n",
       "      <td>INST. PRIVADO MIXTO DE EDUC. DIVERSIFICADA COL...</td>\n",
       "      <td>3a. CALLE 6-108 ZONA 1, COLONIA LAS MAJADAS</td>\n",
       "      <td>78392471</td>\n",
       "      <td>LESLY YOLANDA PEREZ CHAMALE</td>\n",
       "      <td>NaN</td>\n",
       "      <td>DIVERSIFICADO</td>\n",
       "      <td>PRIVADO</td>\n",
       "      <td>URBANA</td>\n",
       "      <td>CERRADA TEMPORALMENTE</td>\n",
       "      <td>MONOLINGUE</td>\n",
       "      <td>MATUTINA</td>\n",
       "      <td>DIARIO(REGULAR)</td>\n",
       "      <td>CHIMALTENANGO</td>\n",
       "    </tr>\n",
       "    <tr>\n",
       "      <th>1365</th>\n",
       "      <td>00-01-2984-46</td>\n",
       "      <td>NaN</td>\n",
       "      <td>CIUDAD CAPITAL</td>\n",
       "      <td>ZONA 1</td>\n",
       "      <td>COLEGIO DE COMPUTACION 'BLAISE PASCAL'</td>\n",
       "      <td>8a. AV. 3-30 ZONA 1</td>\n",
       "      <td>NaN</td>\n",
       "      <td>NaN</td>\n",
       "      <td>NaN</td>\n",
       "      <td>DIVERSIFICADO</td>\n",
       "      <td>PRIVADO</td>\n",
       "      <td>URBANA</td>\n",
       "      <td>CERRADA TEMPORALMENTE</td>\n",
       "      <td>MONOLINGUE</td>\n",
       "      <td>NOCTURNA</td>\n",
       "      <td>DIARIO(REGULAR)</td>\n",
       "      <td>GUATEMALA NORTE</td>\n",
       "    </tr>\n",
       "    <tr>\n",
       "      <th>3796</th>\n",
       "      <td>01-08-2975-46</td>\n",
       "      <td>NaN</td>\n",
       "      <td>GUATEMALA</td>\n",
       "      <td>MIXCO</td>\n",
       "      <td>SAN LUIS GOZAGA</td>\n",
       "      <td>8a. AVE. 6-12 ZONA 1, MIXCO, GUATEMALA</td>\n",
       "      <td>NaN</td>\n",
       "      <td>NaN</td>\n",
       "      <td>NaN</td>\n",
       "      <td>DIVERSIFICADO</td>\n",
       "      <td>PRIVADO</td>\n",
       "      <td>URBANA</td>\n",
       "      <td>CERRADA TEMPORALMENTE</td>\n",
       "      <td>MONOLINGUE</td>\n",
       "      <td>MATUTINA</td>\n",
       "      <td>DIARIO(REGULAR)</td>\n",
       "      <td>GUATEMALA OCCIDENTE</td>\n",
       "    </tr>\n",
       "    <tr>\n",
       "      <th>4486</th>\n",
       "      <td>01-15-2400-46</td>\n",
       "      <td>01-219</td>\n",
       "      <td>GUATEMALA</td>\n",
       "      <td>VILLA NUEVA</td>\n",
       "      <td>INSTITUTO PRIVADO MIXTO DE EDUCACION DIVERSIFI...</td>\n",
       "      <td>ANEXO I CASA No.14 COLONIA CIUDAD REAL II</td>\n",
       "      <td>NaN</td>\n",
       "      <td>DAVID SALOMON MEJIA SAMAYOA</td>\n",
       "      <td>NaN</td>\n",
       "      <td>DIVERSIFICADO</td>\n",
       "      <td>PRIVADO</td>\n",
       "      <td>URBANA</td>\n",
       "      <td>CERRADA TEMPORALMENTE</td>\n",
       "      <td>MONOLINGUE</td>\n",
       "      <td>MATUTINA</td>\n",
       "      <td>DIARIO(REGULAR)</td>\n",
       "      <td>GUATEMALA SUR</td>\n",
       "    </tr>\n",
       "    <tr>\n",
       "      <th>4658</th>\n",
       "      <td>01-16-2893-46</td>\n",
       "      <td>NaN</td>\n",
       "      <td>GUATEMALA</td>\n",
       "      <td>VILLA CANALES</td>\n",
       "      <td>CENTRO EDUCACIONAL BENEDICTINO</td>\n",
       "      <td>1a. AV. 5-77 ZONA 2</td>\n",
       "      <td>24480639</td>\n",
       "      <td>NaN</td>\n",
       "      <td>NaN</td>\n",
       "      <td>DIVERSIFICADO</td>\n",
       "      <td>PRIVADO</td>\n",
       "      <td>RURAL</td>\n",
       "      <td>CERRADA TEMPORALMENTE</td>\n",
       "      <td>MONOLINGUE</td>\n",
       "      <td>MATUTINA</td>\n",
       "      <td>DIARIO(REGULAR)</td>\n",
       "      <td>GUATEMALA ORIENTE</td>\n",
       "    </tr>\n",
       "    <tr>\n",
       "      <th>7482</th>\n",
       "      <td>11-04-0117-46</td>\n",
       "      <td>NaN</td>\n",
       "      <td>RETALHULEU</td>\n",
       "      <td>SAN MARTIN ZAPOTITLAN</td>\n",
       "      <td>INSTITUTO PRIVADO MIXTO DE EDUCACION DIVERSIFI...</td>\n",
       "      <td>APARTADO No. 3-11905</td>\n",
       "      <td>NaN</td>\n",
       "      <td>NaN</td>\n",
       "      <td>NaN</td>\n",
       "      <td>DIVERSIFICADO</td>\n",
       "      <td>PRIVADO</td>\n",
       "      <td>RURAL</td>\n",
       "      <td>CERRADA TEMPORALMENTE</td>\n",
       "      <td>MONOLINGUE</td>\n",
       "      <td>MATUTINA</td>\n",
       "      <td>DIARIO(REGULAR)</td>\n",
       "      <td>RETALHULEU</td>\n",
       "    </tr>\n",
       "  </tbody>\n",
       "</table>\n",
       "</div>"
      ]
     },
     "execution_count": 482,
     "metadata": {},
     "output_type": "execute_result"
    }
   ],
   "execution_count": 482
  },
  {
   "metadata": {
    "ExecuteTime": {
     "end_time": "2024-08-04T07:36:19.821529Z",
     "start_time": "2024-08-04T07:36:19.810973Z"
    }
   },
   "cell_type": "code",
   "source": "df['DIRECCION'] = df['DIRECCION'].str.upper()",
   "id": "d5d708d1ae0af685",
   "outputs": [],
   "execution_count": 483
  },
  {
   "metadata": {},
   "cell_type": "markdown",
   "source": "En la dirección, al referirse a algunas calles/avenidas ordinales, se tenía una minúscula.",
   "id": "847cee73870e1f7e"
  },
  {
   "metadata": {},
   "cell_type": "markdown",
   "source": "#### TELEFONO",
   "id": "c581b671ee701927"
  },
  {
   "metadata": {
    "ExecuteTime": {
     "end_time": "2024-08-04T07:36:19.837624Z",
     "start_time": "2024-08-04T07:36:19.822536Z"
    }
   },
   "cell_type": "code",
   "source": "df['TELEFONO'].isna().sum()",
   "id": "4f732d951d736c4c",
   "outputs": [
    {
     "data": {
      "text/plain": [
       "535"
      ]
     },
     "execution_count": 484,
     "metadata": {},
     "output_type": "execute_result"
    }
   ],
   "execution_count": 484
  },
  {
   "metadata": {
    "ExecuteTime": {
     "end_time": "2024-08-04T07:36:19.855291Z",
     "start_time": "2024-08-04T07:36:19.838671Z"
    }
   },
   "cell_type": "code",
   "source": "df[df['TELEFONO'].isna()][['ESTABLECIMIENTO', 'TELEFONO']]",
   "id": "5ee5241f8cb93054",
   "outputs": [
    {
     "data": {
      "text/plain": [
       "                                        ESTABLECIMIENTO TELEFONO\n",
       "8      INSTITUTO INTERCULTRUAL ALTAVERAPACENCESE -IIAV-      NaN\n",
       "68                    COLEGIO PARTICULAR MIXTO CARLOS V      NaN\n",
       "69                    COLEGIO PARTICULAR MIXTO CARLOS V      NaN\n",
       "85                    INSTITUTO MIXTO NUEVOS HORIZONTES      NaN\n",
       "87    INSTITUTO PRIVADO BASICO Y BACHILLERATO POR MA...      NaN\n",
       "...                                                 ...      ...\n",
       "9246  INSTITUTO MIXTO DE EDUCACION DIVERSIFICADA POR...      NaN\n",
       "9274  INSTITUTO GUATEMALTECO DE EDUCACION RADIOFONIC...      NaN\n",
       "9281         INSTITUTO DE TURISMO Y AVIACION DE ORIENTE      NaN\n",
       "9282         INSTITUTO DE TURISMO Y AVIACION DE ORIENTE      NaN\n",
       "9300                             COLEGIO MAYA TECULUTAN      NaN\n",
       "\n",
       "[535 rows x 2 columns]"
      ],
      "text/html": [
       "<div>\n",
       "<style scoped>\n",
       "    .dataframe tbody tr th:only-of-type {\n",
       "        vertical-align: middle;\n",
       "    }\n",
       "\n",
       "    .dataframe tbody tr th {\n",
       "        vertical-align: top;\n",
       "    }\n",
       "\n",
       "    .dataframe thead th {\n",
       "        text-align: right;\n",
       "    }\n",
       "</style>\n",
       "<table border=\"1\" class=\"dataframe\">\n",
       "  <thead>\n",
       "    <tr style=\"text-align: right;\">\n",
       "      <th></th>\n",
       "      <th>ESTABLECIMIENTO</th>\n",
       "      <th>TELEFONO</th>\n",
       "    </tr>\n",
       "  </thead>\n",
       "  <tbody>\n",
       "    <tr>\n",
       "      <th>8</th>\n",
       "      <td>INSTITUTO INTERCULTRUAL ALTAVERAPACENCESE -IIAV-</td>\n",
       "      <td>NaN</td>\n",
       "    </tr>\n",
       "    <tr>\n",
       "      <th>68</th>\n",
       "      <td>COLEGIO PARTICULAR MIXTO CARLOS V</td>\n",
       "      <td>NaN</td>\n",
       "    </tr>\n",
       "    <tr>\n",
       "      <th>69</th>\n",
       "      <td>COLEGIO PARTICULAR MIXTO CARLOS V</td>\n",
       "      <td>NaN</td>\n",
       "    </tr>\n",
       "    <tr>\n",
       "      <th>85</th>\n",
       "      <td>INSTITUTO MIXTO NUEVOS HORIZONTES</td>\n",
       "      <td>NaN</td>\n",
       "    </tr>\n",
       "    <tr>\n",
       "      <th>87</th>\n",
       "      <td>INSTITUTO PRIVADO BASICO Y BACHILLERATO POR MA...</td>\n",
       "      <td>NaN</td>\n",
       "    </tr>\n",
       "    <tr>\n",
       "      <th>...</th>\n",
       "      <td>...</td>\n",
       "      <td>...</td>\n",
       "    </tr>\n",
       "    <tr>\n",
       "      <th>9246</th>\n",
       "      <td>INSTITUTO MIXTO DE EDUCACION DIVERSIFICADA POR...</td>\n",
       "      <td>NaN</td>\n",
       "    </tr>\n",
       "    <tr>\n",
       "      <th>9274</th>\n",
       "      <td>INSTITUTO GUATEMALTECO DE EDUCACION RADIOFONIC...</td>\n",
       "      <td>NaN</td>\n",
       "    </tr>\n",
       "    <tr>\n",
       "      <th>9281</th>\n",
       "      <td>INSTITUTO DE TURISMO Y AVIACION DE ORIENTE</td>\n",
       "      <td>NaN</td>\n",
       "    </tr>\n",
       "    <tr>\n",
       "      <th>9282</th>\n",
       "      <td>INSTITUTO DE TURISMO Y AVIACION DE ORIENTE</td>\n",
       "      <td>NaN</td>\n",
       "    </tr>\n",
       "    <tr>\n",
       "      <th>9300</th>\n",
       "      <td>COLEGIO MAYA TECULUTAN</td>\n",
       "      <td>NaN</td>\n",
       "    </tr>\n",
       "  </tbody>\n",
       "</table>\n",
       "<p>535 rows × 2 columns</p>\n",
       "</div>"
      ]
     },
     "execution_count": 485,
     "metadata": {},
     "output_type": "execute_result"
    }
   ],
   "execution_count": 485
  },
  {
   "metadata": {
    "ExecuteTime": {
     "end_time": "2024-08-04T07:36:19.867744Z",
     "start_time": "2024-08-04T07:36:19.857299Z"
    }
   },
   "cell_type": "code",
   "source": "df['TELEFONO'] = df['TELEFONO'].fillna('')",
   "id": "8cce14ca7b010e8",
   "outputs": [],
   "execution_count": 486
  },
  {
   "metadata": {
    "ExecuteTime": {
     "end_time": "2024-08-04T07:36:19.904430Z",
     "start_time": "2024-08-04T07:36:19.869742Z"
    }
   },
   "cell_type": "code",
   "source": "df[df['TELEFONO'].str.contains('[^0-9]', na=False)][['ESTABLECIMIENTO', 'TELEFONO']]",
   "id": "6942875ceb715510",
   "outputs": [
    {
     "data": {
      "text/plain": [
       "                                       ESTABLECIMIENTO           TELEFONO\n",
       "140                                    COLEGIO 'MESON'  79504027-79504028\n",
       "264   LICEO COEDUCATIVO PRIVADO \"JAVIER DE LA VERAPAZ\"  78208583-78209143\n",
       "380      COLEGIO PARTICULAR MIXTO CIENCIA Y DESARROLLO  79540830-79540909\n",
       "381      COLEGIO PARTICULAR MIXTO CIENCIA Y DESARROLLO  79540830-79540909\n",
       "495                   INSTITUTO TECNOLOGICO CHIMALTECO  78391288-78392217\n",
       "...                                                ...                ...\n",
       "9158       CENTRO DE ESTUDIOS AVANZADOS DE TOTONICAPÁN  56769964-77663283\n",
       "9159       CENTRO DE ESTUDIOS AVANZADOS DE TOTONICAPÁN   56769964-7766328\n",
       "9171       CENTRO DE ESTUDIOS AVANZADOS DE TOTONICAPÁN  77663283-77663283\n",
       "9192         COLEGIO PRIVADO MIXTO FRANCISCO MARROQUIN  77375333-42470723\n",
       "9209         COLEGIO PRIVADO MIXTO FRANCISCO MARROQUIN  77375333-42470723\n",
       "\n",
       "[144 rows x 2 columns]"
      ],
      "text/html": [
       "<div>\n",
       "<style scoped>\n",
       "    .dataframe tbody tr th:only-of-type {\n",
       "        vertical-align: middle;\n",
       "    }\n",
       "\n",
       "    .dataframe tbody tr th {\n",
       "        vertical-align: top;\n",
       "    }\n",
       "\n",
       "    .dataframe thead th {\n",
       "        text-align: right;\n",
       "    }\n",
       "</style>\n",
       "<table border=\"1\" class=\"dataframe\">\n",
       "  <thead>\n",
       "    <tr style=\"text-align: right;\">\n",
       "      <th></th>\n",
       "      <th>ESTABLECIMIENTO</th>\n",
       "      <th>TELEFONO</th>\n",
       "    </tr>\n",
       "  </thead>\n",
       "  <tbody>\n",
       "    <tr>\n",
       "      <th>140</th>\n",
       "      <td>COLEGIO 'MESON'</td>\n",
       "      <td>79504027-79504028</td>\n",
       "    </tr>\n",
       "    <tr>\n",
       "      <th>264</th>\n",
       "      <td>LICEO COEDUCATIVO PRIVADO \"JAVIER DE LA VERAPAZ\"</td>\n",
       "      <td>78208583-78209143</td>\n",
       "    </tr>\n",
       "    <tr>\n",
       "      <th>380</th>\n",
       "      <td>COLEGIO PARTICULAR MIXTO CIENCIA Y DESARROLLO</td>\n",
       "      <td>79540830-79540909</td>\n",
       "    </tr>\n",
       "    <tr>\n",
       "      <th>381</th>\n",
       "      <td>COLEGIO PARTICULAR MIXTO CIENCIA Y DESARROLLO</td>\n",
       "      <td>79540830-79540909</td>\n",
       "    </tr>\n",
       "    <tr>\n",
       "      <th>495</th>\n",
       "      <td>INSTITUTO TECNOLOGICO CHIMALTECO</td>\n",
       "      <td>78391288-78392217</td>\n",
       "    </tr>\n",
       "    <tr>\n",
       "      <th>...</th>\n",
       "      <td>...</td>\n",
       "      <td>...</td>\n",
       "    </tr>\n",
       "    <tr>\n",
       "      <th>9158</th>\n",
       "      <td>CENTRO DE ESTUDIOS AVANZADOS DE TOTONICAPÁN</td>\n",
       "      <td>56769964-77663283</td>\n",
       "    </tr>\n",
       "    <tr>\n",
       "      <th>9159</th>\n",
       "      <td>CENTRO DE ESTUDIOS AVANZADOS DE TOTONICAPÁN</td>\n",
       "      <td>56769964-7766328</td>\n",
       "    </tr>\n",
       "    <tr>\n",
       "      <th>9171</th>\n",
       "      <td>CENTRO DE ESTUDIOS AVANZADOS DE TOTONICAPÁN</td>\n",
       "      <td>77663283-77663283</td>\n",
       "    </tr>\n",
       "    <tr>\n",
       "      <th>9192</th>\n",
       "      <td>COLEGIO PRIVADO MIXTO FRANCISCO MARROQUIN</td>\n",
       "      <td>77375333-42470723</td>\n",
       "    </tr>\n",
       "    <tr>\n",
       "      <th>9209</th>\n",
       "      <td>COLEGIO PRIVADO MIXTO FRANCISCO MARROQUIN</td>\n",
       "      <td>77375333-42470723</td>\n",
       "    </tr>\n",
       "  </tbody>\n",
       "</table>\n",
       "<p>144 rows × 2 columns</p>\n",
       "</div>"
      ]
     },
     "execution_count": 487,
     "metadata": {},
     "output_type": "execute_result"
    }
   ],
   "execution_count": 487
  },
  {
   "metadata": {},
   "cell_type": "markdown",
   "source": "Podemos ver el pésimo formato de los números del teléfono. Existen también algunos con longitud de 7 dígitos, lo que implica que son números de teléfono de antes del 2000. ",
   "id": "a3d58a113dad38"
  },
  {
   "metadata": {},
   "cell_type": "markdown",
   "source": "Hay números de teléfono separados por '-', se elimina este carácter para los números con longitud de 8 dígitos (XXXX-XXXX) y para los de 7 (XXX-XXXX)",
   "id": "d57bcf90697fb065"
  },
  {
   "metadata": {
    "ExecuteTime": {
     "end_time": "2024-08-04T07:36:19.917860Z",
     "start_time": "2024-08-04T07:36:19.906451Z"
    }
   },
   "cell_type": "code",
   "source": "df['TELEFONO'] = df['TELEFONO'].astype(str)",
   "id": "18a6edaeaf9f881c",
   "outputs": [],
   "execution_count": 488
  },
  {
   "metadata": {
    "ExecuteTime": {
     "end_time": "2024-08-04T07:36:19.937770Z",
     "start_time": "2024-08-04T07:36:19.918878Z"
    }
   },
   "cell_type": "code",
   "source": [
    "df['TELEFONO'] = df['TELEFONO'].apply(\n",
    "    lambda x: \n",
    "    x.split('-')[0] \n",
    "    if len(x.split('-')) == 2 and (len(x.split('-')[0]) == 4 or len(x.split('-')[0]) == 3) and len(x.split('-')[1]) == 4 \n",
    "    else x\n",
    ")"
   ],
   "id": "9d165c256050fda7",
   "outputs": [],
   "execution_count": 489
  },
  {
   "metadata": {},
   "cell_type": "markdown",
   "source": "Para los que tienen diferentes números de teléfono apuntads y separados por '-', '/', ', ', o ' '; procedemos a tomar el primer número.",
   "id": "9cadcd71e2cea47c"
  },
  {
   "metadata": {
    "ExecuteTime": {
     "end_time": "2024-08-04T07:36:19.960506Z",
     "start_time": "2024-08-04T07:36:19.945777Z"
    }
   },
   "cell_type": "code",
   "source": [
    "df['TELEFONO'] = df['TELEFONO'].apply(\n",
    "    lambda x: \n",
    "    x.split('-')[0].strip() \n",
    "    if len(x.split('-')[0]) in [8, 7]\n",
    "    else x\n",
    ")"
   ],
   "id": "bf8f540912c4ae3a",
   "outputs": [],
   "execution_count": 490
  },
  {
   "metadata": {
    "ExecuteTime": {
     "end_time": "2024-08-04T07:36:19.982800Z",
     "start_time": "2024-08-04T07:36:19.962507Z"
    }
   },
   "cell_type": "code",
   "source": [
    "df['TELEFONO'] = df['TELEFONO'].apply(\n",
    "    lambda x: \n",
    "    x.split('/')[0] \n",
    "    if len(x.split('/')[0]) in [8, 7]\n",
    "    else x\n",
    ")"
   ],
   "id": "d5d28a4c481b46ce",
   "outputs": [],
   "execution_count": 491
  },
  {
   "metadata": {
    "ExecuteTime": {
     "end_time": "2024-08-04T07:36:20.003816Z",
     "start_time": "2024-08-04T07:36:19.984817Z"
    }
   },
   "cell_type": "code",
   "source": [
    "df['TELEFONO'] = df['TELEFONO'].apply(\n",
    "    lambda x: \n",
    "    x.split(' ')[0] \n",
    "    if len(x.split(' ')[0]) in [8, 7]\n",
    "    else x\n",
    ")"
   ],
   "id": "7a178573b6a07f6d",
   "outputs": [],
   "execution_count": 492
  },
  {
   "metadata": {
    "ExecuteTime": {
     "end_time": "2024-08-04T07:36:20.016244Z",
     "start_time": "2024-08-04T07:36:20.005825Z"
    }
   },
   "cell_type": "code",
   "source": "import re",
   "id": "d9609e7d38eba2e1",
   "outputs": [],
   "execution_count": 493
  },
  {
   "metadata": {
    "ExecuteTime": {
     "end_time": "2024-08-04T07:36:20.059791Z",
     "start_time": "2024-08-04T07:36:20.017258Z"
    }
   },
   "cell_type": "code",
   "source": [
    "df['TELEFONO'] = df['TELEFONO'].apply(\n",
    "    lambda x: \n",
    "    re.split(r',\\s*', x)[0] \n",
    "    if len(re.split(r',\\s*', x)[0]) in [8, 7] \n",
    "    else x\n",
    ")"
   ],
   "id": "f2de50b3f5482c21",
   "outputs": [],
   "execution_count": 494
  },
  {
   "metadata": {},
   "cell_type": "markdown",
   "source": "Se corre este código 2 veces debido a que hay números que tienen más de un separador.",
   "id": "551ca9ef2cab99f4"
  },
  {
   "metadata": {
    "ExecuteTime": {
     "end_time": "2024-08-04T07:36:20.073789Z",
     "start_time": "2024-08-04T07:36:20.060829Z"
    }
   },
   "cell_type": "code",
   "source": [
    "df['TELEFONO'] = df['TELEFONO'].apply(\n",
    "    lambda x:\n",
    "    x.split('-')[0]\n",
    "    if len(x.split('-')) == 2 and (len(x.split('-')[0]) == 4 or len(x.split('-')[0]) == 3) and len(x.split('-')[1]) == 4\n",
    "    else x\n",
    ")"
   ],
   "id": "f1541a0b46de219d",
   "outputs": [],
   "execution_count": 495
  },
  {
   "metadata": {
    "ExecuteTime": {
     "end_time": "2024-08-04T07:36:20.100425Z",
     "start_time": "2024-08-04T07:36:20.074790Z"
    }
   },
   "cell_type": "code",
   "source": "df[df['TELEFONO'].str.contains('[^0-9]', na=False)][['ESTABLECIMIENTO', 'TELEFONO']]",
   "id": "7c3384df4340380e",
   "outputs": [
    {
     "data": {
      "text/plain": [
       "                                        ESTABLECIMIENTO              TELEFONO\n",
       "1967                     COLEGIO MIXTO 'SANTA CATALINA'       736617 Y 714495\n",
       "2002                                    INSTITUTO REFCO  439990 ESTX. 225-250\n",
       "4942  INSTITUTO DIVERSIFICADO PRIVADO MIXTO 'LUIS AR...              57 47546"
      ],
      "text/html": [
       "<div>\n",
       "<style scoped>\n",
       "    .dataframe tbody tr th:only-of-type {\n",
       "        vertical-align: middle;\n",
       "    }\n",
       "\n",
       "    .dataframe tbody tr th {\n",
       "        vertical-align: top;\n",
       "    }\n",
       "\n",
       "    .dataframe thead th {\n",
       "        text-align: right;\n",
       "    }\n",
       "</style>\n",
       "<table border=\"1\" class=\"dataframe\">\n",
       "  <thead>\n",
       "    <tr style=\"text-align: right;\">\n",
       "      <th></th>\n",
       "      <th>ESTABLECIMIENTO</th>\n",
       "      <th>TELEFONO</th>\n",
       "    </tr>\n",
       "  </thead>\n",
       "  <tbody>\n",
       "    <tr>\n",
       "      <th>1967</th>\n",
       "      <td>COLEGIO MIXTO 'SANTA CATALINA'</td>\n",
       "      <td>736617 Y 714495</td>\n",
       "    </tr>\n",
       "    <tr>\n",
       "      <th>2002</th>\n",
       "      <td>INSTITUTO REFCO</td>\n",
       "      <td>439990 ESTX. 225-250</td>\n",
       "    </tr>\n",
       "    <tr>\n",
       "      <th>4942</th>\n",
       "      <td>INSTITUTO DIVERSIFICADO PRIVADO MIXTO 'LUIS AR...</td>\n",
       "      <td>57 47546</td>\n",
       "    </tr>\n",
       "  </tbody>\n",
       "</table>\n",
       "</div>"
      ]
     },
     "execution_count": 496,
     "metadata": {},
     "output_type": "execute_result"
    }
   ],
   "execution_count": 496
  },
  {
   "metadata": {},
   "cell_type": "markdown",
   "source": "Para este punto, los establecimientos que quedan tienen números con longitud 6; se procede a imputar estos valores",
   "id": "31797023f6577de"
  },
  {
   "metadata": {
    "ExecuteTime": {
     "end_time": "2024-08-04T07:43:43.759486Z",
     "start_time": "2024-08-04T07:43:43.747037Z"
    }
   },
   "cell_type": "code",
   "source": [
    "df['TELEFONO'] = df['TELEFONO'].apply(\n",
    "    lambda x:\n",
    "    '' \n",
    "    if len(x.split(' ')[0]) == 6\n",
    "    else x.replace(' ', '')  # To handle INSTITUTO DIVERSIFICADO PRIVADO MIXTO 'LUIS ARTURO LEMUS'\n",
    ")"
   ],
   "id": "34fb66126b35818a",
   "outputs": [],
   "execution_count": 500
  },
  {
   "metadata": {
    "ExecuteTime": {
     "end_time": "2024-08-04T07:43:44.241543Z",
     "start_time": "2024-08-04T07:43:44.224692Z"
    }
   },
   "cell_type": "code",
   "source": "df[df['TELEFONO'].str.contains('[^0-9]', na=False)][['ESTABLECIMIENTO', 'TELEFONO']]",
   "id": "ebc16001fbc6ceac",
   "outputs": [
    {
     "data": {
      "text/plain": [
       "Empty DataFrame\n",
       "Columns: [ESTABLECIMIENTO, TELEFONO]\n",
       "Index: []"
      ],
      "text/html": [
       "<div>\n",
       "<style scoped>\n",
       "    .dataframe tbody tr th:only-of-type {\n",
       "        vertical-align: middle;\n",
       "    }\n",
       "\n",
       "    .dataframe tbody tr th {\n",
       "        vertical-align: top;\n",
       "    }\n",
       "\n",
       "    .dataframe thead th {\n",
       "        text-align: right;\n",
       "    }\n",
       "</style>\n",
       "<table border=\"1\" class=\"dataframe\">\n",
       "  <thead>\n",
       "    <tr style=\"text-align: right;\">\n",
       "      <th></th>\n",
       "      <th>ESTABLECIMIENTO</th>\n",
       "      <th>TELEFONO</th>\n",
       "    </tr>\n",
       "  </thead>\n",
       "  <tbody>\n",
       "  </tbody>\n",
       "</table>\n",
       "</div>"
      ]
     },
     "execution_count": 501,
     "metadata": {},
     "output_type": "execute_result"
    }
   ],
   "execution_count": 501
  },
  {
   "metadata": {
    "ExecuteTime": {
     "end_time": "2024-08-04T07:44:46.140989Z",
     "start_time": "2024-08-04T07:44:46.119905Z"
    }
   },
   "cell_type": "code",
   "source": [
    "# Print all numbers with a different length than 7 or 8 and are not ''\n",
    "df[df['TELEFONO'].apply(lambda x: len(x) not in [7, 8] and x != '')][['ESTABLECIMIENTO', 'TELEFONO']]"
   ],
   "id": "f44acdf61fe00e05",
   "outputs": [
    {
     "data": {
      "text/plain": [
       "                                        ESTABLECIMIENTO          TELEFONO\n",
       "1433      CENTRO PROFESIONAL DE ESTUDIOS DE COMPUTACION               238\n",
       "1457                       COLEGIO MIXTO PADRE BETANZOS               238\n",
       "1463      LICEO PROFESIONAL DE INFORMATICA Y TECNOLOGIA    25325662329566\n",
       "1516                                   LICEO MONTECARLO               232\n",
       "1602                 ESCUELA DE ESTUDIOS PENITENCIARIOS              2220\n",
       "2309            ESCUELA DE COMUNICACIONES Y ELECTRONICA               331\n",
       "2654  INSTITUTO NACIONAL TECNOLÓGICO DE EDUCACIÓN DI...              3033\n",
       "3788                     LICEO COEDUCATIVO GUATEMALTECO             22505\n",
       "3921  LICEO MIXTO NOCTURNO TECNICO MERCANTIL (POR MA...              2485\n",
       "4759              CENTRO CULTURAL SAGRADA FAMILIA NO. 2                40\n",
       "6265               COLEGIO TECNOLOGICO NUEVA GENERACION             30745\n",
       "6370                      CENTRO EDUCTIVO MOPAN -CEMOP-             49723\n",
       "7076      INSTITUTO NACIONAL DE EDUCACION DIVERSIFICADA                 0\n",
       "7881             CENTRO EDUCATIVO MIXTO LICEO DEL VALLE             43521\n",
       "8973            INSTITUTO PRE-UNIVERSITARIO FRANCISCANO              5565\n",
       "9092              COLEGIO PRIVADO MIXTO \"SANTA BARBARA\"  4210394058993785\n",
       "9094                COLEGIO PRIVADO MIXTO SANTA BARBARA  4210394058993780\n",
       "9123      COLEGIO EVANGELICO PRIVADO MIXTO NUEVA VISION  4281099156375310"
      ],
      "text/html": [
       "<div>\n",
       "<style scoped>\n",
       "    .dataframe tbody tr th:only-of-type {\n",
       "        vertical-align: middle;\n",
       "    }\n",
       "\n",
       "    .dataframe tbody tr th {\n",
       "        vertical-align: top;\n",
       "    }\n",
       "\n",
       "    .dataframe thead th {\n",
       "        text-align: right;\n",
       "    }\n",
       "</style>\n",
       "<table border=\"1\" class=\"dataframe\">\n",
       "  <thead>\n",
       "    <tr style=\"text-align: right;\">\n",
       "      <th></th>\n",
       "      <th>ESTABLECIMIENTO</th>\n",
       "      <th>TELEFONO</th>\n",
       "    </tr>\n",
       "  </thead>\n",
       "  <tbody>\n",
       "    <tr>\n",
       "      <th>1433</th>\n",
       "      <td>CENTRO PROFESIONAL DE ESTUDIOS DE COMPUTACION</td>\n",
       "      <td>238</td>\n",
       "    </tr>\n",
       "    <tr>\n",
       "      <th>1457</th>\n",
       "      <td>COLEGIO MIXTO PADRE BETANZOS</td>\n",
       "      <td>238</td>\n",
       "    </tr>\n",
       "    <tr>\n",
       "      <th>1463</th>\n",
       "      <td>LICEO PROFESIONAL DE INFORMATICA Y TECNOLOGIA</td>\n",
       "      <td>25325662329566</td>\n",
       "    </tr>\n",
       "    <tr>\n",
       "      <th>1516</th>\n",
       "      <td>LICEO MONTECARLO</td>\n",
       "      <td>232</td>\n",
       "    </tr>\n",
       "    <tr>\n",
       "      <th>1602</th>\n",
       "      <td>ESCUELA DE ESTUDIOS PENITENCIARIOS</td>\n",
       "      <td>2220</td>\n",
       "    </tr>\n",
       "    <tr>\n",
       "      <th>2309</th>\n",
       "      <td>ESCUELA DE COMUNICACIONES Y ELECTRONICA</td>\n",
       "      <td>331</td>\n",
       "    </tr>\n",
       "    <tr>\n",
       "      <th>2654</th>\n",
       "      <td>INSTITUTO NACIONAL TECNOLÓGICO DE EDUCACIÓN DI...</td>\n",
       "      <td>3033</td>\n",
       "    </tr>\n",
       "    <tr>\n",
       "      <th>3788</th>\n",
       "      <td>LICEO COEDUCATIVO GUATEMALTECO</td>\n",
       "      <td>22505</td>\n",
       "    </tr>\n",
       "    <tr>\n",
       "      <th>3921</th>\n",
       "      <td>LICEO MIXTO NOCTURNO TECNICO MERCANTIL (POR MA...</td>\n",
       "      <td>2485</td>\n",
       "    </tr>\n",
       "    <tr>\n",
       "      <th>4759</th>\n",
       "      <td>CENTRO CULTURAL SAGRADA FAMILIA NO. 2</td>\n",
       "      <td>40</td>\n",
       "    </tr>\n",
       "    <tr>\n",
       "      <th>6265</th>\n",
       "      <td>COLEGIO TECNOLOGICO NUEVA GENERACION</td>\n",
       "      <td>30745</td>\n",
       "    </tr>\n",
       "    <tr>\n",
       "      <th>6370</th>\n",
       "      <td>CENTRO EDUCTIVO MOPAN -CEMOP-</td>\n",
       "      <td>49723</td>\n",
       "    </tr>\n",
       "    <tr>\n",
       "      <th>7076</th>\n",
       "      <td>INSTITUTO NACIONAL DE EDUCACION DIVERSIFICADA</td>\n",
       "      <td>0</td>\n",
       "    </tr>\n",
       "    <tr>\n",
       "      <th>7881</th>\n",
       "      <td>CENTRO EDUCATIVO MIXTO LICEO DEL VALLE</td>\n",
       "      <td>43521</td>\n",
       "    </tr>\n",
       "    <tr>\n",
       "      <th>8973</th>\n",
       "      <td>INSTITUTO PRE-UNIVERSITARIO FRANCISCANO</td>\n",
       "      <td>5565</td>\n",
       "    </tr>\n",
       "    <tr>\n",
       "      <th>9092</th>\n",
       "      <td>COLEGIO PRIVADO MIXTO \"SANTA BARBARA\"</td>\n",
       "      <td>4210394058993785</td>\n",
       "    </tr>\n",
       "    <tr>\n",
       "      <th>9094</th>\n",
       "      <td>COLEGIO PRIVADO MIXTO SANTA BARBARA</td>\n",
       "      <td>4210394058993780</td>\n",
       "    </tr>\n",
       "    <tr>\n",
       "      <th>9123</th>\n",
       "      <td>COLEGIO EVANGELICO PRIVADO MIXTO NUEVA VISION</td>\n",
       "      <td>4281099156375310</td>\n",
       "    </tr>\n",
       "  </tbody>\n",
       "</table>\n",
       "</div>"
      ]
     },
     "execution_count": 503,
     "metadata": {},
     "output_type": "execute_result"
    }
   ],
   "execution_count": 503
  },
  {
   "metadata": {},
   "cell_type": "code",
   "outputs": [],
   "execution_count": null,
   "source": "",
   "id": "c92b6db517a12728"
  }
 ],
 "metadata": {
  "kernelspec": {
   "display_name": "Python 3",
   "language": "python",
   "name": "python3"
  },
  "language_info": {
   "codemirror_mode": {
    "name": "ipython",
    "version": 2
   },
   "file_extension": ".py",
   "mimetype": "text/x-python",
   "name": "python",
   "nbconvert_exporter": "python",
   "pygments_lexer": "ipython2",
   "version": "2.7.6"
  }
 },
 "nbformat": 4,
 "nbformat_minor": 5
}
